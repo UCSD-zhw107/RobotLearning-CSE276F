{
  "cells": [
    {
      "cell_type": "markdown",
      "metadata": {
        "id": "Ibb7LFSPlZkf"
      },
      "source": [
        "# Welcome to CSE 276F, Assignment 2\n",
        "\n",
        "In assignment 2, we will leverage the power of neural networks in two different ways to tackle robotics tasks. We will again be using the [ManiSkill simulator](https://github.com/haosulab/ManiSkill) for this assignment.\n",
        "\n",
        "Neural networks provide a general purpose way to ingest large amounts of data to then predict some target distribution of labels. One way to use it is to build computer vision systems to predict object poses followed by motion planning in real robotics. Another more recently popular way is to train via imitation learning end-to-end robotics policies to control robots directly with neural networks instead of motion planning."
      ]
    },
    {
      "cell_type": "markdown",
      "metadata": {
        "id": "1e7efd84-68d0-4453-a400-b3891b8eadec"
      },
      "source": [
        "## Setup Code / Packages\n",
        "\n",
        "If you are running code locally follow the installation instructions for ManiSkill here: https://maniskill.readthedocs.io/en/latest/user_guide/getting_started/installation.html. You will need a CUDA-enabled GPU on a Linux machine for assignments. Windows/Mac have more limited support but are useful if that is the local machine you have access to for local debugging. When building custom environments you can then use a GUI to explore environments which helps the development process.\n",
        "\n",
        "If you are using UCSD Datahub you don't need to do any additional installation steps. You only need to run `pip install --upgrade mani_skill-nightly`\n",
        "\n",
        "If you are using Google Colab make sure to run the two cells below to install all dependencies.\n",
        "\n",
        "If you see an error such as\n",
        "\n",
        "`ValueError: numpy.dtype size changed, may indicate binary incompatibility. Expected 96 from C header, got 88 from PyObject`\n",
        "\n",
        "simply restart the notebook after running the installation commands."
      ]
    },
    {
      "cell_type": "code",
      "execution_count": null,
      "metadata": {
        "colab": {
          "base_uri": "https://localhost:8080/"
        },
        "id": "aaa63432-2fd2-4e96-a4eb-1659914414d9",
        "jupyter": {
          "source_hidden": true
        },
        "outputId": "45c46617-ef32-4d46-aba2-34c24d9c67cb"
      },
      "outputs": [
        {
          "name": "stdout",
          "output_type": "stream",
          "text": [
            "Reading package lists... Done\n",
            "Building dependency tree... Done\n",
            "Reading state information... Done\n",
            "The following additional packages will be installed:\n",
            "  libvulkan1\n",
            "Recommended packages:\n",
            "  mesa-vulkan-drivers | vulkan-icd\n",
            "The following NEW packages will be installed:\n",
            "  libvulkan-dev libvulkan1\n",
            "0 upgraded, 2 newly installed, 0 to remove and 34 not upgraded.\n",
            "Need to get 1,020 kB of archives.\n",
            "After this operation, 17.2 MB of additional disk space will be used.\n",
            "Get:1 http://archive.ubuntu.com/ubuntu jammy/main amd64 libvulkan1 amd64 1.3.204.1-2 [128 kB]\n",
            "Get:2 http://archive.ubuntu.com/ubuntu jammy/main amd64 libvulkan-dev amd64 1.3.204.1-2 [892 kB]\n",
            "Fetched 1,020 kB in 1s (1,301 kB/s)\n",
            "Selecting previously unselected package libvulkan1:amd64.\n",
            "(Reading database ... 126101 files and directories currently installed.)\n",
            "Preparing to unpack .../libvulkan1_1.3.204.1-2_amd64.deb ...\n",
            "Unpacking libvulkan1:amd64 (1.3.204.1-2) ...\n",
            "Selecting previously unselected package libvulkan-dev:amd64.\n",
            "Preparing to unpack .../libvulkan-dev_1.3.204.1-2_amd64.deb ...\n",
            "Unpacking libvulkan-dev:amd64 (1.3.204.1-2) ...\n",
            "Setting up libvulkan1:amd64 (1.3.204.1-2) ...\n",
            "Setting up libvulkan-dev:amd64 (1.3.204.1-2) ...\n",
            "Processing triggers for libc-bin (2.35-0ubuntu3.8) ...\n",
            "/sbin/ldconfig.real: /usr/local/lib/libtbb.so.12 is not a symbolic link\n",
            "\n",
            "/sbin/ldconfig.real: /usr/local/lib/libhwloc.so.15 is not a symbolic link\n",
            "\n",
            "/sbin/ldconfig.real: /usr/local/lib/libur_adapter_level_zero.so.0 is not a symbolic link\n",
            "\n",
            "/sbin/ldconfig.real: /usr/local/lib/libtbbbind_2_0.so.3 is not a symbolic link\n",
            "\n",
            "/sbin/ldconfig.real: /usr/local/lib/libtbbbind_2_5.so.3 is not a symbolic link\n",
            "\n",
            "/sbin/ldconfig.real: /usr/local/lib/libtcm.so.1 is not a symbolic link\n",
            "\n",
            "/sbin/ldconfig.real: /usr/local/lib/libtcm_debug.so.1 is not a symbolic link\n",
            "\n",
            "/sbin/ldconfig.real: /usr/local/lib/libtbbmalloc.so.2 is not a symbolic link\n",
            "\n",
            "/sbin/ldconfig.real: /usr/local/lib/libur_adapter_opencl.so.0 is not a symbolic link\n",
            "\n",
            "/sbin/ldconfig.real: /usr/local/lib/libumf.so.0 is not a symbolic link\n",
            "\n",
            "/sbin/ldconfig.real: /usr/local/lib/libtbbmalloc_proxy.so.2 is not a symbolic link\n",
            "\n",
            "/sbin/ldconfig.real: /usr/local/lib/libur_loader.so.0 is not a symbolic link\n",
            "\n",
            "/sbin/ldconfig.real: /usr/local/lib/libtbbbind.so.3 is not a symbolic link\n",
            "\n",
            "Collecting mani_skill-nightly\n",
            "  Downloading mani_skill_nightly-2025.5.4.511-py3-none-any.whl.metadata (9.4 kB)\n",
            "Collecting numpy<2.0.0,>=1.22 (from mani_skill-nightly)\n",
            "  Downloading numpy-1.26.4-cp311-cp311-manylinux_2_17_x86_64.manylinux2014_x86_64.whl.metadata (61 kB)\n",
            "\u001b[2K     \u001b[90m━━━━━━━━━━━━━━━━━━━━━━━━━━━━━━━━━━━━━━━━\u001b[0m \u001b[32m61.0/61.0 kB\u001b[0m \u001b[31m1.9 MB/s\u001b[0m eta \u001b[36m0:00:00\u001b[0m\n",
            "\u001b[?25hRequirement already satisfied: scipy in /usr/local/lib/python3.11/dist-packages (from mani_skill-nightly) (1.15.2)\n",
            "Collecting dacite (from mani_skill-nightly)\n",
            "  Downloading dacite-1.9.2-py3-none-any.whl.metadata (17 kB)\n",
            "Collecting gymnasium==0.29.1 (from mani_skill-nightly)\n",
            "  Downloading gymnasium-0.29.1-py3-none-any.whl.metadata (10 kB)\n",
            "Requirement already satisfied: h5py in /usr/local/lib/python3.11/dist-packages (from mani_skill-nightly) (3.13.0)\n",
            "Requirement already satisfied: pyyaml in /usr/local/lib/python3.11/dist-packages (from mani_skill-nightly) (6.0.2)\n",
            "Requirement already satisfied: tqdm in /usr/local/lib/python3.11/dist-packages (from mani_skill-nightly) (4.67.1)\n",
            "Requirement already satisfied: GitPython in /usr/local/lib/python3.11/dist-packages (from mani_skill-nightly) (3.1.44)\n",
            "Requirement already satisfied: tabulate in /usr/local/lib/python3.11/dist-packages (from mani_skill-nightly) (0.9.0)\n",
            "Collecting transforms3d (from mani_skill-nightly)\n",
            "  Downloading transforms3d-0.4.2-py3-none-any.whl.metadata (2.8 kB)\n",
            "Collecting trimesh (from mani_skill-nightly)\n",
            "  Downloading trimesh-4.6.8-py3-none-any.whl.metadata (18 kB)\n",
            "Requirement already satisfied: imageio in /usr/local/lib/python3.11/dist-packages (from mani_skill-nightly) (2.37.0)\n",
            "Requirement already satisfied: IPython in /usr/local/lib/python3.11/dist-packages (from mani_skill-nightly) (7.34.0)\n",
            "Collecting pytorch-kinematics==0.7.5 (from mani_skill-nightly)\n",
            "  Downloading pytorch_kinematics-0.7.5-py3-none-any.whl.metadata (15 kB)\n",
            "Requirement already satisfied: pynvml in /usr/local/lib/python3.11/dist-packages (from mani_skill-nightly) (12.0.0)\n",
            "Collecting tyro>=0.8.5 (from mani_skill-nightly)\n",
            "  Downloading tyro-0.9.19-py3-none-any.whl.metadata (9.9 kB)\n",
            "Requirement already satisfied: huggingface-hub in /usr/local/lib/python3.11/dist-packages (from mani_skill-nightly) (0.30.2)\n",
            "Collecting mplib==0.1.1 (from mani_skill-nightly)\n",
            "  Downloading mplib-0.1.1-cp311-cp311-manylinux_2_17_x86_64.manylinux2014_x86_64.whl.metadata (3.7 kB)\n",
            "Collecting fast-kinematics==0.2.2 (from mani_skill-nightly)\n",
            "  Downloading fast_kinematics-0.2.2-cp311-cp311-manylinux_2_17_x86_64.manylinux2014_x86_64.whl.metadata (3.3 kB)\n",
            "Collecting sapien>=3.0.0.b1 (from mani_skill-nightly)\n",
            "  Downloading sapien-3.0.0b1-cp311-cp311-manylinux2014_x86_64.whl.metadata (10 kB)\n",
            "Requirement already satisfied: cloudpickle>=1.2.0 in /usr/local/lib/python3.11/dist-packages (from gymnasium==0.29.1->mani_skill-nightly) (3.1.1)\n",
            "Requirement already satisfied: typing-extensions>=4.3.0 in /usr/local/lib/python3.11/dist-packages (from gymnasium==0.29.1->mani_skill-nightly) (4.13.2)\n",
            "Requirement already satisfied: farama-notifications>=0.0.1 in /usr/local/lib/python3.11/dist-packages (from gymnasium==0.29.1->mani_skill-nightly) (0.0.4)\n",
            "Collecting toppra>=0.4.0 (from mplib==0.1.1->mani_skill-nightly)\n",
            "  Downloading toppra-0.6.3.tar.gz (256 kB)\n",
            "\u001b[2K     \u001b[90m━━━━━━━━━━━━━━━━━━━━━━━━━━━━━━━━━━━━━━\u001b[0m \u001b[32m256.1/256.1 kB\u001b[0m \u001b[31m12.8 MB/s\u001b[0m eta \u001b[36m0:00:00\u001b[0m\n",
            "\u001b[?25h  Installing build dependencies ... \u001b[?25l\u001b[?25hdone\n",
            "  Getting requirements to build wheel ... \u001b[?25l\u001b[?25hdone\n",
            "  Preparing metadata (pyproject.toml) ... \u001b[?25l\u001b[?25hdone\n",
            "Requirement already satisfied: absl-py in /usr/local/lib/python3.11/dist-packages (from pytorch-kinematics==0.7.5->mani_skill-nightly) (1.4.0)\n",
            "Requirement already satisfied: lxml in /usr/local/lib/python3.11/dist-packages (from pytorch-kinematics==0.7.5->mani_skill-nightly) (5.4.0)\n",
            "Requirement already satisfied: torch in /usr/local/lib/python3.11/dist-packages (from pytorch-kinematics==0.7.5->mani_skill-nightly) (2.6.0+cu124)\n",
            "Requirement already satisfied: matplotlib in /usr/local/lib/python3.11/dist-packages (from pytorch-kinematics==0.7.5->mani_skill-nightly) (3.10.0)\n",
            "Collecting pytorch-seed (from pytorch-kinematics==0.7.5->mani_skill-nightly)\n",
            "  Downloading pytorch_seed-0.2.0-py3-none-any.whl.metadata (3.8 kB)\n",
            "Collecting arm-pytorch-utilities (from pytorch-kinematics==0.7.5->mani_skill-nightly)\n",
            "  Downloading arm_pytorch_utilities-0.4.3-py3-none-any.whl.metadata (2.6 kB)\n",
            "Requirement already satisfied: requests>=2.22 in /usr/local/lib/python3.11/dist-packages (from sapien>=3.0.0.b1->mani_skill-nightly) (2.32.3)\n",
            "Requirement already satisfied: networkx in /usr/local/lib/python3.11/dist-packages (from sapien>=3.0.0.b1->mani_skill-nightly) (3.4.2)\n",
            "Requirement already satisfied: pyperclip in /usr/local/lib/python3.11/dist-packages (from sapien>=3.0.0.b1->mani_skill-nightly) (1.9.0)\n",
            "Requirement already satisfied: opencv-python>=4.0 in /usr/local/lib/python3.11/dist-packages (from sapien>=3.0.0.b1->mani_skill-nightly) (4.11.0.86)\n",
            "Requirement already satisfied: docstring-parser>=0.15 in /usr/local/lib/python3.11/dist-packages (from tyro>=0.8.5->mani_skill-nightly) (0.16)\n",
            "Requirement already satisfied: rich>=11.1.0 in /usr/local/lib/python3.11/dist-packages (from tyro>=0.8.5->mani_skill-nightly) (13.9.4)\n",
            "Collecting shtab>=1.5.6 (from tyro>=0.8.5->mani_skill-nightly)\n",
            "  Downloading shtab-1.7.2-py3-none-any.whl.metadata (7.4 kB)\n",
            "Requirement already satisfied: typeguard>=4.0.0 in /usr/local/lib/python3.11/dist-packages (from tyro>=0.8.5->mani_skill-nightly) (4.4.2)\n",
            "Requirement already satisfied: gitdb<5,>=4.0.1 in /usr/local/lib/python3.11/dist-packages (from GitPython->mani_skill-nightly) (4.0.12)\n",
            "Requirement already satisfied: filelock in /usr/local/lib/python3.11/dist-packages (from huggingface-hub->mani_skill-nightly) (3.18.0)\n",
            "Requirement already satisfied: fsspec>=2023.5.0 in /usr/local/lib/python3.11/dist-packages (from huggingface-hub->mani_skill-nightly) (2025.3.2)\n",
            "Requirement already satisfied: packaging>=20.9 in /usr/local/lib/python3.11/dist-packages (from huggingface-hub->mani_skill-nightly) (24.2)\n",
            "Requirement already satisfied: pillow>=8.3.2 in /usr/local/lib/python3.11/dist-packages (from imageio->mani_skill-nightly) (11.2.1)\n",
            "Requirement already satisfied: imageio-ffmpeg in /usr/local/lib/python3.11/dist-packages (from imageio[ffmpeg]->mani_skill-nightly) (0.6.0)\n",
            "Requirement already satisfied: psutil in /usr/local/lib/python3.11/dist-packages (from imageio[ffmpeg]->mani_skill-nightly) (5.9.5)\n",
            "Requirement already satisfied: setuptools>=18.5 in /usr/local/lib/python3.11/dist-packages (from IPython->mani_skill-nightly) (75.2.0)\n",
            "Collecting jedi>=0.16 (from IPython->mani_skill-nightly)\n",
            "  Downloading jedi-0.19.2-py2.py3-none-any.whl.metadata (22 kB)\n",
            "Requirement already satisfied: decorator in /usr/local/lib/python3.11/dist-packages (from IPython->mani_skill-nightly) (4.4.2)\n",
            "Requirement already satisfied: pickleshare in /usr/local/lib/python3.11/dist-packages (from IPython->mani_skill-nightly) (0.7.5)\n",
            "Requirement already satisfied: traitlets>=4.2 in /usr/local/lib/python3.11/dist-packages (from IPython->mani_skill-nightly) (5.7.1)\n",
            "Requirement already satisfied: prompt-toolkit!=3.0.0,!=3.0.1,<3.1.0,>=2.0.0 in /usr/local/lib/python3.11/dist-packages (from IPython->mani_skill-nightly) (3.0.51)\n",
            "Requirement already satisfied: pygments in /usr/local/lib/python3.11/dist-packages (from IPython->mani_skill-nightly) (2.19.1)\n",
            "Requirement already satisfied: backcall in /usr/local/lib/python3.11/dist-packages (from IPython->mani_skill-nightly) (0.2.0)\n",
            "Requirement already satisfied: matplotlib-inline in /usr/local/lib/python3.11/dist-packages (from IPython->mani_skill-nightly) (0.1.7)\n",
            "Requirement already satisfied: pexpect>4.3 in /usr/local/lib/python3.11/dist-packages (from IPython->mani_skill-nightly) (4.9.0)\n",
            "Requirement already satisfied: nvidia-ml-py<13.0.0a0,>=12.0.0 in /usr/local/lib/python3.11/dist-packages (from pynvml->mani_skill-nightly) (12.570.86)\n",
            "Requirement already satisfied: smmap<6,>=3.0.1 in /usr/local/lib/python3.11/dist-packages (from gitdb<5,>=4.0.1->GitPython->mani_skill-nightly) (5.0.2)\n",
            "Requirement already satisfied: parso<0.9.0,>=0.8.4 in /usr/local/lib/python3.11/dist-packages (from jedi>=0.16->IPython->mani_skill-nightly) (0.8.4)\n",
            "Requirement already satisfied: ptyprocess>=0.5 in /usr/local/lib/python3.11/dist-packages (from pexpect>4.3->IPython->mani_skill-nightly) (0.7.0)\n",
            "Requirement already satisfied: wcwidth in /usr/local/lib/python3.11/dist-packages (from prompt-toolkit!=3.0.0,!=3.0.1,<3.1.0,>=2.0.0->IPython->mani_skill-nightly) (0.2.13)\n",
            "Requirement already satisfied: charset-normalizer<4,>=2 in /usr/local/lib/python3.11/dist-packages (from requests>=2.22->sapien>=3.0.0.b1->mani_skill-nightly) (3.4.1)\n",
            "Requirement already satisfied: idna<4,>=2.5 in /usr/local/lib/python3.11/dist-packages (from requests>=2.22->sapien>=3.0.0.b1->mani_skill-nightly) (3.10)\n",
            "Requirement already satisfied: urllib3<3,>=1.21.1 in /usr/local/lib/python3.11/dist-packages (from requests>=2.22->sapien>=3.0.0.b1->mani_skill-nightly) (2.4.0)\n",
            "Requirement already satisfied: certifi>=2017.4.17 in /usr/local/lib/python3.11/dist-packages (from requests>=2.22->sapien>=3.0.0.b1->mani_skill-nightly) (2025.4.26)\n",
            "Requirement already satisfied: markdown-it-py>=2.2.0 in /usr/local/lib/python3.11/dist-packages (from rich>=11.1.0->tyro>=0.8.5->mani_skill-nightly) (3.0.0)\n",
            "Requirement already satisfied: contourpy>=1.0.1 in /usr/local/lib/python3.11/dist-packages (from matplotlib->pytorch-kinematics==0.7.5->mani_skill-nightly) (1.3.2)\n",
            "Requirement already satisfied: cycler>=0.10 in /usr/local/lib/python3.11/dist-packages (from matplotlib->pytorch-kinematics==0.7.5->mani_skill-nightly) (0.12.1)\n",
            "Requirement already satisfied: fonttools>=4.22.0 in /usr/local/lib/python3.11/dist-packages (from matplotlib->pytorch-kinematics==0.7.5->mani_skill-nightly) (4.57.0)\n",
            "Requirement already satisfied: kiwisolver>=1.3.1 in /usr/local/lib/python3.11/dist-packages (from matplotlib->pytorch-kinematics==0.7.5->mani_skill-nightly) (1.4.8)\n",
            "Requirement already satisfied: pyparsing>=2.3.1 in /usr/local/lib/python3.11/dist-packages (from matplotlib->pytorch-kinematics==0.7.5->mani_skill-nightly) (3.2.3)\n",
            "Requirement already satisfied: python-dateutil>=2.7 in /usr/local/lib/python3.11/dist-packages (from matplotlib->pytorch-kinematics==0.7.5->mani_skill-nightly) (2.9.0.post0)\n",
            "Requirement already satisfied: jinja2 in /usr/local/lib/python3.11/dist-packages (from torch->pytorch-kinematics==0.7.5->mani_skill-nightly) (3.1.6)\n",
            "Collecting nvidia-cuda-nvrtc-cu12==12.4.127 (from torch->pytorch-kinematics==0.7.5->mani_skill-nightly)\n",
            "  Downloading nvidia_cuda_nvrtc_cu12-12.4.127-py3-none-manylinux2014_x86_64.whl.metadata (1.5 kB)\n",
            "Collecting nvidia-cuda-runtime-cu12==12.4.127 (from torch->pytorch-kinematics==0.7.5->mani_skill-nightly)\n",
            "  Downloading nvidia_cuda_runtime_cu12-12.4.127-py3-none-manylinux2014_x86_64.whl.metadata (1.5 kB)\n",
            "Collecting nvidia-cuda-cupti-cu12==12.4.127 (from torch->pytorch-kinematics==0.7.5->mani_skill-nightly)\n",
            "  Downloading nvidia_cuda_cupti_cu12-12.4.127-py3-none-manylinux2014_x86_64.whl.metadata (1.6 kB)\n",
            "Collecting nvidia-cudnn-cu12==9.1.0.70 (from torch->pytorch-kinematics==0.7.5->mani_skill-nightly)\n",
            "  Downloading nvidia_cudnn_cu12-9.1.0.70-py3-none-manylinux2014_x86_64.whl.metadata (1.6 kB)\n",
            "Collecting nvidia-cublas-cu12==12.4.5.8 (from torch->pytorch-kinematics==0.7.5->mani_skill-nightly)\n",
            "  Downloading nvidia_cublas_cu12-12.4.5.8-py3-none-manylinux2014_x86_64.whl.metadata (1.5 kB)\n",
            "Collecting nvidia-cufft-cu12==11.2.1.3 (from torch->pytorch-kinematics==0.7.5->mani_skill-nightly)\n",
            "  Downloading nvidia_cufft_cu12-11.2.1.3-py3-none-manylinux2014_x86_64.whl.metadata (1.5 kB)\n",
            "Collecting nvidia-curand-cu12==10.3.5.147 (from torch->pytorch-kinematics==0.7.5->mani_skill-nightly)\n",
            "  Downloading nvidia_curand_cu12-10.3.5.147-py3-none-manylinux2014_x86_64.whl.metadata (1.5 kB)\n",
            "Collecting nvidia-cusolver-cu12==11.6.1.9 (from torch->pytorch-kinematics==0.7.5->mani_skill-nightly)\n",
            "  Downloading nvidia_cusolver_cu12-11.6.1.9-py3-none-manylinux2014_x86_64.whl.metadata (1.6 kB)\n",
            "Collecting nvidia-cusparse-cu12==12.3.1.170 (from torch->pytorch-kinematics==0.7.5->mani_skill-nightly)\n",
            "  Downloading nvidia_cusparse_cu12-12.3.1.170-py3-none-manylinux2014_x86_64.whl.metadata (1.6 kB)\n",
            "Requirement already satisfied: nvidia-cusparselt-cu12==0.6.2 in /usr/local/lib/python3.11/dist-packages (from torch->pytorch-kinematics==0.7.5->mani_skill-nightly) (0.6.2)\n",
            "Requirement already satisfied: nvidia-nccl-cu12==2.21.5 in /usr/local/lib/python3.11/dist-packages (from torch->pytorch-kinematics==0.7.5->mani_skill-nightly) (2.21.5)\n",
            "Requirement already satisfied: nvidia-nvtx-cu12==12.4.127 in /usr/local/lib/python3.11/dist-packages (from torch->pytorch-kinematics==0.7.5->mani_skill-nightly) (12.4.127)\n",
            "Collecting nvidia-nvjitlink-cu12==12.4.127 (from torch->pytorch-kinematics==0.7.5->mani_skill-nightly)\n",
            "  Downloading nvidia_nvjitlink_cu12-12.4.127-py3-none-manylinux2014_x86_64.whl.metadata (1.5 kB)\n",
            "Requirement already satisfied: triton==3.2.0 in /usr/local/lib/python3.11/dist-packages (from torch->pytorch-kinematics==0.7.5->mani_skill-nightly) (3.2.0)\n",
            "Requirement already satisfied: sympy==1.13.1 in /usr/local/lib/python3.11/dist-packages (from torch->pytorch-kinematics==0.7.5->mani_skill-nightly) (1.13.1)\n",
            "Requirement already satisfied: mpmath<1.4,>=1.1.0 in /usr/local/lib/python3.11/dist-packages (from sympy==1.13.1->torch->pytorch-kinematics==0.7.5->mani_skill-nightly) (1.3.0)\n",
            "Requirement already satisfied: mdurl~=0.1 in /usr/local/lib/python3.11/dist-packages (from markdown-it-py>=2.2.0->rich>=11.1.0->tyro>=0.8.5->mani_skill-nightly) (0.1.2)\n",
            "Requirement already satisfied: six>=1.5 in /usr/local/lib/python3.11/dist-packages (from python-dateutil>=2.7->matplotlib->pytorch-kinematics==0.7.5->mani_skill-nightly) (1.17.0)\n",
            "Requirement already satisfied: MarkupSafe>=2.0 in /usr/local/lib/python3.11/dist-packages (from jinja2->torch->pytorch-kinematics==0.7.5->mani_skill-nightly) (3.0.2)\n",
            "Downloading mani_skill_nightly-2025.5.4.511-py3-none-any.whl (101.7 MB)\n",
            "\u001b[2K   \u001b[90m━━━━━━━━━━━━━━━━━━━━━━━━━━━━━━━━━━━━━━━━\u001b[0m \u001b[32m101.7/101.7 MB\u001b[0m \u001b[31m5.7 MB/s\u001b[0m eta \u001b[36m0:00:00\u001b[0m\n",
            "\u001b[?25hDownloading fast_kinematics-0.2.2-cp311-cp311-manylinux_2_17_x86_64.manylinux2014_x86_64.whl (624 kB)\n",
            "\u001b[2K   \u001b[90m━━━━━━━━━━━━━━━━━━━━━━━━━━━━━━━━━━━━━━━━\u001b[0m \u001b[32m624.7/624.7 kB\u001b[0m \u001b[31m41.5 MB/s\u001b[0m eta \u001b[36m0:00:00\u001b[0m\n",
            "\u001b[?25hDownloading gymnasium-0.29.1-py3-none-any.whl (953 kB)\n",
            "\u001b[2K   \u001b[90m━━━━━━━━━━━━━━━━━━━━━━━━━━━━━━━━━━━━━━━━\u001b[0m \u001b[32m953.9/953.9 kB\u001b[0m \u001b[31m62.7 MB/s\u001b[0m eta \u001b[36m0:00:00\u001b[0m\n",
            "\u001b[?25hDownloading mplib-0.1.1-cp311-cp311-manylinux_2_17_x86_64.manylinux2014_x86_64.whl (12.1 MB)\n",
            "\u001b[2K   \u001b[90m━━━━━━━━━━━━━━━━━━━━━━━━━━━━━━━━━━━━━━━━\u001b[0m \u001b[32m12.1/12.1 MB\u001b[0m \u001b[31m119.4 MB/s\u001b[0m eta \u001b[36m0:00:00\u001b[0m\n",
            "\u001b[?25hDownloading pytorch_kinematics-0.7.5-py3-none-any.whl (60 kB)\n",
            "\u001b[2K   \u001b[90m━━━━━━━━━━━━━━━━━━━━━━━━━━━━━━━━━━━━━━━━\u001b[0m \u001b[32m60.0/60.0 kB\u001b[0m \u001b[31m4.7 MB/s\u001b[0m eta \u001b[36m0:00:00\u001b[0m\n",
            "\u001b[?25hDownloading numpy-1.26.4-cp311-cp311-manylinux_2_17_x86_64.manylinux2014_x86_64.whl (18.3 MB)\n",
            "\u001b[2K   \u001b[90m━━━━━━━━━━━━━━━━━━━━━━━━━━━━━━━━━━━━━━━━\u001b[0m \u001b[32m18.3/18.3 MB\u001b[0m \u001b[31m108.0 MB/s\u001b[0m eta \u001b[36m0:00:00\u001b[0m\n",
            "\u001b[?25hDownloading sapien-3.0.0b1-cp311-cp311-manylinux2014_x86_64.whl (49.6 MB)\n",
            "\u001b[2K   \u001b[90m━━━━━━━━━━━━━━━━━━━━━━━━━━━━━━━━━━━━━━━━\u001b[0m \u001b[32m49.6/49.6 MB\u001b[0m \u001b[31m12.4 MB/s\u001b[0m eta \u001b[36m0:00:00\u001b[0m\n",
            "\u001b[?25hDownloading transforms3d-0.4.2-py3-none-any.whl (1.4 MB)\n",
            "\u001b[2K   \u001b[90m━━━━━━━━━━━━━━━━━━━━━━━━━━━━━━━━━━━━━━━━\u001b[0m \u001b[32m1.4/1.4 MB\u001b[0m \u001b[31m79.5 MB/s\u001b[0m eta \u001b[36m0:00:00\u001b[0m\n",
            "\u001b[?25hDownloading tyro-0.9.19-py3-none-any.whl (124 kB)\n",
            "\u001b[2K   \u001b[90m━━━━━━━━━━━━━━━━━━━━━━━━━━━━━━━━━━━━━━━━\u001b[0m \u001b[32m124.3/124.3 kB\u001b[0m \u001b[31m14.0 MB/s\u001b[0m eta \u001b[36m0:00:00\u001b[0m\n",
            "\u001b[?25hDownloading dacite-1.9.2-py3-none-any.whl (16 kB)\n",
            "Downloading trimesh-4.6.8-py3-none-any.whl (709 kB)\n",
            "\u001b[2K   \u001b[90m━━━━━━━━━━━━━━━━━━━━━━━━━━━━━━━━━━━━━━━━\u001b[0m \u001b[32m709.3/709.3 kB\u001b[0m \u001b[31m55.8 MB/s\u001b[0m eta \u001b[36m0:00:00\u001b[0m\n",
            "\u001b[?25hDownloading jedi-0.19.2-py2.py3-none-any.whl (1.6 MB)\n",
            "\u001b[2K   \u001b[90m━━━━━━━━━━━━━━━━━━━━━━━━━━━━━━━━━━━━━━━━\u001b[0m \u001b[32m1.6/1.6 MB\u001b[0m \u001b[31m87.1 MB/s\u001b[0m eta \u001b[36m0:00:00\u001b[0m\n",
            "\u001b[?25hDownloading shtab-1.7.2-py3-none-any.whl (14 kB)\n",
            "Downloading arm_pytorch_utilities-0.4.3-py3-none-any.whl (40 kB)\n",
            "\u001b[2K   \u001b[90m━━━━━━━━━━━━━━━━━━━━━━━━━━━━━━━━━━━━━━━━\u001b[0m \u001b[32m41.0/41.0 kB\u001b[0m \u001b[31m3.5 MB/s\u001b[0m eta \u001b[36m0:00:00\u001b[0m\n",
            "\u001b[?25hDownloading pytorch_seed-0.2.0-py3-none-any.whl (4.2 kB)\n",
            "Downloading nvidia_cublas_cu12-12.4.5.8-py3-none-manylinux2014_x86_64.whl (363.4 MB)\n",
            "\u001b[2K   \u001b[90m━━━━━━━━━━━━━━━━━━━━━━━━━━━━━━━━━━━━━━━━\u001b[0m \u001b[32m363.4/363.4 MB\u001b[0m \u001b[31m3.9 MB/s\u001b[0m eta \u001b[36m0:00:00\u001b[0m\n",
            "\u001b[?25hDownloading nvidia_cuda_cupti_cu12-12.4.127-py3-none-manylinux2014_x86_64.whl (13.8 MB)\n",
            "\u001b[2K   \u001b[90m━━━━━━━━━━━━━━━━━━━━━━━━━━━━━━━━━━━━━━━━\u001b[0m \u001b[32m13.8/13.8 MB\u001b[0m \u001b[31m93.1 MB/s\u001b[0m eta \u001b[36m0:00:00\u001b[0m\n",
            "\u001b[?25hDownloading nvidia_cuda_nvrtc_cu12-12.4.127-py3-none-manylinux2014_x86_64.whl (24.6 MB)\n",
            "\u001b[2K   \u001b[90m━━━━━━━━━━━━━━━━━━━━━━━━━━━━━━━━━━━━━━━━\u001b[0m \u001b[32m24.6/24.6 MB\u001b[0m \u001b[31m72.1 MB/s\u001b[0m eta \u001b[36m0:00:00\u001b[0m\n",
            "\u001b[?25hDownloading nvidia_cuda_runtime_cu12-12.4.127-py3-none-manylinux2014_x86_64.whl (883 kB)\n",
            "\u001b[2K   \u001b[90m━━━━━━━━━━━━━━━━━━━━━━━━━━━━━━━━━━━━━━━━\u001b[0m \u001b[32m883.7/883.7 kB\u001b[0m \u001b[31m55.8 MB/s\u001b[0m eta \u001b[36m0:00:00\u001b[0m\n",
            "\u001b[?25hDownloading nvidia_cudnn_cu12-9.1.0.70-py3-none-manylinux2014_x86_64.whl (664.8 MB)\n",
            "\u001b[2K   \u001b[90m━━━━━━━━━━━━━━━━━━━━━━━━━━━━━━━━━━━━━━━━\u001b[0m \u001b[32m664.8/664.8 MB\u001b[0m \u001b[31m1.1 MB/s\u001b[0m eta \u001b[36m0:00:00\u001b[0m\n",
            "\u001b[?25hDownloading nvidia_cufft_cu12-11.2.1.3-py3-none-manylinux2014_x86_64.whl (211.5 MB)\n",
            "\u001b[2K   \u001b[90m━━━━━━━━━━━━━━━━━━━━━━━━━━━━━━━━━━━━━━━━\u001b[0m \u001b[32m211.5/211.5 MB\u001b[0m \u001b[31m5.9 MB/s\u001b[0m eta \u001b[36m0:00:00\u001b[0m\n",
            "\u001b[?25hDownloading nvidia_curand_cu12-10.3.5.147-py3-none-manylinux2014_x86_64.whl (56.3 MB)\n",
            "\u001b[2K   \u001b[90m━━━━━━━━━━━━━━━━━━━━━━━━━━━━━━━━━━━━━━━━\u001b[0m \u001b[32m56.3/56.3 MB\u001b[0m \u001b[31m12.9 MB/s\u001b[0m eta \u001b[36m0:00:00\u001b[0m\n",
            "\u001b[?25hDownloading nvidia_cusolver_cu12-11.6.1.9-py3-none-manylinux2014_x86_64.whl (127.9 MB)\n",
            "\u001b[2K   \u001b[90m━━━━━━━━━━━━━━━━━━━━━━━━━━━━━━━━━━━━━━━━\u001b[0m \u001b[32m127.9/127.9 MB\u001b[0m \u001b[31m7.2 MB/s\u001b[0m eta \u001b[36m0:00:00\u001b[0m\n",
            "\u001b[?25hDownloading nvidia_cusparse_cu12-12.3.1.170-py3-none-manylinux2014_x86_64.whl (207.5 MB)\n",
            "\u001b[2K   \u001b[90m━━━━━━━━━━━━━━━━━━━━━━━━━━━━━━━━━━━━━━━━\u001b[0m \u001b[32m207.5/207.5 MB\u001b[0m \u001b[31m6.6 MB/s\u001b[0m eta \u001b[36m0:00:00\u001b[0m\n",
            "\u001b[?25hDownloading nvidia_nvjitlink_cu12-12.4.127-py3-none-manylinux2014_x86_64.whl (21.1 MB)\n",
            "\u001b[2K   \u001b[90m━━━━━━━━━━━━━━━━━━━━━━━━━━━━━━━━━━━━━━━━\u001b[0m \u001b[32m21.1/21.1 MB\u001b[0m \u001b[31m105.6 MB/s\u001b[0m eta \u001b[36m0:00:00\u001b[0m\n",
            "\u001b[?25hBuilding wheels for collected packages: toppra\n",
            "  Building wheel for toppra (pyproject.toml) ... \u001b[?25l\u001b[?25hdone\n",
            "  Created wheel for toppra: filename=toppra-0.6.3-cp311-cp311-linux_x86_64.whl size=788025 sha256=fd106fa6b477ac3c6d07e167787c833ac608180fc0332bb91a175fb687efae2b\n",
            "  Stored in directory: /root/.cache/pip/wheels/57/59/c1/4daf9fdaf34e03a2d94430efe8b070346c86b15bc9d446c162\n",
            "Successfully built toppra\n",
            "Installing collected packages: shtab, nvidia-nvjitlink-cu12, nvidia-curand-cu12, nvidia-cufft-cu12, nvidia-cuda-runtime-cu12, nvidia-cuda-nvrtc-cu12, nvidia-cuda-cupti-cu12, nvidia-cublas-cu12, numpy, jedi, fast-kinematics, dacite, trimesh, transforms3d, nvidia-cusparse-cu12, nvidia-cudnn-cu12, gymnasium, tyro, sapien, nvidia-cusolver-cu12, toppra, pytorch-seed, mplib, arm-pytorch-utilities, pytorch-kinematics, mani_skill-nightly\n",
            "  Attempting uninstall: nvidia-nvjitlink-cu12\n",
            "    Found existing installation: nvidia-nvjitlink-cu12 12.5.82\n",
            "    Uninstalling nvidia-nvjitlink-cu12-12.5.82:\n",
            "      Successfully uninstalled nvidia-nvjitlink-cu12-12.5.82\n",
            "  Attempting uninstall: nvidia-curand-cu12\n",
            "    Found existing installation: nvidia-curand-cu12 10.3.6.82\n",
            "    Uninstalling nvidia-curand-cu12-10.3.6.82:\n",
            "      Successfully uninstalled nvidia-curand-cu12-10.3.6.82\n",
            "  Attempting uninstall: nvidia-cufft-cu12\n",
            "    Found existing installation: nvidia-cufft-cu12 11.2.3.61\n",
            "    Uninstalling nvidia-cufft-cu12-11.2.3.61:\n",
            "      Successfully uninstalled nvidia-cufft-cu12-11.2.3.61\n",
            "  Attempting uninstall: nvidia-cuda-runtime-cu12\n",
            "    Found existing installation: nvidia-cuda-runtime-cu12 12.5.82\n",
            "    Uninstalling nvidia-cuda-runtime-cu12-12.5.82:\n",
            "      Successfully uninstalled nvidia-cuda-runtime-cu12-12.5.82\n",
            "  Attempting uninstall: nvidia-cuda-nvrtc-cu12\n",
            "    Found existing installation: nvidia-cuda-nvrtc-cu12 12.5.82\n",
            "    Uninstalling nvidia-cuda-nvrtc-cu12-12.5.82:\n",
            "      Successfully uninstalled nvidia-cuda-nvrtc-cu12-12.5.82\n",
            "  Attempting uninstall: nvidia-cuda-cupti-cu12\n",
            "    Found existing installation: nvidia-cuda-cupti-cu12 12.5.82\n",
            "    Uninstalling nvidia-cuda-cupti-cu12-12.5.82:\n",
            "      Successfully uninstalled nvidia-cuda-cupti-cu12-12.5.82\n",
            "  Attempting uninstall: nvidia-cublas-cu12\n",
            "    Found existing installation: nvidia-cublas-cu12 12.5.3.2\n",
            "    Uninstalling nvidia-cublas-cu12-12.5.3.2:\n",
            "      Successfully uninstalled nvidia-cublas-cu12-12.5.3.2\n",
            "  Attempting uninstall: numpy\n",
            "    Found existing installation: numpy 2.0.2\n",
            "    Uninstalling numpy-2.0.2:\n",
            "      Successfully uninstalled numpy-2.0.2\n",
            "  Attempting uninstall: nvidia-cusparse-cu12\n",
            "    Found existing installation: nvidia-cusparse-cu12 12.5.1.3\n",
            "    Uninstalling nvidia-cusparse-cu12-12.5.1.3:\n",
            "      Successfully uninstalled nvidia-cusparse-cu12-12.5.1.3\n",
            "  Attempting uninstall: nvidia-cudnn-cu12\n",
            "    Found existing installation: nvidia-cudnn-cu12 9.3.0.75\n",
            "    Uninstalling nvidia-cudnn-cu12-9.3.0.75:\n",
            "      Successfully uninstalled nvidia-cudnn-cu12-9.3.0.75\n",
            "  Attempting uninstall: gymnasium\n",
            "    Found existing installation: gymnasium 1.1.1\n",
            "    Uninstalling gymnasium-1.1.1:\n",
            "      Successfully uninstalled gymnasium-1.1.1\n",
            "  Attempting uninstall: nvidia-cusolver-cu12\n",
            "    Found existing installation: nvidia-cusolver-cu12 11.6.3.83\n",
            "    Uninstalling nvidia-cusolver-cu12-11.6.3.83:\n",
            "      Successfully uninstalled nvidia-cusolver-cu12-11.6.3.83\n",
            "\u001b[31mERROR: pip's dependency resolver does not currently take into account all the packages that are installed. This behaviour is the source of the following dependency conflicts.\n",
            "dopamine-rl 4.1.2 requires gymnasium>=1.0.0, but you have gymnasium 0.29.1 which is incompatible.\n",
            "thinc 8.3.6 requires numpy<3.0.0,>=2.0.0, but you have numpy 1.26.4 which is incompatible.\u001b[0m\u001b[31m\n",
            "\u001b[0mSuccessfully installed arm-pytorch-utilities-0.4.3 dacite-1.9.2 fast-kinematics-0.2.2 gymnasium-0.29.1 jedi-0.19.2 mani_skill-nightly-2025.5.4.511 mplib-0.1.1 numpy-1.26.4 nvidia-cublas-cu12-12.4.5.8 nvidia-cuda-cupti-cu12-12.4.127 nvidia-cuda-nvrtc-cu12-12.4.127 nvidia-cuda-runtime-cu12-12.4.127 nvidia-cudnn-cu12-9.1.0.70 nvidia-cufft-cu12-11.2.1.3 nvidia-curand-cu12-10.3.5.147 nvidia-cusolver-cu12-11.6.1.9 nvidia-cusparse-cu12-12.3.1.170 nvidia-nvjitlink-cu12-12.4.127 pytorch-kinematics-0.7.5 pytorch-seed-0.2.0 sapien-3.0.0b1 shtab-1.7.2 toppra-0.6.3 transforms3d-0.4.2 trimesh-4.6.8 tyro-0.9.19\n"
          ]
        }
      ],
      "source": [
        "# setup vulkan\n",
        "!mkdir -p /usr/share/vulkan/icd.d\n",
        "!wget -q https://raw.githubusercontent.com/haosulab/ManiSkill/main/docker/nvidia_icd.json\n",
        "!wget -q https://raw.githubusercontent.com/haosulab/ManiSkill/main/docker/10_nvidia.json\n",
        "!mv nvidia_icd.json /usr/share/vulkan/icd.d\n",
        "!mv 10_nvidia.json /usr/share/glvnd/egl_vendor.d/10_nvidia.json\n",
        "!apt-get install -y --no-install-recommends libvulkan-dev\n",
        "# dependencies\n",
        "!pip install --upgrade mani_skill-nightly"
      ]
    },
    {
      "cell_type": "code",
      "execution_count": null,
      "metadata": {
        "id": "ea6e55d5-e78e-4928-906d-858ba266592e",
        "jupyter": {
          "source_hidden": true
        }
      },
      "outputs": [],
      "source": [
        "try:\n",
        "    import google.colab\n",
        "    IN_COLAB = True\n",
        "except:\n",
        "    IN_COLAB = False\n",
        "\n",
        "if IN_COLAB:\n",
        "    import site\n",
        "    site.main() # run this so local pip installs are recognized"
      ]
    },
    {
      "cell_type": "markdown",
      "metadata": {
        "id": "lIPb8OdAl2iJ"
      },
      "source": [
        "# 1 Computer Vision with Simulation (9 pts)\n",
        "\n",
        "In assignment 1 we solved tasks with ground truth information about where objects were. This time we will try and solve them purely through vision via  pose estimation and motion planning. Thankfully with simulation we can both generate our training data and verify our trained pose estimation models.\n",
        "\n",
        "We will first try and use RGB data alone for a single task and overfit a pose estimation model onto that task's data. This means we are also using `obs_mode=\"rgb\"` now which means ground truth data is not returned by the gym environment, only robot propioceptive data and vision data. The data itself looks like below"
      ]
    },
    {
      "cell_type": "code",
      "execution_count": 7,
      "metadata": {
        "colab": {
          "base_uri": "https://localhost:8080/",
          "height": 489
        },
        "id": "erAVRzDkl3HZ",
        "outputId": "e578b75f-c046-48d4-c27f-1c9c00456442"
      },
      "outputs": [
        {
          "name": "stdout",
          "output_type": "stream",
          "text": [
            "Dict('agent': Dict('qpos': Box(-inf, inf, (16, 9), float32), 'qvel': Box(-inf, inf, (16, 9), float32)), 'extra': Dict('is_grasped': Box(False, True, (16,), bool), 'tcp_pose': Box(-inf, inf, (16, 7), float32), 'goal_pos': Box(-inf, inf, (16, 3), float32)), 'sensor_param': Dict('base_camera': Dict('extrinsic_cv': Box(-inf, inf, (16, 3, 4), float32), 'cam2world_gl': Box(-inf, inf, (16, 4, 4), float32), 'intrinsic_cv': Box(-inf, inf, (16, 3, 3), float32))), 'sensor_data': Dict('base_camera': Dict('rgb': Box(0, 255, (16, 128, 128, 3), uint8))))\n",
            "torch.Size([16, 128, 128, 3])\n"
          ]
        },
        {
          "data": {
            "image/png": "[encoded data removed]",
            "text/plain": [
              "<Figure size 640x480 with 1 Axes>"
            ]
          },
          "metadata": {},
          "output_type": "display_data"
        }
      ],
      "source": [
        "import mani_skill\n",
        "import gymnasium as gym\n",
        "import matplotlib.pyplot as plt\n",
        "import numpy as np\n",
        "import torch\n",
        "# we will use parallel environments to speed up data generation for training\n",
        "env = gym.make(\"PickCube-v1\", num_envs=16, obs_mode=\"rgb\", render_mode=\"rgb_array\", enable_shadow=True)\n",
        "obs, _ = env.reset()\n",
        "\n",
        "# print below the observation space\n",
        "print(env.observation_space)\n",
        "# show an example image\n",
        "plt.imshow(obs[\"sensor_data\"][\"base_camera\"][\"rgb\"].cpu().numpy()[0])\n",
        "print(obs[\"sensor_data\"][\"base_camera\"][\"rgb\"].shape)\n"
      ]
    },
    {
      "cell_type": "markdown",
      "metadata": {
        "id": "TNVuIZ-TsKhz"
      },
      "source": [
        "## Problem 1.1: Generate your Pose Estimation Dataset (3 pts)\n",
        "\n",
        "We will use our simulation tools first to generate a dataset for pose estimation training. Note that the ground truth object pose is stored in `env.unwrapped.cube.pose`, use that to create a torch Dataset class below.\n",
        "\n",
        "You may want to think about the representation of pose data as well, you may find some are easier to predict accurately than others. Knowing that you are only predicting a cube's pose can help as well.\n",
        "\n",
        "In this sub-section your task is to create the torch Dataset class to hold the image and pose data. The `__getitem__` function should return data with any necessary transformations already applied. Then in the next section explain the decision behind any data transformations you performed and/or representations chosen."
      ]
    },
    {
      "cell_type": "code",
      "execution_count": 1,
      "metadata": {
        "id": "JBXSMd-ksYHi"
      },
      "outputs": [],
      "source": [
        "import mani_skill\n",
        "import gymnasium as gym\n",
        "import torch\n",
        "import matplotlib.pyplot as plt\n",
        "import numpy as np\n",
        "import torch\n",
        "from torch.utils.data import Dataset\n",
        "from mani_skill.utils.geometry.rotation_conversions import matrix_to_quaternion, quaternion_to_matrix\n",
        "from mani_skill.utils.structs.pose import Pose,vectorize_pose\n",
        "\n",
        "num_envs = 128\n",
        "total_samples = 1024\n",
        "env = gym.make(\"PickCube-v1\", num_envs=num_envs, obs_mode=\"rgb\", render_mode=\"rgb_array\", enable_shadow=True)\n",
        "\n",
        "### your code goes below ###\n",
        "images = [] # your inputs\n",
        "poses = [] # your labels\n",
        "samples = 0\n",
        "\n",
        "def matrix_to_pose(matrix: torch.Tensor) -> Pose:\n",
        "    \"\"\"\n",
        "    Convert (N, 4, 4) transformation matrices to Pose object.\n",
        "    \"\"\"\n",
        "    assert matrix.shape[-2:] == (4, 4), \"Input must be (N, 4, 4)\"\n",
        "    p = matrix[:, :3, 3]\n",
        "    R = matrix[:, :3, :3]\n",
        "    q = matrix_to_quaternion(R)  # (N, 4),(w, x, y, z)\n",
        "    return Pose.create_from_pq(p=p, q=q)\n",
        "\n",
        "\n",
        "\n",
        "while samples < total_samples:\n",
        "    obs, _ = env.reset()\n",
        "    samples += num_envs\n",
        "\n",
        "    # image\n",
        "    # note that for obs data images are not cloned by default so make sure to clone it before inserting into dataset\n",
        "    image = obs[\"sensor_data\"][\"base_camera\"][\"rgb\"].clone().cpu() # (N, H, W, 3)\n",
        "    \n",
        "\n",
        "    # cube and camera pose in world coordinates\n",
        "    cube_pose_world = env.unwrapped.cube.pose\n",
        "    camera_pose_world = obs[\"sensor_param\"][\"base_camera\"][\"cam2world_gl\"]\n",
        "\n",
        "    # convert 4x4 matrices to pose objects\n",
        "    camera_pose_world = matrix_to_pose(camera_pose_world)\n",
        "\n",
        "    # compute cube pose in camera coordinates\n",
        "    cube_pose_camera = camera_pose_world.inv() * cube_pose_world # (N, 7, 7)\n",
        "    cube_pose = vectorize_pose(cube_pose_camera, device='cpu')\n",
        "    images.append(image)\n",
        "    poses.append(cube_pose)\n",
        "\n",
        "images = torch.cat(images, dim=0)\n",
        "poses = torch.cat(poses, dim=0)\n",
        "\n",
        "\n",
        "\n",
        "class RGBPoseEstimationDataset(Dataset):\n",
        "    def __init__(self, images, poses, transform=None):\n",
        "        assert images.shape[0] == poses.shape[0], \"Mismatch in number of images and poses\"\n",
        "        self.images = images.float()\n",
        "        self.poses  = poses.float()\n",
        "        self.transform = transform\n",
        "\n",
        "    def __len__(self):\n",
        "        return self.images.shape[0]\n",
        "\n",
        "    def __getitem__(self, idx):\n",
        "        img  = self.images[idx]\n",
        "        pose = self.poses[idx]\n",
        "        if self.transform is not None:\n",
        "            img = self.transform(img)\n",
        "        return {\"image\": img, \"pose\": pose}\n",
        "\n",
        "dataset = RGBPoseEstimationDataset(images, poses,transform=lambda x: x / 255.0)\n",
        "### your code goes above ###"
      ]
    },
    {
      "cell_type": "code",
      "execution_count": null,
      "metadata": {
        "id": "dnG3TwDMvQpD"
      },
      "outputs": [],
      "source": [
        "# fill the string below with your response to the following:\n",
        "# \"Detail why you chose your particular rgb/pose representation and any transformations performed on that data. Explain why you perform those transformations\"\n",
        "P1_1_ANSWER = \"\""
      ]
    },
    {
      "cell_type": "markdown",
      "metadata": {
        "id": "Vglpo2MjvDFJ"
      },
      "source": [
        "## Problem 1.2: Create and Train a Neural Net based Pose Estimation Model (3 pts)\n",
        "\n",
        "Next up is to train a small 2D conv-net based model to predict the cube pose using the dataset you constructed earlier.\n",
        "\n",
        "Points given here will be based on the code and checking that it mostly makes sense. We verify if it is accurate enough with problem 1.3 when running motion planning to solve the pick cube task. Note that your rotation estimation does not need to be super accurate, it is a bit difficult to estimate from RGB alone due to the low resolutions."
      ]
    },
    {
      "cell_type": "code",
      "execution_count": 2,
      "metadata": {
        "id": "XMOaTta8nZZ9"
      },
      "outputs": [],
      "source": [
        "import torch\n",
        "import torch.nn as nn\n",
        "import torchvision\n",
        "\n",
        "class PoseEstimator(nn.Module):\n",
        "    def __init__(self):\n",
        "        super().__init__()\n",
        "        backbone = torchvision.models.resnet18(weights=\"IMAGENET1K_V1\")\n",
        "        self.features = nn.Sequential(*list(backbone.children())[:-2])\n",
        "        self.avgpool  = nn.AdaptiveAvgPool2d(1)\n",
        "        self.fc1 = nn.Sequential(\n",
        "            nn.Linear(512, 256),\n",
        "            nn.ReLU(),\n",
        "            nn.Dropout(0.3),\n",
        "            nn.Linear(256, 128),\n",
        "            nn.ReLU(),\n",
        "            nn.Dropout(0.3)\n",
        "        )\n",
        "        #self.fc_rot6  = nn.Linear(128, 6)\n",
        "        self.fc_t = nn.Linear(128, 3)\n",
        "\n",
        "    def forward(self, x):\n",
        "        x = self.features(x)\n",
        "        x = self.avgpool(x).flatten(1)\n",
        "        x = self.fc1(x)\n",
        "        #rot6 = self.fc_rot6(x)\n",
        "        t    = self.fc_t(x)\n",
        "        #return rot6, t \n",
        "        return t  "
      ]
    },
    {
      "cell_type": "code",
      "execution_count": 3,
      "metadata": {
        "id": "Y5vDzbO3vSr1"
      },
      "outputs": [
        {
          "name": "stdout",
          "output_type": "stream",
          "text": [
            "Epoch 1/100 - Loss: 0.0524\n",
            "Epoch 2/100 - Loss: 0.0113\n",
            "Epoch 3/100 - Loss: 0.0087\n",
            "Epoch 4/100 - Loss: 0.0073\n",
            "Epoch 5/100 - Loss: 0.0060\n",
            "Epoch 6/100 - Loss: 0.0055\n",
            "Epoch 7/100 - Loss: 0.0053\n",
            "Epoch 8/100 - Loss: 0.0051\n",
            "Epoch 9/100 - Loss: 0.0050\n",
            "Epoch 10/100 - Loss: 0.0051\n",
            "Epoch 11/100 - Loss: 0.0052\n",
            "Epoch 12/100 - Loss: 0.0045\n",
            "Epoch 13/100 - Loss: 0.0045\n",
            "Epoch 14/100 - Loss: 0.0048\n",
            "Epoch 15/100 - Loss: 0.0042\n",
            "Epoch 16/100 - Loss: 0.0048\n",
            "Epoch 17/100 - Loss: 0.0038\n",
            "Epoch 18/100 - Loss: 0.0043\n",
            "Epoch 19/100 - Loss: 0.0040\n",
            "Epoch 20/100 - Loss: 0.0040\n",
            "Epoch 21/100 - Loss: 0.0039\n",
            "Epoch 22/100 - Loss: 0.0035\n",
            "Epoch 23/100 - Loss: 0.0038\n",
            "Epoch 24/100 - Loss: 0.0039\n",
            "Epoch 25/100 - Loss: 0.0032\n",
            "Epoch 26/100 - Loss: 0.0031\n",
            "Epoch 27/100 - Loss: 0.0031\n",
            "Epoch 28/100 - Loss: 0.0032\n",
            "Epoch 29/100 - Loss: 0.0030\n",
            "Epoch 30/100 - Loss: 0.0030\n",
            "Epoch 31/100 - Loss: 0.0030\n",
            "Epoch 32/100 - Loss: 0.0028\n",
            "Epoch 33/100 - Loss: 0.0028\n",
            "Epoch 34/100 - Loss: 0.0029\n",
            "Epoch 35/100 - Loss: 0.0027\n",
            "Epoch 36/100 - Loss: 0.0028\n",
            "Epoch 37/100 - Loss: 0.0026\n",
            "Epoch 38/100 - Loss: 0.0029\n",
            "Epoch 39/100 - Loss: 0.0027\n",
            "Epoch 40/100 - Loss: 0.0027\n",
            "Epoch 41/100 - Loss: 0.0027\n",
            "Epoch 42/100 - Loss: 0.0024\n",
            "Epoch 43/100 - Loss: 0.0025\n",
            "Epoch 44/100 - Loss: 0.0023\n",
            "Epoch 45/100 - Loss: 0.0022\n",
            "Epoch 46/100 - Loss: 0.0022\n",
            "Epoch 47/100 - Loss: 0.0021\n",
            "Epoch 48/100 - Loss: 0.0022\n",
            "Epoch 49/100 - Loss: 0.0023\n",
            "Epoch 50/100 - Loss: 0.0022\n",
            "Epoch 51/100 - Loss: 0.0022\n",
            "Epoch 52/100 - Loss: 0.0020\n",
            "Epoch 53/100 - Loss: 0.0020\n",
            "Epoch 54/100 - Loss: 0.0021\n",
            "Epoch 55/100 - Loss: 0.0021\n",
            "Epoch 56/100 - Loss: 0.0021\n",
            "Epoch 57/100 - Loss: 0.0021\n",
            "Epoch 58/100 - Loss: 0.0020\n",
            "Epoch 59/100 - Loss: 0.0020\n",
            "Epoch 60/100 - Loss: 0.0020\n",
            "Epoch 61/100 - Loss: 0.0018\n",
            "Epoch 62/100 - Loss: 0.0018\n",
            "Epoch 63/100 - Loss: 0.0019\n",
            "Epoch 64/100 - Loss: 0.0018\n",
            "Epoch 65/100 - Loss: 0.0017\n",
            "Epoch 66/100 - Loss: 0.0016\n",
            "Epoch 67/100 - Loss: 0.0017\n",
            "Epoch 68/100 - Loss: 0.0019\n",
            "Epoch 69/100 - Loss: 0.0017\n",
            "Epoch 70/100 - Loss: 0.0017\n",
            "Epoch 71/100 - Loss: 0.0017\n",
            "Epoch 72/100 - Loss: 0.0017\n",
            "Epoch 73/100 - Loss: 0.0016\n",
            "Epoch 74/100 - Loss: 0.0015\n",
            "Epoch 75/100 - Loss: 0.0014\n",
            "Epoch 76/100 - Loss: 0.0015\n",
            "Epoch 77/100 - Loss: 0.0013\n",
            "Epoch 78/100 - Loss: 0.0014\n",
            "Epoch 79/100 - Loss: 0.0013\n",
            "Epoch 80/100 - Loss: 0.0012\n",
            "Epoch 81/100 - Loss: 0.0013\n",
            "Epoch 82/100 - Loss: 0.0013\n",
            "Epoch 83/100 - Loss: 0.0013\n",
            "Epoch 84/100 - Loss: 0.0012\n",
            "Epoch 85/100 - Loss: 0.0012\n",
            "Epoch 86/100 - Loss: 0.0012\n",
            "Epoch 87/100 - Loss: 0.0013\n",
            "Epoch 88/100 - Loss: 0.0011\n",
            "Epoch 89/100 - Loss: 0.0011\n",
            "Epoch 90/100 - Loss: 0.0011\n",
            "Epoch 91/100 - Loss: 0.0011\n",
            "Epoch 92/100 - Loss: 0.0012\n",
            "Epoch 93/100 - Loss: 0.0011\n",
            "Epoch 94/100 - Loss: 0.0010\n",
            "Epoch 95/100 - Loss: 0.0010\n",
            "Epoch 96/100 - Loss: 0.0010\n",
            "Epoch 97/100 - Loss: 0.0010\n",
            "Epoch 98/100 - Loss: 0.0010\n",
            "Epoch 99/100 - Loss: 0.0009\n",
            "Epoch 100/100 - Loss: 0.0010\n"
          ]
        }
      ],
      "source": [
        "from torch.utils.data import DataLoader\n",
        "from tqdm.notebook import tqdm\n",
        "import torch.nn.functional as F\n",
        "from mani_skill.utils.geometry.rotation_conversions import quaternion_to_matrix\n",
        "device = torch.device(\"cuda\")\n",
        "model = PoseEstimator()\n",
        "model.to(device)\n",
        "batch_size = 128\n",
        "dataloader = DataLoader(dataset, batch_size=batch_size, shuffle=True)\n",
        "\n",
        "\n",
        "### your code goes below ###\n",
        "def compute_rotation_matrix_from_6d(x: torch.Tensor, eps: float = 1e-6) -> torch.Tensor:\n",
        "    \"\"\"\n",
        "    Convert 6D rotation representation to 3x3 rotation matrix using Gram-Schmidt orthogonalization.\n",
        "\n",
        "    Input:\n",
        "        x: (..., 6) 6D vector\n",
        "    Output:\n",
        "        rot: (..., 3, 3) rotation matrix\n",
        "    \"\"\"\n",
        "    x = x.view(-1, 6)\n",
        "    a1 = x[:, 0:3]\n",
        "    a2 = x[:, 3:6]\n",
        "\n",
        "    b1 = F.normalize(a1, dim=1, eps=eps)\n",
        "    b2 = a2 - (b1 * a2).sum(dim=1, keepdim=True) * b1\n",
        "    b2 = F.normalize(b2, dim=1, eps=eps)\n",
        "    b3 = torch.cross(b1, b2, dim=1)\n",
        "\n",
        "    rot = torch.stack([b1, b2, b3], dim=-1)  # (..., 3, 3)\n",
        "    return rot\n",
        "\n",
        "def geodesic_loss(R_pred, R_gt):\n",
        "    # R_pred, R_gt: (batch_size, 3, 3)\n",
        "    # Computes angular distance between rotation matrices\n",
        "    batch = R_pred.shape[0]\n",
        "    RT_R = torch.bmm(R_pred.transpose(1, 2), R_gt)  # (B, 3, 3)\n",
        "    trace = RT_R[:, 0, 0] + RT_R[:, 1, 1] + RT_R[:, 2, 2]\n",
        "    cos_theta = (trace - 1) / 2\n",
        "    cos_theta = torch.clamp(cos_theta, -1.0, 1.0)  # numerical safety\n",
        "    loss = torch.acos(cos_theta)\n",
        "    return loss.mean()\n",
        "\n",
        "def compute_loss(R_pred, t_pred, R_gt, t_gt):\n",
        "    # R_pred, R_gt: (batch_size, 3, 3)\n",
        "    # t_pred, t_gt: (batch_size, 3)\n",
        "    w_rot = 1.0\n",
        "    w_trans = 2.0\n",
        "    R_loss = geodesic_loss(R_pred, R_gt)\n",
        "    t_loss = F.mse_loss(t_pred, t_gt)\n",
        "    return w_rot * R_loss + w_trans * t_loss\n",
        "\n",
        "def compute_loss_t(t_pred, t_gt):\n",
        "    t_loss = F.mse_loss(t_pred, t_gt)\n",
        "    return t_loss\n",
        "\n",
        "def train_model(num_epochs):\n",
        "    optimizer = torch.optim.Adam(model.parameters(), lr=0.001)\n",
        "\n",
        "    for epoch in range(num_epochs):\n",
        "        model.train()\n",
        "        epoch_loss = 0.0\n",
        "        for batch in dataloader:\n",
        "            images = batch[\"image\"].to(device)  # (B, 3, H, W)\n",
        "            images = images.permute(0, 3, 1, 2)\n",
        "            poses = batch[\"pose\"].to(device)    # (B, 7)\n",
        "            optimizer.zero_grad()\n",
        "\n",
        "            # label\n",
        "            R_gt = quaternion_to_matrix(poses[:, 3:7])\n",
        "            t_gt = poses[:, :3]\n",
        "\n",
        "            # prediction\n",
        "            #rot6_pred, t_pred = model(images)\n",
        "            t_pred = model(images)\n",
        "            #R_pred = compute_rotation_matrix_from_6d(rot6_pred)\n",
        "            \n",
        "            #loss = compute_loss(R_pred, t_pred, R_gt, t_gt)\n",
        "            loss = compute_loss_t(t_pred, t_gt)\n",
        "            loss.backward()\n",
        "            torch.nn.utils.clip_grad_norm_(model.parameters(), max_norm=1.0)\n",
        "            optimizer.step()\n",
        "            epoch_loss += loss.item()  # Accumulate scalar value\n",
        "            if torch.isnan(loss):\n",
        "                print(\"Loss is NaN! Debugging...\")\n",
        "                #print(\"R_pred:\", R_pred)\n",
        "                print(\"t_pred:\", t_pred)\n",
        "                print(\"R_gt:\", R_gt)\n",
        "                print(\"t_gt:\", t_gt)\n",
        "                break\n",
        "\n",
        "\n",
        "        avg_loss = epoch_loss / len(dataloader)\n",
        "        print(f\"Epoch {epoch + 1}/{num_epochs} - Loss: {avg_loss:.4f}\")\n",
        "    \n",
        "train_model(100)\n",
        "### your code goes above ###"
      ]
    },
    {
      "cell_type": "code",
      "execution_count": 4,
      "metadata": {},
      "outputs": [],
      "source": [
        "torch.save(model.state_dict(), \"pose_estimator.pth\")"
      ]
    },
    {
      "cell_type": "markdown",
      "metadata": {
        "id": "M9PGH4kNTJ21"
      },
      "source": [
        "## Problem 1.3: Pick up Objects from Vision (3 pts)\n",
        "\n",
        "Using your trained model from above combined with motion planning, grasp the cube from vision inputs only and bring it to the green goal which is at position `goal_pos`. An 80% success rate minimum is required to pass this section.\n",
        "\n",
        "Note that you only really need accurate position estimation. If your rotation estimate is not perfect that is fine, you can still easily pick up the cube."
      ]
    },
    {
      "cell_type": "code",
      "execution_count": 5,
      "metadata": {
        "id": "suaAr9mQTc1K"
      },
      "outputs": [
        {
          "name": "stderr",
          "output_type": "stream",
          "text": [
            "[2025-05-14 02:19:38.096] [SAPIEN] [warning] A PhysX CPU system is being created while PhysX GPU is enabled. You can safely ignore this message if it is intended. To use GPU PhysX, create a sapien.physx.PhysxGpuSystem explicitly and pass it to sapien.Scene constructor.\n"
          ]
        }
      ],
      "source": [
        "### setup code, don't change! ###\n",
        "import mani_skill.envs\n",
        "import gymnasium as gym\n",
        "import numpy as np\n",
        "from mani_skill.utils.visualization import images_to_video\n",
        "from mani_skill.utils.wrappers.record import RecordEpisode\n",
        "import mplib\n",
        "from tqdm.notebook import tqdm\n",
        "from transforms3d.euler import euler2quat, quat2euler\n",
        "def create_env():\n",
        "    env = gym.make(\"PickCube-v1\",\n",
        "                num_envs=1,\n",
        "                obs_mode=\"rgb\",\n",
        "                control_mode=\"pd_joint_pos\",\n",
        "                render_mode=\"rgb_array\",\n",
        "                reward_mode=\"none\",\n",
        "                human_render_camera_configs=dict(shader_pack=\"default\")\n",
        "    )\n",
        "    env = RecordEpisode(env, output_dir=\"pick_cube_mp\", video_fps=20, info_on_video=False, save_trajectory=False)\n",
        "    env.reset(seed=42)\n",
        "    return env\n",
        "env = create_env()\n",
        "robot = env.unwrapped.agent.robot\n",
        "link_names = [link.get_name() for link in robot.get_links()]\n",
        "joint_names = [joint.get_name() for joint in robot.get_active_joints()]\n",
        "planner = mplib.Planner(\n",
        "    urdf=env.unwrapped.agent.urdf_path,\n",
        "    srdf=env.unwrapped.agent.urdf_path.replace(\".urdf\", \".srdf\"),\n",
        "    user_link_names=link_names,\n",
        "    user_joint_names=joint_names,\n",
        "    move_group=\"panda_hand_tcp\",\n",
        "    # ensures planned motions do not exceed these limits\n",
        "    joint_vel_limits=np.ones(7) * 0.8,\n",
        "    joint_acc_limits=np.ones(7) * 0.8,\n",
        ")\n",
        "# this sets the planner object up such that you can plan with poses in the world frame, which is the default frame of all pose data\n",
        "# in our simulator\n",
        "planner.set_base_pose(np.concatenate([robot.pose.sp.p, robot.pose.sp.q]))"
      ]
    },
    {
      "cell_type": "code",
      "execution_count": 6,
      "metadata": {
        "id": "5pEhaZ1UTjkd"
      },
      "outputs": [
        {
          "name": "stderr",
          "output_type": "stream",
          "text": [
            "[2025-05-14 02:20:10.677] [SAPIEN] [warning] A PhysX CPU system is being created while PhysX GPU is enabled. You can safely ignore this message if it is intended. To use GPU PhysX, create a sapien.physx.PhysxGpuSystem explicitly and pass it to sapien.Scene constructor.\n"
          ]
        },
        {
          "data": {
            "application/vnd.jupyter.widget-view+json": {
              "model_id": "2e90f2d52cfc49c79155d1a2980e74e9",
              "version_major": 2,
              "version_minor": 0
            },
            "text/plain": [
              "  0%|          | 0/10 [00:00<?, ?it/s]"
            ]
          },
          "metadata": {},
          "output_type": "display_data"
        },
        {
          "name": "stderr",
          "output_type": "stream",
          "text": [
            "/home/zhw/.conda/envs/robolearning/lib/python3.10/site-packages/gymnasium/core.py:311: UserWarning: \u001b[33mWARN: env.get_info to get variables from other wrappers is deprecated and will be removed in v1.0, to get this variable you can do `env.unwrapped.get_info` for environment variables or `env.get_wrapper_attr('get_info')` that will search the reminding wrappers.\u001b[0m\n",
            "  logger.warn(\n"
          ]
        },
        {
          "name": "stdout",
          "output_type": "stream",
          "text": [
            "Success rate: 0.1\n",
            "Success rate < 80%. You may need to tune your motion planner or train a better pose estimation model\n"
          ]
        }
      ],
      "source": [
        "EPISODES = 10\n",
        "\n",
        "def pick_cube_mp_solution(env, obs, goal_pos, model):\n",
        "    robot = env.unwrapped.agent.robot\n",
        "    panda_hand_tcp = env.unwrapped.agent.robot.links_map[\"panda_hand_tcp\"]\n",
        "\n",
        "    ### your code goes below ###\n",
        "    # you can only use data in the obs variable given and goal position, no ground truth permitted!\n",
        "    grasp_ori = panda_hand_tcp.pose.q[0].numpy().copy()\n",
        "    z_offset = 0.15\n",
        "    grasp = 1\n",
        "\n",
        "    # image and camera pos\n",
        "    img = obs[\"sensor_data\"][\"base_camera\"][\"rgb\"]\n",
        "    img = img.float() / 255.0                             \n",
        "    img = img.permute(0, 3, 1, 2)                         \n",
        "    camera_pose_world = obs[\"sensor_param\"][\"base_camera\"][\"cam2world_gl\"].squeeze(0).cpu().numpy()\n",
        "    \n",
        "\n",
        "    # get cube position\n",
        "    model.eval()\n",
        "    with torch.no_grad():\n",
        "        img = img.to(device)\n",
        "        #rot6_pred, t_pred = model(img)\n",
        "        t_pred = model(img)\n",
        "        #R_pred = compute_rotation_matrix_from_6d(rot6_pred)\n",
        "        t_pred = t_pred.cpu().numpy()[0]\n",
        "        #R_pred = R_pred.cpu().numpy()[0]\n",
        "    cube_p_cam_h = np.append(t_pred, 1.0)    \n",
        "    cube_p_world_h = camera_pose_world @ cube_p_cam_h \n",
        "    cube_p_world = cube_p_world_h[:3] \n",
        "    # grasp the cube\n",
        "    grasp_result = planner.plan_screw(\n",
        "        np.concatenate([cube_p_world+ np.array([0,0,z_offset]), grasp_ori]),\n",
        "        robot.qpos.cpu().numpy()[0],\n",
        "        time_step=env.unwrapped.control_timestep,\n",
        "        use_attach=True,\n",
        "        wrt_world=True\n",
        "    )\n",
        "    for pos in grasp_result[\"position\"]:\n",
        "        env.step(np.concatenate([pos, [grasp]]))\n",
        "\n",
        "    grasp_result = planner.plan_screw(\n",
        "        np.concatenate([cube_p_world, grasp_ori]),\n",
        "        robot.qpos.cpu().numpy()[0],\n",
        "        time_step=env.unwrapped.control_timestep,\n",
        "        use_attach=True,\n",
        "        wrt_world=True\n",
        "    )\n",
        "    for i, pos in enumerate(grasp_result[\"position\"]):\n",
        "        if i == len(grasp_result[\"position\"]) - 1:\n",
        "            grasp = -1\n",
        "        env.step(np.concatenate([pos, [grasp]]))\n",
        "    \n",
        "\n",
        "    ### your code goes above ###\n",
        "\n",
        "### evaluation code below ###\n",
        "successes = 0\n",
        "env = create_env()\n",
        "\n",
        "device = torch.device(\"cuda\")\n",
        "model = PoseEstimator()\n",
        "model.load_state_dict(torch.load(\"pose_estimator.pth\"))\n",
        "model.to(device)\n",
        "\n",
        "\n",
        "for i in tqdm(range(EPISODES)):\n",
        "    obs, _ = env.reset(seed=i)\n",
        "    goal_pos = obs[\"extra\"][\"goal_pos\"].cpu().numpy()[0]\n",
        "    pick_cube_mp_solution(env, obs, goal_pos, model)\n",
        "    success = env.get_info()[\"success\"].item()\n",
        "    successes += success\n",
        "env.reset()\n",
        "print(f\"Success rate: {successes/EPISODES}\")\n",
        "if successes/EPISODES < 0.8:\n",
        "    print(\"Success rate < 80%. You may need to tune your motion planner or train a better pose estimation model\")"
      ]
    },
    {
      "cell_type": "code",
      "execution_count": 5,
      "metadata": {
        "colab": {
          "base_uri": "https://localhost:8080/",
          "height": 661
        },
        "id": "E-C_qLoGYkm5",
        "outputId": "d58bce6b-03e0-49a0-ea5f-882710e58b44"
      },
      "outputs": [
        {
          "data": {
            "text/html": [
              "<video controls  width=\"640\" >\n",
              " <source src=\"data:None;base64,./pick_cube_mp/0.mp4\" type=\"None\">\n",
              " Your browser does not support the video tag.\n",
              " </video>"
            ],
            "text/plain": [
              "<IPython.core.display.Video object>"
            ]
          },
          "execution_count": 5,
          "metadata": {},
          "output_type": "execute_result"
        }
      ],
      "source": [
        "from IPython.display import Video\n",
        "Video(\"./pick_cube_mp/0.mp4\", embed=True, width=640) # Watch our replay"
      ]
    },
    {
      "cell_type": "markdown",
      "metadata": {
        "id": "hVLT7SonqoI_"
      },
      "source": [
        "# 2 Imitation Learning (7 pts)\n",
        "\n",
        "We will take our first dive into end-to-end neural net powered robotics models via imitation learning. Imitation learning is the process of learning the behavior exhibited in some dataset of demonstrations. Via ManiSkill we provide a ton of various demonstration data for different tasks. Your goal in this section is to use Behavior Cloning to imitate a simple [cube pushing task](https://maniskill.readthedocs.io/en/latest/tasks/table_top_gripper/index.html#pushcube-v1) with the `pd_joint_delta_pos` controller and solve it.\n",
        "\n",
        "First we will download our demonstration dataset and pre-process it to fill it up with state-based observation data and action labels. Then we will show some example code to load that data and inspect it."
      ]
    },
    {
      "cell_type": "code",
      "execution_count": null,
      "metadata": {
        "id": "RuqlG2sCrlxm"
      },
      "outputs": [],
      "source": [
        "!python -m mani_skill.utils.download_demo PushCube-v1\n",
        "!python -m mani_skill.trajectory.replay_trajectory \\\n",
        "  --traj-path ~/.maniskill/demos/PushCube-v1/motionplanning/trajectory.h5 \\\n",
        "  --use-first-env-state -c pd_joint_delta_pos -o state \\\n",
        "  --save-traj --num-envs 2 -b physx_cpu --count 100"
      ]
    },
    {
      "cell_type": "code",
      "execution_count": null,
      "metadata": {
        "colab": {
          "base_uri": "https://localhost:8080/"
        },
        "id": "JoU-aGBC8Lxy",
        "outputId": "55773571-150f-412b-f098-828c503c96f5"
      },
      "outputs": [
        {
          "name": "stdout",
          "output_type": "stream",
          "text": [
            "Trajectory key traj_0\n",
            "Trajectory data fields and shapes:\n",
            "- obs (72, 35)\n",
            "- actions (71, 8)\n",
            "- terminated (71,)\n",
            "- truncated (71,)\n",
            "- success (71,)\n"
          ]
        }
      ],
      "source": [
        "import h5py\n",
        "import json\n",
        "from mani_skill.utils.io_utils import load_json\n",
        "def load_h5_data(data):\n",
        "    out = dict()\n",
        "    for k in data.keys():\n",
        "        if isinstance(data[k], h5py.Dataset):\n",
        "            out[k] = data[k][:]\n",
        "        else:\n",
        "            out[k] = load_h5_data(data[k])\n",
        "    return out\n",
        "# load the dataset and metadata\n",
        "dataset_file = \"/root/.maniskill/demos/PushCube-v1/motionplanning/trajectory.state.pd_joint_delta_pos.physx_cpu.h5\" # change this if needed\n",
        "data = h5py.File(dataset_file, \"r\")\n",
        "json_path = dataset_file.replace(\".h5\", \".json\")\n",
        "json_data = load_json(json_path)\n",
        "# trajectories by default are labeled traj_i for i in 0 to ...\n",
        "for k in data.keys():\n",
        "    print(\"Trajectory key\", k)\n",
        "    # load h5 data to numpy with the load_h5_data function\n",
        "    trajectory = load_h5_data(data[k])\n",
        "    print(\"Trajectory data fields and shapes:\")\n",
        "    for k, v in trajectory.items():\n",
        "        if not isinstance(v, dict):\n",
        "            print(\"-\", k, v.shape)\n",
        "    break"
      ]
    },
    {
      "cell_type": "markdown",
      "metadata": {
        "id": "pT7VByhd9MAR"
      },
      "source": [
        "For imitation learning work/research, you typically want to ensure that the data collection environment is the same environment you evaluate your models on. All ManiSkill demonstrations will provide in the json metadata `json_data[\"env_info\"]` object which tells you how to reconstruct the exact environment the data was collected from. The code below does that for example. Note that it will automatically set the appropriate observation and control modes that match the data (e.g. the observation data has the same number of dimensions as the dataset)"
      ]
    },
    {
      "cell_type": "code",
      "execution_count": null,
      "metadata": {
        "id": "edDDL_eGAGHB"
      },
      "outputs": [],
      "source": [
        "import gymnasium as gym\n",
        "from mani_skill.vector.wrappers.gymnasium import ManiSkillVectorEnv\n",
        "from mani_skill.utils.wrappers.record import RecordEpisode\n",
        "from collections import defaultdict\n",
        "import torch\n",
        "def create_eval_envs(json_data, num_envs=16, max_episode_steps=100, video_path=None):\n",
        "    env_info = json_data[\"env_info\"]\n",
        "    env_id = env_info[\"env_id\"]\n",
        "    env_kwargs = env_info[\"env_kwargs\"]\n",
        "    if \"num_envs\" in env_kwargs: env_kwargs.pop(\"num_envs\")\n",
        "    if \"sim_backend\" in env_kwargs: env_kwargs.pop(\"sim_backend\")\n",
        "    num_eval_envs = num_envs\n",
        "    # the keen eye might notice that we are using the gpu sim backend instead\n",
        "    # of the physx_cpu backend despite our data being collected and replayed on the physx_cpu backend\n",
        "    # for some tasks and control modes this discrepancy is okay. This is done to make evals faster for the\n",
        "    # purpose of this assignment.\n",
        "    eval_envs = gym.make(env_id, num_envs=num_eval_envs, reconfiguration_freq=1, max_episode_steps=max_episode_steps, **env_kwargs)\n",
        "    if video_path is not None:\n",
        "        eval_envs = RecordEpisode(eval_envs, output_dir=video_path, save_trajectory=False, max_steps_per_video=max_episode_steps)\n",
        "    eval_envs = ManiSkillVectorEnv(eval_envs, ignore_terminations=True, record_metrics=True)\n",
        "    return eval_envs\n",
        "\n",
        "def eval_policy(eval_envs, actor, verbose=1):\n",
        "    # evaluation loop, which will record metrics for each episode\n",
        "    obs, _ = eval_envs.reset()\n",
        "    eval_metrics = defaultdict(list)\n",
        "    while True:\n",
        "        action = actor(obs)\n",
        "        obs, rew, terminated, truncated, info = eval_envs.step(action)\n",
        "        # note as there are no partial resets, truncated is True for all environments at the same time\n",
        "        if truncated.any():\n",
        "            for k, v in info[\"final_info\"][\"episode\"].items():\n",
        "                eval_metrics[k].append(v.float())\n",
        "            break\n",
        "    if verbose:\n",
        "        for k in eval_metrics.keys():\n",
        "            print(f\"{k}_mean: {torch.mean(torch.stack(eval_metrics[k])).item()}\")\n",
        "    return eval_metrics"
      ]
    },
    {
      "cell_type": "markdown",
      "metadata": {
        "id": "1inN3UEXseKF"
      },
      "source": [
        "## Problem 2.1: State based Behavior Cloning (5 pt)\n",
        "\n",
        "With the setup out of the way, we will now proceed to training a state-based policy via behavior cloning on the dataset.\n",
        "\n",
        "You will need to create a torch Dataset like before, but this time your modeling problem is to predict actions from observations. After creating the dataset you then need to train a small neural network (MLP based) for this problem.\n",
        "\n",
        "Note that the dataset contains per trajectory `N` actions and `N+1` observations. They are ordered such that action `i` is the action taken after observing observation `i`, and observation `i+1` is what is observed after taking that action.\n",
        "\n",
        "We provide some starter code below that you can fill in."
      ]
    },
    {
      "cell_type": "code",
      "execution_count": null,
      "metadata": {
        "id": "8mcTgQIa-v09"
      },
      "outputs": [],
      "source": [
        "### Create your dataset ###\n",
        "import mani_skill\n",
        "import gymnasium as gym\n",
        "import torch\n",
        "import matplotlib.pyplot as plt\n",
        "import numpy as np\n",
        "import torch\n",
        "from torch.utils.data import Dataset\n",
        "\n",
        "### your code goes below ###\n",
        "class TrajectoryDataset(Dataset):\n",
        "    def __init__(self, data, json_data):\n",
        "        # write code to save and store the data. You probably also want to save it to the cuda device\n",
        "        pass\n",
        "\n",
        "    def __len__(self):\n",
        "        pass\n",
        "\n",
        "    def __getitem__(self, idx):\n",
        "        # should return observation i and action i\n",
        "        pass\n",
        "\n",
        "### your code goes above ###\n",
        "\n",
        "dataset_file = \"/root/.maniskill/demos/PushCube-v1/motionplanning/trajectory.state.pd_joint_delta_pos.physx_cpu.h5\" # change this if needed\n",
        "data = h5py.File(dataset_file, \"r\")\n",
        "json_path = dataset_file.replace(\".h5\", \".json\")\n",
        "json_data = load_json(json_path)\n",
        "dataset = TrajectoryDataset(data, json_data)"
      ]
    },
    {
      "cell_type": "code",
      "execution_count": null,
      "metadata": {
        "colab": {
          "base_uri": "https://localhost:8080/"
        },
        "id": "yiHHlXTswP-O",
        "outputId": "330e490b-ab04-4d01-8141-84c7ed86eee3"
      },
      "outputs": [
        {
          "name": "stderr",
          "output_type": "stream",
          "text": [
            "\u001b[33;1m2025-05-04 07:47:35,723 - mani_skill  - WARNING - shader_dir argument will be deprecated after ManiSkill v3.0.0 official release. Please use sensor_configs/human_render_camera_configs to set shaders.\u001b[0m\n"
          ]
        }
      ],
      "source": [
        "### Create your model ###\n",
        "import torch\n",
        "import torch.nn as nn\n",
        "class Actor(nn.Module):\n",
        "    def __init__(self, sample_obs, sample_act):\n",
        "        super().__init__()\n",
        "        ### your code goes below ###\n",
        "        # use sample_obs and sample_act to determine the input and output shape of your model\n",
        "        # we recommend starting with a small basic MLP, and experimenting with different aspects of the architecture\n",
        "        pass\n",
        "        ### your code goes above ###\n",
        "    def forward(self, x):\n",
        "        ### your code goes below ###\n",
        "        pass\n",
        "        ### your code goes above ###\n",
        "\n",
        "### evaluation code ###\n",
        "device = torch.device(\"cuda\")\n",
        "eval_envs = create_eval_envs(json_data, num_envs=16)\n",
        "sample_obs, _ = eval_envs.reset()\n",
        "sample_act = eval_envs.action_space.sample()\n",
        "actor = Actor(sample_obs, sample_act).to(device)\n",
        "actions = actor(sample_obs)\n",
        "assert actions.shape[1] == 8 and actions.shape[0] > 0, \"actions should be batched and of shape (B, 8), 7 DOF joint position control + 1 DOF gripper\"\n",
        "eval_envs.close()\n",
        "### evaluation code ###"
      ]
    },
    {
      "cell_type": "code",
      "execution_count": null,
      "metadata": {
        "id": "0h6LKbtoAzgk"
      },
      "outputs": [],
      "source": [
        "### Train your model ###\n",
        "from torch.utils.data import DataLoader\n",
        "from tqdm.notebook import tqdm\n",
        "device = torch.device(\"cuda\")\n",
        "torch.manual_seed(0)\n",
        "np.random.seed(0)\n",
        "eval_envs = create_eval_envs(json_data, num_envs=16, max_episode_steps=100)\n",
        "sample_obs, _ = eval_envs.reset(seed=0)\n",
        "sample_act = eval_envs.action_space.sample()\n",
        "actor = Actor(sample_obs, sample_act).to(device)\n",
        "batch_size = 512\n",
        "dataloader = DataLoader(dataset, batch_size=batch_size, shuffle=True)\n",
        "\n",
        "### your code goes below ###\n",
        "# train your actor policy to predict the actions in the dataset. You can use MSE loss.\n",
        "# make sure to run the eval_policy function every once in a while to track training progress\n",
        "# and save your best policy checkpoint locally to be loaded later for evaluation.\n",
        "# A minimum 50% success_once_mean rate over 64 trials is required for full points.\n",
        "# if you are confident your solution is probably correct, sometimes a different seed can work. Only one seed needs to work for the assignment\n",
        "# training should not need to take more than 2-3 minutes on google colab.\n",
        "\n"
      ]
    },
    {
      "cell_type": "code",
      "execution_count": null,
      "metadata": {
        "id": "doIv0miqxfSr"
      },
      "outputs": [],
      "source": [
        "torch.manual_seed(0)\n",
        "np.random.seed(0)\n",
        "eval_envs = create_eval_envs(json_data, num_envs=16, max_episode_steps=100, video_path=\"pushcube_il_eval/\")\n",
        "sample_obs, _ = eval_envs.reset(seed=0)\n",
        "sample_act = eval_envs.action_space.sample()\n",
        "actor = Actor(sample_obs, sample_act).to(device)\n",
        "\n",
        "### load your best checkpoint below ###\n",
        "state_dict = torch.load(\"best_policy.ckpt\")\n",
        "actor.load_state_dict(state_dict)\n",
        "### load your best checkpoint above ###\n",
        "\n",
        "### evaluation code ###\n",
        "from tqdm.notebook import tqdm\n",
        "success_rate = []\n",
        "for _ in tqdm(range(4)):\n",
        "    eval_metrics = eval_policy(eval_envs, actor, verbose=0)\n",
        "    val = torch.mean(torch.stack(eval_metrics[\"success_once\"])).item()\n",
        "    success_rate.append(val)\n",
        "print(f\"Success rate: {np.mean(success_rate)}\")\n",
        "if np.mean(success_rate) < 0.5:\n",
        "    print(\"Success rate is less than 50%! You need to try and tune your training a bit more or pick a better policy\")\n",
        "eval_envs.close()\n",
        "from IPython.display import Video\n",
        "Video(\"./pushcube_il_eval/0.mp4\", embed=True, width=640) # Watch our replay\n",
        "### evaluation code ###"
      ]
    },
    {
      "cell_type": "markdown",
      "metadata": {
        "id": "_Sg7OtmmISVW"
      },
      "source": [
        "## Problem 2.2 (1 pt)\n",
        "\n",
        "In 2.1 we ask you to evaluate the policy in the environment itself. Briefly describe in 1-2 sentences why we can't simply use the loss function to determine policy performance below"
      ]
    },
    {
      "cell_type": "code",
      "execution_count": null,
      "metadata": {
        "id": "19xvx6xxKckp"
      },
      "outputs": [],
      "source": [
        "P2_2_ANSWER = \"\""
      ]
    },
    {
      "cell_type": "markdown",
      "metadata": {
        "id": "uJW9O1EPSD0x"
      },
      "source": [
        "## Problem 2.3 (1 pt)\n",
        "\n",
        "Compare and contrast sense-plan-act style methods as done in part 1 and assignment 1 compared to more end-to-end approaches like imitation learning in terms of how training differs. Is training one inherently more difficult than another? What are data requirements like?"
      ]
    },
    {
      "cell_type": "code",
      "execution_count": null,
      "metadata": {
        "id": "KZ1sFmOuYMWh"
      },
      "outputs": [],
      "source": [
        "P2_3_ANSWER = \"\""
      ]
    },
    {
      "cell_type": "markdown",
      "metadata": {
        "id": "VM_5qvTorzpU"
      },
      "source": [
        "## 2.4 Extra\n",
        "\n",
        "In the future assignments we will not go too deep into more advanced imitation learning methods like Diffusion Policy or training proper Vision Language Action models. We recommend checking out the imitation learning code/baselines in the [ManiSkill](https://github.com/haosulab/ManiSkill/) repository as well as trying out the [Hugging Face LeRobot](https://github.com/huggingface/lerobot) library which provides tools for real world imitation learning and reinforcement learning.\n",
        "\n"
      ]
    },
    {
      "cell_type": "markdown",
      "metadata": {
        "id": "wQD086TyGUJD"
      },
      "source": [
        "# 3 Submission\n",
        "\n",
        "If you are taking the CSE 276F course at UC San Diego, to submit your work please save this .ipynb file locally first. Then run the cells below which zips up some of your answers and generated evaluation images/videos for grading. Submit the .tar.gz file and your .ipynb file."
      ]
    },
    {
      "cell_type": "code",
      "execution_count": null,
      "metadata": {
        "id": "hdi66_UAGVR3"
      },
      "outputs": [],
      "source": [
        "work_data = {\n",
        "    \"p1_1\": P1_1_ANSWER,\n",
        "    \"p2_2\": P2_2_ANSWER,\n",
        "    \"p2_3\": P2_3_ANSWER\n",
        "}\n",
        "import json\n",
        "with open(\"answers.json\", 'w') as json_file:\n",
        "    json.dump(work_data, json_file, indent=2)"
      ]
    },
    {
      "cell_type": "code",
      "execution_count": null,
      "metadata": {
        "id": "F9JIduHeG3Qu"
      },
      "outputs": [],
      "source": [
        "!mkdir -p hw_files/p1.3 2> /dev/null\n",
        "!mkdir -p hw_files/p2.1 2> /dev/null\n",
        "!cp answers.json hw_files/\n",
        "!cp pick_cube_mp/*.mp4 hw_files/p1.3\n",
        "!cp pushcube_il_eval/*.mp4 hw_files/p2.1\n",
        "!tar -czvf hw_files.tar.gz hw_files > /dev/null"
      ]
    }
  ],
  "metadata": {
    "accelerator": "GPU",
    "colab": {
      "gpuType": "T4",
      "provenance": [],
      "toc_visible": true
    },
    "kernelspec": {
      "display_name": "robolearning",
      "language": "python",
      "name": "python3"
    },
    "language_info": {
      "codemirror_mode": {
        "name": "ipython",
        "version": 3
      },
      "file_extension": ".py",
      "mimetype": "text/x-python",
      "name": "python",
      "nbconvert_exporter": "python",
      "pygments_lexer": "ipython3",
      "version": "3.10.16"
    }
  },
  "nbformat": 4,
  "nbformat_minor": 0
}
