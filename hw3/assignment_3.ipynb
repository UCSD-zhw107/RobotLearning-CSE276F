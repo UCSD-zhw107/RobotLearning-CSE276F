{
  "cells": [
    {
      "cell_type": "markdown",
      "metadata": {
        "id": "gv0tdboodQ_k"
      },
      "source": [
        "# Welcome to CSE 276F, Assignment 3\n",
        "\n",
        "In assignment 3, we will be exploring Reinforcement Learning. RL provides a general method for learning policies from reward functions. This assignment will start with some basic RL beginning with making a simple grid environemnt followed by solving it with Deep Q Networks (DQN). We will dive deeper into RL for robotics with algorithms like PPO/SAC in the next assignment"
      ]
    },
    {
      "cell_type": "markdown",
      "metadata": {
        "id": "1e7efd84-68d0-4453-a400-b3891b8eadec"
      },
      "source": [
        "## Setup Code / Packages\n",
        "\n",
        "If you are running code locally follow the installation instructions for ManiSkill here: https://maniskill.readthedocs.io/en/latest/user_guide/getting_started/installation.html. You will need a CUDA-enabled GPU on a Linux machine for assignments. Windows/Mac have more limited support but are useful if that is the local machine you have access to for local debugging. When building custom environments you can then use a GUI to explore environments which helps the development process.\n",
        "\n",
        "If you are using UCSD Datahub you don't need to do any additional installation steps. You only need to run `pip install --upgrade mani_skill-nightly`\n",
        "\n",
        "If you are using Google Colab make sure to run the two cells below to install all dependencies.\n",
        "\n",
        "If you see an error such as\n",
        "\n",
        "`ValueError: numpy.dtype size changed, may indicate binary incompatibility. Expected 96 from C header, got 88 from PyObject`\n",
        "\n",
        "simply restart the notebook after running the installation commands."
      ]
    },
    {
      "cell_type": "code",
      "execution_count": null,
      "metadata": {
        "colab": {
          "base_uri": "https://localhost:8080/"
        },
        "id": "WuZHYS95gBQ2",
        "outputId": "26e9ebef-fc82-441f-a5cb-1996c7040862"
      },
      "outputs": [
        {
          "name": "stdout",
          "output_type": "stream",
          "text": [
            "Reading package lists... Done\n",
            "Building dependency tree... Done\n",
            "Reading state information... Done\n",
            "The following additional packages will be installed:\n",
            "  libvulkan1\n",
            "Recommended packages:\n",
            "  mesa-vulkan-drivers | vulkan-icd\n",
            "The following NEW packages will be installed:\n",
            "  libvulkan-dev libvulkan1\n",
            "0 upgraded, 2 newly installed, 0 to remove and 34 not upgraded.\n",
            "Need to get 1,020 kB of archives.\n",
            "After this operation, 17.2 MB of additional disk space will be used.\n",
            "Get:1 http://archive.ubuntu.com/ubuntu jammy/main amd64 libvulkan1 amd64 1.3.204.1-2 [128 kB]\n",
            "Get:2 http://archive.ubuntu.com/ubuntu jammy/main amd64 libvulkan-dev amd64 1.3.204.1-2 [892 kB]\n",
            "Fetched 1,020 kB in 2s (568 kB/s)\n",
            "Selecting previously unselected package libvulkan1:amd64.\n",
            "(Reading database ... 126102 files and directories currently installed.)\n",
            "Preparing to unpack .../libvulkan1_1.3.204.1-2_amd64.deb ...\n",
            "Unpacking libvulkan1:amd64 (1.3.204.1-2) ...\n",
            "Selecting previously unselected package libvulkan-dev:amd64.\n",
            "Preparing to unpack .../libvulkan-dev_1.3.204.1-2_amd64.deb ...\n",
            "Unpacking libvulkan-dev:amd64 (1.3.204.1-2) ...\n",
            "Setting up libvulkan1:amd64 (1.3.204.1-2) ...\n",
            "Setting up libvulkan-dev:amd64 (1.3.204.1-2) ...\n",
            "Processing triggers for libc-bin (2.35-0ubuntu3.8) ...\n",
            "/sbin/ldconfig.real: /usr/local/lib/libtbbmalloc.so.2 is not a symbolic link\n",
            "\n",
            "/sbin/ldconfig.real: /usr/local/lib/libtcm.so.1 is not a symbolic link\n",
            "\n",
            "/sbin/ldconfig.real: /usr/local/lib/libur_loader.so.0 is not a symbolic link\n",
            "\n",
            "/sbin/ldconfig.real: /usr/local/lib/libtbbbind_2_5.so.3 is not a symbolic link\n",
            "\n",
            "/sbin/ldconfig.real: /usr/local/lib/libumf.so.0 is not a symbolic link\n",
            "\n",
            "/sbin/ldconfig.real: /usr/local/lib/libtbbmalloc_proxy.so.2 is not a symbolic link\n",
            "\n",
            "/sbin/ldconfig.real: /usr/local/lib/libtbbbind_2_0.so.3 is not a symbolic link\n",
            "\n",
            "/sbin/ldconfig.real: /usr/local/lib/libhwloc.so.15 is not a symbolic link\n",
            "\n",
            "/sbin/ldconfig.real: /usr/local/lib/libur_adapter_level_zero.so.0 is not a symbolic link\n",
            "\n",
            "/sbin/ldconfig.real: /usr/local/lib/libtbb.so.12 is not a symbolic link\n",
            "\n",
            "/sbin/ldconfig.real: /usr/local/lib/libtbbbind.so.3 is not a symbolic link\n",
            "\n",
            "/sbin/ldconfig.real: /usr/local/lib/libur_adapter_opencl.so.0 is not a symbolic link\n",
            "\n",
            "/sbin/ldconfig.real: /usr/local/lib/libtcm_debug.so.1 is not a symbolic link\n",
            "\n",
            "Collecting mani_skill-nightly\n",
            "  Downloading mani_skill_nightly-2025.5.22.816-py3-none-any.whl.metadata (9.4 kB)\n",
            "Collecting numpy<2.0.0,>=1.22 (from mani_skill-nightly)\n",
            "  Downloading numpy-1.26.4-cp311-cp311-manylinux_2_17_x86_64.manylinux2014_x86_64.whl.metadata (61 kB)\n",
            "\u001b[2K     \u001b[90m━━━━━━━━━━━━━━━━━━━━━━━━━━━━━━━━━━━━━━━━\u001b[0m \u001b[32m61.0/61.0 kB\u001b[0m \u001b[31m6.3 MB/s\u001b[0m eta \u001b[36m0:00:00\u001b[0m\n",
            "\u001b[?25hRequirement already satisfied: scipy in /usr/local/lib/python3.11/dist-packages (from mani_skill-nightly) (1.15.3)\n",
            "Collecting dacite (from mani_skill-nightly)\n",
            "  Downloading dacite-1.9.2-py3-none-any.whl.metadata (17 kB)\n",
            "Collecting gymnasium==0.29.1 (from mani_skill-nightly)\n",
            "  Downloading gymnasium-0.29.1-py3-none-any.whl.metadata (10 kB)\n",
            "Requirement already satisfied: h5py in /usr/local/lib/python3.11/dist-packages (from mani_skill-nightly) (3.13.0)\n",
            "Requirement already satisfied: pyyaml in /usr/local/lib/python3.11/dist-packages (from mani_skill-nightly) (6.0.2)\n",
            "Requirement already satisfied: tqdm in /usr/local/lib/python3.11/dist-packages (from mani_skill-nightly) (4.67.1)\n",
            "Requirement already satisfied: GitPython in /usr/local/lib/python3.11/dist-packages (from mani_skill-nightly) (3.1.44)\n",
            "Requirement already satisfied: tabulate in /usr/local/lib/python3.11/dist-packages (from mani_skill-nightly) (0.9.0)\n",
            "Collecting transforms3d (from mani_skill-nightly)\n",
            "  Downloading transforms3d-0.4.2-py3-none-any.whl.metadata (2.8 kB)\n",
            "Collecting trimesh (from mani_skill-nightly)\n",
            "  Downloading trimesh-4.6.10-py3-none-any.whl.metadata (18 kB)\n",
            "Requirement already satisfied: imageio in /usr/local/lib/python3.11/dist-packages (from mani_skill-nightly) (2.37.0)\n",
            "Requirement already satisfied: IPython in /usr/local/lib/python3.11/dist-packages (from mani_skill-nightly) (7.34.0)\n",
            "Collecting pytorch-kinematics==0.7.5 (from mani_skill-nightly)\n",
            "  Downloading pytorch_kinematics-0.7.5-py3-none-any.whl.metadata (15 kB)\n",
            "Requirement already satisfied: pynvml in /usr/local/lib/python3.11/dist-packages (from mani_skill-nightly) (12.0.0)\n",
            "Collecting tyro>=0.8.5 (from mani_skill-nightly)\n",
            "  Downloading tyro-0.9.21-py3-none-any.whl.metadata (10 kB)\n",
            "Requirement already satisfied: huggingface-hub in /usr/local/lib/python3.11/dist-packages (from mani_skill-nightly) (0.31.2)\n",
            "Collecting mplib==0.1.1 (from mani_skill-nightly)\n",
            "  Downloading mplib-0.1.1-cp311-cp311-manylinux_2_17_x86_64.manylinux2014_x86_64.whl.metadata (3.7 kB)\n",
            "Collecting fast-kinematics==0.2.2 (from mani_skill-nightly)\n",
            "  Downloading fast_kinematics-0.2.2-cp311-cp311-manylinux_2_17_x86_64.manylinux2014_x86_64.whl.metadata (3.3 kB)\n",
            "Collecting sapien>=3.0.0.b1 (from mani_skill-nightly)\n",
            "  Downloading sapien-3.0.0b1-cp311-cp311-manylinux2014_x86_64.whl.metadata (10 kB)\n",
            "Requirement already satisfied: cloudpickle>=1.2.0 in /usr/local/lib/python3.11/dist-packages (from gymnasium==0.29.1->mani_skill-nightly) (3.1.1)\n",
            "Requirement already satisfied: typing-extensions>=4.3.0 in /usr/local/lib/python3.11/dist-packages (from gymnasium==0.29.1->mani_skill-nightly) (4.13.2)\n",
            "Requirement already satisfied: farama-notifications>=0.0.1 in /usr/local/lib/python3.11/dist-packages (from gymnasium==0.29.1->mani_skill-nightly) (0.0.4)\n",
            "Collecting toppra>=0.4.0 (from mplib==0.1.1->mani_skill-nightly)\n",
            "  Downloading toppra-0.6.3.tar.gz (256 kB)\n",
            "\u001b[2K     \u001b[90m━━━━━━━━━━━━━━━━━━━━━━━━━━━━━━━━━━━━━━\u001b[0m \u001b[32m256.1/256.1 kB\u001b[0m \u001b[31m28.1 MB/s\u001b[0m eta \u001b[36m0:00:00\u001b[0m\n",
            "\u001b[?25h  Installing build dependencies ... \u001b[?25l\u001b[?25hdone\n",
            "  Getting requirements to build wheel ... \u001b[?25l\u001b[?25hdone\n",
            "  Preparing metadata (pyproject.toml) ... \u001b[?25l\u001b[?25hdone\n",
            "Requirement already satisfied: absl-py in /usr/local/lib/python3.11/dist-packages (from pytorch-kinematics==0.7.5->mani_skill-nightly) (1.4.0)\n",
            "Requirement already satisfied: lxml in /usr/local/lib/python3.11/dist-packages (from pytorch-kinematics==0.7.5->mani_skill-nightly) (5.4.0)\n",
            "Requirement already satisfied: torch in /usr/local/lib/python3.11/dist-packages (from pytorch-kinematics==0.7.5->mani_skill-nightly) (2.6.0+cu124)\n",
            "Requirement already satisfied: matplotlib in /usr/local/lib/python3.11/dist-packages (from pytorch-kinematics==0.7.5->mani_skill-nightly) (3.10.0)\n",
            "Collecting pytorch-seed (from pytorch-kinematics==0.7.5->mani_skill-nightly)\n",
            "  Downloading pytorch_seed-0.2.0-py3-none-any.whl.metadata (3.8 kB)\n",
            "Collecting arm-pytorch-utilities (from pytorch-kinematics==0.7.5->mani_skill-nightly)\n",
            "  Downloading arm_pytorch_utilities-0.4.3-py3-none-any.whl.metadata (2.6 kB)\n",
            "Requirement already satisfied: requests>=2.22 in /usr/local/lib/python3.11/dist-packages (from sapien>=3.0.0.b1->mani_skill-nightly) (2.32.3)\n",
            "Requirement already satisfied: networkx in /usr/local/lib/python3.11/dist-packages (from sapien>=3.0.0.b1->mani_skill-nightly) (3.4.2)\n",
            "Requirement already satisfied: pyperclip in /usr/local/lib/python3.11/dist-packages (from sapien>=3.0.0.b1->mani_skill-nightly) (1.9.0)\n",
            "Requirement already satisfied: opencv-python>=4.0 in /usr/local/lib/python3.11/dist-packages (from sapien>=3.0.0.b1->mani_skill-nightly) (4.11.0.86)\n",
            "Requirement already satisfied: docstring-parser>=0.15 in /usr/local/lib/python3.11/dist-packages (from tyro>=0.8.5->mani_skill-nightly) (0.16)\n",
            "Requirement already satisfied: rich>=11.1.0 in /usr/local/lib/python3.11/dist-packages (from tyro>=0.8.5->mani_skill-nightly) (13.9.4)\n",
            "Collecting shtab>=1.5.6 (from tyro>=0.8.5->mani_skill-nightly)\n",
            "  Downloading shtab-1.7.2-py3-none-any.whl.metadata (7.4 kB)\n",
            "Requirement already satisfied: typeguard>=4.0.0 in /usr/local/lib/python3.11/dist-packages (from tyro>=0.8.5->mani_skill-nightly) (4.4.2)\n",
            "Requirement already satisfied: gitdb<5,>=4.0.1 in /usr/local/lib/python3.11/dist-packages (from GitPython->mani_skill-nightly) (4.0.12)\n",
            "Requirement already satisfied: filelock in /usr/local/lib/python3.11/dist-packages (from huggingface-hub->mani_skill-nightly) (3.18.0)\n",
            "Requirement already satisfied: fsspec>=2023.5.0 in /usr/local/lib/python3.11/dist-packages (from huggingface-hub->mani_skill-nightly) (2025.3.2)\n",
            "Requirement already satisfied: packaging>=20.9 in /usr/local/lib/python3.11/dist-packages (from huggingface-hub->mani_skill-nightly) (24.2)\n",
            "Requirement already satisfied: pillow>=8.3.2 in /usr/local/lib/python3.11/dist-packages (from imageio->mani_skill-nightly) (11.2.1)\n",
            "Requirement already satisfied: imageio-ffmpeg in /usr/local/lib/python3.11/dist-packages (from imageio[ffmpeg]->mani_skill-nightly) (0.6.0)\n",
            "Requirement already satisfied: psutil in /usr/local/lib/python3.11/dist-packages (from imageio[ffmpeg]->mani_skill-nightly) (5.9.5)\n",
            "Requirement already satisfied: setuptools>=18.5 in /usr/local/lib/python3.11/dist-packages (from IPython->mani_skill-nightly) (75.2.0)\n",
            "Collecting jedi>=0.16 (from IPython->mani_skill-nightly)\n",
            "  Downloading jedi-0.19.2-py2.py3-none-any.whl.metadata (22 kB)\n",
            "Requirement already satisfied: decorator in /usr/local/lib/python3.11/dist-packages (from IPython->mani_skill-nightly) (4.4.2)\n",
            "Requirement already satisfied: pickleshare in /usr/local/lib/python3.11/dist-packages (from IPython->mani_skill-nightly) (0.7.5)\n",
            "Requirement already satisfied: traitlets>=4.2 in /usr/local/lib/python3.11/dist-packages (from IPython->mani_skill-nightly) (5.7.1)\n",
            "Requirement already satisfied: prompt-toolkit!=3.0.0,!=3.0.1,<3.1.0,>=2.0.0 in /usr/local/lib/python3.11/dist-packages (from IPython->mani_skill-nightly) (3.0.51)\n",
            "Requirement already satisfied: pygments in /usr/local/lib/python3.11/dist-packages (from IPython->mani_skill-nightly) (2.19.1)\n",
            "Requirement already satisfied: backcall in /usr/local/lib/python3.11/dist-packages (from IPython->mani_skill-nightly) (0.2.0)\n",
            "Requirement already satisfied: matplotlib-inline in /usr/local/lib/python3.11/dist-packages (from IPython->mani_skill-nightly) (0.1.7)\n",
            "Requirement already satisfied: pexpect>4.3 in /usr/local/lib/python3.11/dist-packages (from IPython->mani_skill-nightly) (4.9.0)\n",
            "Requirement already satisfied: nvidia-ml-py<13.0.0a0,>=12.0.0 in /usr/local/lib/python3.11/dist-packages (from pynvml->mani_skill-nightly) (12.575.51)\n",
            "Requirement already satisfied: smmap<6,>=3.0.1 in /usr/local/lib/python3.11/dist-packages (from gitdb<5,>=4.0.1->GitPython->mani_skill-nightly) (5.0.2)\n",
            "Requirement already satisfied: parso<0.9.0,>=0.8.4 in /usr/local/lib/python3.11/dist-packages (from jedi>=0.16->IPython->mani_skill-nightly) (0.8.4)\n",
            "Requirement already satisfied: ptyprocess>=0.5 in /usr/local/lib/python3.11/dist-packages (from pexpect>4.3->IPython->mani_skill-nightly) (0.7.0)\n",
            "Requirement already satisfied: wcwidth in /usr/local/lib/python3.11/dist-packages (from prompt-toolkit!=3.0.0,!=3.0.1,<3.1.0,>=2.0.0->IPython->mani_skill-nightly) (0.2.13)\n",
            "Requirement already satisfied: charset-normalizer<4,>=2 in /usr/local/lib/python3.11/dist-packages (from requests>=2.22->sapien>=3.0.0.b1->mani_skill-nightly) (3.4.2)\n",
            "Requirement already satisfied: idna<4,>=2.5 in /usr/local/lib/python3.11/dist-packages (from requests>=2.22->sapien>=3.0.0.b1->mani_skill-nightly) (3.10)\n",
            "Requirement already satisfied: urllib3<3,>=1.21.1 in /usr/local/lib/python3.11/dist-packages (from requests>=2.22->sapien>=3.0.0.b1->mani_skill-nightly) (2.4.0)\n",
            "Requirement already satisfied: certifi>=2017.4.17 in /usr/local/lib/python3.11/dist-packages (from requests>=2.22->sapien>=3.0.0.b1->mani_skill-nightly) (2025.4.26)\n",
            "Requirement already satisfied: markdown-it-py>=2.2.0 in /usr/local/lib/python3.11/dist-packages (from rich>=11.1.0->tyro>=0.8.5->mani_skill-nightly) (3.0.0)\n",
            "Requirement already satisfied: contourpy>=1.0.1 in /usr/local/lib/python3.11/dist-packages (from matplotlib->pytorch-kinematics==0.7.5->mani_skill-nightly) (1.3.2)\n",
            "Requirement already satisfied: cycler>=0.10 in /usr/local/lib/python3.11/dist-packages (from matplotlib->pytorch-kinematics==0.7.5->mani_skill-nightly) (0.12.1)\n",
            "Requirement already satisfied: fonttools>=4.22.0 in /usr/local/lib/python3.11/dist-packages (from matplotlib->pytorch-kinematics==0.7.5->mani_skill-nightly) (4.58.0)\n",
            "Requirement already satisfied: kiwisolver>=1.3.1 in /usr/local/lib/python3.11/dist-packages (from matplotlib->pytorch-kinematics==0.7.5->mani_skill-nightly) (1.4.8)\n",
            "Requirement already satisfied: pyparsing>=2.3.1 in /usr/local/lib/python3.11/dist-packages (from matplotlib->pytorch-kinematics==0.7.5->mani_skill-nightly) (3.2.3)\n",
            "Requirement already satisfied: python-dateutil>=2.7 in /usr/local/lib/python3.11/dist-packages (from matplotlib->pytorch-kinematics==0.7.5->mani_skill-nightly) (2.9.0.post0)\n",
            "Requirement already satisfied: jinja2 in /usr/local/lib/python3.11/dist-packages (from torch->pytorch-kinematics==0.7.5->mani_skill-nightly) (3.1.6)\n",
            "Collecting nvidia-cuda-nvrtc-cu12==12.4.127 (from torch->pytorch-kinematics==0.7.5->mani_skill-nightly)\n",
            "  Downloading nvidia_cuda_nvrtc_cu12-12.4.127-py3-none-manylinux2014_x86_64.whl.metadata (1.5 kB)\n",
            "Collecting nvidia-cuda-runtime-cu12==12.4.127 (from torch->pytorch-kinematics==0.7.5->mani_skill-nightly)\n",
            "  Downloading nvidia_cuda_runtime_cu12-12.4.127-py3-none-manylinux2014_x86_64.whl.metadata (1.5 kB)\n",
            "Collecting nvidia-cuda-cupti-cu12==12.4.127 (from torch->pytorch-kinematics==0.7.5->mani_skill-nightly)\n",
            "  Downloading nvidia_cuda_cupti_cu12-12.4.127-py3-none-manylinux2014_x86_64.whl.metadata (1.6 kB)\n",
            "Collecting nvidia-cudnn-cu12==9.1.0.70 (from torch->pytorch-kinematics==0.7.5->mani_skill-nightly)\n",
            "  Downloading nvidia_cudnn_cu12-9.1.0.70-py3-none-manylinux2014_x86_64.whl.metadata (1.6 kB)\n",
            "Collecting nvidia-cublas-cu12==12.4.5.8 (from torch->pytorch-kinematics==0.7.5->mani_skill-nightly)\n",
            "  Downloading nvidia_cublas_cu12-12.4.5.8-py3-none-manylinux2014_x86_64.whl.metadata (1.5 kB)\n",
            "Collecting nvidia-cufft-cu12==11.2.1.3 (from torch->pytorch-kinematics==0.7.5->mani_skill-nightly)\n",
            "  Downloading nvidia_cufft_cu12-11.2.1.3-py3-none-manylinux2014_x86_64.whl.metadata (1.5 kB)\n",
            "Collecting nvidia-curand-cu12==10.3.5.147 (from torch->pytorch-kinematics==0.7.5->mani_skill-nightly)\n",
            "  Downloading nvidia_curand_cu12-10.3.5.147-py3-none-manylinux2014_x86_64.whl.metadata (1.5 kB)\n",
            "Collecting nvidia-cusolver-cu12==11.6.1.9 (from torch->pytorch-kinematics==0.7.5->mani_skill-nightly)\n",
            "  Downloading nvidia_cusolver_cu12-11.6.1.9-py3-none-manylinux2014_x86_64.whl.metadata (1.6 kB)\n",
            "Collecting nvidia-cusparse-cu12==12.3.1.170 (from torch->pytorch-kinematics==0.7.5->mani_skill-nightly)\n",
            "  Downloading nvidia_cusparse_cu12-12.3.1.170-py3-none-manylinux2014_x86_64.whl.metadata (1.6 kB)\n",
            "Requirement already satisfied: nvidia-cusparselt-cu12==0.6.2 in /usr/local/lib/python3.11/dist-packages (from torch->pytorch-kinematics==0.7.5->mani_skill-nightly) (0.6.2)\n",
            "Requirement already satisfied: nvidia-nccl-cu12==2.21.5 in /usr/local/lib/python3.11/dist-packages (from torch->pytorch-kinematics==0.7.5->mani_skill-nightly) (2.21.5)\n",
            "Requirement already satisfied: nvidia-nvtx-cu12==12.4.127 in /usr/local/lib/python3.11/dist-packages (from torch->pytorch-kinematics==0.7.5->mani_skill-nightly) (12.4.127)\n",
            "Collecting nvidia-nvjitlink-cu12==12.4.127 (from torch->pytorch-kinematics==0.7.5->mani_skill-nightly)\n",
            "  Downloading nvidia_nvjitlink_cu12-12.4.127-py3-none-manylinux2014_x86_64.whl.metadata (1.5 kB)\n",
            "Requirement already satisfied: triton==3.2.0 in /usr/local/lib/python3.11/dist-packages (from torch->pytorch-kinematics==0.7.5->mani_skill-nightly) (3.2.0)\n",
            "Requirement already satisfied: sympy==1.13.1 in /usr/local/lib/python3.11/dist-packages (from torch->pytorch-kinematics==0.7.5->mani_skill-nightly) (1.13.1)\n",
            "Requirement already satisfied: mpmath<1.4,>=1.1.0 in /usr/local/lib/python3.11/dist-packages (from sympy==1.13.1->torch->pytorch-kinematics==0.7.5->mani_skill-nightly) (1.3.0)\n",
            "Requirement already satisfied: mdurl~=0.1 in /usr/local/lib/python3.11/dist-packages (from markdown-it-py>=2.2.0->rich>=11.1.0->tyro>=0.8.5->mani_skill-nightly) (0.1.2)\n",
            "Requirement already satisfied: six>=1.5 in /usr/local/lib/python3.11/dist-packages (from python-dateutil>=2.7->matplotlib->pytorch-kinematics==0.7.5->mani_skill-nightly) (1.17.0)\n",
            "Requirement already satisfied: MarkupSafe>=2.0 in /usr/local/lib/python3.11/dist-packages (from jinja2->torch->pytorch-kinematics==0.7.5->mani_skill-nightly) (3.0.2)\n",
            "Downloading mani_skill_nightly-2025.5.22.816-py3-none-any.whl (101.7 MB)\n",
            "\u001b[2K   \u001b[90m━━━━━━━━━━━━━━━━━━━━━━━━━━━━━━━━━━━━━━━━\u001b[0m \u001b[32m101.7/101.7 MB\u001b[0m \u001b[31m8.2 MB/s\u001b[0m eta \u001b[36m0:00:00\u001b[0m\n",
            "\u001b[?25hDownloading fast_kinematics-0.2.2-cp311-cp311-manylinux_2_17_x86_64.manylinux2014_x86_64.whl (624 kB)\n",
            "\u001b[2K   \u001b[90m━━━━━━━━━━━━━━━━━━━━━━━━━━━━━━━━━━━━━━━━\u001b[0m \u001b[32m624.7/624.7 kB\u001b[0m \u001b[31m48.1 MB/s\u001b[0m eta \u001b[36m0:00:00\u001b[0m\n",
            "\u001b[?25hDownloading gymnasium-0.29.1-py3-none-any.whl (953 kB)\n",
            "\u001b[2K   \u001b[90m━━━━━━━━━━━━━━━━━━━━━━━━━━━━━━━━━━━━━━━━\u001b[0m \u001b[32m953.9/953.9 kB\u001b[0m \u001b[31m60.0 MB/s\u001b[0m eta \u001b[36m0:00:00\u001b[0m\n",
            "\u001b[?25hDownloading mplib-0.1.1-cp311-cp311-manylinux_2_17_x86_64.manylinux2014_x86_64.whl (12.1 MB)\n",
            "\u001b[2K   \u001b[90m━━━━━━━━━━━━━━━━━━━━━━━━━━━━━━━━━━━━━━━━\u001b[0m \u001b[32m12.1/12.1 MB\u001b[0m \u001b[31m29.3 MB/s\u001b[0m eta \u001b[36m0:00:00\u001b[0m\n",
            "\u001b[?25hDownloading pytorch_kinematics-0.7.5-py3-none-any.whl (60 kB)\n",
            "\u001b[2K   \u001b[90m━━━━━━━━━━━━━━━━━━━━━━━━━━━━━━━━━━━━━━━━\u001b[0m \u001b[32m60.0/60.0 kB\u001b[0m \u001b[31m6.8 MB/s\u001b[0m eta \u001b[36m0:00:00\u001b[0m\n",
            "\u001b[?25hDownloading numpy-1.26.4-cp311-cp311-manylinux_2_17_x86_64.manylinux2014_x86_64.whl (18.3 MB)\n",
            "\u001b[2K   \u001b[90m━━━━━━━━━━━━━━━━━━━━━━━━━━━━━━━━━━━━━━━━\u001b[0m \u001b[32m18.3/18.3 MB\u001b[0m \u001b[31m87.5 MB/s\u001b[0m eta \u001b[36m0:00:00\u001b[0m\n",
            "\u001b[?25hDownloading sapien-3.0.0b1-cp311-cp311-manylinux2014_x86_64.whl (49.6 MB)\n",
            "\u001b[2K   \u001b[90m━━━━━━━━━━━━━━━━━━━━━━━━━━━━━━━━━━━━━━━━\u001b[0m \u001b[32m49.6/49.6 MB\u001b[0m \u001b[31m10.8 MB/s\u001b[0m eta \u001b[36m0:00:00\u001b[0m\n",
            "\u001b[?25hDownloading transforms3d-0.4.2-py3-none-any.whl (1.4 MB)\n",
            "\u001b[2K   \u001b[90m━━━━━━━━━━━━━━━━━━━━━━━━━━━━━━━━━━━━━━━━\u001b[0m \u001b[32m1.4/1.4 MB\u001b[0m \u001b[31m70.5 MB/s\u001b[0m eta \u001b[36m0:00:00\u001b[0m\n",
            "\u001b[?25hDownloading tyro-0.9.21-py3-none-any.whl (125 kB)\n",
            "\u001b[2K   \u001b[90m━━━━━━━━━━━━━━━━━━━━━━━━━━━━━━━━━━━━━━━━\u001b[0m \u001b[32m125.3/125.3 kB\u001b[0m \u001b[31m15.9 MB/s\u001b[0m eta \u001b[36m0:00:00\u001b[0m\n",
            "\u001b[?25hDownloading dacite-1.9.2-py3-none-any.whl (16 kB)\n",
            "Downloading trimesh-4.6.10-py3-none-any.whl (711 kB)\n",
            "\u001b[2K   \u001b[90m━━━━━━━━━━━━━━━━━━━━━━━━━━━━━━━━━━━━━━━━\u001b[0m \u001b[32m711.2/711.2 kB\u001b[0m \u001b[31m59.7 MB/s\u001b[0m eta \u001b[36m0:00:00\u001b[0m\n",
            "\u001b[?25hDownloading jedi-0.19.2-py2.py3-none-any.whl (1.6 MB)\n",
            "\u001b[2K   \u001b[90m━━━━━━━━━━━━━━━━━━━━━━━━━━━━━━━━━━━━━━━━\u001b[0m \u001b[32m1.6/1.6 MB\u001b[0m \u001b[31m87.5 MB/s\u001b[0m eta \u001b[36m0:00:00\u001b[0m\n",
            "\u001b[?25hDownloading shtab-1.7.2-py3-none-any.whl (14 kB)\n",
            "Downloading arm_pytorch_utilities-0.4.3-py3-none-any.whl (40 kB)\n",
            "\u001b[2K   \u001b[90m━━━━━━━━━━━━━━━━━━━━━━━━━━━━━━━━━━━━━━━━\u001b[0m \u001b[32m41.0/41.0 kB\u001b[0m \u001b[31m4.0 MB/s\u001b[0m eta \u001b[36m0:00:00\u001b[0m\n",
            "\u001b[?25hDownloading pytorch_seed-0.2.0-py3-none-any.whl (4.2 kB)\n",
            "Downloading nvidia_cublas_cu12-12.4.5.8-py3-none-manylinux2014_x86_64.whl (363.4 MB)\n",
            "\u001b[2K   \u001b[90m━━━━━━━━━━━━━━━━━━━━━━━━━━━━━━━━━━━━━━━━\u001b[0m \u001b[32m363.4/363.4 MB\u001b[0m \u001b[31m3.8 MB/s\u001b[0m eta \u001b[36m0:00:00\u001b[0m\n",
            "\u001b[?25hDownloading nvidia_cuda_cupti_cu12-12.4.127-py3-none-manylinux2014_x86_64.whl (13.8 MB)\n",
            "\u001b[2K   \u001b[90m━━━━━━━━━━━━━━━━━━━━━━━━━━━━━━━━━━━━━━━━\u001b[0m \u001b[32m13.8/13.8 MB\u001b[0m \u001b[31m108.0 MB/s\u001b[0m eta \u001b[36m0:00:00\u001b[0m\n",
            "\u001b[?25hDownloading nvidia_cuda_nvrtc_cu12-12.4.127-py3-none-manylinux2014_x86_64.whl (24.6 MB)\n",
            "\u001b[2K   \u001b[90m━━━━━━━━━━━━━━━━━━━━━━━━━━━━━━━━━━━━━━━━\u001b[0m \u001b[32m24.6/24.6 MB\u001b[0m \u001b[31m80.7 MB/s\u001b[0m eta \u001b[36m0:00:00\u001b[0m\n",
            "\u001b[?25hDownloading nvidia_cuda_runtime_cu12-12.4.127-py3-none-manylinux2014_x86_64.whl (883 kB)\n",
            "\u001b[2K   \u001b[90m━━━━━━━━━━━━━━━━━━━━━━━━━━━━━━━━━━━━━━━━\u001b[0m \u001b[32m883.7/883.7 kB\u001b[0m \u001b[31m63.6 MB/s\u001b[0m eta \u001b[36m0:00:00\u001b[0m\n",
            "\u001b[?25hDownloading nvidia_cudnn_cu12-9.1.0.70-py3-none-manylinux2014_x86_64.whl (664.8 MB)\n",
            "\u001b[2K   \u001b[90m━━━━━━━━━━━━━━━━━━━━━━━━━━━━━━━━━━━━━━━━\u001b[0m \u001b[32m664.8/664.8 MB\u001b[0m \u001b[31m2.3 MB/s\u001b[0m eta \u001b[36m0:00:00\u001b[0m\n",
            "\u001b[?25hDownloading nvidia_cufft_cu12-11.2.1.3-py3-none-manylinux2014_x86_64.whl (211.5 MB)\n",
            "\u001b[2K   \u001b[90m━━━━━━━━━━━━━━━━━━━━━━━━━━━━━━━━━━━━━━━━\u001b[0m \u001b[32m211.5/211.5 MB\u001b[0m \u001b[31m7.1 MB/s\u001b[0m eta \u001b[36m0:00:00\u001b[0m\n",
            "\u001b[?25hDownloading nvidia_curand_cu12-10.3.5.147-py3-none-manylinux2014_x86_64.whl (56.3 MB)\n",
            "\u001b[2K   \u001b[90m━━━━━━━━━━━━━━━━━━━━━━━━━━━━━━━━━━━━━━━━\u001b[0m \u001b[32m56.3/56.3 MB\u001b[0m \u001b[31m13.1 MB/s\u001b[0m eta \u001b[36m0:00:00\u001b[0m\n",
            "\u001b[?25hDownloading nvidia_cusolver_cu12-11.6.1.9-py3-none-manylinux2014_x86_64.whl (127.9 MB)\n",
            "\u001b[2K   \u001b[90m━━━━━━━━━━━━━━━━━━━━━━━━━━━━━━━━━━━━━━━━\u001b[0m \u001b[32m127.9/127.9 MB\u001b[0m \u001b[31m7.5 MB/s\u001b[0m eta \u001b[36m0:00:00\u001b[0m\n",
            "\u001b[?25hDownloading nvidia_cusparse_cu12-12.3.1.170-py3-none-manylinux2014_x86_64.whl (207.5 MB)\n",
            "\u001b[2K   \u001b[90m━━━━━━━━━━━━━━━━━━━━━━━━━━━━━━━━━━━━━━━━\u001b[0m \u001b[32m207.5/207.5 MB\u001b[0m \u001b[31m5.7 MB/s\u001b[0m eta \u001b[36m0:00:00\u001b[0m\n",
            "\u001b[?25hDownloading nvidia_nvjitlink_cu12-12.4.127-py3-none-manylinux2014_x86_64.whl (21.1 MB)\n",
            "\u001b[2K   \u001b[90m━━━━━━━━━━━━━━━━━━━━━━━━━━━━━━━━━━━━━━━━\u001b[0m \u001b[32m21.1/21.1 MB\u001b[0m \u001b[31m63.4 MB/s\u001b[0m eta \u001b[36m0:00:00\u001b[0m\n",
            "\u001b[?25hBuilding wheels for collected packages: toppra\n",
            "  Building wheel for toppra (pyproject.toml) ... \u001b[?25l\u001b[?25hdone\n",
            "  Created wheel for toppra: filename=toppra-0.6.3-cp311-cp311-linux_x86_64.whl size=776157 sha256=5103b45bbc410ab76c89dd8a6ffb813c104b3afa3c6e8728d3fe9d8632f7064c\n",
            "  Stored in directory: /root/.cache/pip/wheels/57/59/c1/4daf9fdaf34e03a2d94430efe8b070346c86b15bc9d446c162\n",
            "Successfully built toppra\n",
            "Installing collected packages: shtab, nvidia-nvjitlink-cu12, nvidia-curand-cu12, nvidia-cufft-cu12, nvidia-cuda-runtime-cu12, nvidia-cuda-nvrtc-cu12, nvidia-cuda-cupti-cu12, nvidia-cublas-cu12, numpy, jedi, fast-kinematics, dacite, trimesh, transforms3d, nvidia-cusparse-cu12, nvidia-cudnn-cu12, gymnasium, tyro, sapien, nvidia-cusolver-cu12, toppra, pytorch-seed, mplib, arm-pytorch-utilities, pytorch-kinematics, mani_skill-nightly\n",
            "  Attempting uninstall: nvidia-nvjitlink-cu12\n",
            "    Found existing installation: nvidia-nvjitlink-cu12 12.5.82\n",
            "    Uninstalling nvidia-nvjitlink-cu12-12.5.82:\n",
            "      Successfully uninstalled nvidia-nvjitlink-cu12-12.5.82\n",
            "  Attempting uninstall: nvidia-curand-cu12\n",
            "    Found existing installation: nvidia-curand-cu12 10.3.6.82\n",
            "    Uninstalling nvidia-curand-cu12-10.3.6.82:\n",
            "      Successfully uninstalled nvidia-curand-cu12-10.3.6.82\n",
            "  Attempting uninstall: nvidia-cufft-cu12\n",
            "    Found existing installation: nvidia-cufft-cu12 11.2.3.61\n",
            "    Uninstalling nvidia-cufft-cu12-11.2.3.61:\n",
            "      Successfully uninstalled nvidia-cufft-cu12-11.2.3.61\n",
            "  Attempting uninstall: nvidia-cuda-runtime-cu12\n",
            "    Found existing installation: nvidia-cuda-runtime-cu12 12.5.82\n",
            "    Uninstalling nvidia-cuda-runtime-cu12-12.5.82:\n",
            "      Successfully uninstalled nvidia-cuda-runtime-cu12-12.5.82\n",
            "  Attempting uninstall: nvidia-cuda-nvrtc-cu12\n",
            "    Found existing installation: nvidia-cuda-nvrtc-cu12 12.5.82\n",
            "    Uninstalling nvidia-cuda-nvrtc-cu12-12.5.82:\n",
            "      Successfully uninstalled nvidia-cuda-nvrtc-cu12-12.5.82\n",
            "  Attempting uninstall: nvidia-cuda-cupti-cu12\n",
            "    Found existing installation: nvidia-cuda-cupti-cu12 12.5.82\n",
            "    Uninstalling nvidia-cuda-cupti-cu12-12.5.82:\n",
            "      Successfully uninstalled nvidia-cuda-cupti-cu12-12.5.82\n",
            "  Attempting uninstall: nvidia-cublas-cu12\n",
            "    Found existing installation: nvidia-cublas-cu12 12.5.3.2\n",
            "    Uninstalling nvidia-cublas-cu12-12.5.3.2:\n",
            "      Successfully uninstalled nvidia-cublas-cu12-12.5.3.2\n",
            "  Attempting uninstall: numpy\n",
            "    Found existing installation: numpy 2.0.2\n",
            "    Uninstalling numpy-2.0.2:\n",
            "      Successfully uninstalled numpy-2.0.2\n",
            "  Attempting uninstall: nvidia-cusparse-cu12\n",
            "    Found existing installation: nvidia-cusparse-cu12 12.5.1.3\n",
            "    Uninstalling nvidia-cusparse-cu12-12.5.1.3:\n",
            "      Successfully uninstalled nvidia-cusparse-cu12-12.5.1.3\n",
            "  Attempting uninstall: nvidia-cudnn-cu12\n",
            "    Found existing installation: nvidia-cudnn-cu12 9.3.0.75\n",
            "    Uninstalling nvidia-cudnn-cu12-9.3.0.75:\n",
            "      Successfully uninstalled nvidia-cudnn-cu12-9.3.0.75\n",
            "  Attempting uninstall: gymnasium\n",
            "    Found existing installation: gymnasium 1.1.1\n",
            "    Uninstalling gymnasium-1.1.1:\n",
            "      Successfully uninstalled gymnasium-1.1.1\n",
            "  Attempting uninstall: nvidia-cusolver-cu12\n",
            "    Found existing installation: nvidia-cusolver-cu12 11.6.3.83\n",
            "    Uninstalling nvidia-cusolver-cu12-11.6.3.83:\n",
            "      Successfully uninstalled nvidia-cusolver-cu12-11.6.3.83\n",
            "\u001b[31mERROR: pip's dependency resolver does not currently take into account all the packages that are installed. This behaviour is the source of the following dependency conflicts.\n",
            "thinc 8.3.6 requires numpy<3.0.0,>=2.0.0, but you have numpy 1.26.4 which is incompatible.\n",
            "dopamine-rl 4.1.2 requires gymnasium>=1.0.0, but you have gymnasium 0.29.1 which is incompatible.\u001b[0m\u001b[31m\n",
            "\u001b[0mSuccessfully installed arm-pytorch-utilities-0.4.3 dacite-1.9.2 fast-kinematics-0.2.2 gymnasium-0.29.1 jedi-0.19.2 mani_skill-nightly-2025.5.22.816 mplib-0.1.1 numpy-1.26.4 nvidia-cublas-cu12-12.4.5.8 nvidia-cuda-cupti-cu12-12.4.127 nvidia-cuda-nvrtc-cu12-12.4.127 nvidia-cuda-runtime-cu12-12.4.127 nvidia-cudnn-cu12-9.1.0.70 nvidia-cufft-cu12-11.2.1.3 nvidia-curand-cu12-10.3.5.147 nvidia-cusolver-cu12-11.6.1.9 nvidia-cusparse-cu12-12.3.1.170 nvidia-nvjitlink-cu12-12.4.127 pytorch-kinematics-0.7.5 pytorch-seed-0.2.0 sapien-3.0.0b1 shtab-1.7.2 toppra-0.6.3 transforms3d-0.4.2 trimesh-4.6.10 tyro-0.9.21\n"
          ]
        }
      ],
      "source": [
        "# setup vulkan\n",
        "!mkdir -p /usr/share/vulkan/icd.d\n",
        "!wget -q https://raw.githubusercontent.com/haosulab/ManiSkill/main/docker/nvidia_icd.json\n",
        "!wget -q https://raw.githubusercontent.com/haosulab/ManiSkill/main/docker/10_nvidia.json\n",
        "!mv nvidia_icd.json /usr/share/vulkan/icd.d\n",
        "!mv 10_nvidia.json /usr/share/glvnd/egl_vendor.d/10_nvidia.json\n",
        "!apt-get install -y --no-install-recommends libvulkan-dev\n",
        "# dependencies\n",
        "!pip install --upgrade mani_skill-nightly"
      ]
    },
    {
      "cell_type": "code",
      "execution_count": null,
      "metadata": {
        "id": "n6i6VVRfgCXj"
      },
      "outputs": [],
      "source": [
        "try:\n",
        "    import google.colab\n",
        "    IN_COLAB = True\n",
        "except:\n",
        "    IN_COLAB = False\n",
        "\n",
        "if IN_COLAB:\n",
        "    import site\n",
        "    site.main() # run this so local pip installs are recognized"
      ]
    },
    {
      "cell_type": "markdown",
      "metadata": {
        "id": "_NHolc8agFlu"
      },
      "source": [
        "## 1 Basic RL Programming (10 pts)\n",
        "\n",
        "This section will take you through the basics of RL programming/engineering and apply theory to practice."
      ]
    },
    {
      "cell_type": "markdown",
      "metadata": {
        "id": "6El8OhF1gLTX"
      },
      "source": [
        "### Problem 1.1: Building an environment, \"Avoid the Lava\" (3 pts)\n",
        "\n",
        "We will start with building a simple and visualizable environment called AvoidLava where a controllable agent on a 2D grid of tiles that can be empty or lava, and must find its way to the goal from a starting location.\n",
        "\n",
        "The standard environment interface is typically the [Gym/Gymnasium](https://gymnasium.farama.org/) interface. By adhering to this interface, a lot of RL libraries can work nearly out of the box on your custom environment. In the first assignment you had some experience using Gymnasium through ManiSkill. This section will task you to create a discrete action-space environment using Gymnasium alone without an additional framework.\n",
        "\n",
        "---\n",
        "\n",
        "For this task you need to implement the environment dynamics in the `step()` function, implement environment termination in `get_terminated()`, and implement your own reward function in `get_reward()`.\n",
        "\n",
        "In the Avoid the Lava game, the agent can take 4 discrete actions labelled 0, 1, 2, 3 (go up, right, down, left) on a 2D grid map and the agent position changes to reflect the action taken.\n",
        "\n",
        "If the agent tries to go to a map tile off screen (beyond the map size) nothing should happen, the agent position is unchanged.\n",
        "\n",
        "If the agent takes an action that leads it to end up on a map tile that is on lava, `get_terminated()` should return True.\n",
        "\n",
        "\n",
        "The reward function can be chosen by you, you must define it in `get_reward()`. This reward function must be sufficiently informative/dense such that the agent is encouraged to go towards the goal location and avoids losing due to falling in lava."
      ]
    },
    {
      "cell_type": "code",
      "execution_count": 67,
      "metadata": {
        "id": "XYvJoZjbxn4D"
      },
      "outputs": [],
      "source": [
        "import gymnasium as gym\n",
        "import numpy as np\n",
        "import matplotlib.pyplot as plt\n",
        "from moviepy import ImageSequenceClip\n",
        "\n",
        "# this map should be left unchanged\n",
        "DEFAULT_LAVA_MAP = np.array([\n",
        "    [0,3], [1, 1], [2, 1], [2, 3], [3, 3], [3, 4]\n",
        "])\n",
        "class AvoidLava(gym.Env):\n",
        "    def __init__(self, map_size: int = 5, lava_positions = DEFAULT_LAVA_MAP, **kwargs):\n",
        "        self.map_size = map_size\n",
        "        # define obs and action space to let libraries know what to expect as observation data\n",
        "        # and what to provide as action data. We do this for you.\n",
        "        self.lava_positions = lava_positions.copy()\n",
        "        self.observation_space = gym.spaces.Box(0, map_size, shape=(2, ))\n",
        "        self.action_space = gym.spaces.Discrete(4)\n",
        "    def reset(self, seed=None, options=None):\n",
        "        # reset the environment by generating a new map, goal location\n",
        "        # and spawn agent at a fixed start location\n",
        "        self.map_state = np.zeros((self.map_size, self.map_size))\n",
        "        self.agent_pos = np.zeros(2, dtype=int)\n",
        "        self.goal_pos = np.array([\n",
        "            0, 4\n",
        "        ])\n",
        "\n",
        "        return self.get_obs(), {}\n",
        "\n",
        "    def get_obs(self):\n",
        "        return self.agent_pos.copy()\n",
        "    \n",
        "    def get_terminated(self):\n",
        "        ### your code goes below ###\n",
        "        # Implement the env termination function, should return True/False\n",
        "        # return True if the agent is on lava\n",
        "        on_lava = np.any((self.lava_positions == self.agent_pos).all(axis=1))\n",
        "        return on_lava\n",
        "        ### your code goes above ###\n",
        "\n",
        "\n",
        "    def get_reward(self):\n",
        "        ### your code goes below ###\n",
        "        # Write the env reward function, should return a float ###\n",
        "        on_lava = self.get_terminated()\n",
        "        # penalty for being on lava\n",
        "        if on_lava:\n",
        "            return -100.0\n",
        "        # reward for reaching goal\n",
        "        if np.array_equal(self.agent_pos, self.goal_pos):\n",
        "            return 200.0\n",
        "        \n",
        "        return 1.0 # reward for moving\n",
        "        ### your code goes above ###\n",
        "\n",
        "\n",
        "    def step(self, action):\n",
        "        ### your code goes below ###\n",
        "        # Write the AvoidLava dynamics function below ###\n",
        "        # You can do it by simply updating self.agent_pos appropriately\n",
        "\n",
        "        # action definition. (0, 0) is bottom left, (self.map_size - 1, self.map_size) is top right corner of the map.\n",
        "        # 0: go up\n",
        "        # 1: go right\n",
        "        # 2: go down\n",
        "        # 3: go left\n",
        "        next_pos = None\n",
        "        # up\n",
        "        if action == 0:\n",
        "            next_pos = self.agent_pos + np.array([0, 1])\n",
        "        # right\n",
        "        elif action == 1:\n",
        "            next_pos = self.agent_pos + np.array([1, 0])\n",
        "        # down\n",
        "        elif action == 2:\n",
        "            next_pos = self.agent_pos + np.array([0, -1])\n",
        "        # left\n",
        "        elif action == 3:\n",
        "            next_pos = self.agent_pos + np.array([-1, 0])\n",
        "        else:\n",
        "            raise ValueError(f\"Invalid action: {action}\")\n",
        "        \n",
        "        # check if next_pos is out of bounds\n",
        "        if (0 <= next_pos[0] < self.map_size and  0 <= next_pos[1] < self.map_size):\n",
        "            self.agent_pos = next_pos\n",
        "        ### your code goes above ###\n",
        "\n",
        "        truncated = False\n",
        "        return self.get_obs(), self.get_reward(), self.get_terminated(), truncated, {}\n",
        "    \n",
        "    def render(self):\n",
        "        # very simple visualization code which returns a RGB array to visualize\n",
        "        # the current state\n",
        "        scale = 32\n",
        "        img = np.zeros((self.map_size * scale, self.map_size * scale, 3), dtype=int) + 255\n",
        "        def draw_cube(x, y, color, l=1):\n",
        "          img[img.shape[0] - scale - y*scale:img.shape[0] - scale-y*scale+l, x*scale:x*scale+l] = color\n",
        "        for lava_pos in self.lava_positions:\n",
        "            draw_cube(lava_pos[0], lava_pos[1], color=np.array([252, 81, 48]), l=scale)\n",
        "        draw_cube(self.goal_pos[0], self.goal_pos[1], color=np.array([35, 187, 74]), l=scale)\n",
        "        k = scale//2\n",
        "        img[img.shape[0] - self.agent_pos[1]*scale-2*k+k//2:img.shape[0] - self.agent_pos[1]*scale-k+k//2,\n",
        "            self.agent_pos[0]*scale+k//2:self.agent_pos[0]*scale+k+k//2] = np.array([25, 146, 237])\n",
        "        return img\n",
        "\n",
        "# Code below is just for recording videos to watch agents play the game\n",
        "def record_episode(imgs, file, fps=5):\n",
        "    from pathlib import Path\n",
        "    import os.path as osp\n",
        "    Path(osp.dirname(file)).mkdir(exist_ok=True, parents=True)\n",
        "    clip = ImageSequenceClip(imgs, fps=fps)\n",
        "    clip.write_videofile(file, logger=None)\n",
        "def display_video(path):\n",
        "    from IPython.display import HTML\n",
        "    from base64 import b64encode\n",
        "    mp4 = open(path,'rb').read()\n",
        "    data_url = \"data:video/mp4;base64,\" + b64encode(mp4).decode()\n",
        "    return HTML(\"\"\"\n",
        "    <video width=400 controls>\n",
        "          <source src=\"%s\" type=\"video/mp4\">\n",
        "    </video>\n",
        "    \"\"\" % data_url)"
      ]
    },
    {
      "cell_type": "code",
      "execution_count": 12,
      "metadata": {
        "colab": {
          "base_uri": "https://localhost:8080/"
        },
        "id": "tKiIFoVd3HOO",
        "outputId": "b69479f0-e981-4769-f51c-8a16c5fe9e8a"
      },
      "outputs": [
        {
          "data": {
            "text/plain": [
              "(array([0, 0]), {})"
            ]
          },
          "execution_count": 12,
          "metadata": {},
          "output_type": "execute_result"
        }
      ],
      "source": [
        "# we can create our environment and also specify the max number of episodes before the environment should reset\n",
        "env = AvoidLava(render_mode=\"rgb_array\")\n",
        "env = gym.wrappers.TimeLimit(env, max_episode_steps=20)\n",
        "\n",
        "# before using the environment you must reset at least once\n",
        "env.reset()"
      ]
    },
    {
      "cell_type": "markdown",
      "metadata": {
        "id": "WvOIUIX6IGXS"
      },
      "source": [
        "If you implemented your code correctly, the visualization of the initial environment state should look like below"
      ]
    },
    {
      "cell_type": "code",
      "execution_count": 3,
      "metadata": {
        "colab": {
          "base_uri": "https://localhost:8080/",
          "height": 451
        },
        "id": "Drox4R2I7sQV",
        "outputId": "b199ae4b-2b7e-4a7b-e042-28f614a7c089"
      },
      "outputs": [
        {
          "data": {
            "text/plain": [
              "<matplotlib.image.AxesImage at 0x7bf2202553f0>"
            ]
          },
          "execution_count": 3,
          "metadata": {},
          "output_type": "execute_result"
        },
        {
          "data": {
            "image/png": "[encoded data removed]",
            "text/plain": [
              "<Figure size 640x480 with 1 Axes>"
            ]
          },
          "metadata": {},
          "output_type": "display_data"
        }
      ],
      "source": [
        "plt.imshow(env.render())"
      ]
    },
    {
      "cell_type": "code",
      "execution_count": 68,
      "metadata": {
        "id": "Pcb3vggFINi6"
      },
      "outputs": [
        {
          "name": "stdout",
          "output_type": "stream",
          "text": [
            "Environment is implemented correctly!\n"
          ]
        }
      ],
      "source": [
        "#@markdown Test with asserts that the environment dynamics behave correctly. DO NO CHANGE THIS CODE, simply run it before submitting\n",
        "P1_1_PASS = False\n",
        "assert len(env.reset()) == 2, \"should return obs and info\"\n",
        "assert (env.unwrapped.agent_pos == np.array([0, 0])).all()\n",
        "\n",
        "env.action_space.seed(1)\n",
        "env.step(env.action_space.sample())\n",
        "env.step(env.action_space.sample())\n",
        "assert (env.unwrapped.agent_pos == np.array([1, 0])).all()\n",
        "\n",
        "env.reset()\n",
        "env.action_space.seed(1)\n",
        "for _ in range(20):\n",
        "    obs, _, terminated, truncated, info = env.step(2)\n",
        "assert truncated == True, \"time limit not working\"\n",
        "\n",
        "env.reset()\n",
        "env.action_space.seed(1)\n",
        "obs, rew1, terminated, truncated, info = env.step(0)\n",
        "obs, rew1, terminated, truncated, info = env.step(1)\n",
        "assert terminated == True, \"termination not working\"\n",
        "\n",
        "env.reset()\n",
        "env.action_space.seed(1)\n",
        "env.unwrapped.agent_pos = env.unwrapped.goal_pos.copy()\n",
        "obs, rew2, terminated, truncated, info = env.step(0)\n",
        "assert terminated == False, \"termination at goal not working. should not terminated at goal\"\n",
        "\n",
        "assert rew2 > rew1, \"it seems the reward of the agent landing on a goal is smaller than landing on lava. This reward function is very likely wrong and won't work.\"\n",
        "print(\"Environment is implemented correctly!\")\n",
        "P1_1_PASS = True"
      ]
    },
    {
      "cell_type": "markdown",
      "metadata": {
        "id": "WiXMTUbuH3Iy"
      },
      "source": [
        "A general environment loop looks like the below. We constantly sample actions whether randomly via the action space object or via a policy (we will make one later). An environment needs to be reset when either terminated or truncated are True, meaning either the agent has failed (hit lava) or has won (reached the goal). Ultimately the reward determines how well the agent is doing. The code also saves the first 20 frames as a video that you can watch with the tools shown below"
      ]
    },
    {
      "cell_type": "code",
      "execution_count": 69,
      "metadata": {
        "id": "LbVzE5nlF2Sr"
      },
      "outputs": [],
      "source": [
        "env.reset()\n",
        "imgs = []\n",
        "imgs.append(env.render())\n",
        "for i in range(20):\n",
        "    obs, rew, terminated, truncated, info = env.step(env.action_space.sample())\n",
        "    imgs.append(env.render())\n",
        "    done = terminated or truncated\n",
        "    if done:\n",
        "        env.reset()\n",
        "        imgs.append(env.render())\n",
        "record_episode(imgs[:20], \"result.mp4\")"
      ]
    },
    {
      "cell_type": "code",
      "execution_count": 75,
      "metadata": {
        "colab": {
          "base_uri": "https://localhost:8080/",
          "height": 421
        },
        "id": "2IItjLWZYdE0",
        "outputId": "7c0d6a38-db16-4146-a9a0-6fa1fb5413d7"
      },
      "outputs": [
        {
          "data": {
            "text/html": [
              "\n",
              "    <video width=400 controls>\n",
              "          <source src=\"data:video/mp4;base64,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\" type=\"video/mp4\">\n",
              "    </video>\n",
              "    "
            ],
            "text/plain": [
              "<IPython.core.display.HTML object>"
            ]
          },
          "execution_count": 75,
          "metadata": {},
          "output_type": "execute_result"
        }
      ],
      "source": [
        "display_video(\"result.mp4\")"
      ]
    },
    {
      "cell_type": "markdown",
      "metadata": {
        "id": "xgsogeMhMdky"
      },
      "source": [
        "### Problem 1.2: Learning to play AvoidLava with Tabular Q-Learning (5 pts)\n",
        "\n",
        "Here you have to implement a simple Q-Learning algorithm to learn to play the game.\n",
        "\n",
        "It is up to you to figure how to implement the algorithm from course lecture(s) in code below, some of the skeleton has already been made for you. You get full points for working code implementation that results in a successful evaluation of the agent.\n",
        "\n",
        "The solution implementation with lightly tuned hyperparameters took around 40,000 update iterations of Q-Learning / 5 seconds of time to learn to be able to solve the game from any starting agent position (despite only ever resetting to the same initial agent position).\n"
      ]
    },
    {
      "cell_type": "code",
      "execution_count": 71,
      "metadata": {
        "colab": {
          "base_uri": "https://localhost:8080/",
          "height": 49,
          "referenced_widgets": [
            "b9163e69db824736ab0f7d354fbe2216",
            "010d0b81f97d4a93be83f60aa38ba601",
            "32a95d9cd5ef436ba6d8fc847392a66c",
            "677e3400ddb241fba6a5107252e1b3b2",
            "c395959e4c0d4a1ca1b566115d12b220",
            "d4506ddde1ad43468e512b66b0077a39",
            "a1b34ccdbcea4ae5a7dd0b8b00e533e7",
            "b027b36b9a5748c3aae863acb0c247af",
            "bdd40b0f943448389276d18fdb74188a",
            "79c35cd2e0ea403d9a94e98ccdb77f94",
            "130b1ed3a097496fb0adea4ef48bed19"
          ]
        },
        "id": "QnxbnE7CNCWp",
        "outputId": "b410550c-68f7-4066-896e-40262714f608"
      },
      "outputs": [
        {
          "data": {
            "application/vnd.jupyter.widget-view+json": {
              "model_id": "3be76b3e9cc746bda86969028ee8cd80",
              "version_major": 2,
              "version_minor": 0
            },
            "text/plain": [
              "  0%|          | 0/40000 [00:00<?, ?it/s]"
            ]
          },
          "metadata": {},
          "output_type": "display_data"
        }
      ],
      "source": [
        "from tqdm.notebook import tqdm\n",
        "env = AvoidLava(render_mode=\"rgb_array\")\n",
        "env = gym.wrappers.TimeLimit(env, max_episode_steps=20)\n",
        "\n",
        "### your code goes below ###\n",
        "# Create an appropriate matrix (recommended) or dictionary below so that you can query and set Q(S, A), the state-action value. ###\n",
        "# Be wary about what the shape of the matrix should be, it should encapsulate all possible observation (state), action pairs\n",
        "ACTION_SPACE = env.action_space.n\n",
        "STATE_SPACE = env.unwrapped.map_size ** 2\n",
        "q_mat = np.zeros((STATE_SPACE, ACTION_SPACE))\n",
        "\n",
        "def state_to_index(state, map_size=5):\n",
        "    \"\"\"\n",
        "    map from state to index\n",
        "    \"\"\"\n",
        "    x, y = state\n",
        "    return x * map_size + y\n",
        "\n",
        "def index_to_state(index, map_size=5):\n",
        "    \"\"\"\n",
        "    map from index to state\n",
        "    \"\"\"\n",
        "    x = index // map_size\n",
        "    y = index % map_size\n",
        "    return np.array([x, y])\n",
        "\n",
        "### your code goes above ###\n",
        "\n",
        "np.random.seed(0)\n",
        "env.action_space.seed(0)\n",
        "obs, _ = env.reset() # obs is s_0\n",
        "\n",
        "# Hyperparameters of Q-Learning algorithm\n",
        "step_size = 0.25\n",
        "discount = 0.95\n",
        "N = 40000\n",
        "epsilon_start = 0.9  # initial eps\n",
        "epsilon_end = 0.05   # min eps\n",
        "epsilon_decay = 0.9995  # eps decay rate\n",
        "epsilon = epsilon_start\n",
        "\n",
        "# Epsilon-greedy to select action\n",
        "def epsilon_greedy(q_mat, state, epsilon):\n",
        "    if np.random.rand() < epsilon:\n",
        "        return env.action_space.sample()\n",
        "    else:\n",
        "        return np.argmax(q_mat[state_to_index(state)])\n",
        "\n",
        "for i in tqdm(range(N)):\n",
        "    ### your code goes below ###\n",
        "    # Write an action sampling strategy from lecture or make up your own ###\n",
        "    # You may not implement a ground truth action sampler (e.g. BFS)\n",
        "    # You may not modify environment state directly of env, you can only use env.step and env.reset\n",
        "    \n",
        "    ### your code goes above ###\n",
        "    obs, _ = env.reset()\n",
        "    done = False\n",
        "    \n",
        "    while not done:\n",
        "        # use epsilon-greedy to select action\n",
        "        action = epsilon_greedy(q_mat, obs, epsilon)\n",
        "        next_obs, reward, terminated, truncated, info = env.step(action)\n",
        "        done = terminated or truncated\n",
        "\n",
        "        # TD update\n",
        "        if not done:\n",
        "            td_target = reward + discount * np.max(q_mat[state_to_index(next_obs)])\n",
        "        else:\n",
        "            td_target = reward\n",
        "        td_error = td_target - q_mat[state_to_index(obs), action]\n",
        "        q_mat[state_to_index(obs), action] += step_size * td_error\n",
        "        obs = next_obs\n",
        "\n",
        "        ### your code goes below ###\n",
        "        # Implement TD(0) learning here by updating the value function (otherwise known as q_mat as a tabular form)\n",
        "        # Hints: obs is s_t, next_obs is s_{t+1}\n",
        "\n",
        "        ### your code goes above ###\n",
        "        \n",
        "    epsilon = max(epsilon_end, epsilon * epsilon_decay)"
      ]
    },
    {
      "cell_type": "markdown",
      "metadata": {
        "id": "spg2pVGoNn_P"
      },
      "source": [
        "### Problem 1.3: Visualizing the RL Agent\n",
        "\n",
        "This section has code to be filled out to visualize the behavior of the greedy RL agent acting on a trained Q function as well as visualize what the Q function has learned via a saliency map."
      ]
    },
    {
      "cell_type": "markdown",
      "metadata": {
        "id": "5gAbG6gkrC_a"
      },
      "source": [
        "#### Visualization of Q Function (1pt):\n",
        "\n",
        "Visualize the Q Function as a heatmap of the game map with cell value equal to $\\max_a {Q(s, a)}$ for cell $s$ in the map (it should be 5x5). You may or may not need to invert the y-axis, the map should resemble the actual gamemap in a way. You may find it interesting to also look at how your q function evolves during the course of training."
      ]
    },
    {
      "cell_type": "code",
      "execution_count": 82,
      "metadata": {},
      "outputs": [
        {
          "data": {
            "image/png": "[encoded data removed]",
            "text/plain": [
              "<Figure size 640x480 with 1 Axes>"
            ]
          },
          "metadata": {},
          "output_type": "display_data"
        }
      ],
      "source": [
        "fig, ax = plt.subplots(1, 1)\n",
        "\n",
        "### your code goes below ###\n",
        "# get max q value for each state\n",
        "max_q_values = np.max(q_mat, axis=1)\n",
        "heatmap = np.zeros((env.unwrapped.map_size, env.unwrapped.map_size))\n",
        "# fill heatmap \n",
        "for state_idx in range(STATE_SPACE):\n",
        "    x, y = index_to_state(state_idx)\n",
        "    # invert y axis\n",
        "    heatmap[y, x] = max_q_values[state_idx]\n",
        "\n",
        "\n",
        "im = ax.imshow(heatmap, cmap='viridis', origin='lower')\n",
        "\n",
        "# add text annotations\n",
        "for i in range(heatmap.shape[0]):  \n",
        "    for j in range(heatmap.shape[1]):  \n",
        "        value = heatmap[i, j]\n",
        "        ax.text(j, i, f\"{value:.2f}\", ha='center', va='center', \n",
        "                color='white' if value < heatmap.max() / 2 else 'black', \n",
        "                fontsize=8)\n",
        "\n",
        "# mark start and goal\n",
        "ax.plot(0, 4, 'r*', markersize=20, label='Goal')  \n",
        "ax.plot(0, 0, 'go', markersize=15, label='Start')\n",
        "ax.legend()\n",
        "\n",
        "# mark lava positions\n",
        "for lava_pos in DEFAULT_LAVA_MAP:\n",
        "    ax.plot(lava_pos[0], lava_pos[1], 'rs', markersize=12)\n",
        "\n",
        "ax.set_xticks(np.arange(env.unwrapped.map_size))\n",
        "ax.set_yticks(np.arange(env.unwrapped.map_size))\n",
        "\n",
        "### your code goes above ###\n",
        "fig.tight_layout()\n",
        "fig.savefig(\"P2_3.png\")\n",
        "plt.show()"
      ]
    },
    {
      "cell_type": "markdown",
      "metadata": {
        "id": "3vq6XKiufKM8"
      },
      "source": [
        "#### Evaluation videos from different starting positions (1pt):\n",
        "\n",
        "Using your trained Q function from earlier, fill in the code below to generate 3 videos of your agent playing the game. It must be trained sufficiently long enough such that in all trials below it solves the game each time. An `assert` is placed to check if the agent solved the task or not."
      ]
    },
    {
      "cell_type": "code",
      "execution_count": 86,
      "metadata": {
        "id": "GPVAeTmmdEfL"
      },
      "outputs": [
        {
          "name": "stdout",
          "output_type": "stream",
          "text": [
            "Trial 0: Reached goal at step 6\n",
            "Trial 1: Reached goal at step 9\n",
            "Trial 2: Reached goal at step 7\n"
          ]
        }
      ],
      "source": [
        "for trial, start_pos in enumerate([(0, 0), (3, 0), (4, 3)]):\n",
        "    obs, _ = env.reset()\n",
        "    env.unwrapped.agent_pos = np.array(start_pos) # not good RL practice but for the purpose of homework we set it like this\n",
        "    obs = env.unwrapped.get_obs()\n",
        "    imgs = []\n",
        "    imgs.append(env.render())\n",
        "\n",
        "    ### your code goes below ###\n",
        "    # Using the environment loop and your q function, record videos of your agents\n",
        "    # behavior below with the agent in different starting positions.\n",
        "    for i in range(20):\n",
        "        # check if the agent has reached the goal\n",
        "        if np.array_equal(obs, env.unwrapped.goal_pos):\n",
        "            print(f\"Trial {trial}: Reached goal at step {i}\")\n",
        "            imgs.append(env.render())\n",
        "            break\n",
        "        # get action from q table\n",
        "        action = np.argmax(q_mat[state_to_index(obs)])\n",
        "        obs, rew, terminated, truncated, info = env.step(action)\n",
        "        imgs.append(env.render())\n",
        "        done = terminated or truncated\n",
        "        if done:\n",
        "            env.reset()\n",
        "            imgs.append(env.render())\n",
        "            break\n",
        "\n",
        "    ### your code goes above ###\n",
        "\n",
        "    record_episode(imgs, f\"p_1_3_trial_{trial}.mp4\")\n",
        "    # do not remove the assert here\n",
        "    assert (env.unwrapped.agent_pos == env.unwrapped.goal_pos).all(), \"agent was not succesful\""
      ]
    },
    {
      "cell_type": "code",
      "execution_count": 87,
      "metadata": {
        "id": "YgHeQfm3dz4T"
      },
      "outputs": [
        {
          "data": {
            "text/html": [
              "\n",
              "    <video width=400 controls>\n",
              "          <source src=\"data:video/mp4;base64,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\" type=\"video/mp4\">\n",
              "    </video>\n",
              "    "
            ],
            "text/plain": [
              "<IPython.core.display.HTML object>"
            ]
          },
          "execution_count": 87,
          "metadata": {},
          "output_type": "execute_result"
        }
      ],
      "source": [
        "display_video(\"p_1_3_trial_0.mp4\")"
      ]
    },
    {
      "cell_type": "code",
      "execution_count": 90,
      "metadata": {
        "id": "4MgJiLnkeNHb"
      },
      "outputs": [
        {
          "data": {
            "text/html": [
              "\n",
              "    <video width=400 controls>\n",
              "          <source src=\"data:video/mp4;base64,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\" type=\"video/mp4\">\n",
              "    </video>\n",
              "    "
            ],
            "text/plain": [
              "<IPython.core.display.HTML object>"
            ]
          },
          "execution_count": 90,
          "metadata": {},
          "output_type": "execute_result"
        }
      ],
      "source": [
        "display_video(\"p_1_3_trial_1.mp4\")"
      ]
    },
    {
      "cell_type": "code",
      "execution_count": 91,
      "metadata": {
        "id": "izChxOchePsR"
      },
      "outputs": [
        {
          "data": {
            "text/html": [
              "\n",
              "    <video width=400 controls>\n",
              "          <source src=\"data:video/mp4;base64,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\" type=\"video/mp4\">\n",
              "    </video>\n",
              "    "
            ],
            "text/plain": [
              "<IPython.core.display.HTML object>"
            ]
          },
          "execution_count": 91,
          "metadata": {},
          "output_type": "execute_result"
        }
      ],
      "source": [
        "display_video(\"p_1_3_trial_2.mp4\")"
      ]
    },
    {
      "cell_type": "markdown",
      "metadata": {
        "id": "uypxaf_1oNb0"
      },
      "source": [
        "## 2 Deep Reinforcement Learning (10 pts)\n",
        "\n",
        "This section will take you through the basics of deep reinforcement learning and how we evolve from tabular learning methods done in section 2 to more modern deep RL methods that can solve far more complex environments.\n",
        "\n",
        "We will tackle a classic control problem known as CartPole via a Deep Q-Network. The objective is to move the cart left/right to keep the pole upright and not to let it fall.\n",
        "\n",
        "Note that this environment has a different setup compared to the lava game, and further more its default time limit is 500 steps compared to the 20 we used for the lava game (this long time limit may be something of note for DQN training)"
      ]
    },
    {
      "cell_type": "code",
      "execution_count": 93,
      "metadata": {
        "colab": {
          "base_uri": "https://localhost:8080/",
          "height": 448
        },
        "id": "EXgGJ4q5oYcT",
        "outputId": "25748739-30d0-4121-bd1b-bae4cacf09fb"
      },
      "outputs": [
        {
          "name": "stdout",
          "output_type": "stream",
          "text": [
            "Observation Space: Box([-4.8000002e+00 -3.4028235e+38 -4.1887903e-01 -3.4028235e+38], [4.8000002e+00 3.4028235e+38 4.1887903e-01 3.4028235e+38], (4,), float32)\n",
            "Action Space: Discrete(2)\n"
          ]
        },
        {
          "data": {
            "text/plain": [
              "<matplotlib.image.AxesImage at 0x7bf1f4025ff0>"
            ]
          },
          "execution_count": 93,
          "metadata": {},
          "output_type": "execute_result"
        },
        {
          "data": {
            "image/png": "[encoded data removed]",
            "text/plain": [
              "<Figure size 640x480 with 1 Axes>"
            ]
          },
          "metadata": {},
          "output_type": "display_data"
        }
      ],
      "source": [
        "env = gym.make(\"CartPole-v1\", render_mode=\"rgb_array\")\n",
        "env.reset()\n",
        "print(\"Observation Space:\", env.observation_space)\n",
        "print(\"Action Space:\", env.action_space)\n",
        "plt.imshow(env.render())"
      ]
    },
    {
      "cell_type": "markdown",
      "metadata": {
        "id": "rsyE8kRuuU-e"
      },
      "source": [
        "Notably the observation space is continuous (Box space), meaning tabular methods will likely struggle / are non-trivial to write. This is where deep learning shines, neural networks are great function approximators and overfitting seen data, we can use those to replace our previous matrix-table backed Q function in Problem 1."
      ]
    },
    {
      "cell_type": "markdown",
      "metadata": {
        "id": "0fVZooequlnt"
      },
      "source": [
        "### Problem 2.1 Building the Neural Nets (2pts)\n",
        "\n",
        "We will use PyTorch for this course, first implement a basic neural network with PyTorch that can take in observations from the gym environment, pass it through a deep network and generate a scalar value for every possible discrete action representing a predicted Q value.\n",
        "\n",
        "A GPU is not necessary here, it will run very fast."
      ]
    },
    {
      "cell_type": "code",
      "execution_count": null,
      "metadata": {
        "id": "2PRIwFeAoaFa"
      },
      "outputs": [],
      "source": [
        "import torch\n",
        "import torch.nn as nn\n",
        "import torch.nn.functional as F\n",
        "import torch.optim as optim\n",
        "class QNet(nn.Module):\n",
        "    ### your code goes below ###\n",
        "    def __init__(self):\n",
        "        super().__init__()\n",
        "\n",
        "    def forward(self, obs):\n",
        "        pass\n",
        "\n",
        "    ### your code goes above ###"
      ]
    },
    {
      "cell_type": "code",
      "execution_count": null,
      "metadata": {
        "id": "DHGJOo5MvWUo"
      },
      "outputs": [],
      "source": [
        "# quick sanity test\n",
        "P2_1_PASS = False\n",
        "q_function = QNet()\n",
        "obs, _ = env.reset()\n",
        "obs = torch.from_numpy(obs)\n",
        "assert q_function(obs).shape == (2, )\n",
        "P2_1_PASS = True"
      ]
    },
    {
      "cell_type": "markdown",
      "metadata": {
        "id": "99yTPBzLwX7H"
      },
      "source": [
        "### Problem 2.2 Building a ReplayBuffer (2pts)\n",
        "\n",
        "Fundamental to DQN and many modern deep RL algorithms is the replay buffer, a object to effectively hold past seen environment transitions to then train on in the future. Implement the code below to enable insertion of environment transition data (observation, next_observation, action, reward, done) and sampling batches of data for training.\n",
        "\n",
        "If you aren't sure about the shapes, play around with env.step() return values. Note that `done = terminated or truncated`."
      ]
    },
    {
      "cell_type": "code",
      "execution_count": null,
      "metadata": {
        "id": "pyk72ez5xEWZ"
      },
      "outputs": [],
      "source": [
        "class ReplayBuffer:\n",
        "    def __init__(self, buffer_size: int, obs_space: gym.spaces.Space, action_space: gym.spaces.Space):\n",
        "        self.buffer_size = buffer_size\n",
        "\n",
        "        ### your code goes below ###\n",
        "        # You may want to add code here to initialize some things\n",
        "\n",
        "        ### your code goes above ###\n",
        "\n",
        "    def store(self, obs, next_obs, reward, action, done):\n",
        "        ### your code goes below ###\n",
        "\n",
        "        ### your code goes above ###\n",
        "        return\n",
        "\n",
        "    def sample(self, batch_size: int):\n",
        "        obs, next_obs, rewards, actions, dones = None, None, None, None, None\n",
        "        ### your code goes below ###\n",
        "        # Should return a batch of observations, next_obs, rewards, actions, and dones as a tuple\n",
        "\n",
        "        ### your code goes above ###\n",
        "        return torch.from_numpy(obs).float(), torch.from_numpy(next_obs).float(), torch.from_numpy(rewards).float(), torch.from_numpy(actions), torch.from_numpy(dones)"
      ]
    },
    {
      "cell_type": "code",
      "execution_count": null,
      "metadata": {
        "id": "kFccS6YaxihJ"
      },
      "outputs": [],
      "source": [
        "# quick sanity check for ReplayBuffer\n",
        "P2_2_PASS = False\n",
        "buffer = ReplayBuffer(4, env.observation_space, env.action_space)\n",
        "obs, _ = env.reset()\n",
        "action = env.action_space.sample()\n",
        "for _ in range(5):\n",
        "    next_obs, reward, terminated, truncated, _ = env.step(action)\n",
        "    buffer.store(obs, next_obs, reward, action, terminated or truncated)\n",
        "    obs = next_obs\n",
        "b_obs, b_next_obs, b_rewards, b_actions, b_dones = buffer.sample(batch_size=2)\n",
        "assert b_obs.shape == (2, *obs.shape), b_next_obs.shape == (2, *obs.shape)\n",
        "assert b_rewards.shape == (2, )\n",
        "assert b_actions.shape == (2, )\n",
        "P2_2_PASS = True"
      ]
    },
    {
      "cell_type": "markdown",
      "metadata": {
        "id": "7RfaX78czNNW"
      },
      "source": [
        "### Problem 2.3: DQN Training (6pts)\n",
        "Your task here is to implement code below to train a Deep Q Network (DQN). DQN isn't explicitly covered in lecture but we describe the pseudocode below which should have aspects that look similar to lecture content\n",
        "\n",
        "DQN\n",
        "1. Initialize the replay buffer $D$ and Q network $Q$ with two sets of weights, $\\theta$ and $\\theta'$ which are initially equal. $\\theta$ is the behavior policy's weights, and $\\theta'$ is for the target network.\n",
        "2. At each environment timestep:\n",
        "    1. Let $s$ be the current state/observation. With probability $\\epsilon$ sample a random action $a$. Otherwise greedily select $a = \\arg \\max_a Q_\\theta(s, a)$\n",
        "    2. Execute $a$ in the environment and receive reward $r$ and next state/observation $s'$.\n",
        "    3. Add transition $(s, a, s', r)$ to $D$.\n",
        "    4. Every $i$ environment steps (the behavior network update frequency), sample batch from $D$ and compute the TD loss. The TD loss is defined as $TD_\\theta(s, a, s', r)= ||Q_\\theta(s, a) - [r + \\gamma_{a'} \\max Q'_\\theta (s', a')]||^2$.\n",
        "    5. Note that in practice, environments might terminate/truncate (when env is done). In those situations the $\\gamma_{a'} \\max Q'_\\theta (s', a')$ term should be set to 0.\n",
        "    6. Perform gradient descent\n",
        "    7. Every $j$ environment steps (the target network update frequency), set $\\theta'$ equal to $\\theta$.\n",
        "    8. Update $\\epsilon$ (typically to smaller and smaller values to encourage agent to take more greedy actions over time).\n",
        "\n",
        "\n",
        "\n",
        "\n",
        "\n",
        "\n",
        "Training should generally take about a minute if implemented correctly and using not too large of a neural network and training batch size.\n",
        "\n",
        "Part of this task is to have a general understanding of how to tune RL algorithms, it is a highly practical skill to have for future projects and robot learning in general, especially since RL algorithms are often very black-box. The given hyperparameters are not tuned. They will work, but you will need to modify them a little in order to train a strong enough agent."
      ]
    },
    {
      "cell_type": "code",
      "execution_count": null,
      "metadata": {
        "colab": {
          "base_uri": "https://localhost:8080/",
          "height": 136,
          "referenced_widgets": [
            "0046d2d38f7841a1a3e6cca1453aa36e",
            "7f551383d0334b5faafffe973c2c90ee",
            "cb4c13f69877491e9c86f51f4994e594",
            "575332b205b84b089641fb4a3503d96d",
            "ae418a7507bd4172a1c2b46a5b466a00",
            "77fb60f7840c4abd8102c3baa2b0a740",
            "bf256bba7c924167955f49de330ffaae",
            "b426bd2faa4241b789c7923789df845e",
            "160a04d02bc342f58acff4c1b6340463",
            "13cc908517cb4bba98c00ef5b098cc86",
            "667a2617238747e58a6ccd181c266cba"
          ]
        },
        "id": "1g9epmQ4zMxg",
        "outputId": "9762afe8-87ef-4af9-9e15-252fe349537b"
      },
      "outputs": [
        {
          "data": {
            "application/vnd.jupyter.widget-view+json": {
              "model_id": "0046d2d38f7841a1a3e6cca1453aa36e",
              "version_major": 2,
              "version_minor": 0
            },
            "text/plain": [
              "  0%|          | 0/50000 [00:00<?, ?it/s]"
            ]
          },
          "metadata": {},
          "output_type": "display_data"
        },
        {
          "name": "stdout",
          "output_type": "stream",
          "text": [
            "step: 0, eval_eps_ret: 9.0\n",
            "step: 10000, eval_eps_ret: 207.0\n",
            "step: 20000, eval_eps_ret: 298.0\n",
            "step: 30000, eval_eps_ret: 147.0\n",
            "step: 40000, eval_eps_ret: 398.0\n"
          ]
        }
      ],
      "source": [
        "np.random.seed(3)\n",
        "torch.manual_seed(3)\n",
        "### your code goes below ###\n",
        "# tune these hyperparameters, the ones provided work but train slowly\n",
        "buffer_size = 32\n",
        "batch_size = 4\n",
        "discount = 0.99\n",
        "learning_starts = buffer_size\n",
        "training_iterations = 50_000 # for grading, this may not be changed\n",
        "learning_rate = 2.5e-4\n",
        "behavior_net_update_freq = 10\n",
        "target_net_update_freq = 500\n",
        "### your code goes above ###\n",
        "\n",
        "# Create a training env and eval env\n",
        "env = gym.make(\"CartPole-v1\")\n",
        "eval_env = gym.make(\"CartPole-v1\", render_mode=\"rgb_array\")\n",
        "\n",
        "# Create behavior net and target net\n",
        "behavior_net = QNet()\n",
        "target_net = QNet()\n",
        "target_net.load_state_dict(behavior_net.state_dict())\n",
        "optimizer = optim.Adam(behavior_net.parameters(), lr=learning_rate)\n",
        "\n",
        "# Create replay buffer\n",
        "buffer = ReplayBuffer(buffer_size, env.observation_space, env.action_space)\n",
        "\n",
        "def evaluate(save_video: str = None):\n",
        "    # Evaluates the current agent and report the return and episode length\n",
        "    eps_ret = 0\n",
        "    eps_len = 0\n",
        "    done = False\n",
        "    obs, _ = eval_env.reset()\n",
        "    imgs = []\n",
        "    while not done:\n",
        "        obs, rew, terminated, truncated, info = eval_env.step(behavior_net(torch.from_numpy(obs)).argmax().cpu().numpy())\n",
        "        if save_video is not None:\n",
        "            imgs.append(eval_env.render())\n",
        "        eps_ret += rew\n",
        "        eps_len += 1\n",
        "        done = terminated or truncated\n",
        "        if done:\n",
        "            break\n",
        "    if save_video is not None:\n",
        "        record_episode(imgs, save_video, fps=60)\n",
        "    return eps_ret, eps_len\n",
        "\n",
        "def get_epsilon(step):\n",
        "    ### your code goes below ###\n",
        "    # Implement a custom schedule to reduce epsilon over time so that the RL agent\n",
        "    # takes greedy actions more often\n",
        "    epsilon = 0\n",
        "    ### your code goes above ###\n",
        "    return epsilon\n",
        "\n",
        "pbar = tqdm(range(training_iterations))\n",
        "\n",
        "obs, _ = env.reset()\n",
        "for step in pbar:\n",
        "    ### your code goes below ###\n",
        "    # sample actions\n",
        "    action = env.action_space.sample()\n",
        "    ### your code goes above ###\n",
        "\n",
        "    next_obs, reward, termination, truncation, info = env.step(action)\n",
        "    done = termination or truncation\n",
        "\n",
        "    # store data and reset env if necessary\n",
        "    buffer.store(obs, next_obs, reward, action, done)\n",
        "    obs = next_obs\n",
        "    if done:\n",
        "        obs, _ = env.reset()\n",
        "\n",
        "    if step > learning_starts:\n",
        "        if step % behavior_net_update_freq == 0:\n",
        "            b_obs, b_next_obs, b_rewards, b_actions, b_dones = buffer.sample(batch_size)\n",
        "            ### your code goes below ###\n",
        "            # Implement the training code for optimizing the behavior network, you will need\n",
        "            # to leverage the target network to ensure training stability.\n",
        "            # Careful to note that in this homework for good performance you should ensure you don't\n",
        "            # create a temporal difference target that includes discounted values if it is the final frame (check via b_dones)\n",
        "            pass\n",
        "            ### your code goes above ###\n",
        "\n",
        "        if step % target_net_update_freq == 0:\n",
        "            ### your code goes below ###\n",
        "            # Implement the code to copy the target network. Aren't sure what to do? Check pytorch documentation!\n",
        "            pass\n",
        "            ### your code goes above ###\n",
        "\n",
        "    # every 10000 iterations evaluate once and save a video\n",
        "    if step % 10_000 == 0:\n",
        "        eval_eps_ret, eval_eps_len = evaluate(save_video=f\"cartpole_videos/{step}.mp4\")\n",
        "        pbar.set_postfix(dict(eval_eps_ret=eval_eps_ret, eval_eps_len=eval_eps_len, epsilon=get_epsilon(step)))\n",
        "        print(f\"step: {step}, eval_eps_ret: {eval_eps_ret}\")\n"
      ]
    },
    {
      "cell_type": "code",
      "execution_count": null,
      "metadata": {
        "id": "IjPFgJhwFRtt"
      },
      "outputs": [],
      "source": [
        "eval_env.reset(seed=0)\n",
        "avg_ret = 0\n",
        "trials = 20\n",
        "for trial in range(trials):\n",
        "    ret, _ = evaluate()\n",
        "    avg_ret += ret\n",
        "avg_ret /= trials\n",
        "print(\"Average Return: \", avg_ret)\n",
        "assert avg_ret >= 400, f\"agent does not perform well enough. Average return is {avg_ret} < 400, tune the hyperparameters/make sure DQN is implemented correctly\"\n",
        "P2_3_RET = avg_ret"
      ]
    },
    {
      "cell_type": "code",
      "execution_count": null,
      "metadata": {
        "id": "8FsuOqpLFutr"
      },
      "outputs": [],
      "source": [
        "display_video(\"cartpole_videos/40000.mp4\")"
      ]
    },
    {
      "cell_type": "markdown",
      "metadata": {
        "id": "wQD086TyGUJD"
      },
      "source": [
        "# 3 Submission\n",
        "\n",
        "If you are taking the CSE 276F course at UC San Diego, to submit your work please save this .ipynb file locally first. Then run the cells below which zips up some of your answers and generated evaluation images/videos for grading."
      ]
    },
    {
      "cell_type": "code",
      "execution_count": null,
      "metadata": {
        "id": "hdi66_UAGVR3"
      },
      "outputs": [],
      "source": [
        "work_data = {\n",
        "    \"p1_1\": P1_1_PASS,\n",
        "    \"p2_1\": P2_1_PASS,\n",
        "    \"p2_2\": P2_2_PASS,\n",
        "    \"p2_3\": P2_3_RET\n",
        "}\n",
        "import json\n",
        "with open(\"answers.json\", 'w') as json_file:\n",
        "    json.dump(work_data, json_file, indent=2)"
      ]
    },
    {
      "cell_type": "code",
      "execution_count": null,
      "metadata": {
        "id": "F9JIduHeG3Qu"
      },
      "outputs": [],
      "source": [
        "!mkdir -p hw_files/p1.3 2> /dev/null\n",
        "!cp P2_3.png hw_files/\n",
        "!cp cartpole_videos/40000.mp4 hw_files/\n",
        "!cp answers.json hw_files/\n",
        "!cp p_1_3_trial_*.mp4 hw_files/p1.3\n",
        "!tar -czvf hw_files.tar.gz hw_files > /dev/null"
      ]
    }
  ],
  "metadata": {
    "accelerator": "GPU",
    "colab": {
      "gpuType": "T4",
      "provenance": [],
      "toc_visible": true
    },
    "kernelspec": {
      "display_name": "robolearning",
      "language": "python",
      "name": "python3"
    },
    "language_info": {
      "codemirror_mode": {
        "name": "ipython",
        "version": 3
      },
      "file_extension": ".py",
      "mimetype": "text/x-python",
      "name": "python",
      "nbconvert_exporter": "python",
      "pygments_lexer": "ipython3",
      "version": "3.10.16"
    },
    "widgets": {
      "application/vnd.jupyter.widget-state+json": {
        "0046d2d38f7841a1a3e6cca1453aa36e": {
          "model_module": "@jupyter-widgets/controls",
          "model_module_version": "1.5.0",
          "model_name": "HBoxModel",
          "state": {
            "_dom_classes": [],
            "_model_module": "@jupyter-widgets/controls",
            "_model_module_version": "1.5.0",
            "_model_name": "HBoxModel",
            "_view_count": null,
            "_view_module": "@jupyter-widgets/controls",
            "_view_module_version": "1.5.0",
            "_view_name": "HBoxView",
            "box_style": "",
            "children": [
              "IPY_MODEL_7f551383d0334b5faafffe973c2c90ee",
              "IPY_MODEL_cb4c13f69877491e9c86f51f4994e594",
              "IPY_MODEL_575332b205b84b089641fb4a3503d96d"
            ],
            "layout": "IPY_MODEL_ae418a7507bd4172a1c2b46a5b466a00"
          }
        },
        "010d0b81f97d4a93be83f60aa38ba601": {
          "model_module": "@jupyter-widgets/controls",
          "model_module_version": "1.5.0",
          "model_name": "HTMLModel",
          "state": {
            "_dom_classes": [],
            "_model_module": "@jupyter-widgets/controls",
            "_model_module_version": "1.5.0",
            "_model_name": "HTMLModel",
            "_view_count": null,
            "_view_module": "@jupyter-widgets/controls",
            "_view_module_version": "1.5.0",
            "_view_name": "HTMLView",
            "description": "",
            "description_tooltip": null,
            "layout": "IPY_MODEL_d4506ddde1ad43468e512b66b0077a39",
            "placeholder": "​",
            "style": "IPY_MODEL_a1b34ccdbcea4ae5a7dd0b8b00e533e7",
            "value": "100%"
          }
        },
        "130b1ed3a097496fb0adea4ef48bed19": {
          "model_module": "@jupyter-widgets/controls",
          "model_module_version": "1.5.0",
          "model_name": "DescriptionStyleModel",
          "state": {
            "_model_module": "@jupyter-widgets/controls",
            "_model_module_version": "1.5.0",
            "_model_name": "DescriptionStyleModel",
            "_view_count": null,
            "_view_module": "@jupyter-widgets/base",
            "_view_module_version": "1.2.0",
            "_view_name": "StyleView",
            "description_width": ""
          }
        },
        "13cc908517cb4bba98c00ef5b098cc86": {
          "model_module": "@jupyter-widgets/base",
          "model_module_version": "1.2.0",
          "model_name": "LayoutModel",
          "state": {
            "_model_module": "@jupyter-widgets/base",
            "_model_module_version": "1.2.0",
            "_model_name": "LayoutModel",
            "_view_count": null,
            "_view_module": "@jupyter-widgets/base",
            "_view_module_version": "1.2.0",
            "_view_name": "LayoutView",
            "align_content": null,
            "align_items": null,
            "align_self": null,
            "border": null,
            "bottom": null,
            "display": null,
            "flex": null,
            "flex_flow": null,
            "grid_area": null,
            "grid_auto_columns": null,
            "grid_auto_flow": null,
            "grid_auto_rows": null,
            "grid_column": null,
            "grid_gap": null,
            "grid_row": null,
            "grid_template_areas": null,
            "grid_template_columns": null,
            "grid_template_rows": null,
            "height": null,
            "justify_content": null,
            "justify_items": null,
            "left": null,
            "margin": null,
            "max_height": null,
            "max_width": null,
            "min_height": null,
            "min_width": null,
            "object_fit": null,
            "object_position": null,
            "order": null,
            "overflow": null,
            "overflow_x": null,
            "overflow_y": null,
            "padding": null,
            "right": null,
            "top": null,
            "visibility": null,
            "width": null
          }
        },
        "160a04d02bc342f58acff4c1b6340463": {
          "model_module": "@jupyter-widgets/controls",
          "model_module_version": "1.5.0",
          "model_name": "ProgressStyleModel",
          "state": {
            "_model_module": "@jupyter-widgets/controls",
            "_model_module_version": "1.5.0",
            "_model_name": "ProgressStyleModel",
            "_view_count": null,
            "_view_module": "@jupyter-widgets/base",
            "_view_module_version": "1.2.0",
            "_view_name": "StyleView",
            "bar_color": null,
            "description_width": ""
          }
        },
        "32a95d9cd5ef436ba6d8fc847392a66c": {
          "model_module": "@jupyter-widgets/controls",
          "model_module_version": "1.5.0",
          "model_name": "FloatProgressModel",
          "state": {
            "_dom_classes": [],
            "_model_module": "@jupyter-widgets/controls",
            "_model_module_version": "1.5.0",
            "_model_name": "FloatProgressModel",
            "_view_count": null,
            "_view_module": "@jupyter-widgets/controls",
            "_view_module_version": "1.5.0",
            "_view_name": "ProgressView",
            "bar_style": "success",
            "description": "",
            "description_tooltip": null,
            "layout": "IPY_MODEL_b027b36b9a5748c3aae863acb0c247af",
            "max": 40000,
            "min": 0,
            "orientation": "horizontal",
            "style": "IPY_MODEL_bdd40b0f943448389276d18fdb74188a",
            "value": 40000
          }
        },
        "575332b205b84b089641fb4a3503d96d": {
          "model_module": "@jupyter-widgets/controls",
          "model_module_version": "1.5.0",
          "model_name": "HTMLModel",
          "state": {
            "_dom_classes": [],
            "_model_module": "@jupyter-widgets/controls",
            "_model_module_version": "1.5.0",
            "_model_name": "HTMLModel",
            "_view_count": null,
            "_view_module": "@jupyter-widgets/controls",
            "_view_module_version": "1.5.0",
            "_view_name": "HTMLView",
            "description": "",
            "description_tooltip": null,
            "layout": "IPY_MODEL_13cc908517cb4bba98c00ef5b098cc86",
            "placeholder": "​",
            "style": "IPY_MODEL_667a2617238747e58a6ccd181c266cba",
            "value": " 50000/50000 [00:27&lt;00:00, 2465.94it/s, eval_eps_ret=398, eval_eps_len=398, epsilon=0.1]"
          }
        },
        "667a2617238747e58a6ccd181c266cba": {
          "model_module": "@jupyter-widgets/controls",
          "model_module_version": "1.5.0",
          "model_name": "DescriptionStyleModel",
          "state": {
            "_model_module": "@jupyter-widgets/controls",
            "_model_module_version": "1.5.0",
            "_model_name": "DescriptionStyleModel",
            "_view_count": null,
            "_view_module": "@jupyter-widgets/base",
            "_view_module_version": "1.2.0",
            "_view_name": "StyleView",
            "description_width": ""
          }
        },
        "677e3400ddb241fba6a5107252e1b3b2": {
          "model_module": "@jupyter-widgets/controls",
          "model_module_version": "1.5.0",
          "model_name": "HTMLModel",
          "state": {
            "_dom_classes": [],
            "_model_module": "@jupyter-widgets/controls",
            "_model_module_version": "1.5.0",
            "_model_name": "HTMLModel",
            "_view_count": null,
            "_view_module": "@jupyter-widgets/controls",
            "_view_module_version": "1.5.0",
            "_view_name": "HTMLView",
            "description": "",
            "description_tooltip": null,
            "layout": "IPY_MODEL_79c35cd2e0ea403d9a94e98ccdb77f94",
            "placeholder": "​",
            "style": "IPY_MODEL_130b1ed3a097496fb0adea4ef48bed19",
            "value": " 40000/40000 [00:01&lt;00:00, 30462.00it/s]"
          }
        },
        "77fb60f7840c4abd8102c3baa2b0a740": {
          "model_module": "@jupyter-widgets/base",
          "model_module_version": "1.2.0",
          "model_name": "LayoutModel",
          "state": {
            "_model_module": "@jupyter-widgets/base",
            "_model_module_version": "1.2.0",
            "_model_name": "LayoutModel",
            "_view_count": null,
            "_view_module": "@jupyter-widgets/base",
            "_view_module_version": "1.2.0",
            "_view_name": "LayoutView",
            "align_content": null,
            "align_items": null,
            "align_self": null,
            "border": null,
            "bottom": null,
            "display": null,
            "flex": null,
            "flex_flow": null,
            "grid_area": null,
            "grid_auto_columns": null,
            "grid_auto_flow": null,
            "grid_auto_rows": null,
            "grid_column": null,
            "grid_gap": null,
            "grid_row": null,
            "grid_template_areas": null,
            "grid_template_columns": null,
            "grid_template_rows": null,
            "height": null,
            "justify_content": null,
            "justify_items": null,
            "left": null,
            "margin": null,
            "max_height": null,
            "max_width": null,
            "min_height": null,
            "min_width": null,
            "object_fit": null,
            "object_position": null,
            "order": null,
            "overflow": null,
            "overflow_x": null,
            "overflow_y": null,
            "padding": null,
            "right": null,
            "top": null,
            "visibility": null,
            "width": null
          }
        },
        "79c35cd2e0ea403d9a94e98ccdb77f94": {
          "model_module": "@jupyter-widgets/base",
          "model_module_version": "1.2.0",
          "model_name": "LayoutModel",
          "state": {
            "_model_module": "@jupyter-widgets/base",
            "_model_module_version": "1.2.0",
            "_model_name": "LayoutModel",
            "_view_count": null,
            "_view_module": "@jupyter-widgets/base",
            "_view_module_version": "1.2.0",
            "_view_name": "LayoutView",
            "align_content": null,
            "align_items": null,
            "align_self": null,
            "border": null,
            "bottom": null,
            "display": null,
            "flex": null,
            "flex_flow": null,
            "grid_area": null,
            "grid_auto_columns": null,
            "grid_auto_flow": null,
            "grid_auto_rows": null,
            "grid_column": null,
            "grid_gap": null,
            "grid_row": null,
            "grid_template_areas": null,
            "grid_template_columns": null,
            "grid_template_rows": null,
            "height": null,
            "justify_content": null,
            "justify_items": null,
            "left": null,
            "margin": null,
            "max_height": null,
            "max_width": null,
            "min_height": null,
            "min_width": null,
            "object_fit": null,
            "object_position": null,
            "order": null,
            "overflow": null,
            "overflow_x": null,
            "overflow_y": null,
            "padding": null,
            "right": null,
            "top": null,
            "visibility": null,
            "width": null
          }
        },
        "7f551383d0334b5faafffe973c2c90ee": {
          "model_module": "@jupyter-widgets/controls",
          "model_module_version": "1.5.0",
          "model_name": "HTMLModel",
          "state": {
            "_dom_classes": [],
            "_model_module": "@jupyter-widgets/controls",
            "_model_module_version": "1.5.0",
            "_model_name": "HTMLModel",
            "_view_count": null,
            "_view_module": "@jupyter-widgets/controls",
            "_view_module_version": "1.5.0",
            "_view_name": "HTMLView",
            "description": "",
            "description_tooltip": null,
            "layout": "IPY_MODEL_77fb60f7840c4abd8102c3baa2b0a740",
            "placeholder": "​",
            "style": "IPY_MODEL_bf256bba7c924167955f49de330ffaae",
            "value": "100%"
          }
        },
        "a1b34ccdbcea4ae5a7dd0b8b00e533e7": {
          "model_module": "@jupyter-widgets/controls",
          "model_module_version": "1.5.0",
          "model_name": "DescriptionStyleModel",
          "state": {
            "_model_module": "@jupyter-widgets/controls",
            "_model_module_version": "1.5.0",
            "_model_name": "DescriptionStyleModel",
            "_view_count": null,
            "_view_module": "@jupyter-widgets/base",
            "_view_module_version": "1.2.0",
            "_view_name": "StyleView",
            "description_width": ""
          }
        },
        "ae418a7507bd4172a1c2b46a5b466a00": {
          "model_module": "@jupyter-widgets/base",
          "model_module_version": "1.2.0",
          "model_name": "LayoutModel",
          "state": {
            "_model_module": "@jupyter-widgets/base",
            "_model_module_version": "1.2.0",
            "_model_name": "LayoutModel",
            "_view_count": null,
            "_view_module": "@jupyter-widgets/base",
            "_view_module_version": "1.2.0",
            "_view_name": "LayoutView",
            "align_content": null,
            "align_items": null,
            "align_self": null,
            "border": null,
            "bottom": null,
            "display": null,
            "flex": null,
            "flex_flow": null,
            "grid_area": null,
            "grid_auto_columns": null,
            "grid_auto_flow": null,
            "grid_auto_rows": null,
            "grid_column": null,
            "grid_gap": null,
            "grid_row": null,
            "grid_template_areas": null,
            "grid_template_columns": null,
            "grid_template_rows": null,
            "height": null,
            "justify_content": null,
            "justify_items": null,
            "left": null,
            "margin": null,
            "max_height": null,
            "max_width": null,
            "min_height": null,
            "min_width": null,
            "object_fit": null,
            "object_position": null,
            "order": null,
            "overflow": null,
            "overflow_x": null,
            "overflow_y": null,
            "padding": null,
            "right": null,
            "top": null,
            "visibility": null,
            "width": null
          }
        },
        "b027b36b9a5748c3aae863acb0c247af": {
          "model_module": "@jupyter-widgets/base",
          "model_module_version": "1.2.0",
          "model_name": "LayoutModel",
          "state": {
            "_model_module": "@jupyter-widgets/base",
            "_model_module_version": "1.2.0",
            "_model_name": "LayoutModel",
            "_view_count": null,
            "_view_module": "@jupyter-widgets/base",
            "_view_module_version": "1.2.0",
            "_view_name": "LayoutView",
            "align_content": null,
            "align_items": null,
            "align_self": null,
            "border": null,
            "bottom": null,
            "display": null,
            "flex": null,
            "flex_flow": null,
            "grid_area": null,
            "grid_auto_columns": null,
            "grid_auto_flow": null,
            "grid_auto_rows": null,
            "grid_column": null,
            "grid_gap": null,
            "grid_row": null,
            "grid_template_areas": null,
            "grid_template_columns": null,
            "grid_template_rows": null,
            "height": null,
            "justify_content": null,
            "justify_items": null,
            "left": null,
            "margin": null,
            "max_height": null,
            "max_width": null,
            "min_height": null,
            "min_width": null,
            "object_fit": null,
            "object_position": null,
            "order": null,
            "overflow": null,
            "overflow_x": null,
            "overflow_y": null,
            "padding": null,
            "right": null,
            "top": null,
            "visibility": null,
            "width": null
          }
        },
        "b426bd2faa4241b789c7923789df845e": {
          "model_module": "@jupyter-widgets/base",
          "model_module_version": "1.2.0",
          "model_name": "LayoutModel",
          "state": {
            "_model_module": "@jupyter-widgets/base",
            "_model_module_version": "1.2.0",
            "_model_name": "LayoutModel",
            "_view_count": null,
            "_view_module": "@jupyter-widgets/base",
            "_view_module_version": "1.2.0",
            "_view_name": "LayoutView",
            "align_content": null,
            "align_items": null,
            "align_self": null,
            "border": null,
            "bottom": null,
            "display": null,
            "flex": null,
            "flex_flow": null,
            "grid_area": null,
            "grid_auto_columns": null,
            "grid_auto_flow": null,
            "grid_auto_rows": null,
            "grid_column": null,
            "grid_gap": null,
            "grid_row": null,
            "grid_template_areas": null,
            "grid_template_columns": null,
            "grid_template_rows": null,
            "height": null,
            "justify_content": null,
            "justify_items": null,
            "left": null,
            "margin": null,
            "max_height": null,
            "max_width": null,
            "min_height": null,
            "min_width": null,
            "object_fit": null,
            "object_position": null,
            "order": null,
            "overflow": null,
            "overflow_x": null,
            "overflow_y": null,
            "padding": null,
            "right": null,
            "top": null,
            "visibility": null,
            "width": null
          }
        },
        "b9163e69db824736ab0f7d354fbe2216": {
          "model_module": "@jupyter-widgets/controls",
          "model_module_version": "1.5.0",
          "model_name": "HBoxModel",
          "state": {
            "_dom_classes": [],
            "_model_module": "@jupyter-widgets/controls",
            "_model_module_version": "1.5.0",
            "_model_name": "HBoxModel",
            "_view_count": null,
            "_view_module": "@jupyter-widgets/controls",
            "_view_module_version": "1.5.0",
            "_view_name": "HBoxView",
            "box_style": "",
            "children": [
              "IPY_MODEL_010d0b81f97d4a93be83f60aa38ba601",
              "IPY_MODEL_32a95d9cd5ef436ba6d8fc847392a66c",
              "IPY_MODEL_677e3400ddb241fba6a5107252e1b3b2"
            ],
            "layout": "IPY_MODEL_c395959e4c0d4a1ca1b566115d12b220"
          }
        },
        "bdd40b0f943448389276d18fdb74188a": {
          "model_module": "@jupyter-widgets/controls",
          "model_module_version": "1.5.0",
          "model_name": "ProgressStyleModel",
          "state": {
            "_model_module": "@jupyter-widgets/controls",
            "_model_module_version": "1.5.0",
            "_model_name": "ProgressStyleModel",
            "_view_count": null,
            "_view_module": "@jupyter-widgets/base",
            "_view_module_version": "1.2.0",
            "_view_name": "StyleView",
            "bar_color": null,
            "description_width": ""
          }
        },
        "bf256bba7c924167955f49de330ffaae": {
          "model_module": "@jupyter-widgets/controls",
          "model_module_version": "1.5.0",
          "model_name": "DescriptionStyleModel",
          "state": {
            "_model_module": "@jupyter-widgets/controls",
            "_model_module_version": "1.5.0",
            "_model_name": "DescriptionStyleModel",
            "_view_count": null,
            "_view_module": "@jupyter-widgets/base",
            "_view_module_version": "1.2.0",
            "_view_name": "StyleView",
            "description_width": ""
          }
        },
        "c395959e4c0d4a1ca1b566115d12b220": {
          "model_module": "@jupyter-widgets/base",
          "model_module_version": "1.2.0",
          "model_name": "LayoutModel",
          "state": {
            "_model_module": "@jupyter-widgets/base",
            "_model_module_version": "1.2.0",
            "_model_name": "LayoutModel",
            "_view_count": null,
            "_view_module": "@jupyter-widgets/base",
            "_view_module_version": "1.2.0",
            "_view_name": "LayoutView",
            "align_content": null,
            "align_items": null,
            "align_self": null,
            "border": null,
            "bottom": null,
            "display": null,
            "flex": null,
            "flex_flow": null,
            "grid_area": null,
            "grid_auto_columns": null,
            "grid_auto_flow": null,
            "grid_auto_rows": null,
            "grid_column": null,
            "grid_gap": null,
            "grid_row": null,
            "grid_template_areas": null,
            "grid_template_columns": null,
            "grid_template_rows": null,
            "height": null,
            "justify_content": null,
            "justify_items": null,
            "left": null,
            "margin": null,
            "max_height": null,
            "max_width": null,
            "min_height": null,
            "min_width": null,
            "object_fit": null,
            "object_position": null,
            "order": null,
            "overflow": null,
            "overflow_x": null,
            "overflow_y": null,
            "padding": null,
            "right": null,
            "top": null,
            "visibility": null,
            "width": null
          }
        },
        "cb4c13f69877491e9c86f51f4994e594": {
          "model_module": "@jupyter-widgets/controls",
          "model_module_version": "1.5.0",
          "model_name": "FloatProgressModel",
          "state": {
            "_dom_classes": [],
            "_model_module": "@jupyter-widgets/controls",
            "_model_module_version": "1.5.0",
            "_model_name": "FloatProgressModel",
            "_view_count": null,
            "_view_module": "@jupyter-widgets/controls",
            "_view_module_version": "1.5.0",
            "_view_name": "ProgressView",
            "bar_style": "success",
            "description": "",
            "description_tooltip": null,
            "layout": "IPY_MODEL_b426bd2faa4241b789c7923789df845e",
            "max": 50000,
            "min": 0,
            "orientation": "horizontal",
            "style": "IPY_MODEL_160a04d02bc342f58acff4c1b6340463",
            "value": 50000
          }
        },
        "d4506ddde1ad43468e512b66b0077a39": {
          "model_module": "@jupyter-widgets/base",
          "model_module_version": "1.2.0",
          "model_name": "LayoutModel",
          "state": {
            "_model_module": "@jupyter-widgets/base",
            "_model_module_version": "1.2.0",
            "_model_name": "LayoutModel",
            "_view_count": null,
            "_view_module": "@jupyter-widgets/base",
            "_view_module_version": "1.2.0",
            "_view_name": "LayoutView",
            "align_content": null,
            "align_items": null,
            "align_self": null,
            "border": null,
            "bottom": null,
            "display": null,
            "flex": null,
            "flex_flow": null,
            "grid_area": null,
            "grid_auto_columns": null,
            "grid_auto_flow": null,
            "grid_auto_rows": null,
            "grid_column": null,
            "grid_gap": null,
            "grid_row": null,
            "grid_template_areas": null,
            "grid_template_columns": null,
            "grid_template_rows": null,
            "height": null,
            "justify_content": null,
            "justify_items": null,
            "left": null,
            "margin": null,
            "max_height": null,
            "max_width": null,
            "min_height": null,
            "min_width": null,
            "object_fit": null,
            "object_position": null,
            "order": null,
            "overflow": null,
            "overflow_x": null,
            "overflow_y": null,
            "padding": null,
            "right": null,
            "top": null,
            "visibility": null,
            "width": null
          }
        }
      }
    }
  },
  "nbformat": 4,
  "nbformat_minor": 0
}
