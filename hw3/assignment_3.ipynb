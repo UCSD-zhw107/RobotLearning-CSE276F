{
  "cells": [
    {
      "cell_type": "markdown",
      "metadata": {
        "id": "gv0tdboodQ_k"
      },
      "source": [
        "# Welcome to CSE 276F, Assignment 3\n",
        "\n",
        "In assignment 3, we will be exploring Reinforcement Learning. RL provides a general method for learning policies from reward functions. This assignment will start with some basic RL beginning with making a simple grid environemnt followed by solving it with Deep Q Networks (DQN). We will dive deeper into RL for robotics with algorithms like PPO/SAC in the next assignment"
      ]
    },
    {
      "cell_type": "markdown",
      "metadata": {
        "id": "1e7efd84-68d0-4453-a400-b3891b8eadec"
      },
      "source": [
        "## Setup Code / Packages\n",
        "\n",
        "If you are running code locally follow the installation instructions for ManiSkill here: https://maniskill.readthedocs.io/en/latest/user_guide/getting_started/installation.html. You will need a CUDA-enabled GPU on a Linux machine for assignments. Windows/Mac have more limited support but are useful if that is the local machine you have access to for local debugging. When building custom environments you can then use a GUI to explore environments which helps the development process.\n",
        "\n",
        "If you are using UCSD Datahub you don't need to do any additional installation steps. You only need to run `pip install --upgrade mani_skill-nightly`\n",
        "\n",
        "If you are using Google Colab make sure to run the two cells below to install all dependencies.\n",
        "\n",
        "If you see an error such as\n",
        "\n",
        "`ValueError: numpy.dtype size changed, may indicate binary incompatibility. Expected 96 from C header, got 88 from PyObject`\n",
        "\n",
        "simply restart the notebook after running the installation commands."
      ]
    },
    {
      "cell_type": "code",
      "execution_count": null,
      "metadata": {
        "colab": {
          "base_uri": "https://localhost:8080/"
        },
        "id": "WuZHYS95gBQ2",
        "outputId": "26e9ebef-fc82-441f-a5cb-1996c7040862"
      },
      "outputs": [
        {
          "name": "stdout",
          "output_type": "stream",
          "text": [
            "Reading package lists... Done\n",
            "Building dependency tree... Done\n",
            "Reading state information... Done\n",
            "The following additional packages will be installed:\n",
            "  libvulkan1\n",
            "Recommended packages:\n",
            "  mesa-vulkan-drivers | vulkan-icd\n",
            "The following NEW packages will be installed:\n",
            "  libvulkan-dev libvulkan1\n",
            "0 upgraded, 2 newly installed, 0 to remove and 34 not upgraded.\n",
            "Need to get 1,020 kB of archives.\n",
            "After this operation, 17.2 MB of additional disk space will be used.\n",
            "Get:1 http://archive.ubuntu.com/ubuntu jammy/main amd64 libvulkan1 amd64 1.3.204.1-2 [128 kB]\n",
            "Get:2 http://archive.ubuntu.com/ubuntu jammy/main amd64 libvulkan-dev amd64 1.3.204.1-2 [892 kB]\n",
            "Fetched 1,020 kB in 2s (568 kB/s)\n",
            "Selecting previously unselected package libvulkan1:amd64.\n",
            "(Reading database ... 126102 files and directories currently installed.)\n",
            "Preparing to unpack .../libvulkan1_1.3.204.1-2_amd64.deb ...\n",
            "Unpacking libvulkan1:amd64 (1.3.204.1-2) ...\n",
            "Selecting previously unselected package libvulkan-dev:amd64.\n",
            "Preparing to unpack .../libvulkan-dev_1.3.204.1-2_amd64.deb ...\n",
            "Unpacking libvulkan-dev:amd64 (1.3.204.1-2) ...\n",
            "Setting up libvulkan1:amd64 (1.3.204.1-2) ...\n",
            "Setting up libvulkan-dev:amd64 (1.3.204.1-2) ...\n",
            "Processing triggers for libc-bin (2.35-0ubuntu3.8) ...\n",
            "/sbin/ldconfig.real: /usr/local/lib/libtbbmalloc.so.2 is not a symbolic link\n",
            "\n",
            "/sbin/ldconfig.real: /usr/local/lib/libtcm.so.1 is not a symbolic link\n",
            "\n",
            "/sbin/ldconfig.real: /usr/local/lib/libur_loader.so.0 is not a symbolic link\n",
            "\n",
            "/sbin/ldconfig.real: /usr/local/lib/libtbbbind_2_5.so.3 is not a symbolic link\n",
            "\n",
            "/sbin/ldconfig.real: /usr/local/lib/libumf.so.0 is not a symbolic link\n",
            "\n",
            "/sbin/ldconfig.real: /usr/local/lib/libtbbmalloc_proxy.so.2 is not a symbolic link\n",
            "\n",
            "/sbin/ldconfig.real: /usr/local/lib/libtbbbind_2_0.so.3 is not a symbolic link\n",
            "\n",
            "/sbin/ldconfig.real: /usr/local/lib/libhwloc.so.15 is not a symbolic link\n",
            "\n",
            "/sbin/ldconfig.real: /usr/local/lib/libur_adapter_level_zero.so.0 is not a symbolic link\n",
            "\n",
            "/sbin/ldconfig.real: /usr/local/lib/libtbb.so.12 is not a symbolic link\n",
            "\n",
            "/sbin/ldconfig.real: /usr/local/lib/libtbbbind.so.3 is not a symbolic link\n",
            "\n",
            "/sbin/ldconfig.real: /usr/local/lib/libur_adapter_opencl.so.0 is not a symbolic link\n",
            "\n",
            "/sbin/ldconfig.real: /usr/local/lib/libtcm_debug.so.1 is not a symbolic link\n",
            "\n",
            "Collecting mani_skill-nightly\n",
            "  Downloading mani_skill_nightly-2025.5.22.816-py3-none-any.whl.metadata (9.4 kB)\n",
            "Collecting numpy<2.0.0,>=1.22 (from mani_skill-nightly)\n",
            "  Downloading numpy-1.26.4-cp311-cp311-manylinux_2_17_x86_64.manylinux2014_x86_64.whl.metadata (61 kB)\n",
            "\u001b[2K     \u001b[90m━━━━━━━━━━━━━━━━━━━━━━━━━━━━━━━━━━━━━━━━\u001b[0m \u001b[32m61.0/61.0 kB\u001b[0m \u001b[31m6.3 MB/s\u001b[0m eta \u001b[36m0:00:00\u001b[0m\n",
            "\u001b[?25hRequirement already satisfied: scipy in /usr/local/lib/python3.11/dist-packages (from mani_skill-nightly) (1.15.3)\n",
            "Collecting dacite (from mani_skill-nightly)\n",
            "  Downloading dacite-1.9.2-py3-none-any.whl.metadata (17 kB)\n",
            "Collecting gymnasium==0.29.1 (from mani_skill-nightly)\n",
            "  Downloading gymnasium-0.29.1-py3-none-any.whl.metadata (10 kB)\n",
            "Requirement already satisfied: h5py in /usr/local/lib/python3.11/dist-packages (from mani_skill-nightly) (3.13.0)\n",
            "Requirement already satisfied: pyyaml in /usr/local/lib/python3.11/dist-packages (from mani_skill-nightly) (6.0.2)\n",
            "Requirement already satisfied: tqdm in /usr/local/lib/python3.11/dist-packages (from mani_skill-nightly) (4.67.1)\n",
            "Requirement already satisfied: GitPython in /usr/local/lib/python3.11/dist-packages (from mani_skill-nightly) (3.1.44)\n",
            "Requirement already satisfied: tabulate in /usr/local/lib/python3.11/dist-packages (from mani_skill-nightly) (0.9.0)\n",
            "Collecting transforms3d (from mani_skill-nightly)\n",
            "  Downloading transforms3d-0.4.2-py3-none-any.whl.metadata (2.8 kB)\n",
            "Collecting trimesh (from mani_skill-nightly)\n",
            "  Downloading trimesh-4.6.10-py3-none-any.whl.metadata (18 kB)\n",
            "Requirement already satisfied: imageio in /usr/local/lib/python3.11/dist-packages (from mani_skill-nightly) (2.37.0)\n",
            "Requirement already satisfied: IPython in /usr/local/lib/python3.11/dist-packages (from mani_skill-nightly) (7.34.0)\n",
            "Collecting pytorch-kinematics==0.7.5 (from mani_skill-nightly)\n",
            "  Downloading pytorch_kinematics-0.7.5-py3-none-any.whl.metadata (15 kB)\n",
            "Requirement already satisfied: pynvml in /usr/local/lib/python3.11/dist-packages (from mani_skill-nightly) (12.0.0)\n",
            "Collecting tyro>=0.8.5 (from mani_skill-nightly)\n",
            "  Downloading tyro-0.9.21-py3-none-any.whl.metadata (10 kB)\n",
            "Requirement already satisfied: huggingface-hub in /usr/local/lib/python3.11/dist-packages (from mani_skill-nightly) (0.31.2)\n",
            "Collecting mplib==0.1.1 (from mani_skill-nightly)\n",
            "  Downloading mplib-0.1.1-cp311-cp311-manylinux_2_17_x86_64.manylinux2014_x86_64.whl.metadata (3.7 kB)\n",
            "Collecting fast-kinematics==0.2.2 (from mani_skill-nightly)\n",
            "  Downloading fast_kinematics-0.2.2-cp311-cp311-manylinux_2_17_x86_64.manylinux2014_x86_64.whl.metadata (3.3 kB)\n",
            "Collecting sapien>=3.0.0.b1 (from mani_skill-nightly)\n",
            "  Downloading sapien-3.0.0b1-cp311-cp311-manylinux2014_x86_64.whl.metadata (10 kB)\n",
            "Requirement already satisfied: cloudpickle>=1.2.0 in /usr/local/lib/python3.11/dist-packages (from gymnasium==0.29.1->mani_skill-nightly) (3.1.1)\n",
            "Requirement already satisfied: typing-extensions>=4.3.0 in /usr/local/lib/python3.11/dist-packages (from gymnasium==0.29.1->mani_skill-nightly) (4.13.2)\n",
            "Requirement already satisfied: farama-notifications>=0.0.1 in /usr/local/lib/python3.11/dist-packages (from gymnasium==0.29.1->mani_skill-nightly) (0.0.4)\n",
            "Collecting toppra>=0.4.0 (from mplib==0.1.1->mani_skill-nightly)\n",
            "  Downloading toppra-0.6.3.tar.gz (256 kB)\n",
            "\u001b[2K     \u001b[90m━━━━━━━━━━━━━━━━━━━━━━━━━━━━━━━━━━━━━━\u001b[0m \u001b[32m256.1/256.1 kB\u001b[0m \u001b[31m28.1 MB/s\u001b[0m eta \u001b[36m0:00:00\u001b[0m\n",
            "\u001b[?25h  Installing build dependencies ... \u001b[?25l\u001b[?25hdone\n",
            "  Getting requirements to build wheel ... \u001b[?25l\u001b[?25hdone\n",
            "  Preparing metadata (pyproject.toml) ... \u001b[?25l\u001b[?25hdone\n",
            "Requirement already satisfied: absl-py in /usr/local/lib/python3.11/dist-packages (from pytorch-kinematics==0.7.5->mani_skill-nightly) (1.4.0)\n",
            "Requirement already satisfied: lxml in /usr/local/lib/python3.11/dist-packages (from pytorch-kinematics==0.7.5->mani_skill-nightly) (5.4.0)\n",
            "Requirement already satisfied: torch in /usr/local/lib/python3.11/dist-packages (from pytorch-kinematics==0.7.5->mani_skill-nightly) (2.6.0+cu124)\n",
            "Requirement already satisfied: matplotlib in /usr/local/lib/python3.11/dist-packages (from pytorch-kinematics==0.7.5->mani_skill-nightly) (3.10.0)\n",
            "Collecting pytorch-seed (from pytorch-kinematics==0.7.5->mani_skill-nightly)\n",
            "  Downloading pytorch_seed-0.2.0-py3-none-any.whl.metadata (3.8 kB)\n",
            "Collecting arm-pytorch-utilities (from pytorch-kinematics==0.7.5->mani_skill-nightly)\n",
            "  Downloading arm_pytorch_utilities-0.4.3-py3-none-any.whl.metadata (2.6 kB)\n",
            "Requirement already satisfied: requests>=2.22 in /usr/local/lib/python3.11/dist-packages (from sapien>=3.0.0.b1->mani_skill-nightly) (2.32.3)\n",
            "Requirement already satisfied: networkx in /usr/local/lib/python3.11/dist-packages (from sapien>=3.0.0.b1->mani_skill-nightly) (3.4.2)\n",
            "Requirement already satisfied: pyperclip in /usr/local/lib/python3.11/dist-packages (from sapien>=3.0.0.b1->mani_skill-nightly) (1.9.0)\n",
            "Requirement already satisfied: opencv-python>=4.0 in /usr/local/lib/python3.11/dist-packages (from sapien>=3.0.0.b1->mani_skill-nightly) (4.11.0.86)\n",
            "Requirement already satisfied: docstring-parser>=0.15 in /usr/local/lib/python3.11/dist-packages (from tyro>=0.8.5->mani_skill-nightly) (0.16)\n",
            "Requirement already satisfied: rich>=11.1.0 in /usr/local/lib/python3.11/dist-packages (from tyro>=0.8.5->mani_skill-nightly) (13.9.4)\n",
            "Collecting shtab>=1.5.6 (from tyro>=0.8.5->mani_skill-nightly)\n",
            "  Downloading shtab-1.7.2-py3-none-any.whl.metadata (7.4 kB)\n",
            "Requirement already satisfied: typeguard>=4.0.0 in /usr/local/lib/python3.11/dist-packages (from tyro>=0.8.5->mani_skill-nightly) (4.4.2)\n",
            "Requirement already satisfied: gitdb<5,>=4.0.1 in /usr/local/lib/python3.11/dist-packages (from GitPython->mani_skill-nightly) (4.0.12)\n",
            "Requirement already satisfied: filelock in /usr/local/lib/python3.11/dist-packages (from huggingface-hub->mani_skill-nightly) (3.18.0)\n",
            "Requirement already satisfied: fsspec>=2023.5.0 in /usr/local/lib/python3.11/dist-packages (from huggingface-hub->mani_skill-nightly) (2025.3.2)\n",
            "Requirement already satisfied: packaging>=20.9 in /usr/local/lib/python3.11/dist-packages (from huggingface-hub->mani_skill-nightly) (24.2)\n",
            "Requirement already satisfied: pillow>=8.3.2 in /usr/local/lib/python3.11/dist-packages (from imageio->mani_skill-nightly) (11.2.1)\n",
            "Requirement already satisfied: imageio-ffmpeg in /usr/local/lib/python3.11/dist-packages (from imageio[ffmpeg]->mani_skill-nightly) (0.6.0)\n",
            "Requirement already satisfied: psutil in /usr/local/lib/python3.11/dist-packages (from imageio[ffmpeg]->mani_skill-nightly) (5.9.5)\n",
            "Requirement already satisfied: setuptools>=18.5 in /usr/local/lib/python3.11/dist-packages (from IPython->mani_skill-nightly) (75.2.0)\n",
            "Collecting jedi>=0.16 (from IPython->mani_skill-nightly)\n",
            "  Downloading jedi-0.19.2-py2.py3-none-any.whl.metadata (22 kB)\n",
            "Requirement already satisfied: decorator in /usr/local/lib/python3.11/dist-packages (from IPython->mani_skill-nightly) (4.4.2)\n",
            "Requirement already satisfied: pickleshare in /usr/local/lib/python3.11/dist-packages (from IPython->mani_skill-nightly) (0.7.5)\n",
            "Requirement already satisfied: traitlets>=4.2 in /usr/local/lib/python3.11/dist-packages (from IPython->mani_skill-nightly) (5.7.1)\n",
            "Requirement already satisfied: prompt-toolkit!=3.0.0,!=3.0.1,<3.1.0,>=2.0.0 in /usr/local/lib/python3.11/dist-packages (from IPython->mani_skill-nightly) (3.0.51)\n",
            "Requirement already satisfied: pygments in /usr/local/lib/python3.11/dist-packages (from IPython->mani_skill-nightly) (2.19.1)\n",
            "Requirement already satisfied: backcall in /usr/local/lib/python3.11/dist-packages (from IPython->mani_skill-nightly) (0.2.0)\n",
            "Requirement already satisfied: matplotlib-inline in /usr/local/lib/python3.11/dist-packages (from IPython->mani_skill-nightly) (0.1.7)\n",
            "Requirement already satisfied: pexpect>4.3 in /usr/local/lib/python3.11/dist-packages (from IPython->mani_skill-nightly) (4.9.0)\n",
            "Requirement already satisfied: nvidia-ml-py<13.0.0a0,>=12.0.0 in /usr/local/lib/python3.11/dist-packages (from pynvml->mani_skill-nightly) (12.575.51)\n",
            "Requirement already satisfied: smmap<6,>=3.0.1 in /usr/local/lib/python3.11/dist-packages (from gitdb<5,>=4.0.1->GitPython->mani_skill-nightly) (5.0.2)\n",
            "Requirement already satisfied: parso<0.9.0,>=0.8.4 in /usr/local/lib/python3.11/dist-packages (from jedi>=0.16->IPython->mani_skill-nightly) (0.8.4)\n",
            "Requirement already satisfied: ptyprocess>=0.5 in /usr/local/lib/python3.11/dist-packages (from pexpect>4.3->IPython->mani_skill-nightly) (0.7.0)\n",
            "Requirement already satisfied: wcwidth in /usr/local/lib/python3.11/dist-packages (from prompt-toolkit!=3.0.0,!=3.0.1,<3.1.0,>=2.0.0->IPython->mani_skill-nightly) (0.2.13)\n",
            "Requirement already satisfied: charset-normalizer<4,>=2 in /usr/local/lib/python3.11/dist-packages (from requests>=2.22->sapien>=3.0.0.b1->mani_skill-nightly) (3.4.2)\n",
            "Requirement already satisfied: idna<4,>=2.5 in /usr/local/lib/python3.11/dist-packages (from requests>=2.22->sapien>=3.0.0.b1->mani_skill-nightly) (3.10)\n",
            "Requirement already satisfied: urllib3<3,>=1.21.1 in /usr/local/lib/python3.11/dist-packages (from requests>=2.22->sapien>=3.0.0.b1->mani_skill-nightly) (2.4.0)\n",
            "Requirement already satisfied: certifi>=2017.4.17 in /usr/local/lib/python3.11/dist-packages (from requests>=2.22->sapien>=3.0.0.b1->mani_skill-nightly) (2025.4.26)\n",
            "Requirement already satisfied: markdown-it-py>=2.2.0 in /usr/local/lib/python3.11/dist-packages (from rich>=11.1.0->tyro>=0.8.5->mani_skill-nightly) (3.0.0)\n",
            "Requirement already satisfied: contourpy>=1.0.1 in /usr/local/lib/python3.11/dist-packages (from matplotlib->pytorch-kinematics==0.7.5->mani_skill-nightly) (1.3.2)\n",
            "Requirement already satisfied: cycler>=0.10 in /usr/local/lib/python3.11/dist-packages (from matplotlib->pytorch-kinematics==0.7.5->mani_skill-nightly) (0.12.1)\n",
            "Requirement already satisfied: fonttools>=4.22.0 in /usr/local/lib/python3.11/dist-packages (from matplotlib->pytorch-kinematics==0.7.5->mani_skill-nightly) (4.58.0)\n",
            "Requirement already satisfied: kiwisolver>=1.3.1 in /usr/local/lib/python3.11/dist-packages (from matplotlib->pytorch-kinematics==0.7.5->mani_skill-nightly) (1.4.8)\n",
            "Requirement already satisfied: pyparsing>=2.3.1 in /usr/local/lib/python3.11/dist-packages (from matplotlib->pytorch-kinematics==0.7.5->mani_skill-nightly) (3.2.3)\n",
            "Requirement already satisfied: python-dateutil>=2.7 in /usr/local/lib/python3.11/dist-packages (from matplotlib->pytorch-kinematics==0.7.5->mani_skill-nightly) (2.9.0.post0)\n",
            "Requirement already satisfied: jinja2 in /usr/local/lib/python3.11/dist-packages (from torch->pytorch-kinematics==0.7.5->mani_skill-nightly) (3.1.6)\n",
            "Collecting nvidia-cuda-nvrtc-cu12==12.4.127 (from torch->pytorch-kinematics==0.7.5->mani_skill-nightly)\n",
            "  Downloading nvidia_cuda_nvrtc_cu12-12.4.127-py3-none-manylinux2014_x86_64.whl.metadata (1.5 kB)\n",
            "Collecting nvidia-cuda-runtime-cu12==12.4.127 (from torch->pytorch-kinematics==0.7.5->mani_skill-nightly)\n",
            "  Downloading nvidia_cuda_runtime_cu12-12.4.127-py3-none-manylinux2014_x86_64.whl.metadata (1.5 kB)\n",
            "Collecting nvidia-cuda-cupti-cu12==12.4.127 (from torch->pytorch-kinematics==0.7.5->mani_skill-nightly)\n",
            "  Downloading nvidia_cuda_cupti_cu12-12.4.127-py3-none-manylinux2014_x86_64.whl.metadata (1.6 kB)\n",
            "Collecting nvidia-cudnn-cu12==9.1.0.70 (from torch->pytorch-kinematics==0.7.5->mani_skill-nightly)\n",
            "  Downloading nvidia_cudnn_cu12-9.1.0.70-py3-none-manylinux2014_x86_64.whl.metadata (1.6 kB)\n",
            "Collecting nvidia-cublas-cu12==12.4.5.8 (from torch->pytorch-kinematics==0.7.5->mani_skill-nightly)\n",
            "  Downloading nvidia_cublas_cu12-12.4.5.8-py3-none-manylinux2014_x86_64.whl.metadata (1.5 kB)\n",
            "Collecting nvidia-cufft-cu12==11.2.1.3 (from torch->pytorch-kinematics==0.7.5->mani_skill-nightly)\n",
            "  Downloading nvidia_cufft_cu12-11.2.1.3-py3-none-manylinux2014_x86_64.whl.metadata (1.5 kB)\n",
            "Collecting nvidia-curand-cu12==10.3.5.147 (from torch->pytorch-kinematics==0.7.5->mani_skill-nightly)\n",
            "  Downloading nvidia_curand_cu12-10.3.5.147-py3-none-manylinux2014_x86_64.whl.metadata (1.5 kB)\n",
            "Collecting nvidia-cusolver-cu12==11.6.1.9 (from torch->pytorch-kinematics==0.7.5->mani_skill-nightly)\n",
            "  Downloading nvidia_cusolver_cu12-11.6.1.9-py3-none-manylinux2014_x86_64.whl.metadata (1.6 kB)\n",
            "Collecting nvidia-cusparse-cu12==12.3.1.170 (from torch->pytorch-kinematics==0.7.5->mani_skill-nightly)\n",
            "  Downloading nvidia_cusparse_cu12-12.3.1.170-py3-none-manylinux2014_x86_64.whl.metadata (1.6 kB)\n",
            "Requirement already satisfied: nvidia-cusparselt-cu12==0.6.2 in /usr/local/lib/python3.11/dist-packages (from torch->pytorch-kinematics==0.7.5->mani_skill-nightly) (0.6.2)\n",
            "Requirement already satisfied: nvidia-nccl-cu12==2.21.5 in /usr/local/lib/python3.11/dist-packages (from torch->pytorch-kinematics==0.7.5->mani_skill-nightly) (2.21.5)\n",
            "Requirement already satisfied: nvidia-nvtx-cu12==12.4.127 in /usr/local/lib/python3.11/dist-packages (from torch->pytorch-kinematics==0.7.5->mani_skill-nightly) (12.4.127)\n",
            "Collecting nvidia-nvjitlink-cu12==12.4.127 (from torch->pytorch-kinematics==0.7.5->mani_skill-nightly)\n",
            "  Downloading nvidia_nvjitlink_cu12-12.4.127-py3-none-manylinux2014_x86_64.whl.metadata (1.5 kB)\n",
            "Requirement already satisfied: triton==3.2.0 in /usr/local/lib/python3.11/dist-packages (from torch->pytorch-kinematics==0.7.5->mani_skill-nightly) (3.2.0)\n",
            "Requirement already satisfied: sympy==1.13.1 in /usr/local/lib/python3.11/dist-packages (from torch->pytorch-kinematics==0.7.5->mani_skill-nightly) (1.13.1)\n",
            "Requirement already satisfied: mpmath<1.4,>=1.1.0 in /usr/local/lib/python3.11/dist-packages (from sympy==1.13.1->torch->pytorch-kinematics==0.7.5->mani_skill-nightly) (1.3.0)\n",
            "Requirement already satisfied: mdurl~=0.1 in /usr/local/lib/python3.11/dist-packages (from markdown-it-py>=2.2.0->rich>=11.1.0->tyro>=0.8.5->mani_skill-nightly) (0.1.2)\n",
            "Requirement already satisfied: six>=1.5 in /usr/local/lib/python3.11/dist-packages (from python-dateutil>=2.7->matplotlib->pytorch-kinematics==0.7.5->mani_skill-nightly) (1.17.0)\n",
            "Requirement already satisfied: MarkupSafe>=2.0 in /usr/local/lib/python3.11/dist-packages (from jinja2->torch->pytorch-kinematics==0.7.5->mani_skill-nightly) (3.0.2)\n",
            "Downloading mani_skill_nightly-2025.5.22.816-py3-none-any.whl (101.7 MB)\n",
            "\u001b[2K   \u001b[90m━━━━━━━━━━━━━━━━━━━━━━━━━━━━━━━━━━━━━━━━\u001b[0m \u001b[32m101.7/101.7 MB\u001b[0m \u001b[31m8.2 MB/s\u001b[0m eta \u001b[36m0:00:00\u001b[0m\n",
            "\u001b[?25hDownloading fast_kinematics-0.2.2-cp311-cp311-manylinux_2_17_x86_64.manylinux2014_x86_64.whl (624 kB)\n",
            "\u001b[2K   \u001b[90m━━━━━━━━━━━━━━━━━━━━━━━━━━━━━━━━━━━━━━━━\u001b[0m \u001b[32m624.7/624.7 kB\u001b[0m \u001b[31m48.1 MB/s\u001b[0m eta \u001b[36m0:00:00\u001b[0m\n",
            "\u001b[?25hDownloading gymnasium-0.29.1-py3-none-any.whl (953 kB)\n",
            "\u001b[2K   \u001b[90m━━━━━━━━━━━━━━━━━━━━━━━━━━━━━━━━━━━━━━━━\u001b[0m \u001b[32m953.9/953.9 kB\u001b[0m \u001b[31m60.0 MB/s\u001b[0m eta \u001b[36m0:00:00\u001b[0m\n",
            "\u001b[?25hDownloading mplib-0.1.1-cp311-cp311-manylinux_2_17_x86_64.manylinux2014_x86_64.whl (12.1 MB)\n",
            "\u001b[2K   \u001b[90m━━━━━━━━━━━━━━━━━━━━━━━━━━━━━━━━━━━━━━━━\u001b[0m \u001b[32m12.1/12.1 MB\u001b[0m \u001b[31m29.3 MB/s\u001b[0m eta \u001b[36m0:00:00\u001b[0m\n",
            "\u001b[?25hDownloading pytorch_kinematics-0.7.5-py3-none-any.whl (60 kB)\n",
            "\u001b[2K   \u001b[90m━━━━━━━━━━━━━━━━━━━━━━━━━━━━━━━━━━━━━━━━\u001b[0m \u001b[32m60.0/60.0 kB\u001b[0m \u001b[31m6.8 MB/s\u001b[0m eta \u001b[36m0:00:00\u001b[0m\n",
            "\u001b[?25hDownloading numpy-1.26.4-cp311-cp311-manylinux_2_17_x86_64.manylinux2014_x86_64.whl (18.3 MB)\n",
            "\u001b[2K   \u001b[90m━━━━━━━━━━━━━━━━━━━━━━━━━━━━━━━━━━━━━━━━\u001b[0m \u001b[32m18.3/18.3 MB\u001b[0m \u001b[31m87.5 MB/s\u001b[0m eta \u001b[36m0:00:00\u001b[0m\n",
            "\u001b[?25hDownloading sapien-3.0.0b1-cp311-cp311-manylinux2014_x86_64.whl (49.6 MB)\n",
            "\u001b[2K   \u001b[90m━━━━━━━━━━━━━━━━━━━━━━━━━━━━━━━━━━━━━━━━\u001b[0m \u001b[32m49.6/49.6 MB\u001b[0m \u001b[31m10.8 MB/s\u001b[0m eta \u001b[36m0:00:00\u001b[0m\n",
            "\u001b[?25hDownloading transforms3d-0.4.2-py3-none-any.whl (1.4 MB)\n",
            "\u001b[2K   \u001b[90m━━━━━━━━━━━━━━━━━━━━━━━━━━━━━━━━━━━━━━━━\u001b[0m \u001b[32m1.4/1.4 MB\u001b[0m \u001b[31m70.5 MB/s\u001b[0m eta \u001b[36m0:00:00\u001b[0m\n",
            "\u001b[?25hDownloading tyro-0.9.21-py3-none-any.whl (125 kB)\n",
            "\u001b[2K   \u001b[90m━━━━━━━━━━━━━━━━━━━━━━━━━━━━━━━━━━━━━━━━\u001b[0m \u001b[32m125.3/125.3 kB\u001b[0m \u001b[31m15.9 MB/s\u001b[0m eta \u001b[36m0:00:00\u001b[0m\n",
            "\u001b[?25hDownloading dacite-1.9.2-py3-none-any.whl (16 kB)\n",
            "Downloading trimesh-4.6.10-py3-none-any.whl (711 kB)\n",
            "\u001b[2K   \u001b[90m━━━━━━━━━━━━━━━━━━━━━━━━━━━━━━━━━━━━━━━━\u001b[0m \u001b[32m711.2/711.2 kB\u001b[0m \u001b[31m59.7 MB/s\u001b[0m eta \u001b[36m0:00:00\u001b[0m\n",
            "\u001b[?25hDownloading jedi-0.19.2-py2.py3-none-any.whl (1.6 MB)\n",
            "\u001b[2K   \u001b[90m━━━━━━━━━━━━━━━━━━━━━━━━━━━━━━━━━━━━━━━━\u001b[0m \u001b[32m1.6/1.6 MB\u001b[0m \u001b[31m87.5 MB/s\u001b[0m eta \u001b[36m0:00:00\u001b[0m\n",
            "\u001b[?25hDownloading shtab-1.7.2-py3-none-any.whl (14 kB)\n",
            "Downloading arm_pytorch_utilities-0.4.3-py3-none-any.whl (40 kB)\n",
            "\u001b[2K   \u001b[90m━━━━━━━━━━━━━━━━━━━━━━━━━━━━━━━━━━━━━━━━\u001b[0m \u001b[32m41.0/41.0 kB\u001b[0m \u001b[31m4.0 MB/s\u001b[0m eta \u001b[36m0:00:00\u001b[0m\n",
            "\u001b[?25hDownloading pytorch_seed-0.2.0-py3-none-any.whl (4.2 kB)\n",
            "Downloading nvidia_cublas_cu12-12.4.5.8-py3-none-manylinux2014_x86_64.whl (363.4 MB)\n",
            "\u001b[2K   \u001b[90m━━━━━━━━━━━━━━━━━━━━━━━━━━━━━━━━━━━━━━━━\u001b[0m \u001b[32m363.4/363.4 MB\u001b[0m \u001b[31m3.8 MB/s\u001b[0m eta \u001b[36m0:00:00\u001b[0m\n",
            "\u001b[?25hDownloading nvidia_cuda_cupti_cu12-12.4.127-py3-none-manylinux2014_x86_64.whl (13.8 MB)\n",
            "\u001b[2K   \u001b[90m━━━━━━━━━━━━━━━━━━━━━━━━━━━━━━━━━━━━━━━━\u001b[0m \u001b[32m13.8/13.8 MB\u001b[0m \u001b[31m108.0 MB/s\u001b[0m eta \u001b[36m0:00:00\u001b[0m\n",
            "\u001b[?25hDownloading nvidia_cuda_nvrtc_cu12-12.4.127-py3-none-manylinux2014_x86_64.whl (24.6 MB)\n",
            "\u001b[2K   \u001b[90m━━━━━━━━━━━━━━━━━━━━━━━━━━━━━━━━━━━━━━━━\u001b[0m \u001b[32m24.6/24.6 MB\u001b[0m \u001b[31m80.7 MB/s\u001b[0m eta \u001b[36m0:00:00\u001b[0m\n",
            "\u001b[?25hDownloading nvidia_cuda_runtime_cu12-12.4.127-py3-none-manylinux2014_x86_64.whl (883 kB)\n",
            "\u001b[2K   \u001b[90m━━━━━━━━━━━━━━━━━━━━━━━━━━━━━━━━━━━━━━━━\u001b[0m \u001b[32m883.7/883.7 kB\u001b[0m \u001b[31m63.6 MB/s\u001b[0m eta \u001b[36m0:00:00\u001b[0m\n",
            "\u001b[?25hDownloading nvidia_cudnn_cu12-9.1.0.70-py3-none-manylinux2014_x86_64.whl (664.8 MB)\n",
            "\u001b[2K   \u001b[90m━━━━━━━━━━━━━━━━━━━━━━━━━━━━━━━━━━━━━━━━\u001b[0m \u001b[32m664.8/664.8 MB\u001b[0m \u001b[31m2.3 MB/s\u001b[0m eta \u001b[36m0:00:00\u001b[0m\n",
            "\u001b[?25hDownloading nvidia_cufft_cu12-11.2.1.3-py3-none-manylinux2014_x86_64.whl (211.5 MB)\n",
            "\u001b[2K   \u001b[90m━━━━━━━━━━━━━━━━━━━━━━━━━━━━━━━━━━━━━━━━\u001b[0m \u001b[32m211.5/211.5 MB\u001b[0m \u001b[31m7.1 MB/s\u001b[0m eta \u001b[36m0:00:00\u001b[0m\n",
            "\u001b[?25hDownloading nvidia_curand_cu12-10.3.5.147-py3-none-manylinux2014_x86_64.whl (56.3 MB)\n",
            "\u001b[2K   \u001b[90m━━━━━━━━━━━━━━━━━━━━━━━━━━━━━━━━━━━━━━━━\u001b[0m \u001b[32m56.3/56.3 MB\u001b[0m \u001b[31m13.1 MB/s\u001b[0m eta \u001b[36m0:00:00\u001b[0m\n",
            "\u001b[?25hDownloading nvidia_cusolver_cu12-11.6.1.9-py3-none-manylinux2014_x86_64.whl (127.9 MB)\n",
            "\u001b[2K   \u001b[90m━━━━━━━━━━━━━━━━━━━━━━━━━━━━━━━━━━━━━━━━\u001b[0m \u001b[32m127.9/127.9 MB\u001b[0m \u001b[31m7.5 MB/s\u001b[0m eta \u001b[36m0:00:00\u001b[0m\n",
            "\u001b[?25hDownloading nvidia_cusparse_cu12-12.3.1.170-py3-none-manylinux2014_x86_64.whl (207.5 MB)\n",
            "\u001b[2K   \u001b[90m━━━━━━━━━━━━━━━━━━━━━━━━━━━━━━━━━━━━━━━━\u001b[0m \u001b[32m207.5/207.5 MB\u001b[0m \u001b[31m5.7 MB/s\u001b[0m eta \u001b[36m0:00:00\u001b[0m\n",
            "\u001b[?25hDownloading nvidia_nvjitlink_cu12-12.4.127-py3-none-manylinux2014_x86_64.whl (21.1 MB)\n",
            "\u001b[2K   \u001b[90m━━━━━━━━━━━━━━━━━━━━━━━━━━━━━━━━━━━━━━━━\u001b[0m \u001b[32m21.1/21.1 MB\u001b[0m \u001b[31m63.4 MB/s\u001b[0m eta \u001b[36m0:00:00\u001b[0m\n",
            "\u001b[?25hBuilding wheels for collected packages: toppra\n",
            "  Building wheel for toppra (pyproject.toml) ... \u001b[?25l\u001b[?25hdone\n",
            "  Created wheel for toppra: filename=toppra-0.6.3-cp311-cp311-linux_x86_64.whl size=776157 sha256=5103b45bbc410ab76c89dd8a6ffb813c104b3afa3c6e8728d3fe9d8632f7064c\n",
            "  Stored in directory: /root/.cache/pip/wheels/57/59/c1/4daf9fdaf34e03a2d94430efe8b070346c86b15bc9d446c162\n",
            "Successfully built toppra\n",
            "Installing collected packages: shtab, nvidia-nvjitlink-cu12, nvidia-curand-cu12, nvidia-cufft-cu12, nvidia-cuda-runtime-cu12, nvidia-cuda-nvrtc-cu12, nvidia-cuda-cupti-cu12, nvidia-cublas-cu12, numpy, jedi, fast-kinematics, dacite, trimesh, transforms3d, nvidia-cusparse-cu12, nvidia-cudnn-cu12, gymnasium, tyro, sapien, nvidia-cusolver-cu12, toppra, pytorch-seed, mplib, arm-pytorch-utilities, pytorch-kinematics, mani_skill-nightly\n",
            "  Attempting uninstall: nvidia-nvjitlink-cu12\n",
            "    Found existing installation: nvidia-nvjitlink-cu12 12.5.82\n",
            "    Uninstalling nvidia-nvjitlink-cu12-12.5.82:\n",
            "      Successfully uninstalled nvidia-nvjitlink-cu12-12.5.82\n",
            "  Attempting uninstall: nvidia-curand-cu12\n",
            "    Found existing installation: nvidia-curand-cu12 10.3.6.82\n",
            "    Uninstalling nvidia-curand-cu12-10.3.6.82:\n",
            "      Successfully uninstalled nvidia-curand-cu12-10.3.6.82\n",
            "  Attempting uninstall: nvidia-cufft-cu12\n",
            "    Found existing installation: nvidia-cufft-cu12 11.2.3.61\n",
            "    Uninstalling nvidia-cufft-cu12-11.2.3.61:\n",
            "      Successfully uninstalled nvidia-cufft-cu12-11.2.3.61\n",
            "  Attempting uninstall: nvidia-cuda-runtime-cu12\n",
            "    Found existing installation: nvidia-cuda-runtime-cu12 12.5.82\n",
            "    Uninstalling nvidia-cuda-runtime-cu12-12.5.82:\n",
            "      Successfully uninstalled nvidia-cuda-runtime-cu12-12.5.82\n",
            "  Attempting uninstall: nvidia-cuda-nvrtc-cu12\n",
            "    Found existing installation: nvidia-cuda-nvrtc-cu12 12.5.82\n",
            "    Uninstalling nvidia-cuda-nvrtc-cu12-12.5.82:\n",
            "      Successfully uninstalled nvidia-cuda-nvrtc-cu12-12.5.82\n",
            "  Attempting uninstall: nvidia-cuda-cupti-cu12\n",
            "    Found existing installation: nvidia-cuda-cupti-cu12 12.5.82\n",
            "    Uninstalling nvidia-cuda-cupti-cu12-12.5.82:\n",
            "      Successfully uninstalled nvidia-cuda-cupti-cu12-12.5.82\n",
            "  Attempting uninstall: nvidia-cublas-cu12\n",
            "    Found existing installation: nvidia-cublas-cu12 12.5.3.2\n",
            "    Uninstalling nvidia-cublas-cu12-12.5.3.2:\n",
            "      Successfully uninstalled nvidia-cublas-cu12-12.5.3.2\n",
            "  Attempting uninstall: numpy\n",
            "    Found existing installation: numpy 2.0.2\n",
            "    Uninstalling numpy-2.0.2:\n",
            "      Successfully uninstalled numpy-2.0.2\n",
            "  Attempting uninstall: nvidia-cusparse-cu12\n",
            "    Found existing installation: nvidia-cusparse-cu12 12.5.1.3\n",
            "    Uninstalling nvidia-cusparse-cu12-12.5.1.3:\n",
            "      Successfully uninstalled nvidia-cusparse-cu12-12.5.1.3\n",
            "  Attempting uninstall: nvidia-cudnn-cu12\n",
            "    Found existing installation: nvidia-cudnn-cu12 9.3.0.75\n",
            "    Uninstalling nvidia-cudnn-cu12-9.3.0.75:\n",
            "      Successfully uninstalled nvidia-cudnn-cu12-9.3.0.75\n",
            "  Attempting uninstall: gymnasium\n",
            "    Found existing installation: gymnasium 1.1.1\n",
            "    Uninstalling gymnasium-1.1.1:\n",
            "      Successfully uninstalled gymnasium-1.1.1\n",
            "  Attempting uninstall: nvidia-cusolver-cu12\n",
            "    Found existing installation: nvidia-cusolver-cu12 11.6.3.83\n",
            "    Uninstalling nvidia-cusolver-cu12-11.6.3.83:\n",
            "      Successfully uninstalled nvidia-cusolver-cu12-11.6.3.83\n",
            "\u001b[31mERROR: pip's dependency resolver does not currently take into account all the packages that are installed. This behaviour is the source of the following dependency conflicts.\n",
            "thinc 8.3.6 requires numpy<3.0.0,>=2.0.0, but you have numpy 1.26.4 which is incompatible.\n",
            "dopamine-rl 4.1.2 requires gymnasium>=1.0.0, but you have gymnasium 0.29.1 which is incompatible.\u001b[0m\u001b[31m\n",
            "\u001b[0mSuccessfully installed arm-pytorch-utilities-0.4.3 dacite-1.9.2 fast-kinematics-0.2.2 gymnasium-0.29.1 jedi-0.19.2 mani_skill-nightly-2025.5.22.816 mplib-0.1.1 numpy-1.26.4 nvidia-cublas-cu12-12.4.5.8 nvidia-cuda-cupti-cu12-12.4.127 nvidia-cuda-nvrtc-cu12-12.4.127 nvidia-cuda-runtime-cu12-12.4.127 nvidia-cudnn-cu12-9.1.0.70 nvidia-cufft-cu12-11.2.1.3 nvidia-curand-cu12-10.3.5.147 nvidia-cusolver-cu12-11.6.1.9 nvidia-cusparse-cu12-12.3.1.170 nvidia-nvjitlink-cu12-12.4.127 pytorch-kinematics-0.7.5 pytorch-seed-0.2.0 sapien-3.0.0b1 shtab-1.7.2 toppra-0.6.3 transforms3d-0.4.2 trimesh-4.6.10 tyro-0.9.21\n"
          ]
        }
      ],
      "source": [
        "# setup vulkan\n",
        "!mkdir -p /usr/share/vulkan/icd.d\n",
        "!wget -q https://raw.githubusercontent.com/haosulab/ManiSkill/main/docker/nvidia_icd.json\n",
        "!wget -q https://raw.githubusercontent.com/haosulab/ManiSkill/main/docker/10_nvidia.json\n",
        "!mv nvidia_icd.json /usr/share/vulkan/icd.d\n",
        "!mv 10_nvidia.json /usr/share/glvnd/egl_vendor.d/10_nvidia.json\n",
        "!apt-get install -y --no-install-recommends libvulkan-dev\n",
        "# dependencies\n",
        "!pip install --upgrade mani_skill-nightly"
      ]
    },
    {
      "cell_type": "code",
      "execution_count": null,
      "metadata": {
        "id": "n6i6VVRfgCXj"
      },
      "outputs": [],
      "source": [
        "try:\n",
        "    import google.colab\n",
        "    IN_COLAB = True\n",
        "except:\n",
        "    IN_COLAB = False\n",
        "\n",
        "if IN_COLAB:\n",
        "    import site\n",
        "    site.main() # run this so local pip installs are recognized"
      ]
    },
    {
      "cell_type": "markdown",
      "metadata": {
        "id": "_NHolc8agFlu"
      },
      "source": [
        "## 1 Basic RL Programming (10 pts)\n",
        "\n",
        "This section will take you through the basics of RL programming/engineering and apply theory to practice."
      ]
    },
    {
      "cell_type": "markdown",
      "metadata": {
        "id": "6El8OhF1gLTX"
      },
      "source": [
        "### Problem 1.1: Building an environment, \"Avoid the Lava\" (3 pts)\n",
        "\n",
        "We will start with building a simple and visualizable environment called AvoidLava where a controllable agent on a 2D grid of tiles that can be empty or lava, and must find its way to the goal from a starting location.\n",
        "\n",
        "The standard environment interface is typically the [Gym/Gymnasium](https://gymnasium.farama.org/) interface. By adhering to this interface, a lot of RL libraries can work nearly out of the box on your custom environment. In the first assignment you had some experience using Gymnasium through ManiSkill. This section will task you to create a discrete action-space environment using Gymnasium alone without an additional framework.\n",
        "\n",
        "---\n",
        "\n",
        "For this task you need to implement the environment dynamics in the `step()` function, implement environment termination in `get_terminated()`, and implement your own reward function in `get_reward()`.\n",
        "\n",
        "In the Avoid the Lava game, the agent can take 4 discrete actions labelled 0, 1, 2, 3 (go up, right, down, left) on a 2D grid map and the agent position changes to reflect the action taken.\n",
        "\n",
        "If the agent tries to go to a map tile off screen (beyond the map size) nothing should happen, the agent position is unchanged.\n",
        "\n",
        "If the agent takes an action that leads it to end up on a map tile that is on lava, `get_terminated()` should return True.\n",
        "\n",
        "\n",
        "The reward function can be chosen by you, you must define it in `get_reward()`. This reward function must be sufficiently informative/dense such that the agent is encouraged to go towards the goal location and avoids losing due to falling in lava."
      ]
    },
    {
      "cell_type": "code",
      "execution_count": 34,
      "metadata": {
        "id": "XYvJoZjbxn4D"
      },
      "outputs": [],
      "source": [
        "import gymnasium as gym\n",
        "import numpy as np\n",
        "import matplotlib.pyplot as plt\n",
        "from moviepy import ImageSequenceClip\n",
        "\n",
        "# this map should be left unchanged\n",
        "DEFAULT_LAVA_MAP = np.array([\n",
        "    [0,3], [1, 1], [2, 1], [2, 3], [3, 3], [3, 4]\n",
        "])\n",
        "class AvoidLava(gym.Env):\n",
        "    def __init__(self, map_size: int = 5, lava_positions = DEFAULT_LAVA_MAP, **kwargs):\n",
        "        self.map_size = map_size\n",
        "        # define obs and action space to let libraries know what to expect as observation data\n",
        "        # and what to provide as action data. We do this for you.\n",
        "        self.lava_positions = lava_positions.copy()\n",
        "        self.observation_space = gym.spaces.Box(0, map_size, shape=(2, ))\n",
        "        self.action_space = gym.spaces.Discrete(4)\n",
        "    def reset(self, seed=None, options=None):\n",
        "        # reset the environment by generating a new map, goal location\n",
        "        # and spawn agent at a fixed start location\n",
        "        self.map_state = np.zeros((self.map_size, self.map_size))\n",
        "        self.agent_pos = np.zeros(2, dtype=int)\n",
        "        self.goal_pos = np.array([\n",
        "            0, 4\n",
        "        ])\n",
        "\n",
        "        return self.get_obs(), {}\n",
        "\n",
        "    def get_obs(self):\n",
        "        return self.agent_pos.copy()\n",
        "    \n",
        "    def get_terminated(self):\n",
        "        ### your code goes below ###\n",
        "        # Implement the env termination function, should return True/False\n",
        "        # return True if the agent is on lava\n",
        "        on_lava = np.any((self.lava_positions == self.agent_pos).all(axis=1))\n",
        "        return on_lava\n",
        "        ### your code goes above ###\n",
        "\n",
        "\n",
        "    def get_reward(self):\n",
        "        ### your code goes below ###\n",
        "        # Write the env reward function, should return a float ###\n",
        "        on_lava = self.get_terminated()\n",
        "        # penalty for being on lava\n",
        "        if on_lava:\n",
        "            return -100.0\n",
        "        # reward for reaching goal\n",
        "        if np.array_equal(self.agent_pos, self.goal_pos):\n",
        "            return 200.0\n",
        "        \n",
        "        return 1.0 # reward for moving\n",
        "        ### your code goes above ###\n",
        "\n",
        "\n",
        "    def step(self, action):\n",
        "        ### your code goes below ###\n",
        "        # Write the AvoidLava dynamics function below ###\n",
        "        # You can do it by simply updating self.agent_pos appropriately\n",
        "\n",
        "        # action definition. (0, 0) is bottom left, (self.map_size - 1, self.map_size) is top right corner of the map.\n",
        "        # 0: go up\n",
        "        # 1: go right\n",
        "        # 2: go down\n",
        "        # 3: go left\n",
        "        next_pos = None\n",
        "        # up\n",
        "        if action == 0:\n",
        "            next_pos = self.agent_pos + np.array([0, 1])\n",
        "        # right\n",
        "        elif action == 1:\n",
        "            next_pos = self.agent_pos + np.array([1, 0])\n",
        "        # down\n",
        "        elif action == 2:\n",
        "            next_pos = self.agent_pos + np.array([0, -1])\n",
        "        # left\n",
        "        elif action == 3:\n",
        "            next_pos = self.agent_pos + np.array([-1, 0])\n",
        "        else:\n",
        "            raise ValueError(f\"Invalid action: {action}\")\n",
        "        \n",
        "        # check if next_pos is out of bounds\n",
        "        if (0 <= next_pos[0] < self.map_size and  0 <= next_pos[1] < self.map_size):\n",
        "            self.agent_pos = next_pos\n",
        "        ### your code goes above ###\n",
        "\n",
        "        truncated = False\n",
        "        return self.get_obs(), self.get_reward(), self.get_terminated(), truncated, {}\n",
        "    \n",
        "    def render(self):\n",
        "        # very simple visualization code which returns a RGB array to visualize\n",
        "        # the current state\n",
        "        scale = 32\n",
        "        img = np.zeros((self.map_size * scale, self.map_size * scale, 3), dtype=int) + 255\n",
        "        def draw_cube(x, y, color, l=1):\n",
        "          img[img.shape[0] - scale - y*scale:img.shape[0] - scale-y*scale+l, x*scale:x*scale+l] = color\n",
        "        for lava_pos in self.lava_positions:\n",
        "            draw_cube(lava_pos[0], lava_pos[1], color=np.array([252, 81, 48]), l=scale)\n",
        "        draw_cube(self.goal_pos[0], self.goal_pos[1], color=np.array([35, 187, 74]), l=scale)\n",
        "        k = scale//2\n",
        "        img[img.shape[0] - self.agent_pos[1]*scale-2*k+k//2:img.shape[0] - self.agent_pos[1]*scale-k+k//2,\n",
        "            self.agent_pos[0]*scale+k//2:self.agent_pos[0]*scale+k+k//2] = np.array([25, 146, 237])\n",
        "        return img\n",
        "\n",
        "# Code below is just for recording videos to watch agents play the game\n",
        "def record_episode(imgs, file, fps=5):\n",
        "    from pathlib import Path\n",
        "    import os.path as osp\n",
        "    Path(osp.dirname(file)).mkdir(exist_ok=True, parents=True)\n",
        "    clip = ImageSequenceClip(imgs, fps=fps)\n",
        "    clip.write_videofile(file, logger=None)\n",
        "def display_video(path):\n",
        "    from IPython.display import HTML\n",
        "    from base64 import b64encode\n",
        "    mp4 = open(path,'rb').read()\n",
        "    data_url = \"data:video/mp4;base64,\" + b64encode(mp4).decode()\n",
        "    return HTML(\"\"\"\n",
        "    <video width=400 controls>\n",
        "          <source src=\"%s\" type=\"video/mp4\">\n",
        "    </video>\n",
        "    \"\"\" % data_url)"
      ]
    },
    {
      "cell_type": "code",
      "execution_count": 35,
      "metadata": {
        "colab": {
          "base_uri": "https://localhost:8080/"
        },
        "id": "tKiIFoVd3HOO",
        "outputId": "b69479f0-e981-4769-f51c-8a16c5fe9e8a"
      },
      "outputs": [
        {
          "data": {
            "text/plain": [
              "(array([0, 0]), {})"
            ]
          },
          "execution_count": 35,
          "metadata": {},
          "output_type": "execute_result"
        }
      ],
      "source": [
        "# we can create our environment and also specify the max number of episodes before the environment should reset\n",
        "env = AvoidLava(render_mode=\"rgb_array\")\n",
        "env = gym.wrappers.TimeLimit(env, max_episode_steps=20)\n",
        "\n",
        "# before using the environment you must reset at least once\n",
        "env.reset()"
      ]
    },
    {
      "cell_type": "markdown",
      "metadata": {
        "id": "WvOIUIX6IGXS"
      },
      "source": [
        "If you implemented your code correctly, the visualization of the initial environment state should look like below"
      ]
    },
    {
      "cell_type": "code",
      "execution_count": 36,
      "metadata": {
        "colab": {
          "base_uri": "https://localhost:8080/",
          "height": 451
        },
        "id": "Drox4R2I7sQV",
        "outputId": "b199ae4b-2b7e-4a7b-e042-28f614a7c089"
      },
      "outputs": [
        {
          "data": {
            "text/plain": [
              "<matplotlib.image.AxesImage at 0x75df2467ceb0>"
            ]
          },
          "execution_count": 36,
          "metadata": {},
          "output_type": "execute_result"
        },
        {
          "data": {
            "image/png": "[encoded data removed]",
            "text/plain": [
              "<Figure size 640x480 with 1 Axes>"
            ]
          },
          "metadata": {},
          "output_type": "display_data"
        }
      ],
      "source": [
        "plt.imshow(env.render())"
      ]
    },
    {
      "cell_type": "code",
      "execution_count": 37,
      "metadata": {
        "id": "Pcb3vggFINi6"
      },
      "outputs": [
        {
          "name": "stdout",
          "output_type": "stream",
          "text": [
            "Environment is implemented correctly!\n"
          ]
        }
      ],
      "source": [
        "#@markdown Test with asserts that the environment dynamics behave correctly. DO NO CHANGE THIS CODE, simply run it before submitting\n",
        "P1_1_PASS = False\n",
        "assert len(env.reset()) == 2, \"should return obs and info\"\n",
        "assert (env.unwrapped.agent_pos == np.array([0, 0])).all()\n",
        "\n",
        "env.action_space.seed(1)\n",
        "env.step(env.action_space.sample())\n",
        "env.step(env.action_space.sample())\n",
        "assert (env.unwrapped.agent_pos == np.array([1, 0])).all()\n",
        "\n",
        "env.reset()\n",
        "env.action_space.seed(1)\n",
        "for _ in range(20):\n",
        "    obs, _, terminated, truncated, info = env.step(2)\n",
        "assert truncated == True, \"time limit not working\"\n",
        "\n",
        "env.reset()\n",
        "env.action_space.seed(1)\n",
        "obs, rew1, terminated, truncated, info = env.step(0)\n",
        "obs, rew1, terminated, truncated, info = env.step(1)\n",
        "assert terminated == True, \"termination not working\"\n",
        "\n",
        "env.reset()\n",
        "env.action_space.seed(1)\n",
        "env.unwrapped.agent_pos = env.unwrapped.goal_pos.copy()\n",
        "obs, rew2, terminated, truncated, info = env.step(0)\n",
        "assert terminated == False, \"termination at goal not working. should not terminated at goal\"\n",
        "\n",
        "assert rew2 > rew1, \"it seems the reward of the agent landing on a goal is smaller than landing on lava. This reward function is very likely wrong and won't work.\"\n",
        "print(\"Environment is implemented correctly!\")\n",
        "P1_1_PASS = True"
      ]
    },
    {
      "cell_type": "markdown",
      "metadata": {
        "id": "WiXMTUbuH3Iy"
      },
      "source": [
        "A general environment loop looks like the below. We constantly sample actions whether randomly via the action space object or via a policy (we will make one later). An environment needs to be reset when either terminated or truncated are True, meaning either the agent has failed (hit lava) or has won (reached the goal). Ultimately the reward determines how well the agent is doing. The code also saves the first 20 frames as a video that you can watch with the tools shown below"
      ]
    },
    {
      "cell_type": "code",
      "execution_count": 38,
      "metadata": {
        "id": "LbVzE5nlF2Sr"
      },
      "outputs": [],
      "source": [
        "env.reset()\n",
        "imgs = []\n",
        "imgs.append(env.render())\n",
        "for i in range(20):\n",
        "    obs, rew, terminated, truncated, info = env.step(env.action_space.sample())\n",
        "    imgs.append(env.render())\n",
        "    done = terminated or truncated\n",
        "    if done:\n",
        "        env.reset()\n",
        "        imgs.append(env.render())\n",
        "record_episode(imgs[:20], \"result.mp4\")"
      ]
    },
    {
      "cell_type": "code",
      "execution_count": 39,
      "metadata": {
        "colab": {
          "base_uri": "https://localhost:8080/",
          "height": 421
        },
        "id": "2IItjLWZYdE0",
        "outputId": "7c0d6a38-db16-4146-a9a0-6fa1fb5413d7"
      },
      "outputs": [
        {
          "data": {
            "text/html": [
              "\n",
              "    <video width=400 controls>\n",
              "          <source src=\"data:video/mp4;base64,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\" type=\"video/mp4\">\n",
              "    </video>\n",
              "    "
            ],
            "text/plain": [
              "<IPython.core.display.HTML object>"
            ]
          },
          "execution_count": 39,
          "metadata": {},
          "output_type": "execute_result"
        }
      ],
      "source": [
        "display_video(\"result.mp4\")"
      ]
    },
    {
      "cell_type": "markdown",
      "metadata": {
        "id": "xgsogeMhMdky"
      },
      "source": [
        "### Problem 1.2: Learning to play AvoidLava with Tabular Q-Learning (5 pts)\n",
        "\n",
        "Here you have to implement a simple Q-Learning algorithm to learn to play the game.\n",
        "\n",
        "It is up to you to figure how to implement the algorithm from course lecture(s) in code below, some of the skeleton has already been made for you. You get full points for working code implementation that results in a successful evaluation of the agent.\n",
        "\n",
        "The solution implementation with lightly tuned hyperparameters took around 40,000 update iterations of Q-Learning / 5 seconds of time to learn to be able to solve the game from any starting agent position (despite only ever resetting to the same initial agent position).\n"
      ]
    },
    {
      "cell_type": "code",
      "execution_count": 40,
      "metadata": {
        "colab": {
          "base_uri": "https://localhost:8080/",
          "height": 49,
          "referenced_widgets": [
            "b9163e69db824736ab0f7d354fbe2216",
            "010d0b81f97d4a93be83f60aa38ba601",
            "32a95d9cd5ef436ba6d8fc847392a66c",
            "677e3400ddb241fba6a5107252e1b3b2",
            "c395959e4c0d4a1ca1b566115d12b220",
            "d4506ddde1ad43468e512b66b0077a39",
            "a1b34ccdbcea4ae5a7dd0b8b00e533e7",
            "b027b36b9a5748c3aae863acb0c247af",
            "bdd40b0f943448389276d18fdb74188a",
            "79c35cd2e0ea403d9a94e98ccdb77f94",
            "130b1ed3a097496fb0adea4ef48bed19"
          ]
        },
        "id": "QnxbnE7CNCWp",
        "outputId": "b410550c-68f7-4066-896e-40262714f608"
      },
      "outputs": [
        {
          "data": {
            "application/vnd.jupyter.widget-view+json": {
              "model_id": "e3afb2f98fcd494aa911d9b57c975729",
              "version_major": 2,
              "version_minor": 0
            },
            "text/plain": [
              "  0%|          | 0/40000 [00:00<?, ?it/s]"
            ]
          },
          "metadata": {},
          "output_type": "display_data"
        }
      ],
      "source": [
        "from tqdm.notebook import tqdm\n",
        "env = AvoidLava(render_mode=\"rgb_array\")\n",
        "env = gym.wrappers.TimeLimit(env, max_episode_steps=20)\n",
        "\n",
        "### your code goes below ###\n",
        "# Create an appropriate matrix (recommended) or dictionary below so that you can query and set Q(S, A), the state-action value. ###\n",
        "# Be wary about what the shape of the matrix should be, it should encapsulate all possible observation (state), action pairs\n",
        "ACTION_SPACE = env.action_space.n\n",
        "STATE_SPACE = env.unwrapped.map_size ** 2\n",
        "q_mat = np.zeros((STATE_SPACE, ACTION_SPACE))\n",
        "\n",
        "def state_to_index(state, map_size=5):\n",
        "    \"\"\"\n",
        "    map from state to index\n",
        "    \"\"\"\n",
        "    x, y = state\n",
        "    return x * map_size + y\n",
        "\n",
        "def index_to_state(index, map_size=5):\n",
        "    \"\"\"\n",
        "    map from index to state\n",
        "    \"\"\"\n",
        "    x = index // map_size\n",
        "    y = index % map_size\n",
        "    return np.array([x, y])\n",
        "\n",
        "### your code goes above ###\n",
        "\n",
        "np.random.seed(0)\n",
        "env.action_space.seed(0)\n",
        "obs, _ = env.reset() # obs is s_0\n",
        "\n",
        "# Hyperparameters of Q-Learning algorithm\n",
        "step_size = 0.25\n",
        "discount = 0.95\n",
        "N = 40000\n",
        "epsilon_start = 0.9  # initial eps\n",
        "epsilon_end = 0.05   # min eps\n",
        "epsilon_decay = 0.9995  # eps decay rate\n",
        "epsilon = epsilon_start\n",
        "\n",
        "# Epsilon-greedy to select action\n",
        "def epsilon_greedy(q_mat, state, epsilon):\n",
        "    if np.random.rand() < epsilon:\n",
        "        return env.action_space.sample()\n",
        "    else:\n",
        "        return np.argmax(q_mat[state_to_index(state)])\n",
        "\n",
        "for i in tqdm(range(N)):\n",
        "    ### your code goes below ###\n",
        "    # Write an action sampling strategy from lecture or make up your own ###\n",
        "    # You may not implement a ground truth action sampler (e.g. BFS)\n",
        "    # You may not modify environment state directly of env, you can only use env.step and env.reset\n",
        "    \n",
        "    ### your code goes above ###\n",
        "    obs, _ = env.reset()\n",
        "    done = False\n",
        "    \n",
        "    while not done:\n",
        "        # use epsilon-greedy to select action\n",
        "        action = epsilon_greedy(q_mat, obs, epsilon)\n",
        "        next_obs, reward, terminated, truncated, info = env.step(action)\n",
        "        done = terminated or truncated\n",
        "\n",
        "        # TD update\n",
        "        if not done:\n",
        "            td_target = reward + discount * np.max(q_mat[state_to_index(next_obs)])\n",
        "        else:\n",
        "            td_target = reward\n",
        "        td_error = td_target - q_mat[state_to_index(obs), action]\n",
        "        q_mat[state_to_index(obs), action] += step_size * td_error\n",
        "        obs = next_obs\n",
        "\n",
        "        ### your code goes below ###\n",
        "        # Implement TD(0) learning here by updating the value function (otherwise known as q_mat as a tabular form)\n",
        "        # Hints: obs is s_t, next_obs is s_{t+1}\n",
        "\n",
        "        ### your code goes above ###\n",
        "        \n",
        "    epsilon = max(epsilon_end, epsilon * epsilon_decay)"
      ]
    },
    {
      "cell_type": "markdown",
      "metadata": {
        "id": "spg2pVGoNn_P"
      },
      "source": [
        "### Problem 1.3: Visualizing the RL Agent\n",
        "\n",
        "This section has code to be filled out to visualize the behavior of the greedy RL agent acting on a trained Q function as well as visualize what the Q function has learned via a saliency map."
      ]
    },
    {
      "cell_type": "markdown",
      "metadata": {
        "id": "5gAbG6gkrC_a"
      },
      "source": [
        "#### Visualization of Q Function (1pt):\n",
        "\n",
        "Visualize the Q Function as a heatmap of the game map with cell value equal to $\\max_a {Q(s, a)}$ for cell $s$ in the map (it should be 5x5). You may or may not need to invert the y-axis, the map should resemble the actual gamemap in a way. You may find it interesting to also look at how your q function evolves during the course of training."
      ]
    },
    {
      "cell_type": "code",
      "execution_count": 41,
      "metadata": {},
      "outputs": [
        {
          "data": {
            "image/png": "[encoded data removed]",
            "text/plain": [
              "<Figure size 640x480 with 1 Axes>"
            ]
          },
          "metadata": {},
          "output_type": "display_data"
        }
      ],
      "source": [
        "fig, ax = plt.subplots(1, 1)\n",
        "\n",
        "### your code goes below ###\n",
        "# get max q value for each state\n",
        "max_q_values = np.max(q_mat, axis=1)\n",
        "heatmap = np.zeros((env.unwrapped.map_size, env.unwrapped.map_size))\n",
        "# fill heatmap \n",
        "for state_idx in range(STATE_SPACE):\n",
        "    x, y = index_to_state(state_idx)\n",
        "    # invert y axis\n",
        "    heatmap[y, x] = max_q_values[state_idx]\n",
        "\n",
        "\n",
        "im = ax.imshow(heatmap, cmap='viridis', origin='lower')\n",
        "\n",
        "# add text annotations\n",
        "for i in range(heatmap.shape[0]):  \n",
        "    for j in range(heatmap.shape[1]):  \n",
        "        value = heatmap[i, j]\n",
        "        ax.text(j, i, f\"{value:.2f}\", ha='center', va='center', \n",
        "                color='white' if value < heatmap.max() / 2 else 'black', \n",
        "                fontsize=8)\n",
        "\n",
        "# mark start and goal\n",
        "ax.plot(0, 4, 'r*', markersize=20, label='Goal')  \n",
        "ax.plot(0, 0, 'go', markersize=15, label='Start')\n",
        "ax.legend()\n",
        "\n",
        "# mark lava positions\n",
        "for lava_pos in DEFAULT_LAVA_MAP:\n",
        "    ax.plot(lava_pos[0], lava_pos[1], 'rs', markersize=12)\n",
        "\n",
        "ax.set_xticks(np.arange(env.unwrapped.map_size))\n",
        "ax.set_yticks(np.arange(env.unwrapped.map_size))\n",
        "\n",
        "### your code goes above ###\n",
        "fig.tight_layout()\n",
        "fig.savefig(\"P2_3.png\")\n",
        "plt.show()"
      ]
    },
    {
      "cell_type": "markdown",
      "metadata": {
        "id": "3vq6XKiufKM8"
      },
      "source": [
        "#### Evaluation videos from different starting positions (1pt):\n",
        "\n",
        "Using your trained Q function from earlier, fill in the code below to generate 3 videos of your agent playing the game. It must be trained sufficiently long enough such that in all trials below it solves the game each time. An `assert` is placed to check if the agent solved the task or not."
      ]
    },
    {
      "cell_type": "code",
      "execution_count": 42,
      "metadata": {
        "id": "GPVAeTmmdEfL"
      },
      "outputs": [
        {
          "name": "stdout",
          "output_type": "stream",
          "text": [
            "Trial 0: Reached goal at step 6\n",
            "Trial 1: Reached goal at step 9\n",
            "Trial 2: Reached goal at step 7\n"
          ]
        }
      ],
      "source": [
        "for trial, start_pos in enumerate([(0, 0), (3, 0), (4, 3)]):\n",
        "    obs, _ = env.reset()\n",
        "    env.unwrapped.agent_pos = np.array(start_pos) # not good RL practice but for the purpose of homework we set it like this\n",
        "    obs = env.unwrapped.get_obs()\n",
        "    imgs = []\n",
        "    imgs.append(env.render())\n",
        "\n",
        "    ### your code goes below ###\n",
        "    # Using the environment loop and your q function, record videos of your agents\n",
        "    # behavior below with the agent in different starting positions.\n",
        "    for i in range(20):\n",
        "        # check if the agent has reached the goal\n",
        "        if np.array_equal(obs, env.unwrapped.goal_pos):\n",
        "            print(f\"Trial {trial}: Reached goal at step {i}\")\n",
        "            imgs.append(env.render())\n",
        "            break\n",
        "        # get action from q table\n",
        "        action = np.argmax(q_mat[state_to_index(obs)])\n",
        "        obs, rew, terminated, truncated, info = env.step(action)\n",
        "        imgs.append(env.render())\n",
        "        done = terminated or truncated\n",
        "        if done:\n",
        "            env.reset()\n",
        "            imgs.append(env.render())\n",
        "            break\n",
        "\n",
        "    ### your code goes above ###\n",
        "\n",
        "    record_episode(imgs, f\"p_1_3_trial_{trial}.mp4\")\n",
        "    # do not remove the assert here\n",
        "    assert (env.unwrapped.agent_pos == env.unwrapped.goal_pos).all(), \"agent was not succesful\""
      ]
    },
    {
      "cell_type": "code",
      "execution_count": 43,
      "metadata": {
        "id": "YgHeQfm3dz4T"
      },
      "outputs": [
        {
          "data": {
            "text/html": [
              "\n",
              "    <video width=400 controls>\n",
              "          <source src=\"data:video/mp4;base64,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\" type=\"video/mp4\">\n",
              "    </video>\n",
              "    "
            ],
            "text/plain": [
              "<IPython.core.display.HTML object>"
            ]
          },
          "execution_count": 43,
          "metadata": {},
          "output_type": "execute_result"
        }
      ],
      "source": [
        "display_video(\"p_1_3_trial_0.mp4\")"
      ]
    },
    {
      "cell_type": "code",
      "execution_count": 45,
      "metadata": {
        "id": "4MgJiLnkeNHb"
      },
      "outputs": [
        {
          "data": {
            "text/html": [
              "\n",
              "    <video width=400 controls>\n",
              "          <source src=\"data:video/mp4;base64,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\" type=\"video/mp4\">\n",
              "    </video>\n",
              "    "
            ],
            "text/plain": [
              "<IPython.core.display.HTML object>"
            ]
          },
          "execution_count": 45,
          "metadata": {},
          "output_type": "execute_result"
        }
      ],
      "source": [
        "display_video(\"p_1_3_trial_1.mp4\")"
      ]
    },
    {
      "cell_type": "code",
      "execution_count": 46,
      "metadata": {
        "id": "izChxOchePsR"
      },
      "outputs": [
        {
          "data": {
            "text/html": [
              "\n",
              "    <video width=400 controls>\n",
              "          <source src=\"data:video/mp4;base64,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\" type=\"video/mp4\">\n",
              "    </video>\n",
              "    "
            ],
            "text/plain": [
              "<IPython.core.display.HTML object>"
            ]
          },
          "execution_count": 46,
          "metadata": {},
          "output_type": "execute_result"
        }
      ],
      "source": [
        "display_video(\"p_1_3_trial_2.mp4\")"
      ]
    },
    {
      "cell_type": "markdown",
      "metadata": {
        "id": "uypxaf_1oNb0"
      },
      "source": [
        "## 2 Deep Reinforcement Learning (10 pts)\n",
        "\n",
        "This section will take you through the basics of deep reinforcement learning and how we evolve from tabular learning methods done in section 2 to more modern deep RL methods that can solve far more complex environments.\n",
        "\n",
        "We will tackle a classic control problem known as CartPole via a Deep Q-Network. The objective is to move the cart left/right to keep the pole upright and not to let it fall.\n",
        "\n",
        "Note that this environment has a different setup compared to the lava game, and further more its default time limit is 500 steps compared to the 20 we used for the lava game (this long time limit may be something of note for DQN training)"
      ]
    },
    {
      "cell_type": "code",
      "execution_count": 47,
      "metadata": {
        "colab": {
          "base_uri": "https://localhost:8080/",
          "height": 448
        },
        "id": "EXgGJ4q5oYcT",
        "outputId": "25748739-30d0-4121-bd1b-bae4cacf09fb"
      },
      "outputs": [
        {
          "name": "stdout",
          "output_type": "stream",
          "text": [
            "Observation Space: Box([-4.8000002e+00 -3.4028235e+38 -4.1887903e-01 -3.4028235e+38], [4.8000002e+00 3.4028235e+38 4.1887903e-01 3.4028235e+38], (4,), float32)\n",
            "Action Space: Discrete(2)\n"
          ]
        },
        {
          "data": {
            "text/plain": [
              "<matplotlib.image.AxesImage at 0x75df178a2b00>"
            ]
          },
          "execution_count": 47,
          "metadata": {},
          "output_type": "execute_result"
        },
        {
          "data": {
            "image/png": "[encoded data removed]",
            "text/plain": [
              "<Figure size 640x480 with 1 Axes>"
            ]
          },
          "metadata": {},
          "output_type": "display_data"
        }
      ],
      "source": [
        "env = gym.make(\"CartPole-v1\", render_mode=\"rgb_array\")\n",
        "env.reset()\n",
        "print(\"Observation Space:\", env.observation_space)\n",
        "print(\"Action Space:\", env.action_space)\n",
        "plt.imshow(env.render())"
      ]
    },
    {
      "cell_type": "markdown",
      "metadata": {
        "id": "rsyE8kRuuU-e"
      },
      "source": [
        "Notably the observation space is continuous (Box space), meaning tabular methods will likely struggle / are non-trivial to write. This is where deep learning shines, neural networks are great function approximators and overfitting seen data, we can use those to replace our previous matrix-table backed Q function in Problem 1."
      ]
    },
    {
      "cell_type": "markdown",
      "metadata": {
        "id": "0fVZooequlnt"
      },
      "source": [
        "### Problem 2.1 Building the Neural Nets (2pts)\n",
        "\n",
        "We will use PyTorch for this course, first implement a basic neural network with PyTorch that can take in observations from the gym environment, pass it through a deep network and generate a scalar value for every possible discrete action representing a predicted Q value.\n",
        "\n",
        "A GPU is not necessary here, it will run very fast."
      ]
    },
    {
      "cell_type": "code",
      "execution_count": 6,
      "metadata": {
        "id": "2PRIwFeAoaFa"
      },
      "outputs": [],
      "source": [
        "import torch\n",
        "import torch.nn as nn\n",
        "import torch.nn.functional as F\n",
        "import torch.optim as optim\n",
        "class QNet(nn.Module):\n",
        "    ### your code goes below ###\n",
        "    def __init__(self, obs_dim=4, action_dim=2):\n",
        "        super().__init__()\n",
        "        self.fc1 = nn.Linear(obs_dim, 128)\n",
        "        self.fc2 = nn.Linear(128, 128)\n",
        "        self.fc3 = nn.Linear(128, action_dim)\n",
        "\n",
        "    def forward(self, obs):\n",
        "        x = F.relu(self.fc1(obs))\n",
        "        x = F.relu(self.fc2(x))\n",
        "        return self.fc3(x)\n",
        "\n",
        "    ### your code goes above ###"
      ]
    },
    {
      "cell_type": "code",
      "execution_count": 48,
      "metadata": {
        "id": "DHGJOo5MvWUo"
      },
      "outputs": [],
      "source": [
        "# quick sanity test\n",
        "P2_1_PASS = False\n",
        "q_function = QNet()\n",
        "obs, _ = env.reset()\n",
        "obs = torch.from_numpy(obs)\n",
        "assert q_function(obs).shape == (2, )\n",
        "P2_1_PASS = True"
      ]
    },
    {
      "cell_type": "markdown",
      "metadata": {
        "id": "99yTPBzLwX7H"
      },
      "source": [
        "### Problem 2.2 Building a ReplayBuffer (2pts)\n",
        "\n",
        "Fundamental to DQN and many modern deep RL algorithms is the replay buffer, a object to effectively hold past seen environment transitions to then train on in the future. Implement the code below to enable insertion of environment transition data (observation, next_observation, action, reward, done) and sampling batches of data for training.\n",
        "\n",
        "If you aren't sure about the shapes, play around with env.step() return values. Note that `done = terminated or truncated`."
      ]
    },
    {
      "cell_type": "code",
      "execution_count": 27,
      "metadata": {
        "id": "pyk72ez5xEWZ"
      },
      "outputs": [],
      "source": [
        "class ReplayBuffer:\n",
        "    def __init__(self, buffer_size: int, obs_space: gym.spaces.Space, action_space: gym.spaces.Space):\n",
        "        self.buffer_size = buffer_size\n",
        "\n",
        "        ### your code goes below ###\n",
        "        # You may want to add code here to initialize some things\n",
        "        obs_dim = obs_space.shape[0]\n",
        "        action_dim = action_space.n\n",
        "\n",
        "        # buffer for storing transitions\n",
        "        self.obs = np.zeros((buffer_size, obs_dim), dtype=np.float32)\n",
        "        self.next_obs = np.zeros((buffer_size, obs_dim), dtype=np.float32)\n",
        "        self.rewards = np.zeros(buffer_size, dtype=np.float32)\n",
        "        self.actions = np.zeros(buffer_size, dtype=np.int64)\n",
        "        self.dones = np.zeros(buffer_size, dtype=bool)\n",
        "\n",
        "        # current pointer\n",
        "        self.ptr = 0\n",
        "        # current size\n",
        "        self.size = 0\n",
        "        \n",
        "\n",
        "        ### your code goes above ###\n",
        "\n",
        "    def store(self, obs, next_obs, reward, action, done):\n",
        "        ### your code goes below ###\n",
        "        self.obs[self.ptr] = obs\n",
        "        self.next_obs[self.ptr] = next_obs\n",
        "        self.rewards[self.ptr] = reward\n",
        "        self.actions[self.ptr] = action\n",
        "        self.dones[self.ptr] = done\n",
        "        \n",
        "        # update pointer\n",
        "        self.ptr = (self.ptr + 1) % self.buffer_size\n",
        "        # update size\n",
        "        self.size = min(self.size + 1, self.buffer_size)\n",
        "        ### your code goes above ###\n",
        "        return\n",
        "\n",
        "    def sample(self, batch_size: int):\n",
        "        \n",
        "        ### your code goes below ###\n",
        "        # Should return a batch of observations, next_obs, rewards, actions, and dones as a tuple\n",
        "\n",
        "        # random sample batch_size transitions\n",
        "        indices = np.random.randint(0, self.size, size=batch_size)\n",
        "        obs = self.obs[indices]\n",
        "        next_obs = self.next_obs[indices]\n",
        "        rewards = self.rewards[indices]\n",
        "        actions = self.actions[indices]\n",
        "        dones = self.dones[indices]\n",
        "\n",
        "        ### your code goes above ###\n",
        "        return torch.from_numpy(obs).float(), torch.from_numpy(next_obs).float(), torch.from_numpy(rewards).float(), torch.from_numpy(actions), torch.from_numpy(dones).float()"
      ]
    },
    {
      "cell_type": "code",
      "execution_count": 28,
      "metadata": {
        "id": "kFccS6YaxihJ"
      },
      "outputs": [],
      "source": [
        "# quick sanity check for ReplayBuffer\n",
        "P2_2_PASS = False\n",
        "buffer = ReplayBuffer(4, env.observation_space, env.action_space)\n",
        "obs, _ = env.reset()\n",
        "action = env.action_space.sample()\n",
        "for _ in range(5):\n",
        "    next_obs, reward, terminated, truncated, _ = env.step(action)\n",
        "    buffer.store(obs, next_obs, reward, action, terminated or truncated)\n",
        "    obs = next_obs\n",
        "b_obs, b_next_obs, b_rewards, b_actions, b_dones = buffer.sample(batch_size=2)\n",
        "assert b_obs.shape == (2, *obs.shape), b_next_obs.shape == (2, *obs.shape)\n",
        "assert b_rewards.shape == (2, )\n",
        "assert b_actions.shape == (2, )\n",
        "P2_2_PASS = True"
      ]
    },
    {
      "cell_type": "markdown",
      "metadata": {
        "id": "7RfaX78czNNW"
      },
      "source": [
        "### Problem 2.3: DQN Training (6pts)\n",
        "Your task here is to implement code below to train a Deep Q Network (DQN). DQN isn't explicitly covered in lecture but we describe the pseudocode below which should have aspects that look similar to lecture content\n",
        "\n",
        "DQN\n",
        "1. Initialize the replay buffer $D$ and Q network $Q$ with two sets of weights, $\\theta$ and $\\theta'$ which are initially equal. $\\theta$ is the behavior policy's weights, and $\\theta'$ is for the target network.\n",
        "2. At each environment timestep:\n",
        "    1. Let $s$ be the current state/observation. With probability $\\epsilon$ sample a random action $a$. Otherwise greedily select $a = \\arg \\max_a Q_\\theta(s, a)$\n",
        "    2. Execute $a$ in the environment and receive reward $r$ and next state/observation $s'$.\n",
        "    3. Add transition $(s, a, s', r)$ to $D$.\n",
        "    4. Every $i$ environment steps (the behavior network update frequency), sample batch from $D$ and compute the TD loss. The TD loss is defined as $TD_\\theta(s, a, s', r)= ||Q_\\theta(s, a) - [r + \\gamma_{a'} \\max Q'_\\theta (s', a')]||^2$.\n",
        "    5. Note that in practice, environments might terminate/truncate (when env is done). In those situations the $\\gamma_{a'} \\max Q'_\\theta (s', a')$ term should be set to 0.\n",
        "    6. Perform gradient descent\n",
        "    7. Every $j$ environment steps (the target network update frequency), set $\\theta'$ equal to $\\theta$.\n",
        "    8. Update $\\epsilon$ (typically to smaller and smaller values to encourage agent to take more greedy actions over time).\n",
        "\n",
        "\n",
        "\n",
        "\n",
        "\n",
        "\n",
        "Training should generally take about a minute if implemented correctly and using not too large of a neural network and training batch size.\n",
        "\n",
        "Part of this task is to have a general understanding of how to tune RL algorithms, it is a highly practical skill to have for future projects and robot learning in general, especially since RL algorithms are often very black-box. The given hyperparameters are not tuned. They will work, but you will need to modify them a little in order to train a strong enough agent."
      ]
    },
    {
      "cell_type": "code",
      "execution_count": 31,
      "metadata": {
        "colab": {
          "base_uri": "https://localhost:8080/",
          "height": 136,
          "referenced_widgets": [
            "0046d2d38f7841a1a3e6cca1453aa36e",
            "7f551383d0334b5faafffe973c2c90ee",
            "cb4c13f69877491e9c86f51f4994e594",
            "575332b205b84b089641fb4a3503d96d",
            "ae418a7507bd4172a1c2b46a5b466a00",
            "77fb60f7840c4abd8102c3baa2b0a740",
            "bf256bba7c924167955f49de330ffaae",
            "b426bd2faa4241b789c7923789df845e",
            "160a04d02bc342f58acff4c1b6340463",
            "13cc908517cb4bba98c00ef5b098cc86",
            "667a2617238747e58a6ccd181c266cba"
          ]
        },
        "id": "1g9epmQ4zMxg",
        "outputId": "9762afe8-87ef-4af9-9e15-252fe349537b"
      },
      "outputs": [
        {
          "data": {
            "application/vnd.jupyter.widget-view+json": {
              "model_id": "e24fe96549dd47eda3815f648c211be7",
              "version_major": 2,
              "version_minor": 0
            },
            "text/plain": [
              "  0%|          | 0/50000 [00:00<?, ?it/s]"
            ]
          },
          "metadata": {},
          "output_type": "display_data"
        },
        {
          "name": "stdout",
          "output_type": "stream",
          "text": [
            "step: 0, eval_eps_ret: 9.0\n",
            "step: 10000, eval_eps_ret: 252.0\n",
            "step: 20000, eval_eps_ret: 211.0\n",
            "step: 30000, eval_eps_ret: 280.0\n",
            "step: 40000, eval_eps_ret: 500.0\n"
          ]
        }
      ],
      "source": [
        "np.random.seed(3)\n",
        "torch.manual_seed(3)\n",
        "### your code goes below ###\n",
        "# tune these hyperparameters, the ones provided work but train slowly\n",
        "buffer_size = 10000\n",
        "batch_size = 32\n",
        "discount = 0.99\n",
        "learning_starts = 1000\n",
        "training_iterations = 50_000 # for grading, this may not be changed\n",
        "learning_rate = 1e-3\n",
        "behavior_net_update_freq = 4\n",
        "target_net_update_freq = 100\n",
        "### your code goes above ###\n",
        "\n",
        "# Create a training env and eval env\n",
        "env = gym.make(\"CartPole-v1\")\n",
        "eval_env = gym.make(\"CartPole-v1\", render_mode=\"rgb_array\")\n",
        "device = torch.device(\"cuda\" if torch.cuda.is_available() else \"cpu\")\n",
        "\n",
        "# Create behavior net and target net\n",
        "behavior_net = QNet()\n",
        "target_net = QNet()\n",
        "target_net.load_state_dict(behavior_net.state_dict())\n",
        "optimizer = optim.Adam(behavior_net.parameters(), lr=learning_rate)\n",
        "\n",
        "# Create replay buffer\n",
        "buffer = ReplayBuffer(buffer_size, env.observation_space, env.action_space)\n",
        "\n",
        "def evaluate(save_video: str = None):\n",
        "    # Evaluates the current agent and report the return and episode length\n",
        "    eps_ret = 0\n",
        "    eps_len = 0\n",
        "    done = False\n",
        "    obs, _ = eval_env.reset()\n",
        "    imgs = []\n",
        "    while not done:\n",
        "        obs, rew, terminated, truncated, info = eval_env.step(behavior_net(torch.from_numpy(obs)).argmax().cpu().numpy())\n",
        "        if save_video is not None:\n",
        "            imgs.append(eval_env.render())\n",
        "        eps_ret += rew\n",
        "        eps_len += 1\n",
        "        done = terminated or truncated\n",
        "        if done:\n",
        "            break\n",
        "    if save_video is not None:\n",
        "        record_episode(imgs, save_video, fps=60)\n",
        "    return eps_ret, eps_len\n",
        "\n",
        "def get_epsilon(step):\n",
        "    ### your code goes below ###\n",
        "    # Implement a custom schedule to reduce epsilon over time so that the RL agent\n",
        "    # takes greedy actions more often\n",
        "    # Linear decay from epsilon_start to epsilon_end\n",
        "    epsilon_start = 1.0\n",
        "    epsilon_end = 0.01\n",
        "    epsilon_decay_steps = 10000  # Decay over 10k steps\n",
        "    \n",
        "    if step < epsilon_decay_steps:\n",
        "        epsilon = epsilon_start - (epsilon_start - epsilon_end) * (step / epsilon_decay_steps)\n",
        "    else:\n",
        "        epsilon = epsilon_end\n",
        "    \n",
        "    return epsilon\n",
        "\n",
        "from tqdm.notebook import tqdm\n",
        "pbar = tqdm(range(training_iterations))\n",
        "\n",
        "obs, _ = env.reset()\n",
        "for step in pbar:\n",
        "    ### your code goes below ###\n",
        "    # epsilon-greedy\n",
        "    if np.random.rand() < get_epsilon(step):\n",
        "        action = env.action_space.sample()\n",
        "    else:\n",
        "        action = behavior_net(torch.from_numpy(obs)).argmax().cpu().numpy()\n",
        "    ### your code goes above ###\n",
        "\n",
        "    next_obs, reward, termination, truncation, info = env.step(action)\n",
        "    done = termination or truncation\n",
        "\n",
        "    # store data and reset env if necessary\n",
        "    buffer.store(obs, next_obs, reward, action, done)\n",
        "    obs = next_obs\n",
        "    if done:\n",
        "        obs, _ = env.reset()\n",
        "\n",
        "    if step > learning_starts:\n",
        "        if step % behavior_net_update_freq == 0:\n",
        "            b_obs, b_next_obs, b_rewards, b_actions, b_dones = buffer.sample(batch_size)\n",
        "            ### your code goes below ###\n",
        "            # Implement the training code for optimizing the behavior network, you will need\n",
        "            # to leverage the target network to ensure training stability.\n",
        "            # Careful to note that in this homework for good performance you should ensure you don't\n",
        "            # create a temporal difference target that includes discounted values if it is the final frame (check via b_dones)\n",
        "\n",
        "            # compute td target\n",
        "            with torch.no_grad():\n",
        "                max_next_q_values = target_net(b_next_obs).max(dim=1)[0] # size (batch_size, )\n",
        "                td_target = b_rewards + discount * max_next_q_values * (1 - b_dones) # size (batch_size, )\n",
        "                \n",
        "\n",
        "            # compute td loss\n",
        "            current_q_values = behavior_net(b_obs).gather(1, b_actions.unsqueeze(1)).squeeze(1) # size (batch_size, )\n",
        "            td_loss = F.mse_loss(current_q_values, td_target)\n",
        "            optimizer.zero_grad()\n",
        "            td_loss.backward()\n",
        "            optimizer.step()\n",
        "            ### your code goes above ###\n",
        "\n",
        "        if step % target_net_update_freq == 0:\n",
        "            ### your code goes below ###\n",
        "            # Implement the code to copy the target network. Aren't sure what to do? Check pytorch documentation!\n",
        "            target_net.load_state_dict(behavior_net.state_dict())\n",
        "            ### your code goes above ###\n",
        "\n",
        "    # every 10000 iterations evaluate once and save a video\n",
        "    if step % 10_000 == 0:\n",
        "        eval_eps_ret, eval_eps_len = evaluate(save_video=f\"cartpole_videos/{step}.mp4\")\n",
        "        pbar.set_postfix(dict(eval_eps_ret=eval_eps_ret, eval_eps_len=eval_eps_len, epsilon=get_epsilon(step)))\n",
        "        print(f\"step: {step}, eval_eps_ret: {eval_eps_ret}\")\n"
      ]
    },
    {
      "cell_type": "code",
      "execution_count": 32,
      "metadata": {
        "id": "IjPFgJhwFRtt"
      },
      "outputs": [
        {
          "name": "stdout",
          "output_type": "stream",
          "text": [
            "Average Return:  500.0\n"
          ]
        }
      ],
      "source": [
        "eval_env.reset(seed=0)\n",
        "avg_ret = 0\n",
        "trials = 20\n",
        "for trial in range(trials):\n",
        "    ret, _ = evaluate()\n",
        "    avg_ret += ret\n",
        "avg_ret /= trials\n",
        "print(\"Average Return: \", avg_ret)\n",
        "assert avg_ret >= 400, f\"agent does not perform well enough. Average return is {avg_ret} < 400, tune the hyperparameters/make sure DQN is implemented correctly\"\n",
        "P2_3_RET = avg_ret"
      ]
    },
    {
      "cell_type": "code",
      "execution_count": 33,
      "metadata": {
        "id": "8FsuOqpLFutr"
      },
      "outputs": [
        {
          "data": {
            "text/html": [
              "\n",
              "    <video width=400 controls>\n",
              "          <source src=\"data:video/mp4;base64,AAAAIGZ0eXBpc29tAAACAGlzb21pc28yYXZjMW1wNDEAAAAIZnJlZQAAZ3RtZGF0AAACrwYF//+r3EXpvebZSLeWLNgg2SPu73gyNjQgLSBjb3JlIDE2NCByMzE5MSA0NjEzYWMzIC0gSC4yNjQvTVBFRy00IEFWQyBjb2RlYyAtIENvcHlsZWZ0IDIwMDMtMjAyNCAtIGh0dHA6Ly93d3cudmlkZW9sYW4ub3JnL3gyNjQuaHRtbCAtIG9wdGlvbnM6IGNhYmFjPTEgcmVmPTMgZGVibG9jaz0xOjA6MCBhbmFseXNlPTB4MzoweDExMyBtZT1oZXggc3VibWU9NyBwc3k9MSBwc3lfcmQ9MS4wMDowLjAwIG1peGVkX3JlZj0xIG1lX3JhbmdlPTE2IGNocm9tYV9tZT0xIHRyZWxsaXM9MSA4eDhkY3Q9MSBjcW09MCBkZWFkem9uZT0yMSwxMSBmYXN0X3Bza2lwPTEgY2hyb21hX3FwX29mZnNldD0tMiB0aHJlYWRzPTEyIGxvb2thaGVhZF90aHJlYWRzPTIgc2xpY2VkX3RocmVhZHM9MCBucj0wIGRlY2ltYXRlPTEgaW50ZXJsYWNlZD0wIGJsdXJheV9jb21wYXQ9MCBjb25zdHJhaW5lZF9pbnRyYT0wIGJmcmFtZXM9MyBiX3B5cmFtaWQ9MiBiX2FkYXB0PTEgYl9iaWFzPTAgZGlyZWN0PTEgd2VpZ2h0Yj0xIG9wZW5fZ29wPTAgd2VpZ2h0cD0yIGtleWludD0yNTAga2V5aW50X21pbj0yNSBzY2VuZWN1dD00MCBpbnRyYV9yZWZyZXNoPTAgcmNfbG9va2FoZWFkPTQwIHJjPWNyZiBtYnRyZWU9MSBjcmY9MjMuMCBxY29tcD0wLjYwIHFwbWluPTAgcXBtYXg9NjkgcXBzdGVwPTQgaXBfcmF0aW89MS40MCBhcT0xOjEuMDAAgAAAAbpliIQAI//+9Sf4FNQS/Evha2Ht1LdJMNFwsS2z0AALh9gAAAMABos5cdzoV+13UAAAEMADgB9BlB5iJirFQJYNiy0CIT2Eda4/BeVs8diyAX2+OHhzIhOUhXbPx6snS/YklM4xNlsz8iHwVJ/c3KvSYul+/TpPPfoCnC5s+onRZVuf6bVHo3pcX9maQsKBtRtdA+w5l1PruHs3wHfvL7i1A78gfbAgcCclvTpf4LnGQNM6rDvGOTAPTSmfLXBj4D+/MyDQSy7+egjoAYhJ/vNi+H0WdhWPn4Hdsr/EwLHoAtwjt4R8RnvJgjaO8gf/P6WIhbhlPEWhvB5wXSNvZ6UTqYGfXtbKtxdRWtdxDagbQQdg1OMiMvgVc5MBRrhhBPl8/e2pF3td1wH6LGS+L0ZpeoZGBWYu3KTCfZ9WpWid9yaad9OrTqFCtCVX55bZZlTomy+MGluX3gn4NahCpzqpDo3pxJalnSS4AmV9qhfpnNEPiAByXvI7LO9qunAAUOTwuKtxBF8HPE2SyWQ+xGqBydNTLSZCjFLqX/1ECf4+peeCJNStCYAALegACawAgwAAAwAAAwAAAwGdAAAAzUGaJGxCP/3hAAAEE+mA3/l01hVIAQOKl2ZjWcZHpX8phXKSzI8GZsgJF/oIAUK70DH7LtMIc73wPX8rwBzJrVfrqCqTrdkXG3eObFFSAwFlxgLXI/hidH8/TFc1IMRX8zgzSwrNlurgsOMpDEwW+2jyzsRJVP169rydKxcgy7nXFfFe8mnyn2Gq/VCAJU0zzaswnTF8FxtHxc1NNgrZEeARJPqWv+B6pm/UfnzOa2KhlTnvqkgbjQ+GcMOLj3NTWOM87xsSn9RaMNfhMIAAAAA0QZ5CeIR/AAAWsywKJh438hpRk8NgdGdvZYGpO3fcOrcgP+j6eHxWp4mLNS7+N3lPcuvSoQAAACsBnmF0R/8AACOr+F7YPRkO3X2TEx+oxmacokMf04LecQhBJoC2I4uFlVKgAAAALwGeY2pH/wAAI78EJxLLk6EnMbOqfrn5hT/RmmKARAgZI1Rbv0tK3wqoxiwGR1SpAAAAyUGaaEmoQWiZTAhH//3hAAAEE2JnDTThqgPq9CzqJ33vleUDGLQUUyn76tlwU6SF6cgufja0I+pf12LtdcCoBOVZNj2CSK1VB+oLVAKX7SULwhQ32q7xKDeGFmn/S9Bv5MjxWlG8xI1dK38U/7rUs520Y/R8IUlQ3Qxz5Z//5jkEKx2K63uNM1mUgXt7f1JxDNYf3eZYdhOtJfESudhT+YVNE0lH6uX1MjtsY/tIkHVPEeTkwLSJD9pwvpnmd2+QksRQWPk0WGxsdQAAAEtBnoZFESwj/wAAFrw9GuQqaCA1T9QcJr4C6Ld1zlL1oicnEDW4JocbmY0ppuuRa4edFV5KE4smOkP6oADZir+zTj6cYraQTihHuOEAAAAuAZ6ldEf/AAAiw0Crf2ZbIIGgHCi8ImIIw6GxlJ0x1oYIoA8nfSyGJjGWksS/wQAAADoBnqdqR/8AACPHSNQHn8vuoizjXpd+NBp7AXAy9Fip6S6wcqEMwNgG0QM0TJzuLTb50m7OVp4MoRUYAAAAs0GarEmoQWyZTAhH//3hAAAEE3wPkST5121SSOODO+usya8VbIn8ZGL0+hM9/csOCD08+gHjreEcBQVRTfvNtTikzdjzzvtvKMbP5ZIjDJbQpF1YECEIomIbLcLyzRMy+pT2qQ1MoVTU5DdBc9NW9yRovTOGoQkKU4H+oaJpuQXyKigBvLVJ9wnCFKat2rW1khxal4eQraCrCXjvTG2nQ0GB+SJS5rfBuEYVq0ouRWv5tEsYAAAAOEGeykUVLCP/AAAWsyu1BJbwW+w3UOmeYCpKmxjCB9A37Xlgeu8OSn+bLHoA7qKfbWvt3GCdI15JAAAAMgGe6XRH/wAAIqw5YLA46AnT7hrTI+VnkG4BxafIcpDyF2uauPpmEB848yvQsnWcFQmAAAAAHwGe62pH/wAAI7HMCW/gRZ+3C+iZ9Ww5dEi2h1dgD7YAAABDQZrwSahBbJlMCP/8hAAAD+7/dSve36ycpBPTtWm8sZgttCFQJXPizTOBX6nSGZM6ALiXLbWEq9/msOMYXqNsW3aXwQAAADZBnw5FFSwj/wAAFrUUfWOTo+PznWhoKxQ4kAQ18Km4jxfN0HIs4bu/Nm2hWhgQ75wUEkyBwIEAAAAgAZ8tdEf/AAAjwxdoqaVQmEsGkQjdHjrza2UDrh+w2YEAAAAsAZ8vakf/AAAivx+JYTfohC6ILcq2jxARkdRoJYzqXlWnnf+7gBShoBCEGzAAAAB1QZs0SahBbJlMCEf//eEAAAMD9U2fEOibVnt6Jhf+W/SIK4q0L36dCYs/6DsbOtKg28acSzvA2wmpmu4Y3QJGJirvAFV6VmQYZ2lsxnYa8Z6r/yza+Amo6XSj7/V5GbgZbx9ZBuwh0S2GihI3x1QTYRLeDpeAAAAANkGfUkUVLCP/AAAWIyyuHK1iE6ZIYPOLV1yWkaNBy68YbSScdsVIklGRJLeLfCOzoVKk8cXsBQAAACwBn3F0R/8AACKsQldYqaBeilf24m4Jm2Yz25yIwRhimIVb6YrXbB4+rygYtwAAACgBn3NqR/8AACK/GvOGm10h2KDroi6IJ6gYiWe8+kDdDvaC4tv63O2YAAAAgkGbeEmoQWyZTAj//IQAAA98Nfl6C4e84Umgff9knZm98jYpoxC9vdh+Uo5h5RBaMrOocBuj58LoD/hN4H8BXZbU4DDN+ALSvnZqI28hBAOkdDugtqzxcHp8L6NSYQ+avqKLRVKBVvJpVko/1pGJdEs7oWh3GHpDbQ5rPrteR7snH/sAAABKQZ+WRRUsfwAAIr8ZRuUMmp9qSbYdnrTFL69+YmwpayBuYfFSUpa/VMm+JHwhidhy5nWVs/xqQRMKsb2TABtQAlDsHd5II0Ex24AAAAAxAZ+1dEf/AAAFHQmifE2Cubx3O+/kaAd2yXtOEXiN7KX/LvPASu3EXoz8iXUJyDTtswAAADYBn7dqR/8AACKyKG1cHHOcy+jFLhPCiQFM0iLsXxPONmg/rOPL7J2bp6suIKWcqAqUbbWdbMEAAACEQZu6SahBbJlMFEwj//3hAAADA/d2DJwbAFqioV0trl1NSCWEta22zoMbbbWsqydtk2hGzyGVlzWo1WLu+WWLhL1jt1kC0zJ+TMpXYkqqFsuhcg9w2vFF/bhZgle81ZMHrSxbeTItEnX+fME/SRANUPR0PovoFD5cqWPYjFToqjy0TF/RAAAAPQGf2WpH/wAAIrHr/T8Afz0d6isEVLl+QMcEAsqdFXjkYCfC/K6Rx95gpPO3phxBCTJ1gXIXadHP6ZAD9s0AAACbQZveSeEKUmUwI//8hAAAD3vmk3Tv3IXy3yYAvsKtK0cH5AwwkMZ3xbnqWEP+UlIipYP9O2ji2HidiRoxlike0Da4cGqjQPlgQpzUzlMUz4C1Js3ychjvTcUomDgUlA+biLIHMiadUFAfXb0ug5T7F6zi96ucU/StEaoYKRuVGYzEImw0Geb/CwUgO/p0qsJDjbZAjqkUOJvoFO8AAABCQZ/8RTRMI/8AABYGHAxGme2YQCRwMzaSl6r+qANNXiG52ADin4nSz0dBXZevcX1Ji1VMnT4O+6ZcmljSzFa//43pAAAAWAGeG3RH/wAAIpK17cCcD+AE6j7ZEQf9YwUT//e6XZx65FKh43J9W45yj7rIUNFCydyVdywUWkVG+/I+6LoxWv10HUdmhFPfRg/0X6os3q8bNr6b8bxvi8sAAAAtAZ4dakf/AAAiPcwNz16t3dEsHbqLY21Ca2vqgZBWlLnxalVrsQJKIDYBX5t6AAAAhkGaAkmoQWiZTAhH//3hAAADA/ZGy2u02Ma6cAUd2xMUa7Vx0/5fsNU/hphQlrfBviJH4xtG8Z0yEkPK7LQPfk/qfgUhIJYy2L6mEtQNnbnP4PXiOXkDN4ABv1Qau9kI3pfAlNL3czn60ANHWbX4uX2NxL7hcQwK269jMaVmHSPsees2a4GcAAAAO0GeIEURLH8AACKuMcxOvve6OQKpGnEru7RtxfE78Ur8S6l4zWt4n/gQUz9ZAzvtBhuqCWBC7iFpx86ZAAAAKwGeX3RH/wAAIpixDzikICOKQ4VjuAawuJrehMLJmU91f/qc8scWOkiTYQsAAAA0AZ5Bakf/AAAivwQnEypwAD+aXsRfeBUxatxy/ykC/64YqmC7WEFLBs87xTPVpSN7lyNFwQAAALpBmkZJqEFsmUwIR//94QAAAwP2gwU3gDtdZnSA14gJnAAcbWKJyzNLFRI5LjBPJl+qzbF3o0f1yD98Zj/N7KyfFV7WAkhperlwODRSTK+Z86mqUWA45IsIKKvHQ/7T0JUg39FpSv///+BDgD4X/iWWjl8HeyWDXmheBuJlVK5/FaplDCdldz4MUdp7rtCLL3AKHSVkkwDOZoCV5EKUpzKD1Hw0gQGMfA0rBywLUKtmGIv6MVxZKBeZirAAAAAzQZ5kRRUsI/8AABYinqi0QXdx85CBtXMIETBCjkt04SP3ClSSpsIi2OUGqKpRN5W0wFGBAAAAKgGeg3RH/wAAIqv4W4ky5Ooveiaw1ytAS9EETlvje6faJn+8NSo5OPK1VwAAADMBnoVqR/8AACKxzBOT/zm3UgxF10Fe/N0XPL5g36h09AZwwAnV5pD79cdmp7gJy+YwgGEAAABrQZqKSahBbJlMCEf//eEAAAMD+7/qZlhv51ADaJswVMojoOe5p/jbaQIv1XeTv4k2YKV66PvrZDcaSXF8AErxP4KttG/OxBKFDCOjHcd2KyZfJaCGVtaLo4gZSs227H6kMWawVEl3zeYUZEcAAAA4QZ6oRRUsI/8AABYint43ODQwifLknOcdAKTvzNZrSH7VytpKj7834QXTDjIy3ItP9fBKh5j6MyoAAAAqAZ7HdEf/AAAiqc7Fk4V0NubItCpY+do27l2tDEaBKrsqxyq6LboXnCpAAAAAJgGeyWpH/wAAIrHBDcaCc/ygA+TC66LRlfSZtKlx4aJDKfgImDjhAAAAXkGazkmoQWyZTAhH//3hAAADA98+tFRBPgA2ixRgrjIHydAP3q1speNkW0lzWAP+sJDaVr8wERmBnily5Ojym+5ISaby2Bm5X7IdrZ7/ih8pvZG3VVfqaJ8Ulsfi8uwAAABLQZ7sRRUsI/8AABWSn02wcP8l8yPtNZmjmtLZanSpRXDJiZ9RjjMCVN9ti7wS/UwRsZErJpnH6tRKtIgBtPbrnvcoTVgATdJM+HuSAAAAGwGfC3RH/wAAIanP6x+CwmGPyLN0ANuGnwYMCQAAAEUBnw1qR/8AACGuMvr711I/dMsEVLl+QpDDXwZnjiG972aGQFyx3ldGlBYABb/bRASgjxvG+HAhu1EFfE5zsr+U+p7O/HEAAABJQZsSSahBbJlMCEf//eEAAAMD4Wf0wyvEeKjiQPd3xH+fLRm7ORLtkAjjrhpSzX8iL8vR/XsU8BYgAR25eZNZ2gHi888XceGpgQAAAChBnzBFFSwj/wAAFZKe3jcbRwqSyLe4E95b3cIiVtyY4gOUfPDCxK44AAAAKQGfT3RH/wAAIav4W3gSZzQDU42temWgudnbsZ7XKAHfCBBUPAgd+eSAAAAAHgGfUWpH/wAAIa4xL9F5Q7PNtkCe5RwoCHqWuYq+TQAAAD5Bm1ZJqEFsmUwIR//94QAAAwPfTY4b85xXnMKoQT2XxAMBPe+fr+9MJqjdJg5mYZIaNEbCnfLF4DcZFbhiKAAAACZBn3RFFSwj/wAAFZMrtQW5HDSxIhQQSLma1Z8/DGcIE/obVusowAAAAC0Bn5N0R/8AACHDF2ippXk8vO7zmPdUVWgA/Zxe2lo2zdK1e0SmZcBJum33yYEAAAAlAZ+Vakf/AAAhscwJb6vlDeNASem8I+sacNXKE9mf/W7q08lztgAAAElBm5pJqEFsmUwIR//94QAAAwPfOHgsXU90u5IpB+jNAbZIAbEgfwUNNSoGHetO/TeNbOZa++BSFHmx62b43r872FpFKuFb/vdBAAAANEGfuEUVLCP/AAAVkyu1BcE0AKsZINURrD7x+4PHDVFGStVCAaFvu4YXi+yZWafPU5BCO2EAAAAlAZ/XdEf/AAAhwLgeu2d6Ya5EHWZ2BYrAc9YltW3FpkfzBzc7YAAAAB8Bn9lqR/8AACG/BCcSyWmauFZeUS2beLzsYRNoNjthAAAAWUGb3kmoQWyZTAhH//3hAAADA+W/62y92Q1ID0qKAG5GueUw0cqRGnFGB9Xfc2vc3oA1E2+Am9Y0yWeDwdrCZ2hdeRWAIzrFZ1rQ3UdYIV1qwftpTmNZpBOAAAAAI0Gf/EUVLCP/AAAVkp6vlJ+wmKfEoQr30xs2InM/8ux5zEVBAAAAJQGeG3RH/wAAIav4W3gSZzQDU42temWgudnLzIQzcorLRtJ+hFUAAAAnAZ4dakf/AAAhrjEv0XlDs822QGVD6gDyD1ShS58+jMEjXkgVVSjAAAAAdEGaAkmoQWyZTAhH//3hAAADA8lNntFk6E/eGBuygATqfjmYlqhfoqv7BBg677PHZ+JCyIfPHNI82SwpgZcNVGkFG1STshh6yzKhCkh44mFwI/N4ZFfIUAqUNyqYW+ARLw7PfH1f1NIGbjDDmyl0ppzepcNgAAAAOEGeIEUVLCP/AAAVAyyLxKp+O+WOWs0sBUOliExr1+4LrC3QtkeL64yHpPuQQPhnHa7BqMFECEmfAAAAQAGeX3RH/wAAIMM7Y0Wa1CAEu9EECWF8vR+PrtbQcMzl+S+ROqLlXeQ/+yA5E+kc0w5WaV9FtNJvMDwC/qu139wAAAAiAZ5Bakf/AAAgsisIkhcabBsA4+HeqAt5utK/OB+kDav52QAAAFhBmkZJqEFsmUwIR//94QAAAwPLZM2tBJkgGof5f13s69a3mUrhv22cjVbf0SV15CLv/l+i+Sx3HOec8lvs6qFfM7HgwHNjmj4qlCvVCrcDxMO43GfEw0KAAAAANkGeZEUVLCP/AAAVAp9JmfRMazqovK5DlyTbZ4kJWvFMKAFo6A3V86BhjwV0avr6GQ32qO10wQAAAB8BnoN0R/8AACCsGO2dJgSAFGUWTzIveUvM7Unzz4sxAAAALQGehWpH/wAAIK4yP4wvEpjB3QAfJwcOAAHF+9jGHJdSXVgaQB4Ak5EkPcNI+QAAADlBmopJqEFsmUwIR//94QAAAwPJTY4b85xYvXZLEAkvyQbr+B4sXvhfNGGxczooXCusrEvJIfuv5HkAAAAhQZ6oRRUsI/8AABUDK7UFuRwv5dDXsZLuUXGHEZVIGNlWAAAALQGex3RH/wAAIKv4W3gSZzQDU45BUKSrxEgeIoATIlhv5UKPgRI7xQONwTE8oAAAACYBnslqR/8AACCxzAlvpZNAOkaCgqtsPZR7vuYbcuX+vLCvrgUkfQAAAENBms5JqEFsmUwIR//94QAAAwPJOH/t+d2gA0z4jLwtgI3Oheyvd8Ye/SZFctPbMaIYO33r2UJGimfssHMWU4K8dvBgAAAAIkGe7EUVLCP/AAAVC19itpT09HJPYFHVHK6k+HM5EmedmVYAAAAfAZ8LdEf/AAAgwLjfwV6RZRH6gdAzFufplQpMrLPjywAAAB0Bnw1qR/8AACC/BCcSyWmauFZTHyo7fi+tjQSVYQAAAD1BmxJJqEFsmUwIR//94QAAAwPJTY4b85xYvXX0DI3pAACgoFFbeSEvIYRy1IzNvJ1Pd2i7+D4Ph+m/tA6ZAAAAIkGfMEUVLCP/AAAVAyu1BbkcL+XQ17Go5+ZhqpzrACDb6VYAAAAcAZ9PdEf/AAAgwxdoqaVT1PvCCY6wGC3W67BHwAAAAB0Bn1FqR/8AACCxzAlvqW+yFUkWi01DwJJ7zirpgQAAAF1Bm1ZJqEFsmUwIR//94QAAAwPJTYM07SDks1F2DwMZy5JXIASpZilU8qcN3kkCC/di6w5LQgj0jnB8kxMd60q79wj9Xd5YyDPE4ocMATgw0ujsix21FX1R1eRgAcAAAAAjQZ90RRUsI/8AABUDK7UFtyQYl+zE0kIcjr/d3SepYcVEnlAAAAAjAZ+TdEf/AAAgq/hbiTL0jlNKFq5BpPJN49DvQ/mQze0mVYEAAAAiAZ+Vakf/AAAgscwJb/UDmLjc216cFb5J78BnQ5GdFEGlmwAAAEVBm5pJqEFsmUwIR//94QAAAwPPv+pkMG/oC48gLOlVZ+Tign+gQtrToFsg7c1tbhfIAYDszZhHRtqPpEmzK7oKjhKTSnEAAAArQZ+4RRUsI/8AABUFNz9eWxsFjtNDGu+N+WjVzm2x2aSd4qYLRgxOVyzshwAAAB4Bn9d0R/8AACDAuN/BXpHas1Rh4F8DfVHIazYgxYAAAAAjAZ/Zakf/AAAfx/1WprOjAjHEqWBQG+LCeAdvrG6jNWM7CzEAAABAQZveSahBbJlMCEf//eEAAAMDs02ejSq6FEj4eCzwZWkAwtuJQvK2bqAReREkWEHKzRJuM0Dwiswk6Gj3HTncDgAAACRBn/xFFSwj/wAAFHMsi8S1GDpJz70s9dxSeZXMbbxmILN0d1MAAAAdAZ4bdEf/AAAfyxsPGNhPQsNAYy5gZxB0HWLHjqUAAAAVAZ4dakf/AAAfx/1WxrLAohhG/HzAAAAASkGaAkmoQWyZTAhH//3hAAADA7NNhdZIBR+WYd0EHGruXqM991oKknjaie0unx/FLtwBcP7/p+t5I8XqEUWamBu8tgNuhFpX7AK8AAAAQUGeIEUVLCP/AAAUe5SR6ulONxS7RvWuCAICcpE/8FNZecqi1Ow9/wJIiq32OAR98H9KHl3ajYGNhXl7ZVLwJN7RAAAAIQGeX3RH/wAAH8sbDnqnKQmqZdE0SjTHFjlSpG7PA8nbMAAAACIBnkFqR/8AAB/H/VSX8TcdTDgg+kBOhorKPuqEViKxu5XTAAAAVEGaRkmoQWyZTAhH//3hAAADA7NNjiEkG02iUeWbA6yFEpXp1roA8OwpggPgMoYkd8NVPeCLIXVJl2JNr7OunKTk9wfKe4hVcfj24WX6SslptnfiMQAAAClBnmRFFSwj/wAAFHMrtQW5HBuNBNyotDpwxd9fMBYn1ywsC5SCy/UlmQAAABYBnoN0R/8AAB/K+PKppVPU+8J5CBixAAAAIQGehWpH/wAAH7yVGAFeY+mJ+vEv3UUBYnZznkLmNTDZ7QAAACtBmopJqEFsmUwIR//94QAAAwOzTY4b85xYvOP18GkQ84FQLCD0WthBt7RdAAAANEGeqEUVLCP/AAAUcyu1BcOKAD+mdqs6vPTy2k5x33m6Uc2BhcEjfFux2rQvlITShZxE3dAAAAAjAZ7HdEf/AAAfyvjyqaVT1QRzAsQZ9pV8MPZnxQtQCS9nLMAAAAAYAZ7Jakf/AAAfx+lsnylpmrhWVRbO8VUxAAAAOkGazkmoQWyZTAhH//3hAAADA7NNjhvznFi9d0yztjBPQAksoFUvtwBpwEWY1P6rtbU7VWpICsMc6kAAAAAsQZ7sRRUsI/8AABRzK7UFuRwbjQTcqLUfzbwyDfo+To/0C6FtJrdkk6ZkcswAAAAgAZ8LdEf/AAAfuH2mwhXwtsB7xjxekpsWLk5rXFBwH3UAAAAhAZ8Nakf/AAAfx+lsnyl4TpatXUwsy5EmNF6GY1WJ/HXdAAAAPkGbEkmoQWyZTAhH//3hAAADA7NNjhvznFi9DyK1SZKZLlv/fkiwVJeMinQ2dM7XigVRQUh+plDB4w7IDA2BAAAAI0GfMEUVLCP/AAAUcyu1BbkcG40E3y51Jb/doaoc3RLDSu3bAAAAFwGfT3RH/wAAH8r48qmlU9chh5KEcxEwAAAAJAGfUWpH/wAAH7yVGAFebSVH6RUN1U7TtjnvzjzFiBiQPW8u6QAAAC9Bm1ZJqEFsmUwIR//94QAAAwOzTYM07SD1fEfV2LJG90D1OMjycADXhPb8j+V+lAAAAChBn3RFFSwj/wAAFHMrtQW5HC/kriwgBa/PbicmexaiN89RLoVXdHtAAAAAJAGfk3RH/wAAH8r48qmlU9pSNrkvNd+VGf5gjRTt0uD0Pefe2QAAABcBn5VqR/8AAB/H6WyfKWmauFZVFuaCpgAAAEBBm5pJqEFsmUwIR//94QAAAwO5v+pregapdYtoCjnTqVnOHLuDldsIjakGtYIHMqaR09Zu+uwJLMlagGEZyrTBAAAAKkGfuEUVLCP/AAAUdSbjmVy6UAJLp7TZSYFmMjT5glZSecygLpOuiILugQAAACwBn9d0R/8AAB/A1FA4nsT0dtc6ADVqeX2wpKe62P7/CoPoQclm0mmQKh/l2wAAAC4Bn9lqR/8AAB8X/Vd8i9cPHpwx8217wmrknQAmkgVLx74myoeCJFt//4HDgmr1AAAAM0Gb3kmoQWyZTAhH//3hAAADA51Nno0quhRGQDVvvgGF6TIq3lHMepzk1iIQC7LJYFGFRAAAACVBn/xFFSwj/wAAE+Msi8SqgooGIAWbyKKxi21AKx3Ksjm0FtdNAAAAIQGeG3RH/wAAHxsbDxfrN7DF2Ravw98m69+NwsIdBueBcQAAABwBnh1qR/8AAB8X/VbGssCiGEnhedjwz3ICiAuAAAAAO0GaAkmoQWyZTAhH//3hAAADA51Nno0qmauQYql/Lhe5+y0KsUv170riAnO3gzqiqABkTAeHjspv3wvAAAAAKkGeIEUVLCP/AAAT4yyLxJgh7e1go5Bq7PPl30+J8oQXrqWbQMM8Db70gQAAAC0Bnl90R/8AAB8bGw8Yk733wMh+ZzFXd18rPFNG3ILnE4AIQnoGBURP1/cOwYAAAAAhAZ5Bakf/AAAfF/1WprOjAjHEqWBQakIZjM64p3TVIGelAAAAO0GaRkmoQWyZTAhH//3hAAADA51NjhvznC2owHT4+ZvsyTywm3/5zfwCj3l+rYlEBXzirfxsM2kYovlgAAAAKUGeZEUVLCP/AAAT7EaFeuk+wgIFro90Twq5RIWTgXVTKy1C0wA9Dd6RAAAAGgGeg3RH/wAAC6ehg542QCF8OxwqV1BSh9S7AAAAHQGehWpH/wAAHwmmf1F5RSBZA4EHPcccR6zAfFbBAAAAPEGaikmoQWyZTAhH//3hAAADA51NjhvznFi9c6T6WkykAACdpCUmuYgBTx2Aviz2rVeVw7vxkr28B60rHQAAACZBnqhFFSwj/wAAE+xDzbcVdEPs36gi22FdpGTmi82mkUqHlUUmYAAAACMBnsd0R/8AAAR1gx2pGU+yoGwQIWmQ1r90jRfrtK709RpJmAAAACQBnslqR/8AAB8Jpn9RkMQAmjEi/poexckAVtxpn2k25tsEQesAAAA2QZrOSahBbJlMCEf//eEAAAMDnWEKN+c43iM5WX81GCucmmOqjFwB2gr3z9f2EEdt2xEFfWmAAAAALEGe7EUVLCP/AAAT7EPNtxV0Q5OkC7qp3GDXJjlp86+cFccCPAezDcwC6JmAAAAAHgGfC3RH/wAABHhmNLpN0ZGf6CCvpqHUkWw8Ckb0gQAAACEBnw1qR/8AAB8MlRhuUGuxmGFrKwOI0nxp+KCxLYaRJmEAAAA2QZsSSahBbJlMCEf//eEAAAMDnU29ABqqc5+Mx5HIHMX1Cz3CeVkL0402FQUqvZ6de1Bef2PBAAAAIEGfMEUVLCP/AAAT4yu1BbkcL+XQ18IXt0TcCiuxAc+rAAAAFwGfT3RH/wAAHwh9psIU5eRSBBLkSxGwAAAAIAGfUWpH/wAAHwyVGG5evc2UuDhGL5zaXwsFf5a/ZPuBAAAAOUGbVkmoQWyZTAhH//3hAAADA51NgzTtIPV8R/FQBWC2MhymJWO9jAexe6B+ZnepW7KSrCDAM8scwAAAADxBn3RFFSwj/wAAE+MrtQW5QWgA2HidXAcBXZRvs9ZJiKM/upiswl/mbV2BkM0YmdFFoXdKMlp7NkXpb1YAAAAqAZ+TdEf/AAAfCH2mwhUJ6NUAH74/RH3HwBJz+kp1KSX8FVWcrQV40felAAAAGwGflWpH/wAAHwyVGG5Qa4uPU2+/BDGkv0v/6QAAAEVBm5pJqEFsmUwIR//94QAAAwOjv+tt5T3JHHyWHnIJXdEgALlflqZaohSgKClnUtbxNms/XQoerGOdLuBlyDSa/7gywcEAAAAqQZ+4RRUsI/8AABPjK7UFuUFoASXUN5kqbbKvZJOUuyJBaUxf27Av8bS7AAAAHwGf13RH/wAAHwh9psIV8LbDQS8dK7DZByj7mi0BQ+4AAAAuAZ/Zakf/AAAfDJUYblBri5y/eqKLY1ftBhggUqHJGUlcPtarSNwXHsXK4gzXpQAAADNBm95JqEFsmUwI//yEAAANyB9PhuMM+d0Dbe4jG9ozRiEb7ewGRHo/3Cox6KcAYvxrAaAAAAA8QZ/8RRUsI/8AABNWjaD8JAAQpFUlHhRWQ94vRpNEDem3hXfPbmGDhAYf9eisJKDD1spzCptehVv7ID5hAAAAOgGeG3RH/wAAHmsbDkDXDKE2wWOMmcdEvvwAC0SXlXYjFq6tacBVqHX+SrdDC2s1qQsw830czEFx6sEAAAAjAZ4dakf/AAAeXNRo2Isdh+WywPsN7INdoX4pAEVeMZn644AAAAA+QZoASahBbJlMFEwj//3hAAADA4dhKx4aQAC2lKZTWHCgLf08AWrgoy1Wf1vZi2EHJSu6m69EeXAPgU0CzosAAAAeAZ4/akf/AAAeXNRo2IsdjD1EwF9MXzb7EagF3pNxAAAAP0GaJEnhClJlMCEf/eEAAAMDh02esOcJF9AC2n+hUg+G8Vmt6WgmF/7ea1NSiKOJUZFh/QCMl9B5w2hvfWMCIAAAAD5BnkJFNEwj/wAAE1aNoPkKWOhO3vVgJ9zQlDQv53OD75pKVkyGRDeTtC8w/1n5QU1FZR4sIT/zxg6drieAQQAAACMBnmF0R/8AAB5rGLKPEeVhpJa55471J44oK0sjhPPXqsXA+AAAADgBnmNqR/8AAB5c1GjYiNi06t55STZAXGavGyn0fn2hF8j5yy1ODbdHVGB5Uo982lhJj0MghWv3DQAAADBBmmhJqEFomUwIR//94QAAAwOHTY4hJBtNo2BMPyzYHV0ugisw+TF0qtbMQrgcYIEAAAAhQZ6GRREsI/8AABNWjPuSBMtZIehr2Ml3KLekCqRAKcwxAAAAOAGepXRH/wAAHmr48qmlWgysiL91HeUL8q+UMlqR7GZtTdzbhRoGIeiRwZCCEpuY8B/+t4N606+ZAAAAIAGep2pH/wAAHmfpbJ8pbOjYL1OvS/0mKIqBlqlgzrVAAAAAKUGarEmoQWyZTAhH//3hAAADA4dNjhvznFi9dfQMmA3hX84VQpkYMVpjAAAAKkGeykUVLCP/AAATVoz7kgpFACR82hp5J0iqh6Ee4ITmJ3ZZurq6LXEIBQAAACABnul0R/8AAB5YfabCDIkggeHnfNfYdm1SSsgs3XCAQAAAAB0BnutqR/8AAB5n6WyfKWmauFZTHyo7fi+tjQSYYAAAACpBmvBJqEFsmUwIR//94QAAAwOHTY4b85xYvXX0DJgN4V4jRNxcp87tvZEAAAAhQZ8ORRUsI/8AABNWjPuSBMtZIehr2Ml3KLekCqRAKcwxAAAAIAGfLXRH/wAAHmr48qmleT26/rXoJcXTw4UCv8s3lC0xAAAAHQGfL2pH/wAAHmfpbJ8paZq4VlMfKjt+L62NBJhgAAAANEGbNEmoQWyZTAhH//3hAAADA4dNjhvznC76qmLq/p/xGTo0tbg2Q7/Q307WBaZimE6xNT8AAAAjQZ9SRRUsI/8AABNWjPuSBMulygEapLjFkICUQbp5hcE8VtEAAAAcAZ9xdEf/AAAeavjyqaVT1PvCCY6wGC3W67BPQAAAAC0Bn3NqR/8AAB5n6WyfKWg2F2/nGSc5O0QbygA9wEylWb56TqogqB7sOp1RiegAAAA9QZt4SahBbJlMCEf//eEAAAMDh02DNO0hKEUF0voawYTC8BuRwDinwza+OPICHL2ZN9AAzu8zztEPbQ5+YQAAACFBn5ZFFSwj/wAAE1aM+5IEy1kh6GvYyXcot6QKpEApzDAAAAAqAZ+1dEf/AAAeavjyqZ3xybjrMIjZG0nLp086XVhEysbh5GI9crwowj3zAAAAHQGft2pH/wAAHmfpbJ8paZq4VlMfKjt+L62NBJhhAAAAPUGbvEmoQWyZTAhH//3hAAADA42/6mt6Bqor+l7vK3DvAjh9stemKiYGxbaA/ex9EXpZ/DAG1cXEFP8gujAAAAAxQZ/aRRUsI/8AABNUcz1vS5XaQAr05iZ/lTRENtYgtuXmZrycQSQa4osJCEx7VaaAQQAAABYBn/l0R/8AAB5q+PKppVPU+8aF9WHLAAAAKAGf+2pH/wAAHbgBKy3v4Ot10Da4o1Tw5bcPx6Fvq7Da4oSfVY2f/kkAAABGQZvgSahBbJlMCEf//eEAAAMDci7o22miAl14Yqc55oBAboAYcKfp0lbNOp2FgEg81IwQe/CmwamZTs6v1mGQUB5YDl7rQQAAACdBnh5FFSwj/wAAEt5ObKgkdXiY60SNAcJu3B6+055IfTmTUzafCcAAAAAZAZ49dEf/AAAEOGfBzxsJ+KczIfjdLpiYHwAAABkBnj9qR/8AAB2pp/+0cHPRxtEb2Jgo8AJ3AAAAP0GaI0moQWyZTAhH//3hAAADA3I8OXhoBDiHVE9xLRkS16J0TNa8/ioJG7kQBjjCJKu12zmHAsLz0XiZf5b5gAAAACdBnkFFFSx/AAAdt/1WGMfXdQBFNy/7Y2utLGzyBJ/Gihp3qljgCcEAAAAaAZ5iakf/AAAdrNRpiZxw1BOQ19AWsoKYgnAAAAAqQZpnSahBbJlMCEf//eEAAAMDci7gTfnOLF66+gZMBvCv5wqhTIwYrTaBAAAALUGehUUVLCP/AAAS1o0vuZXtGzfFfYWAkAA1qagYGplB6e3OUc8Zn20VODzfcQAAACIBnqR0R/8AAB27Gw5A1wycbEnHFvPkn21+Og6kLDNBrBf5AAAAIwGepmpH/wAAHayVGG5HkmmDx/fyGKvKmNNQydB0gEQtDb7hAAAASEGaq0moQWyZTAhH//3hAAADA3QRC37riHY8QgBLYH9RZCfGiHjKvc54eG8GPbDtzBNInI46xqSOsNFde6sEBebcax1qzNbzwAAAAC1BnslFFSwj/wAAEtaM+5IEy1kiD1EsT6QgDSoN0SUcVY5Ov9NUk0FMGArjkgsAAAAiAZ7odEf/AAAduvjyqaV5PZChjzku5971yKnaDID/3dxugQAAACMBnupqR/8AAB236WyfKWzo2C9OEl9QZb/Ug2UGw2OgGeBVvgAAACxBmu9JqEFsmUwIR//94QAAAwNyLuBN+c4sXrriwjIUpDcP08i6R+argSAEaAAAACRBnw1FFSwj/wAAEtaM+5IEy1kiKmfgzucSG59klQHYyPhIZmkAAAAhAZ8sdEf/AAAdqH2mwhNWcya4PaXjy2lsjY6HTRWEde/xAAAAHQGfLmpH/wAAHbfpbJ8paZq4VlMfKjt+L62NBJmhAAAAMUGbM0moQWyZTAhH//3hAAADA3Iu4E35zheHH9NGfDkNy0RpxeMS06p4eIwQ4POfQCAAAAAkQZ9RRRUsI/8AABLWjPuSBMul1w/kD3OiHfHeSh3Acbz3RU/8AAAAIQGfcHRH/wAAHbr48qmleTz5nxeLu4u/ew0EAxQTdjQboQAAABgBn3JqR/8AAB2slRhuTlhoY40NR5shBJwAAAA7QZt3SahBbJlMCEf//eEAAAMDci7aOHh1Q8nmqW00M5padEcNZnjx3yILpU+zag8jaUmsMfqo+4MI5rAAAAAlQZ+VRRUsI/8AABLWjPuSBOGkAJafGDcHVA0iUJpGnBmXdnypmwAAACABn7R0R/8AAB26+PKpsAKSwZmPm7UJaZT85POJnY17sAAAACABn7ZqR/8AAB236WyfKWLIXb7CvzIFe+uG4Bh93N/rfQAAADlBm7tJqEFsmUwIR//94QAAAwN3v+pregaqK/pXJZf/l3CMTS1L+mNhOVQsc4bLRh8CPNV+l36Tc6EAAAAhQZ/ZRRUsI/8AABLWjPuSBMtZIehr2Ml3KLekCqRAKczQAAAAIAGf+HRH/wAAHbr48qmleT26/rXoJcXTw4UCv8s3lC3RAAAAHQGf+mpH/wAAHbfpbJ8paZq4VlMfKjt+L62NBJmgAAAAOUGb/0moQWyZTAj//IQAAA0oH0+G4uULcDHDrRkY5SgGvuXodJrGofLyQEY0zg0OSbkiqxZlEyZd0QAAACJBnh1FFSwj/wAAElaNoPkRzRofC3TZke/nqDKx8qwVdZulAAAAIwGePHRH/wAAHQsbDkDWwuwWS1w/2iH+L1IbDOzUkeis0DdAAAAAFwGePmpH/wAAHQf9VsaywKIYRUHX6PBwAAAANkGaIUmoQWyZTBRMI//94QAAAwNePDl4Z/2xzh9SJYdEq7UzmcIBEkdh9YgXEj7ZbFQmp8W3gQAAACMBnkBqR/8AAB0H/VYYx9d1AEU3L/tja60M6mNvJd5vAAkx0gAAAEBBmkVJ4QpSZTAhH/3hAAADA14u6O77csEfG+6FwDI/1gMBifTe082BxKAUrvY18DQjVw9N4TQ7Ftbse4zmp7Q1AAAAIkGeY0U0TCP/AAASXZSQEi0rjM/ubot/ja4117yaG3dr8OkAAAAvAZ6CdEf/AAAdCxsOQNcMnGxJxxbz5J9trZ8VjPGn63TzOACAClBTA5XG4Aiwx0kAAAAVAZ6Eakf/AAAdB/1WxrLAohhG/IuBAAAAREGaiUmoQWiZTAhH//3hAAADA14u4FCSDa0XhhoKSt3loL2tYmJqSnAbj9rScQ5AEVgjOj9xp6GAbGcDSy33CL5XrJmxAAAAKkGep0URLCP/AAASVoz7kgTLTCxGkUNaG+nTSH5uuXnv1z9hDmtNO4pqgQAAACgBnsZ0R/8AAB0K+PKpnfHJuOswiOp2DJY63Y1+AIb3SKLvbp1WxTBwAAAAHQGeyGpH/wAAHQfpbJ8paZq4VlMfKjt+L62NBJqgAAAAQUGazUmoQWyZTAhH//3hAAADA14u4E35zheFmxgjvSyTQ04cscVDMGU+GgkBLYZ84oC50wjk//4bEErd55t8o2thAAAAKUGe60UVLCP/AAASXkPNtxXOl4CkxpZnvvDi3gjdBosjN8mlunhFNM1QAAAAHgGfCnRH/wAAAwGHwlZAEv3SezSWuiMg113MBH1CoAAAACUBnwxqR/8AABz5pn9RkMQAmjEi/mlEfICdDEzwWIHKEE/TNHMvAAAAKkGbEUmoQWyZTAhH//3hAAADA14u4E35zixeuvoGTAbwrxGibi5T53bfeQAAACRBny9FFSwj/wAAEl5DzbcVdER0OkKDkI/ryhCs3AFAsB84IqcAAAAhAZ9OdEf/AAAEFYcgkBzKFLT60vwUYEL2rbBuhw+2euDgAAAAHwGfUGpH/wAAHPmmf1F5RR/L9D1SJo+u7Es91hTvA3oAAABJQZtVSahBbJlMCEf//eEAAAMDXjxkYCuHfOEZzqnblJOFE2SHTdHNUId/GzbT5/GrcLMZY2FLjTsTGioSC1BoUt1v6b4plR9KgQAAACdBn3NFFSwj/wAAElf1zjeg53QU8S4jl75VNuJHVZZqt6Q1kNUCaoAAAAAnAZ+SdEf/AAAdCvjyqbOQtA5SCb28S1JxpmVCbAMc7rBglCaCI0KgAAAAIwGflGpH/wAABBY9f4EgxrkfBWutPA9I4IyxJwRlmqHbFmDhAAAANUGbmUmoQWyZTAhH//3hAAADA14u2jh2kHpgHbPg8KrRcxSywKwYGyXkzsJHwWDSg5WBDY3gAAAAJEGft0UVLCP/AAASV/XON6EpIWuvU2JUz50V3QAD0Bv/qpfuDwAAACYBn9Z0R/8AAB0IylkUK300AH7468fJkDVcFX1hLZlu9cMjm1ENSQAAABkBn9hqR/8AAAQWRWDiZa3ZshV3Wk11L4OAAAABhmWIggAL//72rvzLK0cLlS4dWXuzUfLoSXL9iDB9aAAAAwAAHlAABtauNiobc7WEaAAABxgBQQsAjwlQthIR9jjw1fA53AAh4Ev8MAMesObZAktpMxbl+BnS0X8slElqYqx704elT2vscvbKr1kylbWqpRgIpACzyKDHKf+WPhHAwnHB0GtQs4S3DSIOmsy/Kmz3n5fEYVw8iNyCz5Ju/CSa/EdI07OzqdnqG08S1rLO5FrqFmmkyNAXXmJjt1xo7S8dwGlrHGrJeb4dNL2x3EfQcMN8oB8/mkHG8JMoUlK84DSMKKxi0xLW2kUgRWDMxbSiXKC4t3z3vENsdzki16WQojGVjeqYwfGhsmciNAnnG870WPh1+b4SB1Notr0NzEOs5moyuv6C1gTa0ZSgI9/VB5BNvNz77gAye0k/6DZaCNpvmn4S0gcwyVfiiWgGRFExPk2eBIqgsduEJf6x0sehfVEks/myi2aWr6zu/knETbj7I++a81t6ojQ3AAZoAAADAAAEPQAAAENBmiRsQj/94QAAAwNjv+qQ9A1Uq7kb6//pq2wO5HN+3QiEpFygkIGG/4yt7G73N+E0SWnMrxPnLBvuzgsX72sVevQQAAAAT0GeQniP/wAAHPyNiOgkMu32Lvkn9Uno/mYU1yY/KBX8q7v4A+PU8TwAgSef5BU4+Le4+FXtvKiLuHA9x/8gEol7wAAAAwEujNC2OMsAb0EAAAAnAZ5hdEf/AAAdCvjyqaUv9fPnzGIHydvQcGuVihDuVNVjIYCUFdjpAAAAHgGeY2pH/wAAHFf9VsaywKIYSeVqUUX/1Mw9/CoVMAAAAEZBmmhJqEFomUwIR//94QAAAwNKLujbaaICXXhipyNGoqd2Lw1aTZXjEOzPwtAJB5qRgg9+FSepb+6B7BcjSs9uni4TrIeAAAAAMkGehkURLCP/AAAR1o2g+RHNGh8LdNmR7+eobJKOEwaZIM7AAAADAAADAAFM8FBHhAGfAAAAHQGepXRH/wAAHFsbDxjYT0KsYZSJQ6bZAd82akJfAAAAKAGep2pH/wAAHFf9Vo3IlHERX23D7KKRKfTYXCP7EMh6mcTH8Wg4EecAAAA7QZqsSahBbJlMCEf//eEAAAMDSi7o22m7sU8ERRMzz/Zoi3/qUBA+EXb+Lb5RpMgW2DC21+/xTQfyi6AAAAA1QZ7KRRUsI/8AABHWjaD5Clo/DJAMaCvuYSzEbXdyFSjoi0F0ywAAAwAAAwAGSvXtJPCANCEAAAAiAZ7pdEf/AAAcSKHmiYYmH0kaqvvk/aSqV4xBma9bqYQ8wQAAABsBnutqR/8AABxX/VbGssCiGEm3nGPAN9vB0V0AAAArQZrwSahBbJlMCEf//eEAAAMDSi7gTfnOLF66+gZMCK0kwZHxqlGONOjl4QAAAERBnw5FFSwj/wAAEd5GhXqlIo3hT+LICGfeUAd6s2DcUHtCyG8biv4/XR8HEMhZ3NX6zozn6+AAAAMAAAMCzLEOpVAE7AAAABwBny10R/8AAAqHoYOeNkAhfDscKld7yc0iu1YyAAAAIwGfL2pH/wAAHEmmf1F7nWZwDYoT3x8qTk14U4tPWP0mV5m/AAAAQ0GbNEmoQWyZTAhH//3hAAADA0ou4E35zheHN1QnnVI+INX3k4dWUKeFD3XLhAUPc2dMwE9FuQST4eR8cUvBQp/1YoAAAAAyQZ9SRRUsI/8AABHWjPuSBMul1w/jrHaOEjpkCmOg1bC9kAAAAwAAAwAADWpOMnhAIeAAAAAcAZ9xdEf/AAAcWvjyqaVT1PvCCY6wGC3W67BXQQAAABgBn3NqR/8AABxX6WyfKWmauFZrKTQnsWEAAABCQZt4SahBbJlMCEf//eEAAAMDSjwh990RGphr/WRvgMCMACwH6IsO3q76Wn/8Si1oiy/+H6F6aDeo1a+yL1h2rGBzAAAAMkGflkUVLCP/AAAR1/XON5lmiLkBay8Gig3KTOHyh1RI69qwAAADAAADAAC8EDjLAHXAAAAAKQGftXRH/wAAHFr48qmd8VcKJPbT2PMPNbsZzlwiKs6FhGSW4vjfwRYeAAAAHAGft2pH/wAAAwF+k/L44Gm4rXVClwk7ZlbhD4EAAAA7QZu8SahBbJlMCEf//eEAAAMDSi7gTfnOLF68XO65DVBoovTws3u3gDC0q+PFtHqHN1H26lFHINjVt1AAAAA0QZ/aRRUsI/8AABHX9c43oOd0FPEuKy3l6AU/A4bmTBiJbTaptfP7kAAAAwABSQfEqgB1wAAAAB8Bn/l0R/8AABxYylkUK2TYg8BhRHk+7hF/jtyoJ8pJAAAAJQGf+2pH/wAAAwP3lWJQsJ61aGRHgULY/59/sdZGL4hQxuzlcFgAAAAtQZvgSahBbJlMCEf//eEAAAMDSi7aOHaQer4j6uxWiKLpm4OvXQ1wepEyXilRAAAAMUGeHkUVLCP/AAAR1oy4pYf6GKfEoQr30xmdy4CC6eIV65NMt7dZAAADASyePPCANGEAAAAnAZ49dEf/AAAcSH2mwhS0Y62+O+217POvTUZnov8Ez5vvnUaqEn/NAAAAJAGeP2pH/wAAHEyVGG5OWGhXqNrXploLqf+Es8Ze5euL6WsRXQAAAElBmiRJqEFsmUwIR//94QAAAwNPv+tt5T3JHHyWGgmGCVwUbTIDIGnEW8KN5Mq1prgHAUclmqtMjjCdiAvYHXeTmFCZVa4XVqNKAAAAOUGeQkUVLCP/AAAR1oz7kgTLTCxGkUNYykQTfeA1DIy3aJyPJ6X/CDgAAAMAAAMAAAMABpwDzwgDRwAAACcBnmF0R/8AABxIfabCFQnjT+NVb2Hj7yW8tf6NgCGOVB6hHoNIVgsAAAAnAZ5jakf/AAAcTJUYbk5YaFeo5VOolsdXd3trlnbbn5rmq+CQJdYyAAAATEGaaEmoQWyZTAhH//3hAAADAzYu6Ntpu7FPBEUTM8/2aInhjnaDE5AAwgopXPkqrASGO6kQYLi/b8H38nida1qslo/YjhxJDaJtH6sAAAAzQZ6GRRUsI/8AABFWjaD5Clo/DJAMaCvykoxCKgTYWAK9S2AQAAADAAADAAB3JmCPCAMrAAAAFwGepXRH/wAAG5wl5ksfH9Xkjb+8j/WAAAAAIwGep2pH/wAAG5+saNiLHYfm52cOpr6MF7sgMBu5eltRcAuBAAAANkGarEmoQWyZTAhH//3hAAADAzYu6NtppwLM61dJVubSFUQ1jm+svperBoTsg/2G9l9egMQIYAAAADNBnspFFSwj/wAAEVaNoPkKWj8MkAxoK+nvtbn09iSzrzV4DCN5JcoAAAMABDX0/c8IAysAAAAbAZ7pdEf/AAAbnCXmSx8f1eSfB9rPwDhk+5npAAAAIgGe62pH/wAAG5+saNiLHYfm52cOpr6MF7sgMBzkPdp075kAAAAqQZrwSahBbJlMCEf//eEAAAMDNi7gTfnOLF66+gZMBvCv5wqhTIwYrUOBAAAANUGfDkUVLCP/AAARVo0vuZXtGzfFfYV1oMYtPBcEtukXe7urJWO4AAADAAADACQUsHTwgEHAAAAAIwGfLXRH/wAAG5wl5hcaf7zeboJw6mwL6nabkM0xnO4/DhaQAAAAIgGfL2pH/wAAG6kuxNDlPhaKGroSD3cj6hHdC9AW1i16EtMAAAAzQZs0SahBbJlMCEf//eEAAAMDNi7gTfnOLF66+gZMBvCv5wj36ArhrKW9tDJH1MTO87STAAAAMEGfUkUVLCP/AAARVoz7kgTLWSHoa9jJdyi3pAqksgFcHMNBzCIAAAMAEA5ojwgDKgAAACABn3F0R/8AABucAabCDIkggeHnfNfYdm1SSsgs3XCKQQAAAB0Bn3NqR/8AABupKlnuJLTNXCspj5UdvxfWxoJOcQAAACpBm3hJqEFsmUwIR//94QAAAwM2LuBN+c4sXrr6BkwG8K8Rom4uU+d24CkAAAAwQZ+WRRUsI/8AABFWjPuSBMtZIehr2Ml3KLekCqSyAVwcw0HMIgAAAwAQDmiPCAMqAAAAIQGftXRH/wAAG6u6XtkleT26ccDebrZfaDxHUYEjYmHRSAAAAB0Bn7dqR/8AABupKlnuJLTNXCspj5UdvxfWxoJOcQAAADpBm7xJqEFsmUwIR//94QAAAwM2LuBN+c4XhzcA988K7IbiX9T2+3ZAI0CverBCuCuOy+aVdBtgwaO2AAAAMkGf2kUVLCP/AAARVoz7kgTLpdcP46x2jhX6ezWNQkFR9AAAAwAAAwAAAwFMCwfhAFTAAAAAHAGf+XRH/wAAG6u6XtklU9T7wgmOsBgt1uuwWkEAAAAiAZ/7akf/AAAbqSpZ7iS9yjtWDcU6z3iHPQhlvHKN1kO/1QAAAEZBm+BJqEFsmUwIR//94QAAAwM2PArYXhiPsQE87Bu1PepbhjJBPH4gKOi+cEFQ4tYlNdORbRl6l9O4ZgKSLjiOf7XuO2LDAAAAMkGeHkUVLCP/AAARV/XON5sgDqSg64idjuddfjQYy7JYlTzUAAADAAADAAN8t4SDLAHHAAAAKQGePXRH/wAAG6u6Xtkd8VcKJPbT2PMPNbsZzlwiKs6GjR1AHf0I6dTnAAAAHAGeP2pH/wAAAwPM/6rvbcQ1QSQN9Hh0EjhIyikAAAAvQZokSahBbJlMCEf//eEAAAMDNi7aOHaQer4j6qYmE12OALTDG5eGpOWyN0dHjkAAAAA3QZ5CRRUsI/8AABFX9c4MGSnic6E3uJ5cxgmiJsq3jgdQMKNcyHBBJLw1cAAAAwAAGHTaHhAGVQAAACwBnmF0R/8AABup732UK2TV2SfZ1NeFclOtPqNJwAXE6yEaAF+lCLObwgxnwQAAACUBnmNqR/8AAAMD4ZViUK+1lj4i5EzJ7oxUd0H3MulVSCT60LSAAAAAQ0GaaEmoQWyZTAhH//3hAAADAzu/6mt6Bqqo1OM6au/yD/tzwcXaYJCvkUtEkVoAdBd0nJ+NZC4LIyvXineHBI1vcTAAAAAyQZ6GRRUsI/8AABFX8m2+aKVTDjml5Y6ZlOCLv9H320EZBPnAAAADAAADAVoxBJVADjkAAAAZAZ6ldEf/AAAbnAGmwhTl5FIECM9aS58XcAAAACEBnqdqR/8AABr/rGjYix2H5udnDqa+jBe69FRPJkPJ18kAAAA7QZqsSahBbJlMCP/8hAAADDgfUNIpDqL1GYsmVzLQ8UPpLRFWAihCg1axKv9ZKfhXKKfC1DxXIaNvhqAAAAA1QZ7KRRUsI/8AABDWjaPOxd4LezyBeDmSZtwrUQdMGQ8+RQj0GoGAAAADAAADAPrcDnhAFBEAAAAhAZ7pdEf/AAAa/CXmiYYmH0kaqvvkoiZNiB3crfnhKUb/AAAAGQGe62pH/wAAGv+jnj9towyrgoQaI4cAr4EAAAA1QZruSahBbJlMFEwj//3hAAADAyI8OYxScBaVvUnztuMqteic+DoOMOOkC7gV1LjBe/qU5gkAAAAzAZ8Nakf/AAAa/6xp9nu1Kkn487m1M9XHEvmJNJSJ6/HgrAAAAwAAAwAAAwAaIqAVQAsoAAAAOEGbEknhClJlMCEf/eEAAAMDIi7gTfnOLF66+gZMBu8boAMZN7qb0Ie6davY2hUNb4uhmADuQeZAAAAAR0GfMEU0TCP/AAAQ1o0cygR3P7QBSnbWg1zwFgXIukrOu0/JTH7NMul4BOaLPLP+98njZie8Qz8+RAAAAwAAAwBHv+9KoAcFAAAAJQGfT3RH/wAAGwvUsn4Hhk8Fodazk0Ntx4Cc0apuqSyYc8pJAHwAAAAXAZ9Rakf/AAAbCSpZ7iS0zVwrKotzQZUAAABIQZtWSahBaJlMCEf//eEAAAMDJBELfuuyUgAATtISk2AAu33Kd9xVnEnV/fI/U4VUL9GD8wDTXkZQVqsz/4PBhCYL73vfK06hAAAAN0GfdEURLCP/AAAQ1oz7kgVj/kc10uKR+QPvOoaWK4G5VI8xgiXtftiUAAADAAADABJafqMsAcEAAAAcAZ+TdEf/AAAbC7pe2SVT1PvCCY6wGC3W67BcwQAAACMBn5VqR/8AABsJKlnuJL3KMy5ZjPWr2Cqb+q/Xt9cncXXD4AAAADZBm5pJqEFsmUwIR//94QAAAwMiPCH33NMnGF4X056tKH4tVKm4uzrSogAO/3jYpa3d8vtqpeIAAAAuQZ+4RRUsI/8AABDX9c43myAOpKDriJ2O51194CWhTCyAAAADAAADAhbDR4QBoQAAACQBn9d0R/8AABsLul6PwRYNSp3zm+PLvtO3gRTNsWAsaO6STxAAAAAcAZ/Zakf/AAADA7b/qtjatIsH154aw0BlZR1PEAAAADBBm95JqEFsmUwIR//94QAAAwMiLuBQkgRlgdmNBPKxS3glFf2kxt6sp1+5xQ6IX7UAAAA6QZ/8RRUsI/8AABDX9c43oOd0FPEt7O8aXSBppDem3Y4hHv5lk8mlti9AAAADAAADAAAHhScKVQBNwAAAACEBnht0R/8AABsJ732UK2TV2SfZ1NeFfcolwbdHzZo+Bc0AAAAkAZ4dakf/AAADA8uVYlCvtZY+IuTTKX3R0wnoAZviUV9UjiXNAAAASUGaAkmoQWyZTAhH//3hAAADAyIu4E35zir96AARC1oIMq4tJPCwsDncmhAQNR68NZca7/4pwmLDlpYWpQq3ZS06dXKRt+ENNMAAAAAzQZ4gRRUsI/8AABDWjPuSBMtTsMHwKQCBc9MB4kuAV8FWa1cpdVdAAAADAABE8np+EATtAAAAJAGeX3RH/wAAGvwBpsIUvh6FN2SHhMkH4UYheIvqiPOlsBSeIAAAADoBnkFqR/8AABsJKlnqnJ1c3AAuoA6dGDCVheSNvqyXV0hViLZa+J4/MkVa96PcNxAG1jc+hmZ1/n9lAAAAOEGaRkmoQWyZTAhH//3hAAADAyIu2jh2kHq+ISKP8eZKJz5KKYmOCkZ4QqxmAaLMrsYEtbEVLcvRAAAAOEGeZEUVLCP/AAAQ1oz7kgkaAFVRsZBIxc75aiTBCaD23YQzVdEm0T+ZuJWAAAADAAAuVU0eEAaEAAAAIAGeg3RH/wAAGvwBpsIVCeNSbYnTlIL4QjOIDtA3BAozAAAAFwGehWpH/wAAGwkqWe4ktM1cKyqLc0GVAAAAPUGaikmoQWyZTAhH//3hAAADAye/6mt6Bqqo1OM6au/yD/tzwcXaYJCuUx8P4q5TaYoDGga5VMNB9prmY5IAAAAzQZ6oRRUsI/8AABDX8m2+aKVTDjml5Y6ZlOCH4O4Me8OHEhXHgyPzujAAABxaJL9SqAJvAAAAHQGex3RH/wAAGwu6XtklU9pSK+MFCvRiDJT1zbHwAAAALQGeyWpH/wAAGmk7Vo3IlHEmmznABaNQlDS2dpdKiaTznbI2aXekEqpvWwjDgQAAADlBms5JqEFsmUwIR//94QAAAwMO+hBSNrwj06rFVS0qog4TLSUAwUFGtn234UYqHmteEbc5bqMufKEAAAA0QZ7sRRUsI/8AABBeTmyoJHV4mdxpjp0+Wvt9gjQPv2XB1v45FIAAAAMAAAMBVHvC+EAUkQAAABoBnwt0R/8AAAMDt2Nh4xsJ+KczIfjdLpiYUwAAABQBnw1qR/8AABpfrGmJnHDUEeBaQAAAADtBmxJJqEFsmUwIR//94QAAAwMOLujbaacCzOtXTmUARUI3itf3vYeRZ4YyjQzG95U92u0w+NlX6lplgAAAADRBnzBFFSwj/wAAEFaNoPwkABCkdsf5KVAuikFvQBgytZcSHf69AAADAAADAAD1iQD4QBSRAAAAIQGfT3RH/wAAGlwl5omGJh5nejFVDU4s/OoVW7ioNpdcjwAAABQBn1FqR/8AABpfrGmJnHDUEeBaQAAAAFpBm1ZJqEFsmUwIR//94QAAAwMOPHmQEylV5gH+IcjhkWr+SxocDgpjcpPsifcP3CK5G0/UV5Tiirc3vqogPguI08pIjWICL7FKBlRIN0h5K2jOeC0J79ct5WsAAABMQZ90RRUsI/8AABBYAC3SyLPSXs13ttOhZQu+yCrVuVP2Vf8D1v9OBNNw0tdc7+6otbBojZE8w7/gUaCOwAAAAwAAAwAADkpwLLAFbQAAACMBn5N0R/8AABpcJeYXGn+83m6CcOpsC+p2m5DNMZzuPw4X4QAAAC4Bn5VqR/8AAAMDtvzHsOS0ggCwltIZjXJmDaEwr9pg1CfY02Y4vGJkGuU5af5wAAAAJkGbmkmoQWyZTAhH//3hAAADAw4u5NQD6574DFfbCFoCMYlPbRVQAAAAMUGfuEUVLCP/AAAQVoz7kgOl/4oGoX9UxT0fcCVyVo9/ijiAAAADAAADAAAO7FKoBH0AAAAaAZ/XdEf/AAAaXAGmwhTl5FT36m3Wh7RSRcQAAAAXAZ/Zakf/AAAaX20YAV5lJOOnB5iZ4qoAAAA5QZveSahBbJlMCEf//eEAAAMDDi7gTfnNYqzwtw5ItEkIA5jrdXSk7peLH9RTUJhj3f6yLvjRHCo9AAAAO0Gf/EUVLCP/AAAQVoz7kgpFAB/TO1Wckknc5FBSdsGt8HtP8Jcl/gPxWWa6TRv8AAADAAAP7W0HhAGzAAAAJwGeG3RH/wAAGlwBpsIVCeNTCOJcK/CygA/XfvTmgllLA/j/HgKfIQAAABkBnh1qR/8AABppKlnuJLTNXCszQkPqn1fBAAAAREGaAkmoQWyZTAhH//3hAAADAw48ZGArVSBN5h7Bzhb8KBpNjs5tKYp3X+X20AtuXmE85VrxT/bcfSQzmK5h4QhieZQwAAAAMUGeIEUVLCP/AAAQV/XON61aY5gGAunQRwpsHLTC7HE8J0wAAAMAAAMAAKRWZKoAbMEAAAAcAZ5fdEf/AAAaa7pe2SVT1PvCCY6wGC3W67BfgAAAACIBnkFqR/8AAAMDtv+q0prl7rOAqQ0OxcykvxYWpqCILwvPAAAALEGaRkmoQWyZTAhH//3hAAADAw4u4E35zji+ieHp1XjZBEFHAANRo1tWyHjBAAAAL0GeZEUVLCP/AAAQVoz7kgTLVfs6cscFY8sCuv/vd+Tdxo7V5kAAAAMAPbFKoBHwAAAAGQGeg3RH/wAAGlwBpsIU5eRU9+pr5jDIPaAAAAAXAZ6Fakf/AAAaX20YblBri49Tbyr+r4EAAAA9QZqKSahBbJlMCEf//eEAAAMDDi7aOUAAonpHiWY7zBTLhZ7OmtQ2ndd8xgXU2bcqaV1m7G4pU4wTXQoe8AAAADhBnqhFFSwj/wAAEFaM+5IE4aQAt9W472iOn4bJZ6ouTsCKfbRzWi5Ln9N8nzsAAAMASG/5PCANmQAAABwBnsd0R/8AABpcAabCFOXkUgQIz1yNAe6F+ZZOAAAAHQGeyWpH/wAAGmkqWe4ktM1cKymPlR2/F9bGgk+RAAAAU0GazkmoQWyZTAhH//3hAAADAw48Ep0qBSkropHrVdkUyrWP6wugJzaqRRxnyT/6ELPr9oQNuwXyy+UrOALs+h2cyQY3Kvivz5WymEBTjWS0GBtJAAAANEGe7EUVLCP/AAAQXkPNtxXK9c6BpdJcBFfVjqOLHabm5EVIkfl2AAADAAADAB1n0E8IA2cAAAAbAZ8LdEf/AAADA6FjYixtcR6bnr15LR5mlhL9AAAAHgGfDWpH/wAAGl9tGG5R+BqVaEBKiQeN0tKfoFTS/AAAAEpBmxJJqEFsmUwIR//94QAAAwMTv+pregaqqNTjOmrv8g/7c8HF2mCQr5FLRN38gADoLulPzax3fYmhoklJZH5PQ4kcviCXn+fy0AAAADhBnzBFFSwj/wAAEFfybb5o5wABbVp6o2iqxzA4nJtJHIo7egXBtTLZgAAAAwAAAwAFw3LtKoAakQAAABoBn090R/8AABprul7ZJRYxeoC6g0MWvqc+4AAAADIBn1FqR/8AABnJO1d8i9cPKCbnyJZCabSQxvcSbs49leVPYttox6oU71TZ8D0PBWhz5AAAAERBm1ZJqEFsmUwIR//94QAAAwL6PHmQEzYuF+EPeRYJ0Y9gRt3wUYCG+dqxB3w1u6crxsVyzONO7X2JXcWmdCi+PV516QAAAEtBn3RFFSwj/wAAD+RGQfgAC2fgktkAXGRJyGp/DaKNAtBtP54yjfJqy/oYC7+BXH6LNnNwFHyWiFNoAAADAAADAAADAA3VpsqgBW0AAAAeAZ+TdEf/AAADAWIW3mSx9sEzd64NTFlLJcPM5GEvAAAAKgGflWpH/wAAGb+sakpUCgA+TAXwGcyHny79aC39h3gJd2yUd9hHPuz0lwAAADBBm5pJqEFsmUwI//yEAAALmn9PhuMNsORPLWDXqsAF1AHoQzyfHVnMXkhPCMs+Ui4AAAAwQZ+4RRUsI/8AAA/ezMXiXFMRgkEaqgVN6XifQlSz9DAAAAMAAAMAAAMCBepVAI+BAAAAFgGf13RH/wAAGcvXDxjZAXneIS4lErAAAAAkAZ/Zakf/AAAZyTtW1zDD91tBDEAuo/Sxm8bblWvy/Gw/NbUgAAAASEGb20moQWyZTAhH//3hAAADAuvJyeSX0PFcAAbqsVRqwT+x1O/NNQ6xamiluzNNa70d4AuymMGpEFxULjJNHQLP8Z/fABkx/QAAAFFBm/9J4QpSZTAhH/3hAAADAvo8DaeZSKgBuFwBsTDtvXv3Noddq9Skvt3woWttlY1j0n8bvRltQApGIhBIHG53e0M37e0FilSuPfOl6dTzA/AAAAA6QZ4dRTRMI/8AAA/gDQbMZTRsDpeZPAXMZs7dZePm+oazfW81ngK31Q13xAAAAwAAAwAVLWF1GWAk4QAAACQBnjx0R/8AABnL1eUKMskeD6EkJQoNlEAJd9m5hbhCyphfZeEAAAAcAZ4+akf/AAAJb8aznwaL4la4rbGob0YmcKVNAwAAAEFBmiNJqEFomUwIR//94QAAAwL6LuBQkhr2LzvMK+WasLZQRJejAH8Nlizb6+B18s0D6NL+nenQWvq6sjlOGHy6YQAAADNBnkFFESwj/wAAD97MWoLcjhpnH2jD6BA8OxuXRMneS3ZRUzdbgAAAAwAAAwGkTLPCAQ8AAAA0AZ5gdEf/AAAZy7pe2SV7qwACtFQb5jDmcDyZyjr5nBue7QYbxtKx53rgD7gA/6nE4fzl4QAAABkBnmJqR/8AABnJKlnuJLTNXL1DeRqBLLELAAAATEGaZ0moQWyZTAhH//3hAAADAvwbDgyMPQJAAXTZvOyuIlO9X87eQhyIgKfgENvzsDdPR5jzVCg48DglW95mXi2XMAt9mbYvRt6mcbAAAAAzQZ6FRRUsI/8AAA/kPkWdFdEyfMEvoT9//5OsFcJX+d496+lAAAADAAADAAky7Ip4QD/AAAAAHAGepHRH/wAAAwOLY2IwW+Fndej0amYlCVx1kjkAAAAvAZ6makf/AAAZv20YAV5eXQx+QfDEYv3ulI8ZqL0ktPZYpt5ABMJ5/a7RxIg85DYAAAAsQZqrSahBbJlMCEf//eEAAAMC+i7gTfnOLF664sxjKUhuCiuPso/NVwJAC9EAAAAyQZ7JRRUsI/8AAA/ezFqC3YkUftJl08JsXQH2D9LoANAO3cF1jzSgAAADAqaP0MsAm4AAAAAjAZ7odEf/AAAZy7pezn2ifPgyiwzErqmVoOsQgwwhUbylUy8AAAAdAZ7qakf/AAAZySpZ7iS0zVwrKY+VHb8X1saCUDEAAAAyQZrvSahBbJlMCEf//eEAAAMC+jwiAFAQ+g2FQ7N8s2B1dLoIrMXN30PM93E51RpKoMEAAAA9QZ8NRRUsI/8AAA/kPkWd+q7/IQ1GDzeS/z7gBxtYld2C70wtri54ceZOExsAAAMAAAMAAAMBOhIQywCbgQAAABsBnyx0R/8AAAlrDkFrk94QX4J4yh2XYjnLIkcAAAAYAZ8uakf/AAAZySpZ7iS0zVwrKY+U68toAAAANUGbM0moQWyZTAhH//3hAAADAvr6C8s2FttWNhjRTBv3xhfZik5GVOuvVc7fwSlBv0lbzLeBAAAAMUGfUUUVLCP/AAAP5D5FnfqvAnIznHUDLr8E97W1s+yR1lTwAAADAAADAHKhX/CAQ8AAAAAcAZ9wdEf/AAADAH8siYdYpqYetdenR6AxJ0Xy8AAAABoBn3JqR/8AABm/bRgBXmPpifrxLveZ4livgQAAAD9Bm3dJqEFsmUwIR//94QAAAwL6PBeUpAnpGJMfGAAIcSEJxy8jb9jWPGKnCkDKTTvr8YLhWP8H0Xo4f0KpfMcAAAA6QZ+VRRUsI/8AAA/f9JuTUJel0UW/4TagACM8NsXzQX9ily9IXIRFpeC7HAAAAwAAAwAATpGoMsAm4QAAACIBn7R0R/8AABnLul6NFt9mZxXga+r9OM4KaqkA5bDPH4XgAAAAHAGftmpH/wAACW/Gs58F3Ez/Wfk6KGFHrEzwZeAAAAA7QZu7SahBbJlMCEf//eEAAAMC+i7aOHaQer4M2Fu9RDhzLbjRnHmzlpYAGj4ywSrtJzuuW3MnZZXVW+0AAAA0QZ/ZRRUsI/8AAA/ezFqC3I4X8w9SKFOJq7TLwgM/w+uY6N3acs4AAAMAAAMDnuVR4QDAgAAAACIBn/h0R/8AABnLul7ZJeJ98Fq7dj7jpV3EoIiH7G+FMwXgAAAAGAGf+mpH/wAAGckqWe4ktM1cMvdUl5QakQAAAEZBm/9JqEFsmUwIR//94QAAAwL/v+vbxK5qqo1OM6au/yD/tzwcXaYJCtaOiARSABSRzx8u2oztUTl4AGuA12p20/GgEkeAAAAAL0GeHUUVLCP/AAAP5D5FnRXMrLVNQBQMc0G4gqfJt0TSruegAAADAAAOg+7nhAMDAAAAHgGePHRH/wAACVKzj8xYYY4IFUGd+MCVvKL24eqRwQAAABYBnj5qR/8AABm/bRhuUGuLj1Nvhg1IAAAAPEGaIkmoQWyZTAhH//3hAAADAueaEGnikUY9rJsO3rZ3fhR2TRkrW4Qtv+PCpUArXAKqieepSnkBzgsAEwAAAClBnkBFFSx/AAAZKTtWxrLAohhJ4XY5rQcCMjgAAAMAAAMACBxA8qgCXgAAACEBnmFqR/8AABkfrGjYix2H5udnDqa+jBe69FRPJkPJ2LkAAAAvQZpmSahBbJlMCEf//eEAAAMC55oQUja8I9OqxVUtKpd7vYwb/15OO6D9ia6mAFkAAAAyQZ6ERRUsI/8AAA+MRj+ng314mdxpjp0+Wvt9gjQPv2XB1v45FIAAAAMAABUqbOqgBxwAAAAaAZ6jdEf/AAADAVkW3mSx9rxZRR341jsXibgAAAAUAZ6lakf/AAAZH6xpiZxw1BHgXsEAAAA2QZqqSahBbJlMCEf//eEAAAMC55oQUja8I9O+sObFPzd/5ZFaHnCf/3gKN3AvsrOLmzlHmNOAAAAANkGeyEUVLCP/AAAPjEY/rsqPmNXadk9rIpIpBp3ImXQc02bThLfIzAAAAwAAAwACnBcbzYQBswAAABoBnud0R/8AAAMDi2Nh4xsJ+KczIfjdLpiYaQAAABsBnulqR/8AABkfrGmJnI42k5+J5t2460XaGUEAAAAzQZruSahBbJlMCEf//eEAAAMC5s7o22mwYKHEDFU7+SSQKAA+/cZfJtL9zvNPKLCTfFBBAAAAK0GfDEUVLCP/AAAPhszF4lxTEYH4gdcowHPC8Sdm7NAAAAMAAAMCkUpVAS8AAAAVAZ8rdEf/AAAZK9cPGNhbmJM+nKSBAAAAFQGfLWpH/wAAGSk7VsaywKIYRvykgAAAADtBmzFJqEFsmUwIR//94QAAAwBp/KJ+WPrVoLuGm4fsIFHhnlXXT8RgGMo/ZiY8Rj8z8EOBP9i0kexCkAAAACpBn09FFSx/AAADA4majTEzjkEaDTr7nWlPtN5jwp/cAAADABq8zulUAb0AAAAOAZ9wakf/AAADAAADAakAAAAvQZt1SahBbJlMCEf//eEAAAMC5twh990Q88BBfD5IeXaptcBn0YRB82xbyXoEktAAAAAyQZ+TRRUsI/8AAA+H9Ju1rS9jhrOqYrFCBftW/R5YMnmMGcAAAAMAAAMAAIEgZY8IBd0AAAAtAZ+ydEf/AAAZK7penE26pA33EMEAaXLusm3PX6bQmFRoSKW62mOwwELBNwJ9AAAAHAGftGpH/wAAAwFQzXL44Gm4rXVClwk7ZlbhKYEAAABQQZu5SahBbJlMCEf//eEAAAMC6KzWDGuyUgAAcaTwEWTngu/5Mh2JGwJJDmu1DPqEtT6DjCa8hv8aAiQ5p3VArgAZMyg/hnqkSNdHDFqnnfkAAAAyQZ/XRRUsI/8AAA+GzFqC3Qf+RzXS5aWU3jnvxMbgAju1w9wxAAADAAADAAMMTseEAu4AAAAYAZ/2dEf/AAAZHAGmwhTl5FIECM9Y+NmBAAAAHQGf+GpH/wAAGSkqWe4ktM1cKymPlR2/F9bGglDQAAAAMEGb/UmoQWyZTAhH//3hAAADAubcIffc0ycYZcl6c6ozqg2ftHtzlH2GM5vj7WBP4AAAADpBnhtFFSwj/wAAD4w+RZfhDk4T1rNUa1lPfgBuWltQONEoO5MGS1UUfpfH3cGAAAADAAAMB5feEAj5AAAAIQGeOnRH/wAACSsMpFPttj48lheVea2GpMsoFf0wmfjpTAAAABgBnjxqR/8AABkpKlnuJLTNXCvY2QHVBs0AAAA2QZohSahBbJlMCEf//eEAAAMC55oJyX2QsQD8Ua+jHl+xIbSDo2FsdOUfSFdHGDvmsB0zWe5BAAAAMUGeX0UVLCP/AAAPjD5FnRXQa0SIVkYvZ/cEFLolGPoRPdQuAAADAAADAAqgD2VQBLwAAAAbAZ5+dEf/AAADA3V64eM9pkgLcPIFanalVaGhAAAAIgGeYGpH/wAAGR9tGG5evc2UuDjoukU4CrCQ5NMjA7p0OM8AAAAuQZplSahBbJlMCEf//eEAAAMC5twh990Q88BBa3IBfyrwjZ2SlGWFJvsIw/YJqQAAACtBnoNFFSwj/wAAD4w+RZ0VzKyZST4HQorLh58jj8MAAAMAAAMAWVijLAJfAAAADgGeonRH/wAAAwAAAwGpAAAAIwGepGpH/wAAGSkqWe4ktnRiq0KVsrFqe/viGDBrA4On6dKYAAAAI0GaqUmoQWyZTAhH//3hAAADAueaCcl9kLD9KBQwgBZeQB6RAAAAKUGex0UVLCP/AAAPjD5FnRXNggbi+XCo2alj4AAAAwAAAwAA+OqZYEvAAAAADgGe5nRH/wAAAwAAAwGpAAAAFwGe6GpH/wAAGR9tGG5Qa4uPU4UOocGzAAAAMUGa7UmoQWyZTAhH//3hAAADAubcIffdEPPBd4kR3E3a0JZ5R+09fgAJlyfqEkNl7oEAAAAyQZ8LRRUsI/8AAA+MPkWdFcxVl6ilg8nJbyULXdWxP217kggMAAADAAADABTnK8qgCXkAAAAdAZ8qdEf/AAADA3V64ixtcR6UtNN9+2gAmgWLGeEAAAAWAZ8sakf/AAAZH20YblBri49Tb4YNmQAAADdBmzFJqEFsmUwIR//94QAAAwLnmgnJfZCw/Y2WuJzoDuU7ESPqvaUYDLwUl3/MAbzBYhlD31oYAAAAK0GfT0UVLCP/AAAPjD5FnRXMrJlJPgdCisuHnyOPwwAAAwAAAwBZWKMsAl4AAAAOAZ9udEf/AAADAAADAakAAAArAZ9wakf/AAAZH20Ybl69zlrpbABdQB29JZONfKyB165aW2WEPfWArY/H+QAAAClBm3VJqEFsmUwIR//94QAAAwLm3BKaQ1VUWfgxO+SO1aVhJmavm6UD1AAAADVBn5NFFSwj/wAAD4w+RZ0VzYIM1otFg+JJ8hz1goASVPuuIn7gzAAAAwAAAwAAlE0WVQBLwQAAAB0Bn7J0R/8AAAMAfuGfZYyF7VwpXGzuQ5jaOUHzcQAAABYBn7RqR/8AABkfbRhuUGuLj1Nvhg2ZAAAANkGbuEmoQWyZTAj//IQAAAtnoziATsHVNegaTZ0EXZWBnz4ncC+lq47Xlab8yCw5eXWYXW4R1gAAACpBn9ZFFSx/AAAZKSpZ7iS0zVwrKY+VHb8X11VIxAAAAwAAAwErUt4QCPgAAAAiAZ/3akf/AAAZKSpZ7iSxZC7fYV+ZAr31wtkZ8PhNpLwGDQAAGnJtb292AAAAbG12aGQAAAAAAAAAAAAAAAAAAAPoAAAgfQABAAABAAAAAAAAAAAAAAAAAQAAAAAAAAAAAAAAAAAAAAEAAAAAAAAAAAAAAAAAAEAAAAAAAAAAAAAAAAAAAAAAAAAAAAAAAAAAAAAAAAACAAAZnXRyYWsAAABcdGtoZAAAAAMAAAAAAAAAAAAAAAEAAAAAAAAgfQAAAAAAAAAAAAAAAAAAAAAAAQAAAAAAAAAAAAAAAAAAAAEAAAAAAAAAAAAAAAAAAEAAAAACWAAAAZAAAAAAACRlZHRzAAAAHGVsc3QAAAAAAAAAAQAAIH0AAAIAAAEAAAAAGRVtZGlhAAAAIG1kaGQAAAAAAAAAAAAAAAAAADwAAAHzAFXEAAAAAAAtaGRscgAAAAAAAAAAdmlkZQAAAAAAAAAAAAAAAFZpZGVvSGFuZGxlcgAAABjAbWluZgAAABR2bWhkAAAAAQAAAAAAAAAAAAAAJGRpbmYAAAAcZHJlZgAAAAAAAAABAAAADHVybCAAAAABAAAYgHN0YmwAAACwc3RzZAAAAAAAAAABAAAAoGF2YzEAAAAAAAAAAQAAAAAAAAAAAAAAAAAAAAACWAGQAEgAAABIAAAAAAAAAAEUTGF2YzYxLjMuMTAwIGxpYngyNjQAAAAAAAAAAAAAAAAY//8AAAA2YXZjQwFkAB//4QAZZ2QAH6zZQJgz5eEAAAMAAQAAAwB4DxgxlgEABmjr48siwP34+AAAAAAUYnRydAAAAAAAAGN7AABjewAAABhzdHRzAAAAAAAAAAEAAAHzAAABAAAAABhzdHNzAAAAAAAAAAIAAAABAAAA+wAAD4hjdHRzAAAAAAAAAe8AAAABAAACAAAAAAEAAAUAAAAAAQAAAgAAAAABAAAAAAAAAAEAAAEAAAAAAQAABQAAAAABAAACAAAAAAEAAAAAAAAAAQAAAQAAAAABAAAFAAAAAAEAAAIAAAAAAQAAAAAAAAABAAABAAAAAAEAAAUAAAAAAQAAAgAAAAABAAAAAAAAAAEAAAEAAAAAAQAABQAAAAABAAACAAAAAAEAAAAAAAAAAQAAAQAAAAABAAAFAAAAAAEAAAIAAAAAAQAAAAAAAAABAAABAAAAAAEAAAMAAAAAAQAAAQAAAAABAAAFAAAAAAEAAAIAAAAAAQAAAAAAAAABAAABAAAAAAEAAAUAAAAAAQAAAgAAAAABAAAAAAAAAAEAAAEAAAAAAQAABQAAAAABAAACAAAAAAEAAAAAAAAAAQAAAQAAAAABAAAFAAAAAAEAAAIAAAAAAQAAAAAAAAABAAABAAAAAAEAAAUAAAAAAQAAAgAAAAABAAAAAAAAAAEAAAEAAAAAAQAABQAAAAABAAACAAAAAAEAAAAAAAAAAQAAAQAAAAABAAAFAAAAAAEAAAIAAAAAAQAAAAAAAAABAAABAAAAAAEAAAUAAAAAAQAAAgAAAAABAAAAAAAAAAEAAAEAAAAAAQAABQAAAAABAAACAAAAAAEAAAAAAAAAAQAAAQAAAAABAAAFAAAAAAEAAAIAAAAAAQAAAAAAAAABAAABAAAAAAEAAAUAAAAAAQAAAgAAAAABAAAAAAAAAAEAAAEAAAAAAQAABQAAAAABAAACAAAAAAEAAAAAAAAAAQAAAQAAAAABAAAFAAAAAAEAAAIAAAAAAQAAAAAAAAABAAABAAAAAAEAAAUAAAAAAQAAAgAAAAABAAAAAAAAAAEAAAEAAAAAAQAABQAAAAABAAACAAAAAAEAAAAAAAAAAQAAAQAAAAABAAAFAAAAAAEAAAIAAAAAAQAAAAAAAAABAAABAAAAAAEAAAUAAAAAAQAAAgAAAAABAAAAAAAAAAEAAAEAAAAAAQAABQAAAAABAAACAAAAAAEAAAAAAAAAAQAAAQAAAAABAAAFAAAAAAEAAAIAAAAAAQAAAAAAAAABAAABAAAAAAEAAAUAAAAAAQAAAgAAAAABAAAAAAAAAAEAAAEAAAAAAQAABQAAAAABAAACAAAAAAEAAAAAAAAAAQAAAQAAAAABAAAFAAAAAAEAAAIAAAAAAQAAAAAAAAABAAABAAAAAAEAAAUAAAAAAQAAAgAAAAABAAAAAAAAAAEAAAEAAAAAAQAABQAAAAABAAACAAAAAAEAAAAAAAAAAQAAAQAAAAABAAAFAAAAAAEAAAIAAAAAAQAAAAAAAAABAAABAAAAAAEAAAUAAAAAAQAAAgAAAAABAAAAAAAAAAEAAAEAAAAAAQAABQAAAAABAAACAAAAAAEAAAAAAAAAAQAAAQAAAAABAAAFAAAAAAEAAAIAAAAAAQAAAAAAAAABAAABAAAAAAEAAAUAAAAAAQAAAgAAAAABAAAAAAAAAAEAAAEAAAAAAQAABQAAAAABAAACAAAAAAEAAAAAAAAAAQAAAQAAAAABAAAFAAAAAAEAAAIAAAAAAQAAAAAAAAABAAABAAAAAAEAAAUAAAAAAQAAAgAAAAABAAAAAAAAAAEAAAEAAAAAAQAABQAAAAABAAACAAAAAAEAAAAAAAAAAQAAAQAAAAABAAADAAAAAAEAAAEAAAAAAQAABQAAAAABAAACAAAAAAEAAAAAAAAAAQAAAQAAAAABAAAFAAAAAAEAAAIAAAAAAQAAAAAAAAABAAABAAAAAAEAAAUAAAAAAQAAAgAAAAABAAAAAAAAAAEAAAEAAAAAAQAABQAAAAABAAACAAAAAAEAAAAAAAAAAQAAAQAAAAABAAAFAAAAAAEAAAIAAAAAAQAAAAAAAAABAAABAAAAAAEAAAUAAAAAAQAAAgAAAAABAAAAAAAAAAEAAAEAAAAAAQAABQAAAAABAAACAAAAAAEAAAAAAAAAAQAAAQAAAAABAAAFAAAAAAEAAAIAAAAAAQAAAAAAAAABAAABAAAAAAEAAAQAAAAAAgAAAQAAAAABAAAFAAAAAAEAAAIAAAAAAQAAAAAAAAABAAABAAAAAAEAAAUAAAAAAQAAAgAAAAABAAAAAAAAAAEAAAEAAAAAAQAABQAAAAABAAACAAAAAAEAAAAAAAAAAQAAAQAAAAABAAAFAAAAAAEAAAIAAAAAAQAAAAAAAAABAAABAAAAAAEAAAUAAAAAAQAAAgAAAAABAAAAAAAAAAEAAAEAAAAAAQAABQAAAAABAAACAAAAAAEAAAAAAAAAAQAAAQAAAAABAAAFAAAAAAEAAAIAAAAAAQAAAAAAAAABAAABAAAAAAEAAAMAAAAAAQAAAQAAAAABAAAFAAAAAAEAAAIAAAAAAQAAAAAAAAABAAABAAAAAAEAAAUAAAAAAQAAAgAAAAABAAAAAAAAAAEAAAEAAAAAAQAABQAAAAABAAACAAAAAAEAAAAAAAAAAQAAAQAAAAABAAAFAAAAAAEAAAIAAAAAAQAAAAAAAAABAAABAAAAAAEAAAUAAAAAAQAAAgAAAAABAAAAAAAAAAEAAAEAAAAAAQAABQAAAAABAAACAAAAAAEAAAAAAAAAAQAAAQAAAAABAAACAAAAAAEAAAUAAAAAAQAAAgAAAAABAAAAAAAAAAEAAAEAAAAAAQAABQAAAAABAAACAAAAAAEAAAAAAAAAAQAAAQAAAAABAAAFAAAAAAEAAAIAAAAAAQAAAAAAAAABAAABAAAAAAEAAAUAAAAAAQAAAgAAAAABAAAAAAAAAAEAAAEAAAAAAQAABQAAAAABAAACAAAAAAEAAAAAAAAAAQAAAQAAAAABAAAFAAAAAAEAAAIAAAAAAQAAAAAAAAABAAABAAAAAAEAAAUAAAAAAQAAAgAAAAABAAAAAAAAAAEAAAEAAAAAAQAABQAAAAABAAACAAAAAAEAAAAAAAAAAQAAAQAAAAABAAAFAAAAAAEAAAIAAAAAAQAAAAAAAAABAAABAAAAAAEAAAUAAAAAAQAAAgAAAAABAAAAAAAAAAEAAAEAAAAAAQAABQAAAAABAAACAAAAAAEAAAAAAAAAAQAAAQAAAAABAAAFAAAAAAEAAAIAAAAAAQAAAAAAAAABAAABAAAAAAEAAAUAAAAAAQAAAgAAAAABAAAAAAAAAAEAAAEAAAAAAQAABQAAAAABAAACAAAAAAEAAAAAAAAAAQAAAQAAAAABAAAFAAAAAAEAAAIAAAAAAQAAAAAAAAABAAABAAAAAAEAAAUAAAAAAQAAAgAAAAABAAAAAAAAAAEAAAEAAAAAAQAABQAAAAABAAACAAAAAAEAAAAAAAAAAQAAAQAAAAABAAAFAAAAAAEAAAIAAAAAAQAAAAAAAAABAAABAAAAAAEAAAUAAAAAAQAAAgAAAAABAAAAAAAAAAEAAAEAAAAAAQAAAwAAAAABAAABAAAAAAEAAAUAAAAAAQAAAgAAAAABAAAAAAAAAAEAAAEAAAAAAQAABQAAAAABAAACAAAAAAEAAAAAAAAAAQAAAQAAAAABAAAFAAAAAAEAAAIAAAAAAQAAAAAAAAABAAABAAAAAAEAAAUAAAAAAQAAAgAAAAABAAAAAAAAAAEAAAEAAAAAAQAABQAAAAABAAACAAAAAAEAAAAAAAAAAQAAAQAAAAABAAAFAAAAAAEAAAIAAAAAAQAAAAAAAAABAAABAAAAAAEAAAUAAAAAAQAAAgAAAAABAAAAAAAAAAEAAAEAAAAAAQAABQAAAAABAAACAAAAAAEAAAAAAAAAAQAAAQAAAAABAAAFAAAAAAEAAAIAAAAAAQAAAAAAAAABAAABAAAAAAEAAAUAAAAAAQAAAgAAAAABAAAAAAAAAAEAAAEAAAAAAQAABQAAAAABAAACAAAAAAEAAAAAAAAAAQAAAQAAAAABAAAFAAAAAAEAAAIAAAAAAQAAAAAAAAABAAABAAAAAAEAAAUAAAAAAQAAAgAAAAABAAAAAAAAAAEAAAEAAAAAAQAABQAAAAABAAACAAAAAAEAAAAAAAAAAQAAAQAAAAABAAAFAAAAAAEAAAIAAAAAAQAAAAAAAAABAAABAAAAAAEAAAUAAAAAAQAAAgAAAAABAAAAAAAAAAEAAAEAAAAAAQAABQAAAAABAAACAAAAAAEAAAAAAAAAAQAAAQAAAAABAAAFAAAAAAEAAAIAAAAAAQAAAAAAAAABAAABAAAAAAEAAAUAAAAAAQAAAgAAAAABAAAAAAAAAAEAAAEAAAAAAQAAAgAAAAABAAAFAAAAAAEAAAIAAAAAAQAAAAAAAAABAAABAAAAAAEAAAUAAAAAAQAAAgAAAAABAAAAAAAAAAEAAAEAAAAAAQAABQAAAAABAAACAAAAAAEAAAAAAAAAAQAAAQAAAAABAAAFAAAAAAEAAAIAAAAAAQAAAAAAAAABAAABAAAAAAEAAAUAAAAAAQAAAgAAAAABAAAAAAAAAAEAAAEAAAAAAQAABQAAAAABAAACAAAAAAEAAAAAAAAAAQAAAQAAAAABAAAFAAAAAAEAAAIAAAAAAQAAAAAAAAABAAABAAAAAAEAAAUAAAAAAQAAAgAAAAABAAAAAAAAAAEAAAEAAAAAAQAABQAAAAABAAACAAAAAAEAAAAAAAAAAQAAAQAAAAABAAAEAAAAAAIAAAEAAAAAAQAABQAAAAABAAACAAAAAAEAAAAAAAAAAQAAAQAAAAABAAAFAAAAAAEAAAIAAAAAAQAAAAAAAAABAAABAAAAAAEAAAUAAAAAAQAAAgAAAAABAAAAAAAAAAEAAAEAAAAAAQAABAAAAAACAAABAAAAAAEAAAUAAAAAAQAAAgAAAAABAAAAAAAAAAEAAAEAAAAAAQAABQAAAAABAAACAAAAAAEAAAAAAAAAAQAAAQAAAAABAAAFAAAAAAEAAAIAAAAAAQAAAAAAAAABAAABAAAAAAEAAAUAAAAAAQAAAgAAAAABAAAAAAAAAAEAAAEAAAAAAQAABQAAAAABAAACAAAAAAEAAAAAAAAAAQAAAQAAAAABAAAFAAAAAAEAAAIAAAAAAQAAAAAAAAABAAABAAAAAAEAAAUAAAAAAQAAAgAAAAABAAAAAAAAAAEAAAEAAAAAAQAABQAAAAABAAACAAAAAAEAAAAAAAAAAQAAAQAAAAABAAAFAAAAAAEAAAIAAAAAAQAAAAAAAAABAAABAAAAAAEAAAQAAAAAAgAAAQAAAAAcc3RzYwAAAAAAAAABAAAAAQAAAfMAAAABAAAH4HN0c3oAAAAAAAAAAAAAAfMAAARxAAAA0QAAADgAAAAvAAAAMwAAAM0AAABPAAAAMgAAAD4AAAC3AAAAPAAAADYAAAAjAAAARwAAADoAAAAkAAAAMAAAAHkAAAA6AAAAMAAAACwAAACGAAAATgAAADUAAAA6AAAAiAAAAEEAAACfAAAARgAAAFwAAAAxAAAAigAAAD8AAAAvAAAAOAAAAL4AAAA3AAAALgAAADcAAABvAAAAPAAAAC4AAAAqAAAAYgAAAE8AAAAfAAAASQAAAE0AAAAsAAAALQAAACIAAABCAAAAKgAAADEAAAApAAAATQAAADgAAAApAAAAIwAAAF0AAAAnAAAAKQAAACsAAAB4AAAAPAAAAEQAAAAmAAAAXAAAADoAAAAjAAAAMQAAAD0AAAAlAAAAMQAAACoAAABHAAAAJgAAACMAAAAhAAAAQQAAACYAAAAgAAAAIQAAAGEAAAAnAAAAJwAAACYAAABJAAAALwAAACIAAAAnAAAARAAAACgAAAAhAAAAGQAAAE4AAABFAAAAJQAAACYAAABYAAAALQAAABoAAAAlAAAALwAAADgAAAAnAAAAHAAAAD4AAAAwAAAAJAAAACUAAABCAAAAJwAAABsAAAAoAAAAMwAAACwAAAAoAAAAGwAAAEQAAAAuAAAAMAAAADIAAAA3AAAAKQAAACUAAAAgAAAAPwAAAC4AAAAxAAAAJQAAAD8AAAAtAAAAHgAAACEAAABAAAAAKgAAACcAAAAoAAAAOgAAADAAAAAiAAAAJQAAADoAAAAkAAAAGwAAACQAAAA9AAAAQAAAAC4AAAAfAAAASQAAAC4AAAAjAAAAMgAAADcAAABAAAAAPgAAACcAAABCAAAAIgAAAEMAAABCAAAAJwAAADwAAAA0AAAAJQAAADwAAAAkAAAALQAAAC4AAAAkAAAAIQAAAC4AAAAlAAAAJAAAACEAAAA4AAAAJwAAACAAAAAxAAAAQQAAACUAAAAuAAAAIQAAAEEAAAA1AAAAGgAAACwAAABKAAAAKwAAAB0AAAAdAAAAQwAAACsAAAAeAAAALgAAADEAAAAmAAAAJwAAAEwAAAAxAAAAJgAAACcAAAAwAAAAKAAAACUAAAAhAAAANQAAACgAAAAlAAAAHAAAAD8AAAApAAAAJAAAACQAAAA9AAAAJQAAACQAAAAhAAAAPQAAACYAAAAnAAAAGwAAADoAAAAnAAAARAAAACYAAAAzAAAAGQAAAEgAAAAuAAAALAAAACEAAABFAAAALQAAACIAAAApAAAALgAAACgAAAAlAAAAIwAAAE0AAAArAAAAKwAAACcAAAA5AAAAKAAAACoAAAAdAAABigAAAEcAAABTAAAAKwAAACIAAABKAAAANgAAACEAAAAsAAAAPwAAADkAAAAmAAAAHwAAAC8AAABIAAAAIAAAACcAAABHAAAANgAAACAAAAAcAAAARgAAADYAAAAtAAAAIAAAAD8AAAA4AAAAIwAAACkAAAAxAAAANQAAACsAAAAoAAAATQAAAD0AAAArAAAAKwAAAFAAAAA3AAAAGwAAACcAAAA6AAAANwAAAB8AAAAmAAAALgAAADkAAAAnAAAAJgAAADcAAAA0AAAAJAAAACEAAAAuAAAANAAAACUAAAAhAAAAPgAAADYAAAAgAAAAJgAAAEoAAAA2AAAALQAAACAAAAAzAAAAOwAAADAAAAApAAAARwAAADYAAAAdAAAAJQAAAD8AAAA5AAAAJQAAAB0AAAA5AAAANwAAADwAAABLAAAAKQAAABsAAABMAAAAOwAAACAAAAAnAAAAOgAAADIAAAAoAAAAIAAAADQAAAA+AAAAJQAAACgAAABNAAAANwAAACgAAAA+AAAAPAAAADwAAAAkAAAAGwAAAEEAAAA3AAAAIQAAADEAAAA9AAAAOAAAAB4AAAAYAAAAPwAAADgAAAAlAAAAGAAAAF4AAABQAAAAJwAAADIAAAAqAAAANQAAAB4AAAAbAAAAPQAAAD8AAAArAAAAHQAAAEgAAAA1AAAAIAAAACYAAAAwAAAAMwAAAB0AAAAbAAAAQQAAADwAAAAgAAAAIQAAAFcAAAA4AAAAHwAAACIAAABOAAAAPAAAAB4AAAA2AAAASAAAAE8AAAAiAAAALgAAADQAAAA0AAAAGgAAACgAAABMAAAAVQAAAD4AAAAoAAAAIAAAAEUAAAA3AAAAOAAAAB0AAABQAAAANwAAACAAAAAzAAAAMAAAADYAAAAnAAAAIQAAADYAAABBAAAAHwAAABwAAAA5AAAANQAAACAAAAAeAAAAQwAAAD4AAAAmAAAAIAAAAD8AAAA4AAAAJgAAABwAAABKAAAAMwAAACIAAAAaAAAAQAAAAC0AAAAlAAAAMwAAADYAAAAeAAAAGAAAADoAAAA6AAAAHgAAAB8AAAA3AAAALwAAABkAAAAZAAAAPwAAAC4AAAASAAAAMwAAADYAAAAxAAAAIAAAAFQAAAA2AAAAHAAAACEAAAA0AAAAPgAAACUAAAAcAAAAOgAAADUAAAAfAAAAJgAAADIAAAAvAAAAEgAAACcAAAAnAAAALQAAABIAAAAbAAAANQAAADYAAAAhAAAAGgAAADsAAAAvAAAAEgAAAC8AAAAtAAAAOQAAACEAAAAaAAAAOgAAAC4AAAAmAAAAFHN0Y28AAAAAAAAAAQAAADAAAABhdWR0YQAAAFltZXRhAAAAAAAAACFoZGxyAAAAAAAAAABtZGlyYXBwbAAAAAAAAAAAAAAAACxpbHN0AAAAJKl0b28AAAAcZGF0YQAAAAEAAAAATGF2ZjYxLjEuMTAw\" type=\"video/mp4\">\n",
              "    </video>\n",
              "    "
            ],
            "text/plain": [
              "<IPython.core.display.HTML object>"
            ]
          },
          "execution_count": 33,
          "metadata": {},
          "output_type": "execute_result"
        }
      ],
      "source": [
        "display_video(\"cartpole_videos/40000.mp4\")"
      ]
    },
    {
      "cell_type": "markdown",
      "metadata": {
        "id": "wQD086TyGUJD"
      },
      "source": [
        "# 3 Submission\n",
        "\n",
        "If you are taking the CSE 276F course at UC San Diego, to submit your work please save this .ipynb file locally first. Then run the cells below which zips up some of your answers and generated evaluation images/videos for grading."
      ]
    },
    {
      "cell_type": "code",
      "execution_count": 49,
      "metadata": {
        "id": "hdi66_UAGVR3"
      },
      "outputs": [],
      "source": [
        "work_data = {\n",
        "    \"p1_1\": P1_1_PASS,\n",
        "    \"p2_1\": P2_1_PASS,\n",
        "    \"p2_2\": P2_2_PASS,\n",
        "    \"p2_3\": P2_3_RET\n",
        "}\n",
        "import json\n",
        "with open(\"answers.json\", 'w') as json_file:\n",
        "    json.dump(work_data, json_file, indent=2)"
      ]
    },
    {
      "cell_type": "code",
      "execution_count": 50,
      "metadata": {
        "id": "F9JIduHeG3Qu"
      },
      "outputs": [],
      "source": [
        "!mkdir -p hw_files/p1.3 2> /dev/null\n",
        "!cp P2_3.png hw_files/\n",
        "!cp cartpole_videos/40000.mp4 hw_files/\n",
        "!cp answers.json hw_files/\n",
        "!cp p_1_3_trial_*.mp4 hw_files/p1.3\n",
        "!tar -czvf hw_files.tar.gz hw_files > /dev/null"
      ]
    }
  ],
  "metadata": {
    "accelerator": "GPU",
    "colab": {
      "gpuType": "T4",
      "provenance": [],
      "toc_visible": true
    },
    "kernelspec": {
      "display_name": "robolearning",
      "language": "python",
      "name": "python3"
    },
    "language_info": {
      "codemirror_mode": {
        "name": "ipython",
        "version": 3
      },
      "file_extension": ".py",
      "mimetype": "text/x-python",
      "name": "python",
      "nbconvert_exporter": "python",
      "pygments_lexer": "ipython3",
      "version": "3.10.16"
    },
    "widgets": {
      "application/vnd.jupyter.widget-state+json": {
        "0046d2d38f7841a1a3e6cca1453aa36e": {
          "model_module": "@jupyter-widgets/controls",
          "model_module_version": "1.5.0",
          "model_name": "HBoxModel",
          "state": {
            "_dom_classes": [],
            "_model_module": "@jupyter-widgets/controls",
            "_model_module_version": "1.5.0",
            "_model_name": "HBoxModel",
            "_view_count": null,
            "_view_module": "@jupyter-widgets/controls",
            "_view_module_version": "1.5.0",
            "_view_name": "HBoxView",
            "box_style": "",
            "children": [
              "IPY_MODEL_7f551383d0334b5faafffe973c2c90ee",
              "IPY_MODEL_cb4c13f69877491e9c86f51f4994e594",
              "IPY_MODEL_575332b205b84b089641fb4a3503d96d"
            ],
            "layout": "IPY_MODEL_ae418a7507bd4172a1c2b46a5b466a00"
          }
        },
        "010d0b81f97d4a93be83f60aa38ba601": {
          "model_module": "@jupyter-widgets/controls",
          "model_module_version": "1.5.0",
          "model_name": "HTMLModel",
          "state": {
            "_dom_classes": [],
            "_model_module": "@jupyter-widgets/controls",
            "_model_module_version": "1.5.0",
            "_model_name": "HTMLModel",
            "_view_count": null,
            "_view_module": "@jupyter-widgets/controls",
            "_view_module_version": "1.5.0",
            "_view_name": "HTMLView",
            "description": "",
            "description_tooltip": null,
            "layout": "IPY_MODEL_d4506ddde1ad43468e512b66b0077a39",
            "placeholder": "​",
            "style": "IPY_MODEL_a1b34ccdbcea4ae5a7dd0b8b00e533e7",
            "value": "100%"
          }
        },
        "130b1ed3a097496fb0adea4ef48bed19": {
          "model_module": "@jupyter-widgets/controls",
          "model_module_version": "1.5.0",
          "model_name": "DescriptionStyleModel",
          "state": {
            "_model_module": "@jupyter-widgets/controls",
            "_model_module_version": "1.5.0",
            "_model_name": "DescriptionStyleModel",
            "_view_count": null,
            "_view_module": "@jupyter-widgets/base",
            "_view_module_version": "1.2.0",
            "_view_name": "StyleView",
            "description_width": ""
          }
        },
        "13cc908517cb4bba98c00ef5b098cc86": {
          "model_module": "@jupyter-widgets/base",
          "model_module_version": "1.2.0",
          "model_name": "LayoutModel",
          "state": {
            "_model_module": "@jupyter-widgets/base",
            "_model_module_version": "1.2.0",
            "_model_name": "LayoutModel",
            "_view_count": null,
            "_view_module": "@jupyter-widgets/base",
            "_view_module_version": "1.2.0",
            "_view_name": "LayoutView",
            "align_content": null,
            "align_items": null,
            "align_self": null,
            "border": null,
            "bottom": null,
            "display": null,
            "flex": null,
            "flex_flow": null,
            "grid_area": null,
            "grid_auto_columns": null,
            "grid_auto_flow": null,
            "grid_auto_rows": null,
            "grid_column": null,
            "grid_gap": null,
            "grid_row": null,
            "grid_template_areas": null,
            "grid_template_columns": null,
            "grid_template_rows": null,
            "height": null,
            "justify_content": null,
            "justify_items": null,
            "left": null,
            "margin": null,
            "max_height": null,
            "max_width": null,
            "min_height": null,
            "min_width": null,
            "object_fit": null,
            "object_position": null,
            "order": null,
            "overflow": null,
            "overflow_x": null,
            "overflow_y": null,
            "padding": null,
            "right": null,
            "top": null,
            "visibility": null,
            "width": null
          }
        },
        "160a04d02bc342f58acff4c1b6340463": {
          "model_module": "@jupyter-widgets/controls",
          "model_module_version": "1.5.0",
          "model_name": "ProgressStyleModel",
          "state": {
            "_model_module": "@jupyter-widgets/controls",
            "_model_module_version": "1.5.0",
            "_model_name": "ProgressStyleModel",
            "_view_count": null,
            "_view_module": "@jupyter-widgets/base",
            "_view_module_version": "1.2.0",
            "_view_name": "StyleView",
            "bar_color": null,
            "description_width": ""
          }
        },
        "32a95d9cd5ef436ba6d8fc847392a66c": {
          "model_module": "@jupyter-widgets/controls",
          "model_module_version": "1.5.0",
          "model_name": "FloatProgressModel",
          "state": {
            "_dom_classes": [],
            "_model_module": "@jupyter-widgets/controls",
            "_model_module_version": "1.5.0",
            "_model_name": "FloatProgressModel",
            "_view_count": null,
            "_view_module": "@jupyter-widgets/controls",
            "_view_module_version": "1.5.0",
            "_view_name": "ProgressView",
            "bar_style": "success",
            "description": "",
            "description_tooltip": null,
            "layout": "IPY_MODEL_b027b36b9a5748c3aae863acb0c247af",
            "max": 40000,
            "min": 0,
            "orientation": "horizontal",
            "style": "IPY_MODEL_bdd40b0f943448389276d18fdb74188a",
            "value": 40000
          }
        },
        "575332b205b84b089641fb4a3503d96d": {
          "model_module": "@jupyter-widgets/controls",
          "model_module_version": "1.5.0",
          "model_name": "HTMLModel",
          "state": {
            "_dom_classes": [],
            "_model_module": "@jupyter-widgets/controls",
            "_model_module_version": "1.5.0",
            "_model_name": "HTMLModel",
            "_view_count": null,
            "_view_module": "@jupyter-widgets/controls",
            "_view_module_version": "1.5.0",
            "_view_name": "HTMLView",
            "description": "",
            "description_tooltip": null,
            "layout": "IPY_MODEL_13cc908517cb4bba98c00ef5b098cc86",
            "placeholder": "​",
            "style": "IPY_MODEL_667a2617238747e58a6ccd181c266cba",
            "value": " 50000/50000 [00:27&lt;00:00, 2465.94it/s, eval_eps_ret=398, eval_eps_len=398, epsilon=0.1]"
          }
        },
        "667a2617238747e58a6ccd181c266cba": {
          "model_module": "@jupyter-widgets/controls",
          "model_module_version": "1.5.0",
          "model_name": "DescriptionStyleModel",
          "state": {
            "_model_module": "@jupyter-widgets/controls",
            "_model_module_version": "1.5.0",
            "_model_name": "DescriptionStyleModel",
            "_view_count": null,
            "_view_module": "@jupyter-widgets/base",
            "_view_module_version": "1.2.0",
            "_view_name": "StyleView",
            "description_width": ""
          }
        },
        "677e3400ddb241fba6a5107252e1b3b2": {
          "model_module": "@jupyter-widgets/controls",
          "model_module_version": "1.5.0",
          "model_name": "HTMLModel",
          "state": {
            "_dom_classes": [],
            "_model_module": "@jupyter-widgets/controls",
            "_model_module_version": "1.5.0",
            "_model_name": "HTMLModel",
            "_view_count": null,
            "_view_module": "@jupyter-widgets/controls",
            "_view_module_version": "1.5.0",
            "_view_name": "HTMLView",
            "description": "",
            "description_tooltip": null,
            "layout": "IPY_MODEL_79c35cd2e0ea403d9a94e98ccdb77f94",
            "placeholder": "​",
            "style": "IPY_MODEL_130b1ed3a097496fb0adea4ef48bed19",
            "value": " 40000/40000 [00:01&lt;00:00, 30462.00it/s]"
          }
        },
        "77fb60f7840c4abd8102c3baa2b0a740": {
          "model_module": "@jupyter-widgets/base",
          "model_module_version": "1.2.0",
          "model_name": "LayoutModel",
          "state": {
            "_model_module": "@jupyter-widgets/base",
            "_model_module_version": "1.2.0",
            "_model_name": "LayoutModel",
            "_view_count": null,
            "_view_module": "@jupyter-widgets/base",
            "_view_module_version": "1.2.0",
            "_view_name": "LayoutView",
            "align_content": null,
            "align_items": null,
            "align_self": null,
            "border": null,
            "bottom": null,
            "display": null,
            "flex": null,
            "flex_flow": null,
            "grid_area": null,
            "grid_auto_columns": null,
            "grid_auto_flow": null,
            "grid_auto_rows": null,
            "grid_column": null,
            "grid_gap": null,
            "grid_row": null,
            "grid_template_areas": null,
            "grid_template_columns": null,
            "grid_template_rows": null,
            "height": null,
            "justify_content": null,
            "justify_items": null,
            "left": null,
            "margin": null,
            "max_height": null,
            "max_width": null,
            "min_height": null,
            "min_width": null,
            "object_fit": null,
            "object_position": null,
            "order": null,
            "overflow": null,
            "overflow_x": null,
            "overflow_y": null,
            "padding": null,
            "right": null,
            "top": null,
            "visibility": null,
            "width": null
          }
        },
        "79c35cd2e0ea403d9a94e98ccdb77f94": {
          "model_module": "@jupyter-widgets/base",
          "model_module_version": "1.2.0",
          "model_name": "LayoutModel",
          "state": {
            "_model_module": "@jupyter-widgets/base",
            "_model_module_version": "1.2.0",
            "_model_name": "LayoutModel",
            "_view_count": null,
            "_view_module": "@jupyter-widgets/base",
            "_view_module_version": "1.2.0",
            "_view_name": "LayoutView",
            "align_content": null,
            "align_items": null,
            "align_self": null,
            "border": null,
            "bottom": null,
            "display": null,
            "flex": null,
            "flex_flow": null,
            "grid_area": null,
            "grid_auto_columns": null,
            "grid_auto_flow": null,
            "grid_auto_rows": null,
            "grid_column": null,
            "grid_gap": null,
            "grid_row": null,
            "grid_template_areas": null,
            "grid_template_columns": null,
            "grid_template_rows": null,
            "height": null,
            "justify_content": null,
            "justify_items": null,
            "left": null,
            "margin": null,
            "max_height": null,
            "max_width": null,
            "min_height": null,
            "min_width": null,
            "object_fit": null,
            "object_position": null,
            "order": null,
            "overflow": null,
            "overflow_x": null,
            "overflow_y": null,
            "padding": null,
            "right": null,
            "top": null,
            "visibility": null,
            "width": null
          }
        },
        "7f551383d0334b5faafffe973c2c90ee": {
          "model_module": "@jupyter-widgets/controls",
          "model_module_version": "1.5.0",
          "model_name": "HTMLModel",
          "state": {
            "_dom_classes": [],
            "_model_module": "@jupyter-widgets/controls",
            "_model_module_version": "1.5.0",
            "_model_name": "HTMLModel",
            "_view_count": null,
            "_view_module": "@jupyter-widgets/controls",
            "_view_module_version": "1.5.0",
            "_view_name": "HTMLView",
            "description": "",
            "description_tooltip": null,
            "layout": "IPY_MODEL_77fb60f7840c4abd8102c3baa2b0a740",
            "placeholder": "​",
            "style": "IPY_MODEL_bf256bba7c924167955f49de330ffaae",
            "value": "100%"
          }
        },
        "a1b34ccdbcea4ae5a7dd0b8b00e533e7": {
          "model_module": "@jupyter-widgets/controls",
          "model_module_version": "1.5.0",
          "model_name": "DescriptionStyleModel",
          "state": {
            "_model_module": "@jupyter-widgets/controls",
            "_model_module_version": "1.5.0",
            "_model_name": "DescriptionStyleModel",
            "_view_count": null,
            "_view_module": "@jupyter-widgets/base",
            "_view_module_version": "1.2.0",
            "_view_name": "StyleView",
            "description_width": ""
          }
        },
        "ae418a7507bd4172a1c2b46a5b466a00": {
          "model_module": "@jupyter-widgets/base",
          "model_module_version": "1.2.0",
          "model_name": "LayoutModel",
          "state": {
            "_model_module": "@jupyter-widgets/base",
            "_model_module_version": "1.2.0",
            "_model_name": "LayoutModel",
            "_view_count": null,
            "_view_module": "@jupyter-widgets/base",
            "_view_module_version": "1.2.0",
            "_view_name": "LayoutView",
            "align_content": null,
            "align_items": null,
            "align_self": null,
            "border": null,
            "bottom": null,
            "display": null,
            "flex": null,
            "flex_flow": null,
            "grid_area": null,
            "grid_auto_columns": null,
            "grid_auto_flow": null,
            "grid_auto_rows": null,
            "grid_column": null,
            "grid_gap": null,
            "grid_row": null,
            "grid_template_areas": null,
            "grid_template_columns": null,
            "grid_template_rows": null,
            "height": null,
            "justify_content": null,
            "justify_items": null,
            "left": null,
            "margin": null,
            "max_height": null,
            "max_width": null,
            "min_height": null,
            "min_width": null,
            "object_fit": null,
            "object_position": null,
            "order": null,
            "overflow": null,
            "overflow_x": null,
            "overflow_y": null,
            "padding": null,
            "right": null,
            "top": null,
            "visibility": null,
            "width": null
          }
        },
        "b027b36b9a5748c3aae863acb0c247af": {
          "model_module": "@jupyter-widgets/base",
          "model_module_version": "1.2.0",
          "model_name": "LayoutModel",
          "state": {
            "_model_module": "@jupyter-widgets/base",
            "_model_module_version": "1.2.0",
            "_model_name": "LayoutModel",
            "_view_count": null,
            "_view_module": "@jupyter-widgets/base",
            "_view_module_version": "1.2.0",
            "_view_name": "LayoutView",
            "align_content": null,
            "align_items": null,
            "align_self": null,
            "border": null,
            "bottom": null,
            "display": null,
            "flex": null,
            "flex_flow": null,
            "grid_area": null,
            "grid_auto_columns": null,
            "grid_auto_flow": null,
            "grid_auto_rows": null,
            "grid_column": null,
            "grid_gap": null,
            "grid_row": null,
            "grid_template_areas": null,
            "grid_template_columns": null,
            "grid_template_rows": null,
            "height": null,
            "justify_content": null,
            "justify_items": null,
            "left": null,
            "margin": null,
            "max_height": null,
            "max_width": null,
            "min_height": null,
            "min_width": null,
            "object_fit": null,
            "object_position": null,
            "order": null,
            "overflow": null,
            "overflow_x": null,
            "overflow_y": null,
            "padding": null,
            "right": null,
            "top": null,
            "visibility": null,
            "width": null
          }
        },
        "b426bd2faa4241b789c7923789df845e": {
          "model_module": "@jupyter-widgets/base",
          "model_module_version": "1.2.0",
          "model_name": "LayoutModel",
          "state": {
            "_model_module": "@jupyter-widgets/base",
            "_model_module_version": "1.2.0",
            "_model_name": "LayoutModel",
            "_view_count": null,
            "_view_module": "@jupyter-widgets/base",
            "_view_module_version": "1.2.0",
            "_view_name": "LayoutView",
            "align_content": null,
            "align_items": null,
            "align_self": null,
            "border": null,
            "bottom": null,
            "display": null,
            "flex": null,
            "flex_flow": null,
            "grid_area": null,
            "grid_auto_columns": null,
            "grid_auto_flow": null,
            "grid_auto_rows": null,
            "grid_column": null,
            "grid_gap": null,
            "grid_row": null,
            "grid_template_areas": null,
            "grid_template_columns": null,
            "grid_template_rows": null,
            "height": null,
            "justify_content": null,
            "justify_items": null,
            "left": null,
            "margin": null,
            "max_height": null,
            "max_width": null,
            "min_height": null,
            "min_width": null,
            "object_fit": null,
            "object_position": null,
            "order": null,
            "overflow": null,
            "overflow_x": null,
            "overflow_y": null,
            "padding": null,
            "right": null,
            "top": null,
            "visibility": null,
            "width": null
          }
        },
        "b9163e69db824736ab0f7d354fbe2216": {
          "model_module": "@jupyter-widgets/controls",
          "model_module_version": "1.5.0",
          "model_name": "HBoxModel",
          "state": {
            "_dom_classes": [],
            "_model_module": "@jupyter-widgets/controls",
            "_model_module_version": "1.5.0",
            "_model_name": "HBoxModel",
            "_view_count": null,
            "_view_module": "@jupyter-widgets/controls",
            "_view_module_version": "1.5.0",
            "_view_name": "HBoxView",
            "box_style": "",
            "children": [
              "IPY_MODEL_010d0b81f97d4a93be83f60aa38ba601",
              "IPY_MODEL_32a95d9cd5ef436ba6d8fc847392a66c",
              "IPY_MODEL_677e3400ddb241fba6a5107252e1b3b2"
            ],
            "layout": "IPY_MODEL_c395959e4c0d4a1ca1b566115d12b220"
          }
        },
        "bdd40b0f943448389276d18fdb74188a": {
          "model_module": "@jupyter-widgets/controls",
          "model_module_version": "1.5.0",
          "model_name": "ProgressStyleModel",
          "state": {
            "_model_module": "@jupyter-widgets/controls",
            "_model_module_version": "1.5.0",
            "_model_name": "ProgressStyleModel",
            "_view_count": null,
            "_view_module": "@jupyter-widgets/base",
            "_view_module_version": "1.2.0",
            "_view_name": "StyleView",
            "bar_color": null,
            "description_width": ""
          }
        },
        "bf256bba7c924167955f49de330ffaae": {
          "model_module": "@jupyter-widgets/controls",
          "model_module_version": "1.5.0",
          "model_name": "DescriptionStyleModel",
          "state": {
            "_model_module": "@jupyter-widgets/controls",
            "_model_module_version": "1.5.0",
            "_model_name": "DescriptionStyleModel",
            "_view_count": null,
            "_view_module": "@jupyter-widgets/base",
            "_view_module_version": "1.2.0",
            "_view_name": "StyleView",
            "description_width": ""
          }
        },
        "c395959e4c0d4a1ca1b566115d12b220": {
          "model_module": "@jupyter-widgets/base",
          "model_module_version": "1.2.0",
          "model_name": "LayoutModel",
          "state": {
            "_model_module": "@jupyter-widgets/base",
            "_model_module_version": "1.2.0",
            "_model_name": "LayoutModel",
            "_view_count": null,
            "_view_module": "@jupyter-widgets/base",
            "_view_module_version": "1.2.0",
            "_view_name": "LayoutView",
            "align_content": null,
            "align_items": null,
            "align_self": null,
            "border": null,
            "bottom": null,
            "display": null,
            "flex": null,
            "flex_flow": null,
            "grid_area": null,
            "grid_auto_columns": null,
            "grid_auto_flow": null,
            "grid_auto_rows": null,
            "grid_column": null,
            "grid_gap": null,
            "grid_row": null,
            "grid_template_areas": null,
            "grid_template_columns": null,
            "grid_template_rows": null,
            "height": null,
            "justify_content": null,
            "justify_items": null,
            "left": null,
            "margin": null,
            "max_height": null,
            "max_width": null,
            "min_height": null,
            "min_width": null,
            "object_fit": null,
            "object_position": null,
            "order": null,
            "overflow": null,
            "overflow_x": null,
            "overflow_y": null,
            "padding": null,
            "right": null,
            "top": null,
            "visibility": null,
            "width": null
          }
        },
        "cb4c13f69877491e9c86f51f4994e594": {
          "model_module": "@jupyter-widgets/controls",
          "model_module_version": "1.5.0",
          "model_name": "FloatProgressModel",
          "state": {
            "_dom_classes": [],
            "_model_module": "@jupyter-widgets/controls",
            "_model_module_version": "1.5.0",
            "_model_name": "FloatProgressModel",
            "_view_count": null,
            "_view_module": "@jupyter-widgets/controls",
            "_view_module_version": "1.5.0",
            "_view_name": "ProgressView",
            "bar_style": "success",
            "description": "",
            "description_tooltip": null,
            "layout": "IPY_MODEL_b426bd2faa4241b789c7923789df845e",
            "max": 50000,
            "min": 0,
            "orientation": "horizontal",
            "style": "IPY_MODEL_160a04d02bc342f58acff4c1b6340463",
            "value": 50000
          }
        },
        "d4506ddde1ad43468e512b66b0077a39": {
          "model_module": "@jupyter-widgets/base",
          "model_module_version": "1.2.0",
          "model_name": "LayoutModel",
          "state": {
            "_model_module": "@jupyter-widgets/base",
            "_model_module_version": "1.2.0",
            "_model_name": "LayoutModel",
            "_view_count": null,
            "_view_module": "@jupyter-widgets/base",
            "_view_module_version": "1.2.0",
            "_view_name": "LayoutView",
            "align_content": null,
            "align_items": null,
            "align_self": null,
            "border": null,
            "bottom": null,
            "display": null,
            "flex": null,
            "flex_flow": null,
            "grid_area": null,
            "grid_auto_columns": null,
            "grid_auto_flow": null,
            "grid_auto_rows": null,
            "grid_column": null,
            "grid_gap": null,
            "grid_row": null,
            "grid_template_areas": null,
            "grid_template_columns": null,
            "grid_template_rows": null,
            "height": null,
            "justify_content": null,
            "justify_items": null,
            "left": null,
            "margin": null,
            "max_height": null,
            "max_width": null,
            "min_height": null,
            "min_width": null,
            "object_fit": null,
            "object_position": null,
            "order": null,
            "overflow": null,
            "overflow_x": null,
            "overflow_y": null,
            "padding": null,
            "right": null,
            "top": null,
            "visibility": null,
            "width": null
          }
        }
      }
    }
  },
  "nbformat": 4,
  "nbformat_minor": 0
}
